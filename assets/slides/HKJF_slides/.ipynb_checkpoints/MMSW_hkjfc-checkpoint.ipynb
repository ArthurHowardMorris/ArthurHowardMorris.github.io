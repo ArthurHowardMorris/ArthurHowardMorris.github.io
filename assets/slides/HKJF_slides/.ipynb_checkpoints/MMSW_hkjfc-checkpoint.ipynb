{
 "cells": [
  {
   "cell_type": "markdown",
   "id": "d9bc3d2d",
   "metadata": {
    "slideshow": {
     "slide_type": "slide"
    }
   },
   "source": [
    "# <center>Individual Mortgage Lending, Public Corruption, Race and Gender: Evidence from Local Corruption Crack-Downs</center>\n",
    "\n",
    "## <center>Arthur Morris, HKUST</center>\n",
    "\n",
    "### <center>with Albert Mensah, HEC - Paris; Han Stice, CUHK; and Roger White, ASU</center>"
   ]
  },
  {
   "cell_type": "markdown",
   "id": "fcefbdfd",
   "metadata": {
    "slideshow": {
     "slide_type": "slide"
    }
   },
   "source": [
    "### Research Questions"
   ]
  },
  {
   "cell_type": "markdown",
   "id": "3715820d",
   "metadata": {
    "slideshow": {
     "slide_type": "fragment"
    }
   },
   "source": [
    "#### RQ 1: Does corruption impact the U.S. mortgate market?\n",
    "#### RQ 2: Does reducing corruption impact inequality in the U.S. mortgage market?"
   ]
  },
  {
   "cell_type": "markdown",
   "id": "fc47c809",
   "metadata": {
    "slideshow": {
     "slide_type": "skip"
    }
   },
   "source": [
    "---"
   ]
  },
  {
   "cell_type": "markdown",
   "id": "da674d23",
   "metadata": {
    "slideshow": {
     "slide_type": "slide"
    }
   },
   "source": [
    "### Why should corruption effect equality in the mortgage market?"
   ]
  },
  {
   "cell_type": "markdown",
   "id": "3b945371",
   "metadata": {
    "slideshow": {
     "slide_type": "subslide"
    }
   },
   "source": [
    "### Corruption is most salient when transactions are:\n",
    "    - complex & unfamiliar \n",
    "    - involve frequent interactions with government\n",
    "    - high value\n",
    "\n",
    "__All of these are true for U.S. mortgages__"
   ]
  },
  {
   "cell_type": "markdown",
   "id": "d1c38ce6",
   "metadata": {
    "slideshow": {
     "slide_type": "subslide"
    }
   },
   "source": [
    "## Salient aspects of the U.S. mortgage lending process:\n",
    "\n",
    "#### 1. Most city and county governments use property taxes (real estate) to fund themselves so real estate markets are highly regulated \n",
    "#### 2. Mortgages are heavily subsidized and require government inspections and appraisals\n",
    "\n",
    "####  3. For most U.S. households:\n",
    "- most of their debt will be related to their home\n",
    "- most of their wealth will be in their home \n",
    "- the purchase of a home will be their largest financial transaction\n",
    "- the mortgage contract will be the only debt contract they ever read and sign\n"
   ]
  },
  {
   "attachments": {},
   "cell_type": "markdown",
   "id": "89b627b6",
   "metadata": {
    "slideshow": {
     "slide_type": "subslide"
    }
   },
   "source": [
    "## Examples of corruption in the U.S. real estate market:\n",
    "\n",
    "1. __[NYC Building Inspectors Charged with Ignoring Safety for Bribes.](https://www.reuters.com/article/us-usa-new-york-builders-idUSKBN0LE2BB20150210)__  \n",
    "2. __[18 City Tax Assessors Indicted in Decades-Long Bribe Scheme.](https://www.nytimes.com/2002/02/26/nyregion/18-city-tax-assessors-indicted-in-decades-long-bribe-scheme.html)__\n",
    "3. __[14 Arrests Made for Bribery Scheme Involving NYC Building Inspectors.](https://nypost.com/2017/10/25/arrests-made-for-bribery-scheme-involving-nyc-building-inspectors/)__\n",
    "4. __[Alderman Carothers Charged with Bribery, Fraud.](https://www.nbcchicago.com/news/local/corruption-charges-expected-against-chicago-alderman-sun-times/1883287/)__\n",
    "5. __[Chicago Building Inspector Charged with Trying to Extort Building Owner.](https://www.chicagotribune.com/news/breaking/ct-chicago-building-inspector-bribery-met-20160405-story.html)__\n",
    "6. __[Two Cook County Board of Review Analysts Charged with Accepting \\\\$1,500 Bribe to Facilitate \\$14,000 Property Tax Reduction.](https://archives.fbi.gov/archives/chicago/press-releases/2012/two-cook-county-board-of-review-analysts-charged-with-accepting-1-500-bribe-to-facilitate-14-000-property-tax-reduction)__\n",
    "7. __[Former Clerk at Cook County Recorder of Deeds Indicted for Accepting Cash Bribe in Exchange for Preparing Fraudulent Real Estate Deed.](https://www.justice.gov/usao-ndil/pr/former-clerk-cook-county-recorder-deeds-indicted-accepting-cash-bribe-exchange)__\n",
    "8. __[Former Kodak Employee, Real Estate Appraiser, and His Wife Sentenced for Defrauding Eastman Kodak Company.](https://archives.fbi.gov/archives/buffalo/press-releases/2009/bffo021909.htm)__\n",
    "9. __[L.A. County Assessor John Noguez Faces More Charges in Bribery Scandal.](https://www.dailynews.com/2013/10/28/la-county-assessor-john-noguez-faces-more-charges-in-bribery-scandal/)__\n",
    "10. __[Former Cook County Assessor’s Office Employee Pleads Guilty in Bribery Scheme.](https://www.dailyherald.com/news/20170802/former-cook-county-assessors-office-employee-pleads-guilty-in-kickback-scheme)__\n",
    "\n",
    "- __[Local Public Corruption and Bank Lending Activity in the United States.](https://doi.org/10.1007/s10551-019-04410-6)__\n",
    "- __[2010 Mortgage Fraud Report Year in Review.](https://www.fbi.gov/stats-services/publications/mortgage-fraud-2010)__\n"
   ]
  },
  {
   "cell_type": "markdown",
   "id": "f31772f3",
   "metadata": {
    "slideshow": {
     "slide_type": "skip"
    }
   },
   "source": [
    "---"
   ]
  },
  {
   "cell_type": "markdown",
   "id": "e60b9a73",
   "metadata": {
    "slideshow": {
     "slide_type": "slide"
    }
   },
   "source": [
    "### Mortgage Application Outcome Measures"
   ]
  },
  {
   "cell_type": "markdown",
   "id": "6f5bae71",
   "metadata": {
    "slideshow": {
     "slide_type": "subslide"
    }
   },
   "source": [
    "#### We use Home Mortgage Disclosure Act (HMDA) data from the CFPB to measure the following outcomes\n",
    "- mortgage application approvals, denials, and withdrawals\n",
    "- loan to income ratio (_creditworthiness_)\n",
    "- high interest loans (_predatory lending_) \n",
    "\n",
    "_NB: Everything flows through the approval process._"
   ]
  },
  {
   "cell_type": "markdown",
   "id": "e1e625aa",
   "metadata": {
    "slideshow": {
     "slide_type": "slide"
    }
   },
   "source": [
    "## Inequality in U.S. Mortgage Lending \n",
    "(Background)"
   ]
  },
  {
   "cell_type": "markdown",
   "id": "e14f91b7",
   "metadata": {
    "hideCode": false,
    "slideshow": {
     "slide_type": "subslide"
    }
   },
   "source": [
    "## <center> Key outcomes by race:</center>\n",
    "| | | |\n",
    "|-|-|-|\n",
    "|![alt](./raceApproved.png) |![alt](./raceLTI.png) |![alt](./raceHIL.png) |\n",
    "\n",
    "- RQ 1 is concerned with the red lines.  \n",
    "- RQ 2 is concerned with the distribution of the bubbles.  "
   ]
  },
  {
   "cell_type": "markdown",
   "id": "79fd1528",
   "metadata": {
    "slideshow": {
     "slide_type": "subslide"
    }
   },
   "source": [
    "## <center>Key outcomes by gender:</center>\n",
    "| | | |\n",
    "|-|-|-|\n",
    "|![alt](./sexApproved.png) |![alt](./sexLTI.png) |![alt](./sexHIL.png) |\n",
    "\n",
    "- RQ 1 is concerned with the red lines.  \n",
    "- RQ 2 is concerned with the distribution of the bubbles.  "
   ]
  },
  {
   "cell_type": "markdown",
   "id": "c0a4e148",
   "metadata": {
    "slideshow": {
     "slide_type": "subslide"
    }
   },
   "source": [
    "### Racism was a feature not a bug of the FHA subsidized mortgage market:\n",
    "\n",
    "> _By 1960, Long Island's Levittown had eighty-two thousand residents--and they were all white. Many factors contributed to the strict segregation by class, or at least income, and especially by race, that characterized--perhaps even defined--the new suburban America._\n",
    "\n",
    "> _America was a profoundly racist society, by history, by law and custom, and by inclination. But on the list of contributing factors was deliberate, government-enforced intention at every level, local to federal. Government--as policy maker and as judiciary--imposed and enforced racial segregation. FHA was not only the main federal government player in suburban development, but principal promoter of suburban racial segregation. FHA insurance was available only after a property had been rigorously and professionally appraised--only correct practice for what quickly became the world's biggest property insurer. The elaborate guidelines it developed for professional  appraisal quickly became the professional template. The FHA appraisal forms gave points for social as well as physical conditions in determining the value of the property, and racial segregation figured prominently in this government protocol._\n",
    "\n",
    "> _As Michael Carliner, economist at the National Association of Homebuilders, wrote, \"The FHA underwriting standard included a mandate that the neighborhood be 'homogeneous' (segregated), with that homogeneity preferably assured through racist restrictive covenants, for which the FHA helpfully supplied forms.\"_\n",
    "\n",
    "\n",
    "[(Cohen and DeLong, 2015 p. 95)](https://store.hbr.org/product/concrete-economics-the-hamilton-approach-to-economic-growth-and-policy/11357)\n",
    "\n",
    "[(Carliner, 2010)](https://www.tandfonline.com/doi/abs/10.1080/10511482.1998.9521296)\n",
    "\n"
   ]
  },
  {
   "cell_type": "markdown",
   "id": "f7a4cd8c",
   "metadata": {
    "slideshow": {
     "slide_type": "skip"
    }
   },
   "source": [
    "\n",
    "---"
   ]
  },
  {
   "cell_type": "markdown",
   "id": "639c9b35",
   "metadata": {
    "slideshow": {
     "slide_type": "slide"
    }
   },
   "source": [
    "### Setting: The American Anti-Corruption Act\n",
    "- Model anti-corruption legislation, adopted at the local level, drafted 2011 ([Cause célèbre](https://represent.us/about/#cultural-council))"
   ]
  },
  {
   "cell_type": "markdown",
   "id": "9edf2a18",
   "metadata": {
    "slideshow": {
     "slide_type": "fragment"
    }
   },
   "source": [
    "#### Key provisions deter corruption:\n",
    "- mandatory minimum sentences\n",
    "- local investigative authority (e.g. install wiretaps)\n",
    "- regulation of lobbying, gifts, and donations\n",
    "<!-- - Limit gerrymandering -->"
   ]
  },
  {
   "cell_type": "markdown",
   "id": "9aded197",
   "metadata": {
    "slideshow": {
     "slide_type": "fragment"
    }
   },
   "source": [
    "#### Adoption\n",
    "- begins in 2014\n",
    "- jurisdictions in 29 states (our sample period covers 20)\n",
    "- mostly cities and counties"
   ]
  },
  {
   "cell_type": "markdown",
   "id": "ed72b451",
   "metadata": {
    "slideshow": {
     "slide_type": "skip"
    }
   },
   "source": [
    "---"
   ]
  },
  {
   "cell_type": "markdown",
   "id": "34e3e3cd",
   "metadata": {
    "slideshow": {
     "slide_type": "slide"
    }
   },
   "source": [
    "### RQ 1: Does corruption matter to the US mortgage mortgage market?"
   ]
  },
  {
   "cell_type": "markdown",
   "id": "61ac6e51",
   "metadata": {
    "slideshow": {
     "slide_type": "subslide"
    }
   },
   "source": [
    "### Empirical Approach\n",
    "\n",
    "\\begin{equation}\n",
    "    A_{i,j,c,t,r,s} = \\gamma_{c} + \\lambda_{j,t} + \\ \n",
    "    \\rho_{r} + \\sigma_{s} + \\beta AACA \\times Post_{c,t} + \\ \\mathbf{Z}_{c,t}\\delta + \\ \n",
    "    \\varepsilon_{i,j,c,t,r,s} \n",
    "\\end{equation}\n",
    "\n",
    "- __$A$ is an indicator for application outcome approval, denial, or withdrawal.__ \n",
    "- Sample includes all \"owner-occupied\" mortgages applications, in states with adopting jurisdictions\n",
    "\n",
    "\\begin{equation}\n",
    "    L_{i,j,c,t,r,s} = \\gamma_{c} + \\lambda_{j,t} + \\rho_{r} + \\ \n",
    "    \\sigma_{s} + \\beta AACA \\times Post_{c,t} + \\mathbf{Z}_{c,t}\\delta + \\ \\varepsilon_{i,j,c,t,r,s} \\label{eq:loantoincome}\n",
    "\\end{equation}\n",
    "\n",
    "- __$L$ is the loan to income ratio__  \n",
    "- Sample conditional on approval\n",
    "- Drop loan amount, and income from controls\n",
    "\n",
    "\\begin{equation}\n",
    "    R_{i,j,c,t,r,s} = \\gamma_{c} + \\lambda_{j,t} + \\rho_{r} +  \\ \n",
    "    \\sigma_{s} + \\beta AACA \\times Post_{c,t} + \\mathbf{Z}_{c,t} \\ \n",
    "    \\delta + \\varepsilon_{i,j,c,t,r,s} \\label{eq:rate}\n",
    "\\end{equation}\n",
    "\n",
    "- __$R$ indicates a high interest loan__  \n",
    "- Sample conditional on approval.\n"
   ]
  },
  {
   "cell_type": "markdown",
   "id": "e98418f8",
   "metadata": {
    "slideshow": {
     "slide_type": "subslide"
    }
   },
   "source": [
    "### Empirical Detail: Causal Inference from TWFEDID Estimation\n",
    "\n",
    "\\begin{equation}\n",
    "    O_{i,j,c,t,r,s} = \\gamma_{c} + \\lambda_{j,t} + \\ \n",
    "    \\rho_{r} + \\sigma_{s} + \\beta AACA \\times Post_{c,t} + \\ \\mathbf{Z}_{c,t}\\delta + \\ \n",
    "    \\varepsilon_{i,j,c,t,r,s} \n",
    "\\end{equation}\n",
    "\n",
    "- __$O$ is an outcome $A$,$L$, or $R$ from the previous slide__\n",
    "- __We interpret $\\beta$ as the difference-in-differences estimator,i.e. the causal effect of AACA in the census tracts where it is enacted__\n",
    "\n",
    "\n",
    "|   Indicies |    | Fixed-Effects      |   | Controls: $\\mathbf{Z}_{c,t}$ |\n",
    "| :---:      | ---| :---:              |---| :---: | \n",
    "|  $i$  | application   |                    |   | applicant income |\n",
    "| $j$   | lenders | $\\lambda_{j,t}$    |   | loan amount |\n",
    "| $c$   | census tracts | $\\gamma_{c}$ |   | tract \\% minority | \n",
    "| $t$   | years | $\\lambda_{j,t}$      |   | $\\frac{med(tract income)}{med(MSA income)}$ |\n",
    "| $r$   | race  | $\\rho_{r}$           |   |  |\n",
    "| $s$   | sex   | $\\sigma_{s}$         |   |  |"
   ]
  },
  {
   "cell_type": "markdown",
   "id": "ad960d03",
   "metadata": {
    "slideshow": {
     "slide_type": "subslide"
    }
   },
   "source": [
    "<!-- ![t2](T2.png) -->\n",
    "<center><img src=\"T2.png\"  width=\"1500\"></center>"
   ]
  },
  {
   "cell_type": "markdown",
   "id": "89833730",
   "metadata": {
    "slideshow": {
     "slide_type": "subslide"
    }
   },
   "source": [
    "## <center> Approvals </center>\n",
    "| __Event Study__ | __Sun & Abraham (2020, Journal of Econometrics)__|\n",
    "|:---|:----|\n",
    "|![Approved Event](./approvedevent_study.png)|![Approved Event](./SA_approved.png)|\n",
    "\n",
    "_NB: All the later results are contingent on approval. In subsequent slides we are describing the loans that are approved. Thus we only treat the Approval result as causal._"
   ]
  },
  {
   "cell_type": "markdown",
   "id": "a25060cc",
   "metadata": {
    "slideshow": {
     "slide_type": "subslide"
    }
   },
   "source": [
    "<!-- ![t3](T3.png) -->\n",
    "<center><img src=\"T3.png\"  width=\"1200\"></center>"
   ]
  },
  {
   "cell_type": "markdown",
   "id": "b82dd40c",
   "metadata": {
    "slideshow": {
     "slide_type": "slide"
    }
   },
   "source": [
    "### RQ 1: Does corruption matter to the US mortgage mortgage market?\n",
    "\n",
    "- Yes:\n",
    "    1. Increased Approvals\n",
    "    2. Decreased Denials\n",
    "    3. Increased Loan-to-Income\n",
    "    4. Fewer High-Interest Loans\n",
    "- Other results:\n",
    "    1. No significant impact on delinquency.\n",
    "    2. Reduction in mortgage fraud (__NEW ANALYSIS__)"
   ]
  },
  {
   "cell_type": "markdown",
   "id": "84765502",
   "metadata": {
    "slideshow": {
     "slide_type": "subslide"
    }
   },
   "source": [
    "<!-- ![T10](T10.png) -->\n",
    "<center><img src=\"T10.png\"  width=\"800\"></center>"
   ]
  },
  {
   "cell_type": "code",
   "execution_count": 5,
   "id": "64f86b54",
   "metadata": {
    "slideshow": {
     "slide_type": "skip"
    }
   },
   "outputs": [],
   "source": [
    "%%latex?"
   ]
  },
  {
   "cell_type": "markdown",
   "id": "e6858d4c",
   "metadata": {
    "slideshow": {
     "slide_type": "skip"
    }
   },
   "source": [
    "---\n",
    "---"
   ]
  },
  {
   "cell_type": "markdown",
   "id": "61f07def",
   "metadata": {
    "slideshow": {
     "slide_type": "slide"
    }
   },
   "source": [
    "### RQ 2: Big Question -- Does corruption make US mortgage lending less equitable?"
   ]
  },
  {
   "cell_type": "markdown",
   "id": "1acd6152",
   "metadata": {
    "slideshow": {
     "slide_type": "fragment"
    }
   },
   "source": [
    "### If you read one paper on race and mortgage lending, read this:\n",
    "__[Ambrose, B.W., Conklin, J.N. and Lopez, L.A., \"Does borrower and broker race affect the cost of mortgage credit?\" The Review of Financial Studies, 2021, 34(2), pp.790-826.](https://doi.org/10.1093/rfs/hhaa087)__\n",
    "\n",
    "\"We test for pricing disparities in mortgage contracts using a novel dataset that allows us to observe the race and ethnicity of both parties to the loan. We find that minorities pay between three and five percent more in fees than similarly qualified whites when obtaining a loan through the same white broker. Critically, we find that the premium paid by minorities depends on the race of the broker. We also examine recent policy changes regarding broker compensation rules that may reduce these price disparities, but may also limit access to credit for minorities.\""
   ]
  },
  {
   "cell_type": "markdown",
   "id": "2dcf7aa2",
   "metadata": {
    "slideshow": {
     "slide_type": "subslide"
    }
   },
   "source": [
    "### Why should corruption effect equality in the mortgage market?"
   ]
  },
  {
   "cell_type": "markdown",
   "id": "91f61bda",
   "metadata": {
    "slideshow": {
     "slide_type": "subslide"
    }
   },
   "source": [
    "### First, the salient features of the mortgage market are particularly acute for minorities.\n",
    "\n",
    "__remember corruption is most salient when transactions are:__\n",
    "- complex & unfamiliar: cultural differences increase complexity and unfamiliarity\n",
    "- involve frequent interactions with government: gov't aid programs can _increase_ these\n",
    "- high value: limited access to capital from other sources"
   ]
  },
  {
   "cell_type": "markdown",
   "id": "71ad6e8c",
   "metadata": {
    "slideshow": {
     "slide_type": "fragment"
    }
   },
   "source": [
    "### Second, corruption is particularly prevalent and pernicious when transactions cross group boundaries.\n",
    "\n",
    "when interacting across majority/minority boundaries:\n",
    "- power differentials arise\n",
    "- naïveté is often assumed\n",
    "- group contingent morality"
   ]
  },
  {
   "attachments": {},
   "cell_type": "markdown",
   "id": "1ce3d702",
   "metadata": {
    "slideshow": {
     "slide_type": "skip"
    }
   },
   "source": [
    "Davidson, Joe. 2018. “Latest Federal Diversity Report from OPM Shows Little or No Progress and Some Regression.” The Washington Post, April 2, 2018. https://www.washingtonpost.com/news/powerpost/wp/2018/04/02/latest-federal-diversity-report-from-opm-shows-little-or-no-progress-and-some-regression/.\n",
    "Dincer, Oguzhan C. 2008. “Ethnic and Religious Diversity and Corruption.” Economics Letters 99, no. 1: 98–102.\n",
    "Ejdemyr, Simon, Eric Kramon, and Amanda Lea Robinson. 2018. “Segregation, Ethnic Favoritism, and the Strategic Targeting of Local Public Goods.” Comparative Political Studies 51, no. 9: 1111–43.\n"
   ]
  },
  {
   "cell_type": "markdown",
   "id": "a9ab102d",
   "metadata": {
    "slideshow": {
     "slide_type": "subslide"
    }
   },
   "source": [
    "## <center>Broker Race </center>\n",
    "<center><img src='./brokerrace.png' width=\"750\"></center>"
   ]
  },
  {
   "cell_type": "markdown",
   "id": "37cdec11",
   "metadata": {
    "slideshow": {
     "slide_type": "subslide"
    }
   },
   "source": [
    "### Empirical Approach\n",
    "\n",
    "\\begin{align}\n",
    "    A,L,R_{i,j,c,t,r,s} =   & \\gamma_{c} + \\lambda_{j,t} + \\rho_{r} + \\sigma_{s} + \\\\\n",
    "                        &\\beta_{1} AACA \\times Post_{c,t} \\times Black_{i} \\\\\n",
    "                        &\\beta_{2} AACA \\times Post_{c,t} \\times Hispanic_{i} \\\\\n",
    "                        &\\beta_{3} AACA \\times Post_{c,t} + \\mathbf{Z}_{c,t}\\delta + \\varepsilon_{i,j,c,t,r,s} \n",
    "\\end{align}\n",
    "\n",
    "- All other interactions are subsumed by the fixed effects.\n",
    "<!-- - TODO: check white and asian decomposition, potentially relabel main models in the main discussion -->\n",
    "\n",
    "\\begin{align}\n",
    "    A,L,R_{i,j,c,t,r,s} =   & \\gamma_{c} + \\lambda_{j,t} + \\rho_{r} + \\sigma_{s} + \\\\\n",
    "                        &\\beta_{1} AACA \\times Post_{c,t} \\times Female_{i} \\\\\n",
    "                        &\\beta_{2} AACA \\times Post_{c,t} + \\mathbf{Z}_{c,t}\\delta + \\varepsilon_{i,j,c,t,r,s} \n",
    "\\end{align}\n",
    "\n"
   ]
  },
  {
   "cell_type": "markdown",
   "id": "83a044de",
   "metadata": {
    "slideshow": {
     "slide_type": "subslide"
    }
   },
   "source": [
    "<!-- ![T4](T4.png) -->\n",
    "<center><img src=\"T4.png\"  width=\"1500\"></center>"
   ]
  },
  {
   "cell_type": "markdown",
   "id": "4dcd2276",
   "metadata": {
    "slideshow": {
     "slide_type": "subslide"
    }
   },
   "source": [
    "<!-- ![T5](T5.png) -->\n",
    "<center><img src=\"T5.png\"  width=\"1500\"></center>"
   ]
  },
  {
   "cell_type": "markdown",
   "id": "5a0d4b33",
   "metadata": {
    "slideshow": {
     "slide_type": "subslide"
    }
   },
   "source": [
    "<!-- ![T6](T6.png) -->\n",
    "<center><img src=\"T6.png\"  width=\"1500\"></center>"
   ]
  },
  {
   "cell_type": "markdown",
   "id": "efa216c8",
   "metadata": {
    "slideshow": {
     "slide_type": "subslide"
    }
   },
   "source": [
    "<!-- ![T7](T7.png) -->\n",
    "<center><img src=\"T7.png\"  width=\"1500\"></center>"
   ]
  },
  {
   "cell_type": "markdown",
   "id": "4da5771f",
   "metadata": {
    "slideshow": {
     "slide_type": "subslide"
    }
   },
   "source": [
    "#### The effect of anti-corruption laws on mortgage lending:\n",
    "1. Increased approval rates\n",
    "    - Driven by __Hispanic Borrowers__\n",
    "2. Increased loan to income ratio\n",
    "3. Fewer high interest loans\n",
    "    - Driven by __Black and Hispanic Borrowers__\n",
    "    - The increase in withdrawals by black borrowers may be consistent with a decrease in predatory lending."
   ]
  },
  {
   "cell_type": "markdown",
   "id": "3f15b7b9",
   "metadata": {
    "slideshow": {
     "slide_type": "slide"
    }
   },
   "source": [
    "# Magnitudes:"
   ]
  },
  {
   "cell_type": "markdown",
   "id": "ccade1a7",
   "metadata": {
    "slideshow": {
     "slide_type": "subslide"
    }
   },
   "source": [
    "1. Increased approval rates\n",
    "    - .5% for all borrowers   \n",
    "        - 1.2% for Hispanic borrowers\n",
    "        - -.8% for Black borrowers$^\\dagger$\n",
    "        - .1% for other borrowers$^\\dagger$\n",
    "        - No difference for female borrowers  \n"
   ]
  },
  {
   "cell_type": "markdown",
   "id": "9847e899",
   "metadata": {
    "slideshow": {
     "slide_type": "fragment"
    }
   },
   "source": [
    "$^\\dagger$ estimate is low relative to the uncertainty in the estimator."
   ]
  },
  {
   "cell_type": "markdown",
   "id": "f469decf",
   "metadata": {
    "slideshow": {
     "slide_type": "subslide"
    }
   },
   "source": [
    "2. Increased loan to income ratio \n",
    "    - 2.1% for all borrowers\n",
    "        - 3.3% for Black borrowers$^\\dagger$\n",
    "        - 2.1% for Hispanic borrowers$^\\dagger$\n",
    "        - 2.0% for other borrowers$^\\dagger$\n",
    "        - 1.9% for male borrowers$^\\dagger$\n",
    "        - 2.2% for female borrowers$^\\dagger$"
   ]
  },
  {
   "cell_type": "markdown",
   "id": "451afe4b",
   "metadata": {
    "slideshow": {
     "slide_type": "fragment"
    }
   },
   "source": [
    "$^\\dagger$ estimate is low relative to the uncertainty in the estimator."
   ]
  },
  {
   "cell_type": "markdown",
   "id": "0884eead",
   "metadata": {
    "slideshow": {
     "slide_type": "subslide"
    }
   },
   "source": [
    "3. Fewer high interest loans\n",
    "    - -.5% for all borrowers\n",
    "        - -2.0% for black borrowers\n",
    "        - -2.1% for hispanic borrowers\n",
    "        - .2% for other borrowers$^{\\dagger}$\n",
    "        - -.4% for male borrowers\n",
    "        - -1% for female borrowers"
   ]
  },
  {
   "cell_type": "markdown",
   "id": "287854dc",
   "metadata": {
    "slideshow": {
     "slide_type": "fragment"
    }
   },
   "source": [
    "$^\\dagger$ estimate is low relative to the uncertainty in the estimator."
   ]
  },
  {
   "cell_type": "markdown",
   "id": "f46dc825",
   "metadata": {
    "slideshow": {
     "slide_type": "slide"
    }
   },
   "source": [
    "### Conclusion:\n",
    "\n",
    "- AACA seems to paraeto improve the mortgage market\n",
    "- Focus on other sources of inequity in mortgage markets is still paramount\n"
   ]
  }
 ],
 "metadata": {
  "celltoolbar": "Slideshow",
  "kernelspec": {
   "display_name": "Python [conda env:3point9] *",
   "language": "python",
   "name": "conda-env-3point9-py"
  },
  "language_info": {
   "codemirror_mode": {
    "name": "ipython",
    "version": 3
   },
   "file_extension": ".py",
   "mimetype": "text/x-python",
   "name": "python",
   "nbconvert_exporter": "python",
   "pygments_lexer": "ipython3",
   "version": "3.9.12"
  }
 },
 "nbformat": 4,
 "nbformat_minor": 5
}
