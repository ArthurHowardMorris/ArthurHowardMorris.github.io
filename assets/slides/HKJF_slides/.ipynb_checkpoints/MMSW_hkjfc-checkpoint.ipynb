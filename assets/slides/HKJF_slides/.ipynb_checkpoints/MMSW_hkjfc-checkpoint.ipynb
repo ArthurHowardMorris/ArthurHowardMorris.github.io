{
 "cells": [
  {
   "cell_type": "markdown",
   "id": "d9bc3d2d",
   "metadata": {
    "slideshow": {
     "slide_type": "slide"
    }
   },
   "source": [
    "# <center>Individual Mortgage Lending, Public Corruption, Race and Gender: Evidence from Local Corruption Crack-Downs</center>\n",
    "\n",
    "## <center>Arthur Morris, HKUST</center>\n",
    "\n",
    "### <center>with Albert Mensah, HEC - Paris; Han Stice, CUHK and Roger White, ASU</center>"
   ]
  },
  {
   "cell_type": "markdown",
   "id": "fcefbdfd",
   "metadata": {
    "slideshow": {
     "slide_type": "slide"
    }
   },
   "source": [
    "### Research Questions:"
   ]
  },
  {
   "cell_type": "markdown",
   "id": "3715820d",
   "metadata": {
    "slideshow": {
     "slide_type": "fragment"
    }
   },
   "source": [
    "#### RQ 1:\n",
    "- Does corruption impact the U.S. mortgate market?"
   ]
  },
  {
   "cell_type": "markdown",
   "id": "8d2ccb6c",
   "metadata": {
    "slideshow": {
     "slide_type": "fragment"
    }
   },
   "source": [
    "#### RQ 2:\n",
    "- Does reducing corruption impact inequality?"
   ]
  },
  {
   "cell_type": "markdown",
   "id": "fc47c809",
   "metadata": {
    "slideshow": {
     "slide_type": "skip"
    }
   },
   "source": [
    "---\n",
    "---"
   ]
  },
  {
   "cell_type": "markdown",
   "id": "e60b9a73",
   "metadata": {
    "slideshow": {
     "slide_type": "slide"
    }
   },
   "source": [
    "### Mortgage Lending and Inequality (Background)\n",
    "We use Home Mortgage Disclosure Act data from the CFPB to measure:\n",
    "- Approval Rate: _Who has access to mortgages?_\n",
    "- Loan to Income Ratio: _How much leverage?_\n",
    "- High Interest Loans: _Extent of predatory lending._ "
   ]
  },
  {
   "cell_type": "markdown",
   "id": "e14f91b7",
   "metadata": {
    "hideCode": false,
    "slideshow": {
     "slide_type": "subslide"
    }
   },
   "source": [
    "| | | |\n",
    "|-|-|-|\n",
    "|![alt](./raceApproved.png) |![alt](./raceLTI.png) |![alt](./raceHIL.png) |\n",
    "\n",
    "- RQ 1 is concerned with the red lines.  \n",
    "- RQ 2 is concerned with the distribution of the bubbles.  "
   ]
  },
  {
   "cell_type": "markdown",
   "id": "79fd1528",
   "metadata": {
    "slideshow": {
     "slide_type": "subslide"
    }
   },
   "source": [
    "| | | |\n",
    "|-|-|-|\n",
    "|![alt](./sexApproved.png) |![alt](./sexLTI.png) |![alt](./sexHIL.png) |\n",
    "\n",
    "- RQ 1 is concerned with the red lines.  \n",
    "- RQ 2 is concerned with the distribution of the bubbles.  "
   ]
  },
  {
   "cell_type": "markdown",
   "id": "f7a4cd8c",
   "metadata": {
    "slideshow": {
     "slide_type": "skip"
    }
   },
   "source": [
    "---\n",
    "---"
   ]
  },
  {
   "cell_type": "markdown",
   "id": "48c19adf",
   "metadata": {
    "slideshow": {
     "slide_type": "slide"
    }
   },
   "source": [
    "### Setting: The American Anti-Corruption Act\n",
    "- Model anti-corruption legislation, adopted at the local level, drafted 2011 ([Cause célèbre](https://represent.us/about/#cultural-council))"
   ]
  },
  {
   "cell_type": "markdown",
   "id": "5992f2f3",
   "metadata": {
    "slideshow": {
     "slide_type": "fragment"
    }
   },
   "source": [
    "#### Key Provisions:\n",
    "- Mandatory minimum sentences\n",
    "- Local investigative authority (e.g. install wiretaps)\n",
    "- Regulation of lobbying, gifts, and donations\n",
    "<!-- - Limit gerrymandering -->"
   ]
  },
  {
   "cell_type": "markdown",
   "id": "e33ec3ed",
   "metadata": {
    "slideshow": {
     "slide_type": "fragment"
    }
   },
   "source": [
    "#### Adoption\n",
    "- Begins in 2014\n",
    "- Jurisdictions in 29 states\n",
    "- Mostly cities and counties"
   ]
  },
  {
   "cell_type": "markdown",
   "id": "ee616b18",
   "metadata": {
    "slideshow": {
     "slide_type": "subslide"
    }
   },
   "source": [
    "### Timeline\n",
    "![Timeline](./timeline.png)"
   ]
  },
  {
   "cell_type": "markdown",
   "id": "5bb7b1d4",
   "metadata": {
    "slideshow": {
     "slide_type": "skip"
    }
   },
   "source": [
    "---\n",
    "---"
   ]
  },
  {
   "cell_type": "markdown",
   "id": "34e3e3cd",
   "metadata": {
    "slideshow": {
     "slide_type": "slide"
    }
   },
   "source": [
    "### RQ 1: Does corruption matter to the US mortgage mortgage market?"
   ]
  },
  {
   "cell_type": "markdown",
   "id": "7eb3fb2d",
   "metadata": {
    "slideshow": {
     "slide_type": "subslide"
    }
   },
   "source": [
    "### Empirical Approach\n",
    "\n",
    "\\begin{equation}\n",
    "    A_{i,j,c,t,r,s} = \\gamma_{c} + \\lambda_{j,t} + \\ \n",
    "    \\rho_{r} + \\sigma_{s} + \\beta AACA \\times Post_{c,t} + \\ \\mathbf{Z}_{c,t}\\delta + \\ \n",
    "    \\varepsilon_{i,j,c,t,r,s} \n",
    "\\end{equation}\n",
    "\n",
    "- __$A$ is an indicator for application approval, denial, or withdrawal.__ \n",
    "- Sample includes all \"owner-occupied\" mortgages applications, in states with adopting jurisdictions\n",
    "\n",
    "\\begin{equation}\n",
    "    L_{i,j,c,t,r,s} = \\gamma_{c} + \\lambda_{j,t} + \\rho_{r} + \\ \n",
    "    \\sigma_{s} + \\beta AACA \\times Post_{c,t} + \\mathbf{Z}_{c,t}\\delta + \\ \\varepsilon_{i,j,c,t,r,s} \\label{eq:loantoincome}\n",
    "\\end{equation}\n",
    "\n",
    "- __$L$ is the loan to income ratio__  \n",
    "- Sample conditional on approval\n",
    "- Drop loan amount, and income from controls\n",
    "\n",
    "\\begin{equation}\n",
    "    R_{i,j,c,t,r,s} = \\gamma_{c} + \\lambda_{j,t} + \\rho_{r} +  \\ \n",
    "    \\sigma_{s} + \\beta AACA \\times Post_{c,t} + \\mathbf{Z}_{c,t} \\ \n",
    "    \\delta + \\varepsilon_{i,j,c,t,r,s} \\label{eq:rate}\n",
    "\\end{equation}\n",
    "\n",
    "- __$R$ indicates a high interest loan__  \n",
    "- Sample conditional on approval.\n"
   ]
  },
  {
   "cell_type": "markdown",
   "id": "e028aabc",
   "metadata": {
    "slideshow": {
     "slide_type": "subslide"
    }
   },
   "source": [
    "### Empirical Detail: Causal Inference from TWFEDID Estimation\n",
    "\n",
    "\\begin{equation}\n",
    "    O_{i,j,c,t,r,s} = \\gamma_{c} + \\lambda_{j,t} + \\ \n",
    "    \\rho_{r} + \\sigma_{s} + \\beta AACA \\times Post_{c,t} + \\ \\mathbf{Z}_{c,t}\\delta + \\ \n",
    "    \\varepsilon_{i,j,c,t,r,s} \n",
    "\\end{equation}\n",
    "\n",
    "- __$O$ is an indicator for loan outcome ($A,W,L,R$)__  \n",
    "- __We interpret $\\beta$ as the difference-in-differences estimator,i.e. the causal effect of AACA in the census tracts where it is enacted__\n",
    "\n",
    "\n",
    "|   Indicies |    | Fixed-Effects      |   | Controls: $\\mathbf{Z}_{c,t}$ |\n",
    "| :---:      | ---| :---:              |---| :---: | \n",
    "|  $i$  | application   |                    |   | applicant income |\n",
    "| $j$   | lenders | $\\lambda_{j,t}$    |   | loan amount |\n",
    "| $c$   | census tracts | $\\gamma_{c}$ |   | tract \\% minority | \n",
    "| $t$   | years | $\\lambda_{j,t}$      |   | $\\frac{med(tract income)}{med(MSA income)}$ |\n",
    "| $r$   | race  | $\\rho_{t}$           |   |  |\n",
    "| $s$   | sex   | $\\sigma_{s}$         |   |  |"
   ]
  },
  {
   "cell_type": "markdown",
   "id": "18f82d1f",
   "metadata": {
    "slideshow": {
     "slide_type": "subslide"
    }
   },
   "source": [
    "## <center> Approvals </center>\n",
    "| __Event Study__ | __Sun & Abraham (2020, Journal of Econometrics)__|\n",
    "|:---|:----|\n",
    "|![Approved Event](./approvedevent_study.png)|![Approved Event](./SA_approved.png)|\n"
   ]
  },
  {
   "cell_type": "markdown",
   "id": "73092461",
   "metadata": {
    "slideshow": {
     "slide_type": "skip"
    }
   },
   "source": [
    "<!-- ## <center> Loan to Income Ratio </center> -->\n",
    "<!-- | __Event Study__ | __Sun & Abraham (2020, Journal of Econometrics)__| -->\n",
    "<!-- |:---|:----| -->\n",
    "<!-- |![LTI Event](./loanToIncomeApprovedevent_study.png)|![LTI Event](./SA_LTI.png)| -->\n"
   ]
  },
  {
   "cell_type": "markdown",
   "id": "f7a24eff",
   "metadata": {
    "slideshow": {
     "slide_type": "skip"
    }
   },
   "source": [
    "<!-- ## <center> High Interest Loans </center> -->\n",
    "<!-- | __Event Study__ | __Sun & Abraham (2020, Journal of Econometrics)__| -->\n",
    "<!-- |:---|:----| -->\n",
    "<!-- |![HIL Event](./ratespreadindicatorevent_study.png)|![HIL Event](./SA_HIL.png)| -->\n"
   ]
  },
  {
   "cell_type": "markdown",
   "id": "fbfd5fb9",
   "metadata": {
    "slideshow": {
     "slide_type": "skip"
    }
   },
   "source": [
    "---\n",
    "---"
   ]
  },
  {
   "cell_type": "markdown",
   "id": "0896e8bd",
   "metadata": {
    "slideshow": {
     "slide_type": "slide"
    }
   },
   "source": [
    "### RQ 2: Big Question -- Does corruption make US mortgage lending less equitable?"
   ]
  },
  {
   "cell_type": "markdown",
   "id": "1acd6152",
   "metadata": {
    "slideshow": {
     "slide_type": "slide"
    }
   },
   "source": [
    "### If you read one paper on race and mortgage lending, read this:\n",
    "__[Ambrose, B.W., Conklin, J.N. and Lopez, L.A., \"Does borrower and broker race affect the cost of mortgage credit?\" The Review of Financial Studies, 2021, 34(2), pp.790-826.](https://doi.org/10.1093/rfs/hhaa087)__\n",
    "\n",
    "\"We test for pricing disparities in mortgage contracts using a novel dataset that allows us to observe the race and ethnicity of both parties to the loan. We find that minorities pay between three and five percent more in fees than similarly qualified whites when obtaining a loan through the same white broker. Critically, we find that the premium paid by minorities depends on the race of the broker. We also examine recent policy changes regarding broker compensation rules that may reduce these price disparities, but may also limit access to credit for minorities.\""
   ]
  },
  {
   "cell_type": "markdown",
   "id": "4da5771f",
   "metadata": {
    "slideshow": {
     "slide_type": "fragment"
    }
   },
   "source": [
    "#### We examine the effect of anti-corruption laws on mortgage lending\n",
    "1. Increased approval rates\n",
    "    - Driven by __Hispanic Borrowers__\n",
    "2. Increased loan to income ratio\n",
    "3. Fewer high interest loans\n",
    "    - Driven by __Black and Hispanic Borrowers__"
   ]
  },
  {
   "cell_type": "markdown",
   "id": "ccade1a7",
   "metadata": {
    "slideshow": {
     "slide_type": "subslide"
    }
   },
   "source": [
    "1. Increased approval rates\n",
    "    - .5% for all borrowers   \n",
    "        - 1.2% for Hispanic borrowers\n",
    "        - -.8% for Black borrowers$^\\dagger$\n",
    "        - .1% for other borrowers$^\\dagger$\n",
    "        - No difference for female borrowers  \n"
   ]
  },
  {
   "cell_type": "code",
   "execution_count": 32,
   "id": "ebc7841c",
   "metadata": {
    "slideshow": {
     "slide_type": "skip"
    }
   },
   "outputs": [
    {
     "data": {
      "image/png": "[encoded data removed]",
      "text/plain": [
       "<Figure size 640x480 with 1 Axes>"
      ]
     },
     "metadata": {},
     "output_type": "display_data"
    }
   ],
   "source": [
    "import numpy as np\n",
    "import matplotlib.pyplot as plt\n",
    "\n",
    "plt.rcdefaults()\n",
    "fig, ax = plt.subplots()\n",
    "\n",
    "groups = (\"All\",\"Hispanic\",\"Black\",\"Male\",\"Female\")\n",
    "ests = (.5,1.2,-.8,.5,.5)\n",
    "y_pos = np.arange(len(groups))\n",
    "\n",
    "ax.barh(y_pos, ests, align='center')\n",
    "ax.set_yticks(y_pos)\n",
    "ax.set_yticklabels(groups)\n",
    "# ax.invert_yaxis()  # labels read top-to-bottom\n",
    "ax.set_ylabel('Groups')\n",
    "ax.set_xlabel('Estimated Effects')\n",
    "ax.set_title('Approval')\n",
    "ax.axvline(x=0,color='gray')\n",
    "ax.spines['top'].set_visible(False)\n",
    "ax.spines['right'].set_visible(False)\n",
    "ax.spines['left'].set_visible(False)\n",
    "# plt.axis('off')\n",
    "plt.show()\n"
   ]
  },
  {
   "cell_type": "markdown",
   "id": "9847e899",
   "metadata": {
    "slideshow": {
     "slide_type": "fragment"
    }
   },
   "source": [
    "$^\\dagger$ estimate is low relative to the uncertainty in the estimator."
   ]
  },
  {
   "cell_type": "markdown",
   "id": "9f5d006b",
   "metadata": {
    "slideshow": {
     "slide_type": "notes"
    }
   },
   "source": [
    "---\n",
    "- These are statistically insignificant at the 10% level. So, we would fail to reject the hypothesis that the treatment effect differs between white and black borrowers, and that either effect is different than zero. \n",
    "    - In Accounting and Finance we normally don't interpret results that are not even marginally significant, but this is not the convention in all fields, and not my preference.\n",
    "- _The uncertainty of these estimates is high relative to their magnitude._\n",
    "- White is the main effect\n",
    "- Black and hispanic are net of white \n",
    "\n",
    "- __Not all approvals are desirable, esp. note that predatory lending is an approval__\n",
    "---"
   ]
  },
  {
   "cell_type": "markdown",
   "id": "f469decf",
   "metadata": {
    "slideshow": {
     "slide_type": "subslide"
    }
   },
   "source": [
    "2. Increased loan to income ratio \n",
    "    - 2.1% for all borrowers\n",
    "        - 3.3% for Black borrowers$^\\dagger$\n",
    "        - 2.1% for Hispanic borrowers$^\\dagger$\n",
    "        - 2.0% for other borrowers$^\\dagger$\n",
    "        - 1.9% for male borrowers$^\\dagger$\n",
    "        - 2.2% for female borrowers$^\\dagger$"
   ]
  },
  {
   "cell_type": "markdown",
   "id": "451afe4b",
   "metadata": {
    "slideshow": {
     "slide_type": "fragment"
    }
   },
   "source": [
    "$^\\dagger$ estimate is low relative to the uncertainty in the estimator."
   ]
  },
  {
   "cell_type": "markdown",
   "id": "de0887d0",
   "metadata": {
    "slideshow": {
     "slide_type": "notes"
    }
   },
   "source": [
    "---\n",
    "Loan to income ratio is a key creditworthieness variable - at least that is screened on. A reasonable proxy for things like the debt/income ratio.\n",
    "\n",
    "__Note that (1) uncertanty is high relative to zero -- i.e. there is an effect--, but high relative to the differences between all of the groups.__ So we should be cautious about our interpretation of the differences between groups here.\n",
    "\n",
    "---"
   ]
  },
  {
   "cell_type": "markdown",
   "id": "0884eead",
   "metadata": {
    "slideshow": {
     "slide_type": "subslide"
    }
   },
   "source": [
    "3. Fewer high interest loans\n",
    "    - -.5% for all borrowers\n",
    "        - -2.0% for black borrowers\n",
    "        - -2.1% for hispanic borrowers\n",
    "        - .2% for other borrowers$^{\\dagger}$\n",
    "        - -.4% for male borrowers\n",
    "        - -1% for female borrowers"
   ]
  },
  {
   "cell_type": "markdown",
   "id": "287854dc",
   "metadata": {
    "slideshow": {
     "slide_type": "fragment"
    }
   },
   "source": [
    "$^\\dagger$ estimate is low relative to the uncertainty in the estimator."
   ]
  },
  {
   "cell_type": "markdown",
   "id": "692374d1",
   "metadata": {
    "slideshow": {
     "slide_type": "slide"
    }
   },
   "source": [
    "# Tables"
   ]
  },
  {
   "cell_type": "markdown",
   "id": "cf34b9a7",
   "metadata": {
    "slideshow": {
     "slide_type": "subslide"
    }
   },
   "source": [
    "![T2](t2.png)"
   ]
  },
  {
   "cell_type": "markdown",
   "id": "6a7b8986",
   "metadata": {
    "slideshow": {
     "slide_type": "subslide"
    }
   },
   "source": [
    "![t3](t3.png)"
   ]
  },
  {
   "cell_type": "markdown",
   "id": "12b5a83f",
   "metadata": {
    "slideshow": {
     "slide_type": "subslide"
    }
   },
   "source": [
    "![t4](t4.png)"
   ]
  },
  {
   "cell_type": "markdown",
   "id": "a9f98ecf",
   "metadata": {
    "slideshow": {
     "slide_type": "skip"
    }
   },
   "source": [
    "--- \n",
    "---"
   ]
  },
  {
   "cell_type": "markdown",
   "id": "6691ef6a",
   "metadata": {
    "slideshow": {
     "slide_type": "notes"
    }
   },
   "source": [
    "---\n",
    "$\\dagger$ uncertainty in the estimate is high relative to the estimate for white. We should interpret the positive coeficient with caution.\n",
    "\n",
    "$\\ddagger$ the difference between these groups is small relative to the uncertainty around the estimate. So we are reasonably confident that male and female borrowers are less likely to get a high interest loan, we should interpret the difference between them with caution.  \n",
    "\n",
    "---  "
   ]
  },
  {
   "cell_type": "markdown",
   "id": "2dcf7aa2",
   "metadata": {
    "slideshow": {
     "slide_type": "slide"
    }
   },
   "source": [
    "### Why should corruption effect equality in the mortgage market?"
   ]
  },
  {
   "cell_type": "markdown",
   "id": "91f61bda",
   "metadata": {
    "slideshow": {
     "slide_type": "fragment"
    }
   },
   "source": [
    "1. Corruption is most salient when transactions are:\n",
    "    - complex & unfamilar \n",
    "    - involve frequent interactions with government\n",
    "    - high value"
   ]
  },
  {
   "cell_type": "markdown",
   "id": "71ad6e8c",
   "metadata": {
    "slideshow": {
     "slide_type": "fragment"
    }
   },
   "source": [
    "2. When transactions occur across group boundries:\n",
    "    - power differential\n",
    "    - assumption of naïveté (e.g. me in Ukraine)\n",
    "    - group contingent morality"
   ]
  },
  {
   "cell_type": "markdown",
   "id": "a9ab102d",
   "metadata": {
    "slideshow": {
     "slide_type": "subslide"
    }
   },
   "source": [
    "## <center>Broker Race </center>\n",
    "<center><img src='./brokerrace.png' width=\"750\"></center>"
   ]
  },
  {
   "cell_type": "markdown",
   "id": "37cdec11",
   "metadata": {
    "slideshow": {
     "slide_type": "slide"
    }
   },
   "source": [
    "### Empirical Approach\n",
    "\n",
    "\\begin{align}\n",
    "    A,L,R_{i,j,c,t,r,s} =   & \\gamma_{c} + \\lambda_{j,t} + \\rho_{r} + \\sigma_{s} + \\\\\n",
    "                        &\\beta_{1} AACA \\times Post_{c,t} \\times Black_{i} \\\\\n",
    "                        &\\beta_{2} AACA \\times Post_{c,t} \\times Hispanic_{i} \\\\\n",
    "                        &\\beta_{3} AACA \\times Post_{c,t} + \\mathbf{Z}_{c,t}\\delta + \\varepsilon_{i,j,c,t,r,s} \n",
    "\\end{align}\n",
    "\n",
    "- All other interactions are subsumed by the fixed effects.\n",
    "- TODO: check white and asian decomposition, potentially relabel main models in the main discussion\n",
    "\n",
    "\\begin{align}\n",
    "    A,L,R_{i,j,c,t,r,s} =   & \\gamma_{c} + \\lambda_{j,t} + \\rho_{r} + \\sigma_{s} + \\\\\n",
    "                        &\\beta_{1} AACA \\times Post_{c,t} \\times Female_{i} \\\\\n",
    "                        &\\beta_{2} AACA \\times Post_{c,t} + \\mathbf{Z}_{c,t}\\delta + \\varepsilon_{i,j,c,t,r,s} \n",
    "\\end{align}\n",
    "\n"
   ]
  },
  {
   "cell_type": "markdown",
   "id": "f46dc825",
   "metadata": {
    "slideshow": {
     "slide_type": "slide"
    }
   },
   "source": [
    "### Conclusion:\n",
    "\n",
    "- AACA seems to paraeto improve the mortgage market\n",
    "- Focus on other sources of inequity in mortgage markets is still paramount\n"
   ]
  },
  {
   "cell_type": "markdown",
   "id": "b764fd05",
   "metadata": {
    "slideshow": {
     "slide_type": "notes"
    }
   },
   "source": [
    "TODO: do the differencing analysis and graph it: using mata hdfe  \n",
    "TODO: maybe add approval rates etc as their own figure  \n",
    "TODO: explore giving asians their own category  \n",
    "TODO: the graphs go back in the paper for sure, unfool some of the tomfoolary   \n",
    "TODO: double check the bank FE"
   ]
  },
  {
   "cell_type": "code",
   "execution_count": 33,
   "id": "e6c36203",
   "metadata": {
    "slideshow": {
     "slide_type": "skip"
    }
   },
   "outputs": [
    {
     "data": {
      "image/png": "[encoded data removed]",
      "text/plain": [
       "<Figure size 640x480 with 1 Axes>"
      ]
     },
     "metadata": {},
     "output_type": "display_data"
    }
   ],
   "source": [
    "import matplotlib.pyplot as plt\n",
    "\n",
    "d ={'5000cca234c1c445': {382877: 7, 382919: 3},\n",
    "'5000cca234c94a2e': {382873: 1, 382886: 1},\n",
    "'5000cca234c89421': {383173: 1, 383183: 2, 382917: 1, 382911: 1},\n",
    "'5000cca234c5d43a': {382889: 1, 382915: 1, 382917: 8},\n",
    "'5000cca234c56488': {382909: 2, 382911: 5}}\n",
    "\n",
    "colors = list(\"rgbcmyk\")\n",
    "\n",
    "for data_dict in d.values():\n",
    "   x = data_dict.keys()\n",
    "   y = data_dict.values()\n",
    "   plt.scatter(x,y,color=colors.pop())\n",
    "\n",
    "plt.legend(d.keys())\n",
    "plt.show()"
   ]
  },
  {
   "cell_type": "code",
   "execution_count": null,
   "id": "28418414",
   "metadata": {},
   "outputs": [],
   "source": []
  }
 ],
 "metadata": {
  "celltoolbar": "Slideshow",
  "kernelspec": {
   "display_name": "Python [conda env:3point9] *",
   "language": "python",
   "name": "conda-env-3point9-py"
  },
  "language_info": {
   "codemirror_mode": {
    "name": "ipython",
    "version": 3
   },
   "file_extension": ".py",
   "mimetype": "text/x-python",
   "name": "python",
   "nbconvert_exporter": "python",
   "pygments_lexer": "ipython3",
   "version": "3.9.12"
  }
 },
 "nbformat": 4,
 "nbformat_minor": 5
}
