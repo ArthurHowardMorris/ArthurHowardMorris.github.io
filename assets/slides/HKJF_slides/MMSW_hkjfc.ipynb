{
 "cells": [
  {
   "cell_type": "markdown",
   "id": "d9bc3d2d",
   "metadata": {
    "slideshow": {
     "slide_type": "slide"
    }
   },
   "source": [
    "# <center>Individual Mortgage Lending, Public Corruption, Race and Gender: Evidence from Local Corruption Crack-Downs</center>\n",
    "\n",
    "## <center>Arthur Morris, HKUST</center>\n",
    "\n",
    "### <center>with Albert Mensah, HEC - Paris; Han Stice, CUHK; and Roger White, ASU</center>"
   ]
  },
  {
   "cell_type": "markdown",
   "id": "fcefbdfd",
   "metadata": {
    "slideshow": {
     "slide_type": "slide"
    }
   },
   "source": [
    "### Research Questions"
   ]
  },
  {
   "cell_type": "markdown",
   "id": "3715820d",
   "metadata": {
    "slideshow": {
     "slide_type": "fragment"
    }
   },
   "source": [
    "#### RQ 1:\n",
    "- Does corruption impact the U.S. mortgate market?"
   ]
  },
  {
   "cell_type": "markdown",
   "id": "8d2ccb6c",
   "metadata": {
    "slideshow": {
     "slide_type": "fragment"
    }
   },
   "source": [
    "#### RQ 2:\n",
    "- Does reducing corruption impact inequality?"
   ]
  },
  {
   "cell_type": "markdown",
   "id": "fc47c809",
   "metadata": {
    "slideshow": {
     "slide_type": "skip"
    }
   },
   "source": [
    "---\n",
    "---"
   ]
  },
  {
   "cell_type": "markdown",
   "id": "e60b9a73",
   "metadata": {
    "slideshow": {
     "slide_type": "slide"
    }
   },
   "source": [
    "### Mortgage Lending and Inequality (Background)\n",
    "We use Home Mortgage Disclosure Act data from the CFPB to measure:"
   ]
  },
  {
   "cell_type": "markdown",
   "id": "6f5bae71",
   "metadata": {
    "slideshow": {
     "slide_type": "fragment"
    }
   },
   "source": [
    "- Mortgage application approvals, denials, and withdrawals.\n",
    "- Loan to income ratio. _Proxy for creditworthiness._\n",
    "- High Interest Loans. _Extent of predatory lending._ "
   ]
  },
  {
   "cell_type": "markdown",
   "id": "e14f91b7",
   "metadata": {
    "hideCode": false,
    "slideshow": {
     "slide_type": "subslide"
    }
   },
   "source": [
    "## <center> Key outcomes by race:</center>\n",
    "| | | |\n",
    "|-|-|-|\n",
    "|![alt](./raceApproved.png) |![alt](./raceLTI.png) |![alt](./raceHIL.png) |\n",
    "\n",
    "- RQ 1 is concerned with the red lines.  \n",
    "- RQ 2 is concerned with the distribution of the bubbles.  "
   ]
  },
  {
   "cell_type": "markdown",
   "id": "79fd1528",
   "metadata": {
    "slideshow": {
     "slide_type": "subslide"
    }
   },
   "source": [
    "## <center>Key outcomes by gender:</center>\n",
    "| | | |\n",
    "|-|-|-|\n",
    "|![alt](./sexApproved.png) |![alt](./sexLTI.png) |![alt](./sexHIL.png) |\n",
    "\n",
    "- RQ 1 is concerned with the red lines.  \n",
    "- RQ 2 is concerned with the distribution of the bubbles.  "
   ]
  },
  {
   "cell_type": "markdown",
   "id": "f7a4cd8c",
   "metadata": {
    "slideshow": {
     "slide_type": "skip"
    }
   },
   "source": [
    "---\n",
    "---"
   ]
  },
  {
   "cell_type": "markdown",
   "id": "639c9b35",
   "metadata": {
    "slideshow": {
     "slide_type": "slide"
    }
   },
   "source": [
    "### Setting: The American Anti-Corruption Act\n",
    "- Model anti-corruption legislation, adopted at the local level, drafted 2011 ([Cause célèbre](https://represent.us/about/#cultural-council))"
   ]
  },
  {
   "cell_type": "markdown",
   "id": "9edf2a18",
   "metadata": {
    "slideshow": {
     "slide_type": "fragment"
    }
   },
   "source": [
    "#### Key Provisions:\n",
    "- Mandatory minimum sentences\n",
    "- Local investigative authority (e.g. install wiretaps)\n",
    "- Regulation of lobbying, gifts, and donations\n",
    "<!-- - Limit gerrymandering -->"
   ]
  },
  {
   "cell_type": "markdown",
   "id": "9aded197",
   "metadata": {
    "slideshow": {
     "slide_type": "fragment"
    }
   },
   "source": [
    "#### Adoption\n",
    "- Begins in 2014\n",
    "- Jurisdictions in 29 states\n",
    "- Mostly cities and counties"
   ]
  },
  {
   "cell_type": "markdown",
   "id": "ed72b451",
   "metadata": {
    "slideshow": {
     "slide_type": "skip"
    }
   },
   "source": [
    "---\n",
    "---"
   ]
  },
  {
   "cell_type": "markdown",
   "id": "34e3e3cd",
   "metadata": {
    "slideshow": {
     "slide_type": "slide"
    }
   },
   "source": [
    "### RQ 1: Does corruption matter to the US mortgage mortgage market?"
   ]
  },
  {
   "cell_type": "markdown",
   "id": "61ac6e51",
   "metadata": {
    "slideshow": {
     "slide_type": "subslide"
    }
   },
   "source": [
    "### Empirical Approach\n",
    "\n",
    "\\begin{equation}\n",
    "    A_{i,j,c,t,r,s} = \\gamma_{c} + \\lambda_{j,t} + \\ \n",
    "    \\rho_{r} + \\sigma_{s} + \\beta AACA \\times Post_{c,t} + \\ \\mathbf{Z}_{c,t}\\delta + \\ \n",
    "    \\varepsilon_{i,j,c,t,r,s} \n",
    "\\end{equation}\n",
    "\n",
    "- __$A$ is an indicator for application outcome approval, denial, or withdrawal.__ \n",
    "- Sample includes all \"owner-occupied\" mortgages applications, in states with adopting jurisdictions\n",
    "\n",
    "\\begin{equation}\n",
    "    L_{i,j,c,t,r,s} = \\gamma_{c} + \\lambda_{j,t} + \\rho_{r} + \\ \n",
    "    \\sigma_{s} + \\beta AACA \\times Post_{c,t} + \\mathbf{Z}_{c,t}\\delta + \\ \\varepsilon_{i,j,c,t,r,s} \\label{eq:loantoincome}\n",
    "\\end{equation}\n",
    "\n",
    "- __$L$ is the loan to income ratio__  \n",
    "- Sample conditional on approval\n",
    "- Drop loan amount, and income from controls\n",
    "\n",
    "\\begin{equation}\n",
    "    R_{i,j,c,t,r,s} = \\gamma_{c} + \\lambda_{j,t} + \\rho_{r} +  \\ \n",
    "    \\sigma_{s} + \\beta AACA \\times Post_{c,t} + \\mathbf{Z}_{c,t} \\ \n",
    "    \\delta + \\varepsilon_{i,j,c,t,r,s} \\label{eq:rate}\n",
    "\\end{equation}\n",
    "\n",
    "- __$R$ indicates a high interest loan__  \n",
    "- Sample conditional on approval.\n"
   ]
  },
  {
   "cell_type": "markdown",
   "id": "e98418f8",
   "metadata": {
    "slideshow": {
     "slide_type": "subslide"
    }
   },
   "source": [
    "### Empirical Detail: Causal Inference from TWFEDID Estimation\n",
    "\n",
    "\\begin{equation}\n",
    "    O_{i,j,c,t,r,s} = \\gamma_{c} + \\lambda_{j,t} + \\ \n",
    "    \\rho_{r} + \\sigma_{s} + \\beta AACA \\times Post_{c,t} + \\ \\mathbf{Z}_{c,t}\\delta + \\ \n",
    "    \\varepsilon_{i,j,c,t,r,s} \n",
    "\\end{equation}\n",
    "\n",
    "- __$O$ is an outcome $A$,$L$, or $R$ from the previous slide__\n",
    "- __We interpret $\\beta$ as the difference-in-differences estimator,i.e. the causal effect of AACA in the census tracts where it is enacted__\n",
    "\n",
    "\n",
    "|   Indicies |    | Fixed-Effects      |   | Controls: $\\mathbf{Z}_{c,t}$ |\n",
    "| :---:      | ---| :---:              |---| :---: | \n",
    "|  $i$  | application   |                    |   | applicant income |\n",
    "| $j$   | lenders | $\\lambda_{j,t}$    |   | loan amount |\n",
    "| $c$   | census tracts | $\\gamma_{c}$ |   | tract \\% minority | \n",
    "| $t$   | years | $\\lambda_{j,t}$      |   | $\\frac{med(tract income)}{med(MSA income)}$ |\n",
    "| $r$   | race  | $\\rho_{t}$           |   |  |\n",
    "| $s$   | sex   | $\\sigma_{s}$         |   |  |"
   ]
  },
  {
   "cell_type": "markdown",
   "id": "89833730",
   "metadata": {
    "slideshow": {
     "slide_type": "subslide"
    }
   },
   "source": [
    "## <center> Approvals </center>\n",
    "| __Event Study__ | __Sun & Abraham (2020, Journal of Econometrics)__|\n",
    "|:---|:----|\n",
    "|![Approved Event](./approvedevent_study.png)|![Approved Event](./SA_approved.png)|\n"
   ]
  },
  {
   "cell_type": "markdown",
   "id": "ad960d03",
   "metadata": {
    "slideshow": {
     "slide_type": "subslide"
    }
   },
   "source": [
    "![t2](T2.png)"
   ]
  },
  {
   "cell_type": "markdown",
   "id": "a25060cc",
   "metadata": {
    "slideshow": {
     "slide_type": "subslide"
    }
   },
   "source": [
    "![t3](T3.png)"
   ]
  },
  {
   "cell_type": "markdown",
   "id": "b82dd40c",
   "metadata": {
    "slideshow": {
     "slide_type": "slide"
    }
   },
   "source": [
    "### RQ 1: Does corruption matter to the US mortgage mortgage market?\n",
    "\n",
    "- Yes:\n",
    "    1. Increased Approvals\n",
    "    2. Decreased Denials\n",
    "    3. Increased Loan-to-Income\n",
    "    4. Fewer High-Interest Loans\n",
    "- Other results:\n",
    "    1. No significant impact on delinquency.\n",
    "    2. Reduction in mortgage fraud (__NEW ANALYSIS__)"
   ]
  },
  {
   "cell_type": "markdown",
   "id": "84765502",
   "metadata": {
    "slideshow": {
     "slide_type": "subslide"
    }
   },
   "source": [
    "![T10](T10.png)"
   ]
  },
  {
   "cell_type": "markdown",
   "id": "e6858d4c",
   "metadata": {
    "slideshow": {
     "slide_type": "skip"
    }
   },
   "source": [
    "---\n",
    "---"
   ]
  },
  {
   "cell_type": "markdown",
   "id": "61f07def",
   "metadata": {
    "slideshow": {
     "slide_type": "slide"
    }
   },
   "source": [
    "### RQ 2: Big Question -- Does corruption make US mortgage lending less equitable?"
   ]
  },
  {
   "cell_type": "markdown",
   "id": "1acd6152",
   "metadata": {
    "slideshow": {
     "slide_type": "fragment"
    }
   },
   "source": [
    "### If you read one paper on race and mortgage lending, read this:\n",
    "__[Ambrose, B.W., Conklin, J.N. and Lopez, L.A., \"Does borrower and broker race affect the cost of mortgage credit?\" The Review of Financial Studies, 2021, 34(2), pp.790-826.](https://doi.org/10.1093/rfs/hhaa087)__\n",
    "\n",
    "\"We test for pricing disparities in mortgage contracts using a novel dataset that allows us to observe the race and ethnicity of both parties to the loan. We find that minorities pay between three and five percent more in fees than similarly qualified whites when obtaining a loan through the same white broker. Critically, we find that the premium paid by minorities depends on the race of the broker. We also examine recent policy changes regarding broker compensation rules that may reduce these price disparities, but may also limit access to credit for minorities.\""
   ]
  },
  {
   "cell_type": "markdown",
   "id": "2dcf7aa2",
   "metadata": {
    "slideshow": {
     "slide_type": "subslide"
    }
   },
   "source": [
    "### Why should corruption effect equality in the mortgage market?"
   ]
  },
  {
   "cell_type": "markdown",
   "id": "91f61bda",
   "metadata": {
    "slideshow": {
     "slide_type": "fragment"
    }
   },
   "source": [
    "1. Corruption is most salient when transactions are:\n",
    "    - complex & unfamilar \n",
    "    - involve frequent interactions with government\n",
    "    - high value"
   ]
  },
  {
   "cell_type": "markdown",
   "id": "71ad6e8c",
   "metadata": {
    "slideshow": {
     "slide_type": "fragment"
    }
   },
   "source": [
    "2. When transactions occur across group boundries:\n",
    "    - power differential\n",
    "    - assumption of naïveté (e.g. me in Ukraine)\n",
    "    - group contingent morality"
   ]
  },
  {
   "cell_type": "markdown",
   "id": "a9ab102d",
   "metadata": {
    "slideshow": {
     "slide_type": "subslide"
    }
   },
   "source": [
    "## <center>Broker Race </center>\n",
    "<center><img src='./brokerrace.png' width=\"750\"></center>"
   ]
  },
  {
   "cell_type": "markdown",
   "id": "37cdec11",
   "metadata": {
    "slideshow": {
     "slide_type": "subslide"
    }
   },
   "source": [
    "### Empirical Approach\n",
    "\n",
    "\\begin{align}\n",
    "    A,L,R_{i,j,c,t,r,s} =   & \\gamma_{c} + \\lambda_{j,t} + \\rho_{r} + \\sigma_{s} + \\\\\n",
    "                        &\\beta_{1} AACA \\times Post_{c,t} \\times Black_{i} \\\\\n",
    "                        &\\beta_{2} AACA \\times Post_{c,t} \\times Hispanic_{i} \\\\\n",
    "                        &\\beta_{3} AACA \\times Post_{c,t} + \\mathbf{Z}_{c,t}\\delta + \\varepsilon_{i,j,c,t,r,s} \n",
    "\\end{align}\n",
    "\n",
    "- All other interactions are subsumed by the fixed effects.\n",
    "<!-- - TODO: check white and asian decomposition, potentially relabel main models in the main discussion -->\n",
    "\n",
    "\\begin{align}\n",
    "    A,L,R_{i,j,c,t,r,s} =   & \\gamma_{c} + \\lambda_{j,t} + \\rho_{r} + \\sigma_{s} + \\\\\n",
    "                        &\\beta_{1} AACA \\times Post_{c,t} \\times Female_{i} \\\\\n",
    "                        &\\beta_{2} AACA \\times Post_{c,t} + \\mathbf{Z}_{c,t}\\delta + \\varepsilon_{i,j,c,t,r,s} \n",
    "\\end{align}\n",
    "\n"
   ]
  },
  {
   "cell_type": "markdown",
   "id": "83a044de",
   "metadata": {
    "slideshow": {
     "slide_type": "subslide"
    }
   },
   "source": [
    "![T4](T4.png)"
   ]
  },
  {
   "cell_type": "markdown",
   "id": "4dcd2276",
   "metadata": {
    "slideshow": {
     "slide_type": "subslide"
    }
   },
   "source": [
    "![T5](T5.png)"
   ]
  },
  {
   "cell_type": "markdown",
   "id": "5a0d4b33",
   "metadata": {
    "slideshow": {
     "slide_type": "subslide"
    }
   },
   "source": [
    "![T6](T6.png)"
   ]
  },
  {
   "cell_type": "markdown",
   "id": "efa216c8",
   "metadata": {
    "slideshow": {
     "slide_type": "subslide"
    }
   },
   "source": [
    "![T7](T7.png)"
   ]
  },
  {
   "cell_type": "markdown",
   "id": "4da5771f",
   "metadata": {
    "slideshow": {
     "slide_type": "fragment"
    }
   },
   "source": [
    "#### The effect of anti-corruption laws on mortgage lending:\n",
    "1. Increased approval rates\n",
    "    - Driven by __Hispanic Borrowers__\n",
    "2. Increased loan to income ratio\n",
    "3. Fewer high interest loans\n",
    "    - Driven by __Black and Hispanic Borrowers__\n",
    "    - The increase in withdrawals by black borrowers may be consistent with a decrease in predatory lending."
   ]
  },
  {
   "cell_type": "markdown",
   "id": "3f15b7b9",
   "metadata": {
    "slideshow": {
     "slide_type": "slide"
    }
   },
   "source": [
    "# Magnitudes:"
   ]
  },
  {
   "cell_type": "markdown",
   "id": "ccade1a7",
   "metadata": {
    "slideshow": {
     "slide_type": "subslide"
    }
   },
   "source": [
    "1. Increased approval rates\n",
    "    - .5% for all borrowers   \n",
    "        - 1.2% for Hispanic borrowers\n",
    "        - -.8% for Black borrowers$^\\dagger$\n",
    "        - .1% for other borrowers$^\\dagger$\n",
    "        - No difference for female borrowers  \n"
   ]
  },
  {
   "cell_type": "markdown",
   "id": "9847e899",
   "metadata": {
    "slideshow": {
     "slide_type": "fragment"
    }
   },
   "source": [
    "$^\\dagger$ estimate is low relative to the uncertainty in the estimator."
   ]
  },
  {
   "cell_type": "markdown",
   "id": "f469decf",
   "metadata": {
    "slideshow": {
     "slide_type": "subslide"
    }
   },
   "source": [
    "2. Increased loan to income ratio \n",
    "    - 2.1% for all borrowers\n",
    "        - 3.3% for Black borrowers$^\\dagger$\n",
    "        - 2.1% for Hispanic borrowers$^\\dagger$\n",
    "        - 2.0% for other borrowers$^\\dagger$\n",
    "        - 1.9% for male borrowers$^\\dagger$\n",
    "        - 2.2% for female borrowers$^\\dagger$"
   ]
  },
  {
   "cell_type": "markdown",
   "id": "451afe4b",
   "metadata": {
    "slideshow": {
     "slide_type": "fragment"
    }
   },
   "source": [
    "$^\\dagger$ estimate is low relative to the uncertainty in the estimator."
   ]
  },
  {
   "cell_type": "markdown",
   "id": "0884eead",
   "metadata": {
    "slideshow": {
     "slide_type": "subslide"
    }
   },
   "source": [
    "3. Fewer high interest loans\n",
    "    - -.5% for all borrowers\n",
    "        - -2.0% for black borrowers\n",
    "        - -2.1% for hispanic borrowers\n",
    "        - .2% for other borrowers$^{\\dagger}$\n",
    "        - -.4% for male borrowers\n",
    "        - -1% for female borrowers"
   ]
  },
  {
   "cell_type": "markdown",
   "id": "287854dc",
   "metadata": {
    "slideshow": {
     "slide_type": "fragment"
    }
   },
   "source": [
    "$^\\dagger$ estimate is low relative to the uncertainty in the estimator."
   ]
  },
  {
   "cell_type": "markdown",
   "id": "f46dc825",
   "metadata": {
    "slideshow": {
     "slide_type": "slide"
    }
   },
   "source": [
    "### Conclusion:\n",
    "\n",
    "- AACA seems to paraeto improve the mortgage market\n",
    "- Focus on other sources of inequity in mortgage markets is still paramount\n"
   ]
  }
 ],
 "metadata": {
  "celltoolbar": "Slideshow",
  "kernelspec": {
   "display_name": "Python [conda env:3point9] *",
   "language": "python",
   "name": "conda-env-3point9-py"
  },
  "language_info": {
   "codemirror_mode": {
    "name": "ipython",
    "version": 3
   },
   "file_extension": ".py",
   "mimetype": "text/x-python",
   "name": "python",
   "nbconvert_exporter": "python",
   "pygments_lexer": "ipython3",
   "version": "3.9.12"
  }
 },
 "nbformat": 4,
 "nbformat_minor": 5
}
