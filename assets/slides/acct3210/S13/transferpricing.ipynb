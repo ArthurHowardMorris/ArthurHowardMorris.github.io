{
 "cells": [
  {
   "cell_type": "markdown",
   "id": "92509b73",
   "metadata": {
    "slideshow": {
     "slide_type": "slide"
    }
   },
   "source": [
    "# Lecture 12: Transfer Pricing and Responsibility Accounting\n",
    "\n",
    "- Great work on the exam!\n",
    "- Next Thursday will be an exam review session ([Let's look at the schedule](https://arthurhowardmorris.github.io/resources/semesters/s2023/ACCTG3210Syl.html#course-schedule-and-outline))"
   ]
  },
  {
   "cell_type": "markdown",
   "id": "2935a623",
   "metadata": {
    "slideshow": {
     "slide_type": "slide"
    }
   },
   "source": [
    "### Brief review of the [Rothwell case](https://arthurhowardmorris.github.io/assets/slides/acct3210/S11/MoreIncentives.slides.html#/):\n",
    "\n",
    "- On the exam I will:\n",
    "\n",
    "1. provide an edited version of the case\n",
    "2. ask you to discuss the problem that you think the incentive scheme is trying to solve\n",
    "3. ask you to discuss what is going wrong\n",
    "4. ask you to propose a new incentive scheme\n",
    "\n",
    "The questions will be focused like they were on the first exam, but the \"solution\" depends on your view of the problem. \n",
    "\n",
    "- You should reference the incentive problems that we discussed in lecture 10, but how you do this is up to you. \n",
    "- Clarity and logic is the priority."
   ]
  },
  {
   "cell_type": "markdown",
   "id": "2990c681",
   "metadata": {
    "slideshow": {
     "slide_type": "slide"
    }
   },
   "source": [
    "## Transfer Pricing and Responsibility Accounting\n",
    "\n",
    "### For context let's look back to the end of lecture 10"
   ]
  },
  {
   "cell_type": "markdown",
   "id": "47686a32",
   "metadata": {
    "slideshow": {
     "slide_type": "slide"
    }
   },
   "source": [
    "### Concluding caveat\n",
    "\n",
    "- Basing pay on the firm’s performance is sensible only if this performance is influenced by the manager’s actions, and these actions are not directly observed by the principal. \n",
    "- Then the manager must be induced indirectly to choose desirable actions: \n",
    "- this is achieved by basing the manager’s pay on whatever variables permit some inference about the manager’s actions. \n",
    "- While this may impose risk on the managers, some risk/responsibility is necessary to provide managers with appropriate incentives to work hard. \n",
    "- In these situations, the manager may be evaluated on the basis of variables beyond his/her control."
   ]
  },
  {
   "cell_type": "markdown",
   "id": "3bffe324",
   "metadata": {
    "slideshow": {
     "slide_type": "slide"
    }
   },
   "source": [
    "# Responsibility Accounting \n",
    "\n",
    "- To implement incentive schemes, organizational performance must be decomposed into components that reflect, as nearly as possible, individual contributions.\n",
    "- Responsibility accounting is a system of accounting that recognizes various responsibility centers throughout the organization.\n",
    "- Such an accounting system reflects the plans and actions of each of these centers by allocating particular revenues and costs to those having the pertinent responsibilities (also called profitability accounting and activity accounting). "
   ]
  },
  {
   "cell_type": "markdown",
   "id": "4684fd2e",
   "metadata": {
    "slideshow": {
     "slide_type": "slide"
    }
   },
   "source": [
    "### The most common types of responsibility centers are:\n",
    "\n",
    "- Cost center: responsible for __own__ costs.\n",
    "- Profit center: responsible for __own__ profit.\n",
    "- Revenue center: responsible for __own__ revenue.\n",
    "- Investment center: responsible for return on  __own__ investment."
   ]
  },
  {
   "cell_type": "markdown",
   "id": "5b9aff54",
   "metadata": {
    "slideshow": {
     "slide_type": "slide"
    }
   },
   "source": [
    "### Desirable features of responsibility accounting\n",
    "- strong link between performance and compensation\n",
    "- clear distinction between controllable versus non-controllable budget items\n",
    "- timeliness\n",
    "\n",
    "_Responsibility accounting becomes increasingly important as the firm becomes more and more decentralized._"
   ]
  },
  {
   "cell_type": "markdown",
   "id": "f4ad21e0",
   "metadata": {
    "slideshow": {
     "slide_type": "subslide"
    }
   },
   "source": [
    "## What does \"decentralized\" mean in this context?"
   ]
  },
  {
   "cell_type": "markdown",
   "id": "edee4395",
   "metadata": {
    "slideshow": {
     "slide_type": "subslide"
    }
   },
   "source": [
    "### de/centralization refers to the location of decision rights within the firm."
   ]
  },
  {
   "cell_type": "markdown",
   "id": "36863d20",
   "metadata": {
    "slideshow": {
     "slide_type": "fragment"
    }
   },
   "source": [
    "```\n",
    "└── Terri (Owner of Terri's Amazing Restaurant)\n",
    "    ├── Jackson (Manages Location 1)\n",
    "    │   ├── Food\n",
    "    │   ├── Menu\n",
    "    │   └── Staff\n",
    "    └── Jason (Manages Location 2)\n",
    "        ├── Food\n",
    "        ├── Menu\n",
    "        └── Staff\n",
    "```\n",
    "\n",
    "- __If Terri makes all the decisions, then decision rights are centralized.__\n",
    "- The extent to which she delegates authority to Jason and Jackson is the extent to which the firm is _decentralized_."
   ]
  },
  {
   "cell_type": "markdown",
   "id": "eead1a7e",
   "metadata": {
    "slideshow": {
     "slide_type": "subslide"
    }
   },
   "source": [
    "### Responsibility centers are key to decentralized firms \n",
    "\n",
    "- and responsibility accounting is critical to their management."
   ]
  },
  {
   "cell_type": "markdown",
   "id": "2a53d7b2",
   "metadata": {
    "slideshow": {
     "slide_type": "slide"
    }
   },
   "source": [
    "### Responsibility Accounting\n",
    "\n",
    "The performance of these responsibility centers is evaluated on the basis of\n",
    "various accounting numbers, such as:"
   ]
  },
  {
   "cell_type": "markdown",
   "id": "98a45d59",
   "metadata": {
    "slideshow": {
     "slide_type": "fragment"
    }
   },
   "source": [
    "- standard cost (the cost you planned for)\n",
    "- actual cost (the cost you actually incurred)\n",
    "- divisional profit, or \n",
    "- return on investment \n",
    "- market share\n",
    "- retention\n",
    "- sales \n",
    "- customer satisfaction"
   ]
  },
  {
   "cell_type": "markdown",
   "id": "58821acc",
   "metadata": {
    "slideshow": {
     "slide_type": "slide"
    }
   },
   "source": [
    "### Responsibility Accounting\n",
    "\n",
    "Notice that each of these measures is incomplete w.r.t. to the effect of the center's impact on other parts of the firm."
   ]
  },
  {
   "cell_type": "markdown",
   "id": "557f69f3",
   "metadata": {
    "slideshow": {
     "slide_type": "fragment"
    }
   },
   "source": [
    "- standard cost\n",
    "- divisional profit\n",
    "- return on investment\n",
    "- market share\n",
    "- retention\n",
    "- sales \n",
    "- customer satisfaction\n",
    "\n",
    "In each case there is an incentive to shift costs to other departments."
   ]
  },
  {
   "cell_type": "markdown",
   "id": "dfe98023",
   "metadata": {
    "slideshow": {
     "slide_type": "slide"
    }
   },
   "source": [
    "## The Transfer Price\n",
    "\n",
    "One function of the management accounting system therefore is to\n",
    "attach a dollar figure to transactions between different responsibility\n",
    "centers. "
   ]
  },
  {
   "cell_type": "markdown",
   "id": "d6eefcfd",
   "metadata": {
    "slideshow": {
     "slide_type": "fragment"
    }
   },
   "source": [
    "The _transfer price_ is the price that one division of a company\n",
    "charges another division of the same company for a product transferred between\n",
    "the two divisions.\n",
    "\n",
    "Like an internal sale price."
   ]
  },
  {
   "cell_type": "markdown",
   "id": "b73432b0",
   "metadata": {
    "slideshow": {
     "slide_type": "subslide"
    }
   },
   "source": [
    "## Purpose of Transfer Pricing\n",
    "\n",
    "The basic purpose of transfer pricing is to induce optimal decision making in a\n",
    "decentralized organization (i.e., in most cases, to maximize the profit of the\n",
    "organization as a whole)."
   ]
  },
  {
   "cell_type": "markdown",
   "id": "b6f63296",
   "metadata": {
    "slideshow": {
     "slide_type": "subslide"
    }
   },
   "source": [
    "## Advantages and Disadvantages of Decentralization"
   ]
  },
  {
   "cell_type": "markdown",
   "id": "89b3f43a",
   "metadata": {
    "slideshow": {
     "slide_type": "subslide"
    }
   },
   "source": [
    "### Advantages"
   ]
  },
  {
   "cell_type": "markdown",
   "id": "e6982c4e",
   "metadata": {
    "slideshow": {
     "slide_type": "fragment"
    }
   },
   "source": [
    "- Decisions are better and more timely because of the manager’s proximity to\n",
    "  local conditions.\n",
    "- Top managers are not distracted by routine, local decision problems.\n",
    "- Managers’ motivation increases because they have more control over results.\n",
    "- Increased decision making provides better training for managers for higher\n",
    "  level positions in the future."
   ]
  },
  {
   "cell_type": "markdown",
   "id": "3683116e",
   "metadata": {
    "slideshow": {
     "slide_type": "subslide"
    }
   },
   "source": [
    "### Disadvantages"
   ]
  },
  {
   "cell_type": "markdown",
   "id": "dd38e20c",
   "metadata": {
    "slideshow": {
     "slide_type": "fragment"
    }
   },
   "source": [
    "- Lack of goal congruence among managers in different parts of the\n",
    "  organization.\n",
    "- Insufficient information available to top management; increased costs of\n",
    "  obtaining detailed information.\n",
    "- Lack of coordination among managers in different parts of the organization."
   ]
  },
  {
   "cell_type": "markdown",
   "id": "95b32ac3",
   "metadata": {
    "slideshow": {
     "slide_type": "subslide"
    }
   },
   "source": [
    "## Purposes of Transfer Pricing"
   ]
  },
  {
   "cell_type": "markdown",
   "id": "714c3321",
   "metadata": {
    "slideshow": {
     "slide_type": "fragment"
    }
   },
   "source": [
    "There are two main reasons for instituting a transfer pricing scheme:"
   ]
  },
  {
   "cell_type": "markdown",
   "id": "590e2c05",
   "metadata": {
    "slideshow": {
     "slide_type": "fragment"
    }
   },
   "source": [
    "- _Performance measurement_: Use the transfer price to separate profit figures\n",
    "  for each division and thereby evaluate the performance of each division\n",
    "  separately."
   ]
  },
  {
   "cell_type": "markdown",
   "id": "20e7bc20",
   "metadata": {
    "slideshow": {
     "slide_type": "fragment"
    }
   },
   "source": [
    "- _Coordination_: Provide information to coordinate production, sales and\n",
    "  pricing decisions of the different divisions (via an appropriate choice of\n",
    "  transfer prices)."
   ]
  },
  {
   "cell_type": "markdown",
   "id": "676bb17c",
   "metadata": {
    "slideshow": {
     "slide_type": "slide"
    }
   },
   "source": [
    "### Effects of Transfer Pricing\n",
    "\n",
    "- Transfer prices make managers aware of the value that goods\n",
    "  and services have for other segments of the firm.\n",
    "- Transfer pricing allows the company to generate profit (or cost) figures for\n",
    "  each division separately.\n",
    "- The transfer price will affect not only the reported profit of each center,\n",
    "  but will also affect the allocation of an organization’s resources."
   ]
  },
  {
   "cell_type": "markdown",
   "id": "2fc634ee",
   "metadata": {
    "slideshow": {
     "slide_type": "slide"
    }
   },
   "source": [
    "## Mechanics of Transfer Pricing\n",
    "\n",
    "- No money need change hands between the two divisions. The transfer price might only be used for internal record keeping. \n",
    "- (Transfer Price $\\times$ quantity of goods exchanged) is an expense for the purchasing center and a revenue for the selling center."
   ]
  },
  {
   "cell_type": "markdown",
   "id": "b6d87d5c",
   "metadata": {
    "slideshow": {
     "slide_type": "slide"
    }
   },
   "source": [
    "## Accounting for Transfer Pricing\n",
    "\n",
    "\n",
    "If intra-company transactions are accounted for at prices in excess of cost,\n",
    "appropriate elimination entries should be made for external reporting purposes.\n",
    "Examples of items to be eliminated for consolidated financial statements\n",
    "include:\n",
    "\n",
    "- Intra-company receivables and payables.\n",
    "- Intra-company sales and costs of goods sold.\n",
    "- Intra-company profits in inventories."
   ]
  },
  {
   "cell_type": "markdown",
   "id": "2777cd8e",
   "metadata": {
    "slideshow": {
     "slide_type": "slide"
    }
   },
   "source": [
    "## Methods of Transfer Pricing\n",
    "\n",
    "A transfer pricing policy defines rules for calculating the transfer price. In\n",
    "addition, a transfer price policy has to specify sourcing rules (i.e., either\n",
    "mandate internal transactions or allow divisions discretion in choosing whether\n",
    "to buy/sell externally). The most common transfer pricing methods are described\n",
    "below."
   ]
  },
  {
   "cell_type": "markdown",
   "id": "fb70c554",
   "metadata": {
    "slideshow": {
     "slide_type": "slide"
    }
   },
   "source": [
    "### Market-based Transfer Pricing\n",
    "\n",
    "When the outside market for the good is _well-defined_, _competitive_, and _stable_,\n",
    "firms often use the market price as an upper bound for the transfer price."
   ]
  },
  {
   "cell_type": "markdown",
   "id": "7d0fd3e2",
   "metadata": {
    "slideshow": {
     "slide_type": "slide"
    }
   },
   "source": [
    "\n",
    "_Terms:_\n",
    "- what is a well defined market?\n",
    "- what is a competitive market?\n",
    "- what is a stable market?"
   ]
  },
  {
   "cell_type": "markdown",
   "id": "359e5a95",
   "metadata": {
    "slideshow": {
     "slide_type": "subslide"
    }
   },
   "source": [
    "\n",
    "_Terms:_\n",
    "- what is a well defined market?\n",
    "    - it is easy to predict what customers will do if the price changes\n",
    "    - if it is easy to define what the substitutes for a product are (or if there are none) then the market is well defined.\n",
    "- what is a competitive market?\n",
    "    - many firms are in the market\n",
    "    - none is dominant\n",
    "    - modest margins (i.e. no economic rents)\n",
    "- what is a stable market?\n",
    "    - prices are predictable enough to be useful for planning and compensation "
   ]
  },
  {
   "cell_type": "markdown",
   "id": "8df087ff",
   "metadata": {
    "slideshow": {
     "slide_type": "slide"
    }
   },
   "source": [
    "### Why do we need these to hold for external transfer pricing to be useful?"
   ]
  },
  {
   "cell_type": "markdown",
   "id": "7b89338d",
   "metadata": {
    "slideshow": {
     "slide_type": "fragment"
    }
   },
   "source": [
    "- the prices need to be informative in order to measure effort (remember Huck Finn)\n",
    "- the prices need to be informative for future planning "
   ]
  },
  {
   "cell_type": "markdown",
   "id": "4bbe4df7",
   "metadata": {
    "slideshow": {
     "slide_type": "slide"
    }
   },
   "source": [
    "### Concerns with market-based Transfer Pricing\n",
    "\n",
    "When the outside market is neither _competitive_ nor stable, internal decision\n",
    "making may be distorted by reliance on market-based transfer prices\n",
    "\n",
    "e.g. if competitors are selling at distress prices or are engaged in any of a\n",
    "variety of “special” pricing strategies (e.g., price discrimination, product\n",
    "tie-ins, or entry deterrence). \n",
    "\n",
    "Also, when entering a new product market the firm may opt to provide an internal\n",
    "subsidy to the new business segment."
   ]
  },
  {
   "cell_type": "markdown",
   "id": "9c97b6c3",
   "metadata": {
    "slideshow": {
     "slide_type": "slide"
    }
   },
   "source": [
    "### Negotiated Transfer Pricing \n",
    "\n",
    "Here, the firm does not specify rules for the determination of transfer prices.\n",
    "\n",
    "- Divisional managers are encouraged to negotiate a mutually agreeable transfer\n",
    "  price. \n",
    "- Negotiated transfer pricing is typically combined with free sourcing. \n",
    "- In some companies, though, headquarters reserves the right to mediate the\n",
    "  negotiation process and impose an “arbitrated” solution."
   ]
  },
  {
   "cell_type": "markdown",
   "id": "962f38a5",
   "metadata": {
    "slideshow": {
     "slide_type": "slide"
    }
   },
   "source": [
    "\n",
    "### Cost-based Transfer Pricing\n",
    "\n",
    "In the absence of an established market price many companies base the transfer\n",
    "price on the production cost of the supplying division.\n",
    "\n",
    "The most common methods are:\n",
    "\n",
    "- Full Cost\n",
    "- Cost-plus\n",
    "- Variable Cost plus Lump Sum charge\n",
    "- Variable Cost plus Opportunity cost\n",
    "- Dual Transfer Prices\n",
    "\n",
    "Each of these methods is outlined below."
   ]
  },
  {
   "cell_type": "markdown",
   "id": "8b1e7de8",
   "metadata": {
    "slideshow": {
     "slide_type": "slide"
    }
   },
   "source": [
    "### Full Cost\n",
    "\n",
    "A popular transfer price because of its clarity and convenience and because it\n",
    "is often viewed as a satisfactory approximation of outside market prices.\n",
    "\n",
    "- Full _actual costs_ can include inefficiencies; thus its usage for transfer pricing often fails to provide an incentive to control such inefficiencies.\n",
    "- Use of full _standard costs_ may minimize the inefficiencies mentioned above."
   ]
  },
  {
   "cell_type": "markdown",
   "id": "ba86bfbd",
   "metadata": {
    "slideshow": {
     "slide_type": "slide"
    }
   },
   "source": [
    "### Cost-plus\n",
    "\n",
    "- When transfers are made at full cost, the buying division takes all the gains from trade while the supplying division receives none\n",
    "- To overcome this problem the supplying division is frequently allowed to add a mark-up in order to make a \"reasonable\" profit\n",
    "- The transfer price may then be viewed as an approximate market price."
   ]
  },
  {
   "cell_type": "markdown",
   "id": "0e09e6e4",
   "metadata": {
    "slideshow": {
     "slide_type": "slide"
    }
   },
   "source": [
    "### Variable Cost plus a Lump Sum Charge\n",
    "\n",
    "In order to motivate the buying division to make appropriate purchasing\n",
    "decisions, the transfer price could be set equal to (standard) variable cost\n",
    "plus a lump-sum periodical charge covering the supplying division's related\n",
    "fixed costs."
   ]
  },
  {
   "cell_type": "markdown",
   "id": "f5e97615",
   "metadata": {
    "slideshow": {
     "slide_type": "slide"
    }
   },
   "source": [
    "### Variable Cost plus Opportunity Cost\n",
    "\n",
    "Also know as the Minimum Transfer Price:\n",
    "\n",
    "Minimum Transfer Price = Incremental Cost + Opportunity Cost."
   ]
  },
  {
   "cell_type": "markdown",
   "id": "60d249dd",
   "metadata": {
    "slideshow": {
     "slide_type": "slide"
    }
   },
   "source": [
    "For internal decision making purposes, a transfer price should be at least as\n",
    "large as the sum of:\n",
    "\n",
    "- cash outflows that are directly associated with the production of the\n",
    "  transferred goods; and,\n",
    "- the contribution margin foregone by the firm as a whole if the goods are\n",
    "  transferred internally."
   ]
  },
  {
   "cell_type": "markdown",
   "id": "96f46977",
   "metadata": {
    "slideshow": {
     "slide_type": "slide"
    }
   },
   "source": [
    "### Transfer Costs may obscure the fixed/variable cost distinction!\n",
    "\n",
    "Sub-optimal decisions can result from the natural inclination of the manager of\n",
    "an autonomous buying division to view a _mix of variable and fixed costs_ of a\n",
    "selling division plus, possibly, a mark-up _as variable costs_ of his buying\n",
    "division. \n",
    "\n",
    "In this case costs that are _not_ avoidable for the firm, appear avoidable to the manager.\n",
    "\n",
    "Dual transfer pricing can address this problem, although it introduces the complexity of using different prices for different managers."
   ]
  },
  {
   "cell_type": "markdown",
   "id": "414c299c",
   "metadata": {
    "slideshow": {
     "slide_type": "slide"
    }
   },
   "source": [
    "### Dual Transfer Prices\n",
    "\n",
    "To avoid some of the problems associated with the above schemes, some companies\n",
    "adopt a dual transfer pricing system. For example:\n",
    "\n",
    "- Charge the buyer for the variable cost. The objective is to motivate the manager of the buying division to make optimal (short-term) decisions.\n",
    "- Credit the seller at a price that allows for a normal profit margin. This facilitates a “fair” evaluation of the selling division’s performance."
   ]
  }
 ],
 "metadata": {
  "celltoolbar": "Slideshow",
  "kernelspec": {
   "display_name": "Python [conda env:acct3210] *",
   "language": "python",
   "name": "conda-env-acct3210-py"
  },
  "language_info": {
   "codemirror_mode": {
    "name": "ipython",
    "version": 3
   },
   "file_extension": ".py",
   "mimetype": "text/x-python",
   "name": "python",
   "nbconvert_exporter": "python",
   "pygments_lexer": "ipython3",
   "version": "3.10.4"
  }
 },
 "nbformat": 4,
 "nbformat_minor": 5
}
