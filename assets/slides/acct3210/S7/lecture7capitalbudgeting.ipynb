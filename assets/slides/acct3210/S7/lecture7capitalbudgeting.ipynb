{
 "cells": [
  {
   "cell_type": "markdown",
   "metadata": {
    "slideshow": {
     "slide_type": "slide"
    }
   },
   "source": [
    "# Capital budgeting, and the time value of money"
   ]
  },
  {
   "cell_type": "markdown",
   "metadata": {
    "slideshow": {
     "slide_type": "slide"
    }
   },
   "source": [
    "## Opportunity cost and the time value of money\n",
    "\n",
    "- This lecture is essentially a review of the idea that when things happen matters!\n",
    "- Consumption of resources comes with opportunity costs and __time__ is an important resource.\n",
    "- Keep in mind that this course will be gathering ideas from several disciplines so some of this will be review for those who have taken parts of this in other courses."
   ]
  },
  {
   "cell_type": "markdown",
   "metadata": {
    "slideshow": {
     "slide_type": "slide"
    }
   },
   "source": [
    "## Opportunity cost and the time value of money\n",
    "\n",
    "> Calculating the opportunity cost of alternatives that involve cash flows occurring at different points in time is complicated because a dollar today is not equivalent to a dollar tomorrow. Time is money! A dollar received today can be invested and earn interest and is therefore worth more than a dollar tomorrow. \n",
    "\n",
    "- Opportunity cost is the fundamental idea behind the time value of money. \n",
    "- We are going to express the value of not consuming or having a resource now as an interest rate. \n",
    "- The amount you would pay or be paid to have the resource at a different time.\n"
   ]
  },
  {
   "cell_type": "markdown",
   "metadata": {
    "slideshow": {
     "slide_type": "slide"
    }
   },
   "source": [
    "## Example\n",
    "\n",
    "If you have an account that earns 5% per year and \\\\$1000 then you should never do anything with that money that earns less than $50 per year.\n",
    "\n",
    "- Keep in mind that textbooks often refer to savings accounts that have 5% returns, this is because they were all written in the 70s and 80s when such things existed \n",
    "- Note: I originally wrote this sentence in 2023, of course, now I have an account with 5% apr. \n",
    "- We'll keep this rate, because firms will often have options that can earn returns in this range. So while we call this an \"account\" you can think of this as an investment opportunity."
   ]
  },
  {
   "cell_type": "markdown",
   "metadata": {
    "slideshow": {
     "slide_type": "slide"
    }
   },
   "source": [
    "## Example\n",
    "\n",
    "Often you'll hear people say that certain assets are good investments because they hold their value. This assumes that all of your other opportunities offer negative returns! \n",
    "\n",
    "Consider the purchase of a \\\\$6,000 watch today which holds it's value for ten years. Basically, the proposition is to give Rolex \\\\$6,000 today and then give the watch to someone in ten years and have them give us \\\\$6,000 in exchange.\n",
    "\n",
    "To evaluate this we need a way to express the relationship between dollars now and dollars in the future. One way to think of the interest rate is the amount that makes you indifferent between getting the money now and at the end of the year. "
   ]
  },
  {
   "cell_type": "markdown",
   "metadata": {
    "slideshow": {
     "slide_type": "slide"
    }
   },
   "source": [
    "\n",
    "Beginning-of-year dollars × (1 + Interest rate) = End-of-year dollars\n",
    "\n",
    "If we want to do this over more periods we can make the following changes:\n",
    "\n",
    "Beginning-of-term dollars $\\times$ (1 + Period Interest Rate)$^{Number\\;of\\;Periods}$ = End-of-term dollars.\n",
    "\n",
    "This approach assumes that the interest in the account goes back into the account. This is the same as reinvesting profits."
   ]
  },
  {
   "cell_type": "code",
   "execution_count": 2,
   "metadata": {
    "slideshow": {
     "slide_type": "slide"
    }
   },
   "outputs": [],
   "source": [
    "# only python example of the lecture\n",
    "def futureValue(r,t,p):\n",
    "    return p*(1+r)**t"
   ]
  },
  {
   "cell_type": "code",
   "execution_count": 2,
   "metadata": {
    "slideshow": {
     "slide_type": "subslide"
    }
   },
   "outputs": [
    {
     "name": "stdout",
     "output_type": "stream",
     "text": [
      "value of account in ten years  9773.367760664652\n",
      "value of watch in ten years  6000\n",
      "the opportunity cost of having the watch for ten years is  3773.3677606646525\n"
     ]
    }
   ],
   "source": [
    "initial_price = 6_000\n",
    "years_to_sell = 10\n",
    "return_in_your_account = .05\n",
    "future_value = futureValue(return_in_your_account,years_to_sell,initial_price)\n",
    "\n",
    "print(\"value of account in ten years \", future_value)\n",
    "print(\"value of watch in ten years \",initial_price)\n",
    "print(\"the opportunity cost of having the watch for ten years is \", future_value - initial_price)"
   ]
  },
  {
   "cell_type": "markdown",
   "metadata": {
    "slideshow": {
     "slide_type": "slide"
    }
   },
   "source": [
    "As you can see, the value of \"holding value\" is not high if you have a productive investment opportunity! \n",
    "- However, you may choose to mix the risk profile of your investments in order to avoid embarrasing situations like FTX, or SVB. This is idea behind bank reserves, it's not easy to get right. \n",
    "\n",
    "A second thing that we should keep in mind is that our opportunity cost of any investment is going to be the market return or our next best project. Beating the market is hard, especially over very long timelines."
   ]
  },
  {
   "cell_type": "markdown",
   "metadata": {
    "slideshow": {
     "slide_type": "slide"
    }
   },
   "source": [
    "### Interest rate fundamentals\n",
    "\n",
    "How do we compare cash flows that happen at different times?"
   ]
  },
  {
   "cell_type": "markdown",
   "metadata": {
    "slideshow": {
     "slide_type": "slide"
    }
   },
   "source": [
    "#### Future Values\n",
    "$$FV=PV(1+r)^n$$\n",
    "- $FV=$ Value in n years, this is a payment.\n",
    "- $PV=$ Value today\n",
    "- $r=$ interest rate (or other rate of return)\n",
    "\n",
    "Everything in time value of money is just reorganizing this formula.\n",
    "### Present Values\n",
    "$$PV=\\frac{FV}{(1+r)^n}$$"
   ]
  },
  {
   "cell_type": "markdown",
   "metadata": {
    "slideshow": {
     "slide_type": "slide"
    }
   },
   "source": [
    "## Present Value of a Cash Flow Stream\n",
    "How do we think about a project that generates income each year? We can just make one present value expression for each period of income!\n",
    "\n",
    "$$PV=\\frac{FV_1}{(1+r)^1}+\\frac{FV_2}{(1+r)^2}+\\frac{FV_3}{(1+r)^3}+...+\\frac{FV_n}{(1+r)^n}$$\n",
    "\n",
    "This gives us a framework for analyzing various projects with differing cashflows.\n",
    "\n",
    "> The net present value of a cash flow stream is the change in the value of the firm from accepting the project.\n"
   ]
  },
  {
   "cell_type": "markdown",
   "metadata": {
    "slideshow": {
     "slide_type": "slide"
    }
   },
   "source": [
    "\n",
    "### Perpetuities\n",
    "\n",
    "This is just the case where $n\\to\\inf$, and $FV_1=FV_2=FV_3= ... =FV_n$ The formula becomes:\n",
    "\n",
    "$$PV=\\frac{FV'}{r}$$\n",
    "\n",
    "Here $PV$ is still the equivalent amount of cash today that you would trade for the flow of payments. But notice that the $FV'$ term is now representing a stream of equal payments. While this may be useful when considering wealth management questions, very few projects are well approximated by them."
   ]
  },
  {
   "cell_type": "markdown",
   "metadata": {
    "slideshow": {
     "slide_type": "slide"
    }
   },
   "source": [
    "### Annuities\n",
    "\n",
    "Annuities are perpetuities with end dates. This leads to a slightly different formula:\n",
    "\n",
    "$$PV=\\frac{FV}{r}\\Big[1-\\frac{1}{(1+r^n)}\\Big]$$\n",
    "\n",
    "Notice two things, \n",
    "- the FV stayed on the right hand side of the equation. this is because that is each of the future payments from the annuity.\n",
    "- this is just a simplification of the formula in 3. that we can use when we think that payments are going to be stable.\n"
   ]
  },
  {
   "cell_type": "markdown",
   "metadata": {
    "slideshow": {
     "slide_type": "slide"
    }
   },
   "source": [
    "\n",
    "##### While financial assets may have characteristics of annuities and perpetuities, real investment opportunities are unlikely to especially in the long term."
   ]
  },
  {
   "cell_type": "markdown",
   "metadata": {
    "slideshow": {
     "slide_type": "slide"
    }
   },
   "source": [
    "### Multiple Cash Flows per Year\n",
    "\n",
    "We may need to convert annual rates to monthly (or other duration rates). If we assume that a year-long monthly contract and an annual contract should have similar values then we can make the following generalization:\n",
    "\n",
    "$$(1+r_m)^{12}=(1+r)$$\n",
    "$$r_m=(1+r)^{1/12}-1$$\n",
    "\n",
    "This relationship should hold in theory, and the practice of interest rate arbitrage is related to this insight. However it is also common for the difference between a monthly payment plan and an annual one to by higher than the firm's long-term cost of capital suggesting that the law of one interest rate may not hold in every case."
   ]
  },
  {
   "cell_type": "markdown",
   "metadata": {
    "slideshow": {
     "slide_type": "slide"
    }
   },
   "source": [
    "Items to consider:\n",
    "1. Why cashflows __not__ accounting earnings?\n",
    "2. Risk.\n",
    "3. Inflation.\n",
    "3. Taxes and Depreciation Tax Shields."
   ]
  },
  {
   "cell_type": "markdown",
   "metadata": {
    "slideshow": {
     "slide_type": "slide"
    }
   },
   "source": [
    "### Use cashflows __not__ accounting earnings!\n",
    "\n",
    "Accounting earnings distort the timing of operations. They are intended to give _outside_ investors a snapshot of the economic value of the firm at a point in time. If we use them we could become accidentally insolvent, and we would not be able to make clear resource decisions because we loose ability to track what we have when."
   ]
  },
  {
   "cell_type": "markdown",
   "metadata": {
    "slideshow": {
     "slide_type": "slide"
    }
   },
   "source": [
    "### Risk.\n",
    "\n",
    " The higher the risk you won't get paid in the future the higher $r$ you will require to not get paid until the future. Getting the right rate of return is essential, and hard. Any investment decision based on $r$ is both a bet on the investment and a bet on the rate of return.\n",
    "\n",
    "If there are risk free assets available (like some government's debt) then we can think of $r$ as:\n",
    "\n",
    "$$r=r_f+r_p$$\n",
    "\n",
    "where $r_f$ is the return on the risk free asset and $r_p$ is the risk premium."
   ]
  },
  {
   "cell_type": "markdown",
   "metadata": {
    "slideshow": {
     "slide_type": "slide"
    }
   },
   "source": [
    "### Inflation also impacts how we think about $r$.\n",
    "\n",
    "If inflation is $i$ percent per year, and \\\\$1 of consumption is delayed for one year, it will take \\\\$(1 + $i$) at the end of the year to buy the same \\\\$1 bundle of goods as could have been purchased at the beginning of the year. \n",
    "\n",
    "If inflation is 7 percent per year, buying the same \\\\$1 bundle costs \\\\$1.07 at the end of the year. To compensate for delaying consumption for one year when inflation is running at $i$ percent, the nominal interest rate is:\n",
    "\n",
    "$$r_{nominal} \\approx r_{real} + i$$\n",
    "$$r_{real} \\approx r_{nominal} - i$$\n",
    "\n",
    "_note that this is an approximation that is referred to as the [Fisher Equation](https://en.wikipedia.org/wiki/Fisher_equation)._\n",
    "\n"
   ]
  },
  {
   "cell_type": "markdown",
   "metadata": {
    "slideshow": {
     "slide_type": "slide"
    }
   },
   "source": [
    "### Taxes and Depreciation Tax Shields. \n",
    "\n",
    "The third branch of accounting! This is so important we will devote it's own set of lectures to the topic. However, for now it's enough to point out that we are not including taxes in our examples today."
   ]
  },
  {
   "cell_type": "markdown",
   "metadata": {
    "slideshow": {
     "slide_type": "slide"
    }
   },
   "source": [
    "## We will now work through the case in Excel\n",
    "\n",
    "Please work along with the discussion so that you are ready to participate.  \n",
    "\n",
    "I will post an example for you to reference after all the lectures are done for the day.\n",
    "\n",
    "[iPRS]()"
   ]
  }
 ],
 "metadata": {
  "celltoolbar": "Slideshow",
  "kernelspec": {
   "display_name": "Python 3 (ipykernel)",
   "language": "python",
   "name": "python3"
  },
  "language_info": {
   "codemirror_mode": {
    "name": "ipython",
    "version": 3
   },
   "file_extension": ".py",
   "mimetype": "text/x-python",
   "name": "python",
   "nbconvert_exporter": "python",
   "pygments_lexer": "ipython3",
   "version": "3.11.5"
  }
 },
 "nbformat": 4,
 "nbformat_minor": 4
}
