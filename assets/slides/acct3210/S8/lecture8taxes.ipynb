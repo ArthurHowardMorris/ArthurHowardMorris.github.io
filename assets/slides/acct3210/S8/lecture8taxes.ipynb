{
 "cells": [
  {
   "cell_type": "markdown",
   "id": "27b28fac",
   "metadata": {
    "slideshow": {
     "slide_type": "slide"
    }
   },
   "source": [
    "# Taxation of returns"
   ]
  },
  {
   "cell_type": "markdown",
   "id": "32537970",
   "metadata": {
    "slideshow": {
     "slide_type": "subslide"
    }
   },
   "source": [
    "__Two things that I'd like to acknowledge:__\n",
    "1. The assignment focuses on personal finance examples with relatively complex formulae that are not the point of the exercise.\n",
    "2. The examples are U.S. focused.\n",
    "3. More interesting examples would also include jurisdiction choices, like the choice to operate in Hong Kong rather than the U.S. or Europe. "
   ]
  },
  {
   "cell_type": "markdown",
   "id": "183a3a3c",
   "metadata": {
    "slideshow": {
     "slide_type": "subslide"
    }
   },
   "source": [
    "__High-level insights from the lecture:__\n",
    "\n",
    "1. Tax rates impact returns.\n",
    "    - Not just net-of-tax returns, but __returns themselves__.\n",
    "2. Tax rates vary across individuals, jurisdictions, and investments.\n",
    "3. This creates variation in demand, and yield, for investments and jurisdictions. These are implicit taxes."
   ]
  },
  {
   "cell_type": "markdown",
   "id": "6e4b54b4",
   "metadata": {
    "slideshow": {
     "slide_type": "subslide"
    }
   },
   "source": [
    "Taxes shape behavior _explicitly_ by decreasing demand for investments that are taxed relative to those that are not, and _implicitly_ by increasing the cost (lowering yield) of those investments that are not taxed.\n",
    "\n",
    "In addition to investment choices, __organizational form arbitrage__ and __clientele-based arbitrage__ are ways that taxes shape behavior."
   ]
  },
  {
   "cell_type": "markdown",
   "id": "4ae25280",
   "metadata": {
    "slideshow": {
     "slide_type": "slide"
    }
   },
   "source": [
    "## 1. Tax rates and implicit taxes\n",
    "\n",
    "Let's think about the following situation:\n",
    "\n",
    "- Companies issue bonds to raise capital, the interest rate ($r_B$) (base rate + credit spread) on these bonds is called 'bond yield'. Bond yield is income for the holder of the bond. \n",
    "    - This income is taxed by U.S. States ($t_{S}$) and the U.S. Federal Government ($t_{F}$).\n",
    "- The U.S. Treasury issues bonds to raise capital, the yield on these bonds ($r_{T}$) is also income for the holder of the bond.\n",
    "    - This income is _only_ taxed by the U.S. Federal Government ($t_{F}$ but not by U.S. States."
   ]
  },
  {
   "cell_type": "markdown",
   "id": "666091ea",
   "metadata": {
    "slideshow": {
     "slide_type": "subslide"
    }
   },
   "source": [
    "## An aside on tax rates\n",
    "\n",
    "Yes, you read that right. If you lend money to the U.S. Government, they tax the interest that they pay you, but they do not let the states tax you (that makes sense, you didn't earn that money _in_ the state where you live).\n",
    "\n",
    "The reverse is also true, socv:\n",
    "\n",
    "- State and Local Bonds only pay state tax: $t_{S}$\n",
    "- Federal Bonds only pay Federal Tax: $t_{F}$\n",
    "\n",
    "Now, what is important here is that we have a real example with different tax rates on similar investments. _Not the details of the U.S. tax system, which is __insane__._ Examples like this are harder to come by in more sensible tax regimes like Hong Kong :)"
   ]
  },
  {
   "cell_type": "markdown",
   "id": "55942530",
   "metadata": {
    "slideshow": {
     "slide_type": "subslide"
    }
   },
   "source": [
    "## 1. Tax rates and implicit taxes\n",
    "\n",
    "So we have two bonds (corporate, and US Federal) with two yields, taxed at two rates.\n",
    "\n",
    "- Corp. Bond Pretax Yield: $r_{B}$ Taxed at $t_{F}$ then $t_{S}$.\n",
    "    - Corp. After Tax Yield: \n",
    "$$r_{B'}=r_{B}(1-t_{F}-t_{S}(1-t_{F}))$$\n",
    "$$r_{B'}=r_{B}(1 - t_{F})(1 - t_{S})$$\n",
    "\n",
    "- US Treas. Bond Pretax Yield: $r_{T}$. Taxed at $t_{F}$.\n",
    "    - US Treas. After Tax Yield:\n",
    "$$r_{T'}=r_{T}(1 - t_{F})\n"
   ]
  },
  {
   "cell_type": "markdown",
   "id": "b3e5f49a",
   "metadata": {
    "slideshow": {
     "slide_type": "subslide"
    }
   },
   "source": [
    "## 1. Tax rates and implicit taxes\n",
    "\n",
    "So if $r_B=r_T$ which do you prefer?\n",
    "\n",
    "$$r_{B'}=r_{B}(1 - t_{F})(1 - t_{S})$$\n",
    "\n",
    "or \n",
    "\n",
    "$$r_{T'}=r_{T}(1 - t_{F})$$\n",
    "\n",
    "It depends on $t_S$.\n",
    "\n"
   ]
  },
  {
   "cell_type": "markdown",
   "id": "b89fd6ca",
   "metadata": {
    "slideshow": {
     "slide_type": "subslide"
    }
   },
   "source": [
    "## [US Tax Rates by State](https://en.wikipedia.org/wiki/State_income_tax#/media/File:Top_Marginal_State_Income_Tax_Rate.svg)"
   ]
  },
  {
   "cell_type": "markdown",
   "id": "a60c9838",
   "metadata": {
    "slideshow": {
     "slide_type": "subslide"
    }
   },
   "source": [
    "## 1. Tax rates and implicit taxes\n",
    "\n",
    "If $r_B=r_T$ and $t_S=0$ then $r_{B'}=r_{T'}$\n",
    "\n",
    "So for investors that are located in Alaska, Florida, Nevada, South Dakota, Tennessee, Texas, Washington, and Wyoming there is no difference between the two.\n",
    "\n",
    "But for most of the population of the US $t_S>0$ so $r_{B'}<r_{T'}$! \n",
    "\n",
    "- Given what we know about markets, what does this suggest about the relationship between corporate bond yields ($r_B$) and US Treasury yields ($r_T$) on average? I.e. which is higher on average?"
   ]
  },
  {
   "cell_type": "markdown",
   "id": "9a88cbfe",
   "metadata": {
    "slideshow": {
     "slide_type": "subslide"
    }
   },
   "source": [
    "## 1. Tax rates and implicit taxes\n",
    "\n",
    "- Tax favored status increases demand for assets, increased demand decreases yields.\n",
    "- So on average $r_B>r_T$ because there is more demand for Treasury bonds. \n",
    "- You can think of this as companies having to pay higher rates to get people to lend to them (i.e. buy their bonds).\n",
    "\n",
    "This difference in yields caused by the impact of tax-favored status is called an __implicit tax__."
   ]
  },
  {
   "cell_type": "markdown",
   "id": "ad13d7d3",
   "metadata": {
    "slideshow": {
     "slide_type": "subslide"
    }
   },
   "source": [
    "## 1. Tax rates and implicit taxes\n",
    "\n",
    "- __Explicit Taxes__ reduce after tax yields directly.\n",
    "- __Implicit Taxes__ reduce pre-tax yields through demand pressure.\n",
    "\n",
    "$$ Implicit Tax Rate = \\frac{Benchmark Return - Asset Return}{Benchmark Return}$$\n",
    "\n",
    "where the benchmark is an investment with the same risk."
   ]
  },
  {
   "cell_type": "markdown",
   "id": "002aded6",
   "metadata": {
    "slideshow": {
     "slide_type": "slide"
    }
   },
   "source": [
    "## 1. Tax rates and implicit taxes\n",
    "\n",
    "The higher are state taxes, the more attractive Treasury securities become.\n",
    "Demand for Treasuries pushes their yield down. This example is an illustration\n",
    "of tax clienteles. It also shows that ignoring implicit taxes leads to\n",
    "overestimation of the risk premium applicable to corporate debt.\n",
    "\n"
   ]
  },
  {
   "cell_type": "markdown",
   "id": "49a8f4fe",
   "metadata": {
    "slideshow": {
     "slide_type": "subslide"
    }
   },
   "source": [
    "### Bond example:\n",
    "\n",
    "|               | Coupon | Maturity | Price   | Yield |\n",
    "|---------------|--------|----------|---------|-------|\n",
    "| Amoco Aaa/AAA | 8.625  | 12/2016  | 105.953 | 8.060 |\n",
    "| U.S. Gov      | 7.5    | 11/2016  | 99.4375 | 7.55  |\n",
    "\n",
    "Ignoring the differences in risk, the implicit tax is:\n",
    "\n",
    "$$\\frac{8.060-7.55}{8.060}=6.3\\%$$\n",
    "\n",
    "Questions:\n",
    "- Which assets should a pension invest in? (Only proceeds from pensions are taxed)\n",
    "- Which asset should a resident of Florida or Texas invest in? (These states have no income tax)\n",
    "- Which asset should a resident of California, Minnesota, or New York invest\n",
    "  in? (These states have income tax, but do not tax interest income from U.S. Government bonds.)"
   ]
  },
  {
   "cell_type": "markdown",
   "id": "4afca0e9",
   "metadata": {
    "slideshow": {
     "slide_type": "slide"
    }
   },
   "source": [
    "## 2. Tax Rate Progressivity\n",
    "\n",
    "Progressive tax rates increase with income.\n",
    "\n",
    "How progressive are tax rates? The answer you reach depends on where you look for evidence."
   ]
  },
  {
   "cell_type": "markdown",
   "id": "3c0d313c",
   "metadata": {
    "slideshow": {
     "slide_type": "subslide"
    }
   },
   "source": [
    "### 2.1 Enacted Tax Rates\n",
    "\n",
    "- Explicit tax rates are often sharply progressive. In the United States at various times, income tax rates have ranged between zero and 70 percent, suggesting that tax rates are very progressive."
   ]
  },
  {
   "cell_type": "markdown",
   "id": "5500f114",
   "metadata": {
    "slideshow": {
     "slide_type": "subslide"
    }
   },
   "source": [
    "### 2.2 Tax Returns\n",
    "\n",
    "- For low income, low tax rate taxpayers, the amount of explicit tax paid to the taxing authority as a fraction of income may be quite large.\n",
    "- The fraction may even be higher than the corresponding fraction for wealthy, high income individuals. \n",
    "- For instance, a very wealthy individual may have a large investment in municipal bonds on which no tax is paid to the Treasury. \n",
    "- This suggests that taxes are, in fact, not very progressive."
   ]
  },
  {
   "cell_type": "markdown",
   "id": "0780c953",
   "metadata": {
    "slideshow": {
     "slide_type": "subslide"
    }
   },
   "source": [
    "### 2.3 Combined Productivity\n",
    "\n",
    "- By considering the sum of explicit and implicit taxes paid by each taxpayer, it becomes apparent that substantial implicit taxes are often paid by high tax rate taxpayers in place of explicit taxes that would be even greater.\n",
    "\n",
    "- Thus, tax rates are more progressive than an examination of tax returns would suggest, but less progressive than enacted tax rates would suggest.\n",
    "\n",
    "- The erosion of the progressivity in enacted tax rates depends upon the nature and availability of differentially taxed assets that investors facing varying marginal taxes may choose to trade.\n"
   ]
  },
  {
   "cell_type": "markdown",
   "id": "c8a80709",
   "metadata": {
    "slideshow": {
     "slide_type": "slide"
    }
   },
   "source": [
    "\n",
    "## 3. Arbitrage\n",
    "\n",
    "### 3.1 __organizational form arbitrage__\n",
    "The process of taking a long position in an asset or activity through a _favorably_ taxed organizational form, and a short position in an through an _unfavorably_ taxed organizational form.\n",
    "\n",
    "If there are no limits on __organizational form arbitrage__, then all taxes can be eliminated.\n",
    "\n"
   ]
  },
  {
   "cell_type": "markdown",
   "id": "77bded3c",
   "metadata": {
    "slideshow": {
     "slide_type": "subslide"
    }
   },
   "source": [
    "\n",
    "#### Examples:\n",
    "\n",
    "- Pensions and certain life insurance policies are organizational forms that are favorably taxed.\n",
    "- To eliminate taxes on personal income earned outside these vehicles there are two possible strategies. \n",
    "  \n",
    "Suppose you anticipate salary income in the future which you wish to shelter from tax."
   ]
  },
  {
   "cell_type": "markdown",
   "id": "f0e7c505",
   "metadata": {
    "slideshow": {
     "slide_type": "subslide"
    }
   },
   "source": [
    "\n",
    "\n",
    "#### Insurance policy strategy\n",
    "\n",
    "1. Issue tax-deductible debt on personal account. \n",
    "2. Use the proceeds to buy __similar__ taxable bonds inside the insurance policy. \n",
    "3. Borrow enough money so that the interest deductions equal taxable salary. \n",
    "4. Surrender the policy for its cash value and receive tax-free a payment equal to the principal and interest due on your borrowings.\n"
   ]
  },
  {
   "cell_type": "markdown",
   "id": "00f9fe34",
   "metadata": {
    "slideshow": {
     "slide_type": "subslide"
    }
   },
   "source": [
    "#### Pension strategy\n",
    "\n",
    "1. Contribute all of you taxable income to the pension.  \n",
    "2. Then borrow for current consumption needs. \n",
    "3. Secure your borrowings with the pension assets. \n",
    "4. Repay your borrowings when you draw on your pension. \n",
    "5. You pay no tax on the funds distributed from the pension because you have unused interest expense deductions from your borrowings.\n"
   ]
  },
  {
   "cell_type": "markdown",
   "id": "987c015f",
   "metadata": {
    "slideshow": {
     "slide_type": "subslide"
    }
   },
   "source": [
    "### 3.2 __clientele-based arbitrage__\n",
    "\n",
    "High-tax-rate organizations take long positions in tax-favored assets (these assets bear implicit taxes), and short positions in tax-disfavored assets (explicitly taxed).\n",
    "\n",
    "Low-tax-rate organizations take the opposite positions.\n",
    "\n",
    "If there are no limits on clientele-based arbitrage, then all taxpayers must face the same marginal rate of tax, namely zero!\n"
   ]
  },
  {
   "cell_type": "markdown",
   "id": "abeb145e",
   "metadata": {
    "slideshow": {
     "slide_type": "subslide"
    }
   },
   "source": [
    "- Suppose a taxable bond yields $R_B = 10\\%$ and a muni bond yields $R_M =7\\%$.\n",
    "- Tax exempt universities and municipalities issue munis and buy taxable bonds so long as\n",
    "$$R_B > R_M$$\n",
    "- __This drives down the yield on corporate bonds__"
   ]
  },
  {
   "cell_type": "markdown",
   "id": "e0216e0d",
   "metadata": {
    "slideshow": {
     "slide_type": "subslide"
    }
   },
   "source": [
    "\n",
    "- Each tax-exempt organization able to issue munis wants to buy taxable bonds. \n",
    "- So the marketplace is flooded with muni debt issued by the tax-exempt entities, so the yield offered on munis has to rise.\n",
    "- When the pre-tax yields on munis and taxable debt equilibrate, say at 8%, then it become possible for all entities that face a positive explicit rate of tax to generate sufficient deductions to eliminate all tax payments.\n"
   ]
  },
  {
   "cell_type": "markdown",
   "id": "26749d8c",
   "metadata": {
    "slideshow": {
     "slide_type": "subslide"
    }
   },
   "source": [
    "__The strategy used by taxpayers who would otherwise have taxable income is as follows:__\n",
    "\n",
    "- Issue taxable bonds at 8%. \n",
    "- Each dollar of debt issued generates 8 cents of tax deductions that can be used to reduce other taxable income. \n",
    "- The proceeds from the debt issue are invested in tax-exempt muni bonds, so cash flows from borrowing and lending wash."
   ]
  },
  {
   "cell_type": "markdown",
   "id": "567f5b11",
   "metadata": {
    "slideshow": {
     "slide_type": "slide"
    }
   },
   "source": [
    "### Question 1:\n",
    "\n",
    "Fill in the table. Notice that tasks which lend themselves to tabular comparisons, especially when we only need to consider a few outcomes, are where Excel really shines.\n",
    "\n",
    "However, we always need to be attentive to Excel's ability to hide errors.\n",
    "\n",
    "### Question 2:\n",
    "> How do optimal investment strategies change as a function of tax rates, lengths of investment horizon, and age?\n",
    "\n",
    "- __Tax rates:__ In general, high tax rate decision makers prefer tax exempt vehicles.\n",
    "- __Horizon:__ As horizon increases investors prefer SPDAs. Notice that at the 20 year horizon the penalty is still preferred.\n",
    "- __Age:__ The probability of early withdrawal is decreasing with age, thus the SPDA becomes more attractive.\n",
    "\n",
    "### Question 3:\n",
    "\n",
    "Focus on the timing of cashflows and the payments avoided."
   ]
  },
  {
   "cell_type": "markdown",
   "id": "a71bccf2",
   "metadata": {
    "slideshow": {
     "slide_type": "slide"
    }
   },
   "source": [
    "### Question 1:\n",
    "\n",
    "Fill in the table. Notice that tasks which lend themselves to tabular comparisons, especially when we only need to consider a few outcomes, are where Excel really shines.\n",
    "\n",
    "However, we always need to be attentive to Excel's ability to hide errors."
   ]
  },
  {
   "cell_type": "markdown",
   "id": "79dd9e96",
   "metadata": {
    "slideshow": {
     "slide_type": "slide"
    }
   },
   "source": [
    "### Question 2:\n",
    "> How do optimal investment strategies change as a function of tax rates, lengths of investment horizon, and age?\n",
    "\n",
    "- __Tax rates:__ In general, high tax rate decision makers prefer tax exempt vehicles.\n",
    "- __Horizon:__ As horizon increases investors prefer SPDAs. Notice that at the 20 year horizon the penalty is still preferred.\n",
    "- __Age:__ The probability of early withdrawal is decreasing with age, thus the SPDA becomes more attractive."
   ]
  },
  {
   "cell_type": "markdown",
   "id": "78749c3d",
   "metadata": {
    "slideshow": {
     "slide_type": "slide"
    }
   },
   "source": [
    "\n",
    "### Question 3:\n",
    "\n",
    "Focus on the timing of cashflows and the payments avoided."
   ]
  }
 ],
 "metadata": {
  "celltoolbar": "Slideshow",
  "kernelspec": {
   "display_name": "Python 3 (ipykernel)",
   "language": "python",
   "name": "python3"
  },
  "language_info": {
   "codemirror_mode": {
    "name": "ipython",
    "version": 3
   },
   "file_extension": ".py",
   "mimetype": "text/x-python",
   "name": "python",
   "nbconvert_exporter": "python",
   "pygments_lexer": "ipython3",
   "version": "3.11.5"
  }
 },
 "nbformat": 4,
 "nbformat_minor": 5
}
