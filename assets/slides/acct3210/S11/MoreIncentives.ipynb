{
 "cells": [
  {
   "attachments": {},
   "cell_type": "markdown",
   "id": "4adbbe78",
   "metadata": {},
   "source": [
    "# Incentives: Rothwell Inc. "
   ]
  },
  {
   "attachments": {},
   "cell_type": "markdown",
   "id": "a8367254",
   "metadata": {},
   "source": [
    "Rothwell Inc. is the leader in computer-integrated manufacturing and factory\n",
    "automation products and services. The Rothwell product offering is segmented\n",
    "into 15 product categories, based on product function and primary manufacturing\n",
    "location."
   ]
  },
  {
   "attachments": {},
   "cell_type": "markdown",
   "id": "55eec100",
   "metadata": {},
   "source": [
    "Rothwell's sales division sells all 15 product categories and is composed of 25\n",
    "district offices located throughout the United States. The company is highly\n",
    "decentralized, with district offices responsible for setting sales price,\n",
    "product mix, and other variables.\n"
   ]
  },
  {
   "attachments": {},
   "cell_type": "markdown",
   "id": "a49dd635",
   "metadata": {},
   "source": [
    "District offices are rewarded based on sales. Some large customers have plants\n",
    "in more than one of Rothwell's sales districts. In cases where sales are made\n",
    "to these customers, the district offices participate jointly and sales credits\n",
    "are shared by each district involved."
   ]
  },
  {
   "attachments": {},
   "cell_type": "markdown",
   "id": "12e7ea47",
   "metadata": {},
   "source": [
    "The sales division compensation plan designed by L. L. Rothwell, founder of the\n",
    "firm, was structured so that the staff would pursue sales in each of the 15\n",
    "product categories. The selling program has the following features:\n"
   ]
  },
  {
   "attachments": {},
   "cell_type": "markdown",
   "id": "334d4d66",
   "metadata": {},
   "source": [
    "- Each sales representative receives a commission based on a percentage of the\n",
    "  sales revenue generated. \n",
    "- Each district (approximately 160 sales reps) is assigned a quota for each\n",
    "  product line, defined in terms of dollar sales. \n",
    "- In addition to commission, sales reps are eligible for an annual bonus. The\n",
    "  company calculates individual bonuses by multiplying the number of bonus\n",
    "  points earned by the individual target bonus amount. Points are credited at\n",
    "  the district level.\n",
    "- In order for all sales reps in a district to qualify for a bonus, the\n",
    "  district must achieve 50 percent of quota in all 15 product groups and 85\n",
    "  percent of quota in at least 13 groups.\n",
    "- Bonus points are awarded for sales greater than 85 percent of quota. Five\n",
    "  product groups have been identified as strategic to Rothwell. These\n",
    "  \"pride-level\" products are weighted more heavily in bonus point calculations."
   ]
  },
  {
   "attachments": {},
   "cell_type": "markdown",
   "id": "e4a87a1f",
   "metadata": {},
   "source": [
    "Over the past three years, Rothwell generated exceptionally high sales-and\n",
    "awarded record bonuses. Profits, however, were lackluster. L. L. was befuddled!\n"
   ]
  },
  {
   "attachments": {},
   "cell_type": "markdown",
   "id": "6b5ed934",
   "metadata": {},
   "source": [
    "### Do the following:\n",
    "\n",
    "1. Evaluate the compensation situation at Rothwell.\n",
    "\n"
   ]
  },
  {
   "attachments": {},
   "cell_type": "markdown",
   "id": "10717572",
   "metadata": {},
   "source": [
    "- Profits are the goal, and profits are not high.\n",
    "- Means that there is a disconnect between the performance measures and profits. \n",
    "    - $\\pi = R - C$\n",
    "    - Sales are high. So it must be cost.\n",
    "    - Why don't sales people get paid based on costs?\n",
    "        - Controllability   \n",
    "        - "
   ]
  },
  {
   "attachments": {},
   "cell_type": "markdown",
   "id": "4c85e1d5",
   "metadata": {},
   "source": [
    "2. Identify the types of behavior the existing system promotes and explain how\n",
    "   such behavior may be contributing to the firm's declining profitability.\n",
    "   Suggest improvements.\n",
    "\n",
    "   - Notice that you don't need 'bad' behavior to get a bad outcome here.\n",
    "   - If you are giving incentives for selling low contribution margin items (or in low CM areas) then you are causing this.\n",
    "   - You also may simply be paying too much of profits in bonuses.\n",
    "   - What could you do here? \n",
    "   - Pay people to buy your product.\n",
    "   - Travel.\n",
    "\n",
    "This scheme ignores selling costs and contribution margin. While sales people cannot control the production costs of the products, they are able to control which products they sell. \n",
    "\n",
    "\n",
    "\n"
   ]
  }
 ],
 "metadata": {
  "kernelspec": {
   "display_name": "Python [conda env:acct3210] *",
   "language": "python",
   "name": "conda-env-acct3210-py"
  },
  "language_info": {
   "codemirror_mode": {
    "name": "ipython",
    "version": 3
   },
   "file_extension": ".py",
   "mimetype": "text/x-python",
   "name": "python",
   "nbconvert_exporter": "python",
   "pygments_lexer": "ipython3",
   "version": "3.10.4"
  }
 },
 "nbformat": 4,
 "nbformat_minor": 5
}
