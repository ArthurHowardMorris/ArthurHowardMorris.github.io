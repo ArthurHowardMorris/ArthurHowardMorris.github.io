{
 "cells": [
  {
   "cell_type": "markdown",
   "id": "4adbbe78",
   "metadata": {
    "slideshow": {
     "slide_type": "slide"
    }
   },
   "source": [
    "# Incentives: Rothwell Inc. "
   ]
  },
  {
   "cell_type": "markdown",
   "id": "a8367254",
   "metadata": {
    "slideshow": {
     "slide_type": "subslide"
    }
   },
   "source": [
    "Rothwell Inc. is the leader in computer-integrated manufacturing and factory\n",
    "automation products and services. The Rothwell product offering is segmented\n",
    "into 15 product categories, based on product function and primary manufacturing\n",
    "location."
   ]
  },
  {
   "cell_type": "markdown",
   "id": "55eec100",
   "metadata": {
    "slideshow": {
     "slide_type": "fragment"
    }
   },
   "source": [
    "Rothwell's sales division sells all 15 product categories and is composed of 25\n",
    "district offices located throughout the United States. The company is highly\n",
    "decentralized, with district offices responsible for setting sales price,\n",
    "product mix, and other variables.\n"
   ]
  },
  {
   "cell_type": "markdown",
   "id": "a49dd635",
   "metadata": {
    "slideshow": {
     "slide_type": "fragment"
    }
   },
   "source": [
    "District offices are rewarded based on sales. Some large customers have plants\n",
    "in more than one of Rothwell's sales districts. In cases where sales are made\n",
    "to these customers, the district offices participate jointly and sales credits\n",
    "are shared by each district involved."
   ]
  },
  {
   "cell_type": "markdown",
   "id": "12e7ea47",
   "metadata": {
    "slideshow": {
     "slide_type": "subslide"
    }
   },
   "source": [
    "The sales division compensation plan designed by L. L. Rothwell, founder of the\n",
    "firm, was structured so that the staff would pursue sales in each of the 15\n",
    "product categories. The selling program has the following features:\n"
   ]
  },
  {
   "cell_type": "markdown",
   "id": "334d4d66",
   "metadata": {
    "slideshow": {
     "slide_type": "fragment"
    }
   },
   "source": [
    "- Each sales representative receives a commission based on a percentage of the\n",
    "  sales revenue generated. \n",
    "- Each district (approximately 160 sales reps) is assigned a quota for each\n",
    "  product line, defined in terms of dollar sales. \n",
    "- In addition to commission, sales reps are eligible for an annual bonus. The\n",
    "  company calculates individual bonuses by multiplying the number of bonus\n",
    "  points earned by the individual target bonus amount. Points are credited at\n",
    "  the district level.\n",
    "- In order for all sales reps in a district to qualify for a bonus, the\n",
    "  district must achieve 50 percent of quota in all 15 product groups and 85\n",
    "  percent of quota in at least 13 groups.\n",
    "- Bonus points are awarded for sales greater than 85 percent of quota. Five\n",
    "  product groups have been identified as strategic to Rothwell. These\n",
    "  \"pride-level\" products are weighted more heavily in bonus point calculations."
   ]
  },
  {
   "cell_type": "markdown",
   "id": "e4a87a1f",
   "metadata": {
    "slideshow": {
     "slide_type": "slide"
    }
   },
   "source": [
    "Over the past three years, Rothwell generated exceptionally high sales-and\n",
    "awarded record bonuses. Profits, however, were lackluster. L. L. was befuddled!\n"
   ]
  },
  {
   "cell_type": "markdown",
   "id": "6b5ed934",
   "metadata": {
    "slideshow": {
     "slide_type": "subslide"
    }
   },
   "source": [
    "### Do the following:\n",
    "\n",
    "1. Evaluate the compensation situation at Rothwell.\n",
    "\n"
   ]
  },
  {
   "cell_type": "markdown",
   "id": "10717572",
   "metadata": {
    "slideshow": {
     "slide_type": "subslide"
    }
   },
   "source": [
    "- Profits are the goal, and profits are not high.\n",
    "- Means that there is a disconnect between the performance measures and profits. \n",
    "    - $\\pi = R - C$\n",
    "    - Sales are high. So it must be cost.\n",
    "    - Why don't sales people get paid based on costs?\n",
    "        - Controllability   \n",
    "        - This leads to lots of problems"
   ]
  },
  {
   "cell_type": "markdown",
   "id": "4c85e1d5",
   "metadata": {
    "slideshow": {
     "slide_type": "subslide"
    }
   },
   "source": [
    "2. Identify the types of behavior the existing system promotes and explain how\n",
    "   such behavior may be contributing to the firm's declining profitability.\n",
    "   Suggest improvements.\n",
    "\n",
    "\n"
   ]
  },
  {
   "cell_type": "markdown",
   "id": "e236e96d",
   "metadata": {
    "slideshow": {
     "slide_type": "fragment"
    }
   },
   "source": [
    "\n",
    "   - Notice that you don't need 'bad' behavior to get a bad outcome here.\n",
    "   - If you are giving incentives for selling low contribution margin items (or in low CM areas) then you are causing this.\n",
    "   - You also may simply be paying too much of profits in bonuses.\n",
    "   - There are costs that sales people control.\n",
    "   - Travel costs. \n",
    "   - \"Profit sharing\" with customers."
   ]
  },
  {
   "cell_type": "markdown",
   "id": "9c12143b",
   "metadata": {
    "slideshow": {
     "slide_type": "fragment"
    }
   },
   "source": [
    "This scheme ignores selling costs and contribution margin. While sales people cannot control the production costs of the products, they are able to control which products they sell. \n"
   ]
  },
  {
   "cell_type": "markdown",
   "id": "16e34669",
   "metadata": {
    "slideshow": {
     "slide_type": "slide"
    }
   },
   "source": [
    "## Example: The Great Financial Crisis"
   ]
  },
  {
   "cell_type": "markdown",
   "id": "305be6a6",
   "metadata": {
    "slideshow": {
     "slide_type": "slide"
    }
   },
   "source": [
    "### Problem 1: Mortgage origination\n",
    "\n",
    "- Originators rarely hold the mortgages. This is both a feature and a bug of the US mortgage system (and any other effort like this).\n",
    "- They originate (lend) to distribute.\n",
    "- Compensated on revenue, with no consideration for risk.\n",
    "\n",
    "Since all originations that can be packaged and sold increase the originator's revenue there is an incentive to originate as much as possible. This includes finding ways to lend to folks who can't pay.\n",
    "\n",
    "#### Subprime loans:\n",
    "\n",
    "Loans that are likely to default are called subprime loans."
   ]
  },
  {
   "cell_type": "markdown",
   "id": "de751949",
   "metadata": {
    "slideshow": {
     "slide_type": "slide"
    }
   },
   "source": [
    "### Problem 2: Holding subprime mortgages generates revenue\n",
    "\n",
    "- __Lehman Brothers__\n",
    "- Aggressive 'subprime' mortgage lender, generated a huge revenue, and huge bonuses for the trading business \n",
    "- Lending \\\\$50 billion/month in 2006\n",
    "- And assets were 30:1 'subprime' to capital, this is a huge bet on housing continuing to go up\n",
    "- But a slight decline in housing markets would wipe out the entire company\n",
    "- __When risk managers pointed this out they were forced out by the CEO who was from the trading side of the business__\n",
    "- In 2007 there was a slight decrease in housing prices\n",
    "- Starting 12 Sept 2008 the bank was liquidated"
   ]
  },
  {
   "cell_type": "markdown",
   "id": "90c20c8f",
   "metadata": {
    "slideshow": {
     "slide_type": "slide"
    }
   },
   "source": [
    "### Problem 3: Insuring subprime mortgages generates revenue\n",
    "\n",
    "- __AIG__\n",
    "- Insured portfolios of ‘subprime’ loans (Credit Default Swaps)\n",
    "- High revenue & high risk\n",
    "- The trading division’s bonuses were based on revenue risk was not their job\n",
    "- By 2007 AIG had insured \\\\$500 billion (US) worth of assets and provided stability to US financial markets\n",
    "- Another bet that the housing market would never decline\n",
    "- BUT when the housing market declined AIG was unable to provide the insurance they had promised, and had to be bailed out"
   ]
  },
  {
   "cell_type": "markdown",
   "id": "4fbd0caa",
   "metadata": {
    "slideshow": {
     "slide_type": "slide"
    }
   },
   "source": [
    "### Silicon Valley Bank:\n",
    "\n",
    "- Huge bet that interest rates would stay low.\n",
    "- No CRO\n",
    "- Interest rates were at historically low levels and had to rise at some point.\n",
    "- Taken over by regulators last Friday."
   ]
  }
 ],
 "metadata": {
  "celltoolbar": "Slideshow",
  "kernelspec": {
   "display_name": "Python 3 (ipykernel)",
   "language": "python",
   "name": "python3"
  },
  "language_info": {
   "codemirror_mode": {
    "name": "ipython",
    "version": 3
   },
   "file_extension": ".py",
   "mimetype": "text/x-python",
   "name": "python",
   "nbconvert_exporter": "python",
   "pygments_lexer": "ipython3",
   "version": "3.11.5"
  }
 },
 "nbformat": 4,
 "nbformat_minor": 5
}
