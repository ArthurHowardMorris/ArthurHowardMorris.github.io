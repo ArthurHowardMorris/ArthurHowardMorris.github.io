{
 "cells": [
  {
   "cell_type": "code",
   "execution_count": 1,
   "id": "ad8dfefd",
   "metadata": {
    "slideshow": {
     "slide_type": "skip"
    }
   },
   "outputs": [],
   "source": [
    "import pandas as pd"
   ]
  },
  {
   "cell_type": "markdown",
   "id": "da0d3056",
   "metadata": {
    "slideshow": {
     "slide_type": "slide"
    }
   },
   "source": [
    "# Solving Linear Programs "
   ]
  },
  {
   "cell_type": "markdown",
   "id": "67f8c23f",
   "metadata": {
    "slideshow": {
     "slide_type": "skip"
    }
   },
   "source": [
    "# Solving Linear Programs "
   ]
  },
  {
   "cell_type": "markdown",
   "id": "62b6f71b",
   "metadata": {
    "slideshow": {
     "slide_type": "skip"
    }
   },
   "source": [
    "__Housekeeping Items:__\n",
    "\n",
    "1. Please email acleon@ust.hk if you have admin questions.\n",
    "2. Please post your content questions in the Canvas discussions.\n",
    "    - I will answer them in great detail.\n",
    "3. If you email me, then I will politely refer you to \\#1 \\& \\#2.\n",
    "4. If you ask me in person, then I will politely refer you to \\#1 \\& \\#2.\n",
    "5. Please review the FAQ (esp. \"How do I answer the homework problems\"). \n",
    "\n"
   ]
  },
  {
   "cell_type": "markdown",
   "id": "37ed2f45",
   "metadata": {
    "slideshow": {
     "slide_type": "slide"
    }
   },
   "source": [
    "# Solving (non-)Linear Programs \n",
    "\n",
    "Three goals for this assignment:\n",
    "\n",
    "1. Develop intuition about shadow prices.\n",
    "2. Get repetitions of __optimization set-up__\n",
    "3. Solidify your __optimization workflow__\n",
    "\n",
    "_If you can walk someone through how to do these optimizations using your tool of choice then you are making good progress._"
   ]
  },
  {
   "cell_type": "markdown",
   "id": "063fe693",
   "metadata": {
    "slideshow": {
     "slide_type": "slide"
    }
   },
   "source": [
    "## Shadow prices\n",
    "\n",
    "Let's think about cost, and how cost depends on the way a choice problem\n",
    "is framed. Let's imagine that your company now produces two products.\n",
    "Let $x$ and $y$, respectively, denote the quantities of the two products\n",
    "that are produced and sold. Any nonnegative quantities satisfying the\n",
    "following constraints can be produced:\n",
    "\n",
    "$$x+y\\leq 400$$\n",
    "$$x+2y \\leq 500$$\n",
    "\n",
    "Your firm's revenue is given by $40x + 42y$, and your cost is given by\n",
    "$30x + 30y$. (Though this is clearly a short-run story, as capacity is\n",
    "fixed, we suppress the fixed cost and measure \"profit\" as $10x + 12y$.)\n",
    "\n",
    "### Do the following:\n",
    "\n",
    "1.  Determine an optimal solution for your firm.\n",
    "2.  Determine the shadow prices on the two constraints.\n",
    "3.  In what sense are the shadow prices on the two constraints\n",
    "    opportunity costs?"
   ]
  },
  {
   "cell_type": "markdown",
   "id": "7cda83a9",
   "metadata": {
    "slideshow": {
     "slide_type": "subslide"
    }
   },
   "source": [
    "## Step 1: Choice variables\n",
    "\n",
    "What are we choosing in this framing of the problem?"
   ]
  },
  {
   "cell_type": "markdown",
   "id": "275797ad",
   "metadata": {
    "slideshow": {
     "slide_type": "fragment"
    }
   },
   "source": [
    "$x$ and $y$. Include any natural (implied) constraints, i.e. no negative production."
   ]
  },
  {
   "cell_type": "code",
   "execution_count": 3,
   "id": "b5477b63",
   "metadata": {
    "slideshow": {
     "slide_type": "fragment"
    }
   },
   "outputs": [],
   "source": [
    "# fire up gekko \n",
    "from gekko import GEKKO \n",
    "m=GEKKO(remote=False)\n",
    "# define the choices\n",
    "x=m.Var(name=\"x\",lb=0)\n",
    "x.value=1\n",
    "y=m.Var(name=\"y\",lb=0)\n",
    "y.value=1"
   ]
  },
  {
   "cell_type": "markdown",
   "id": "dd0195b8",
   "metadata": {
    "slideshow": {
     "slide_type": "subslide"
    }
   },
   "source": [
    "## Step 2: Objective Function\n",
    "\n",
    "We want to __maximize__ profit.\n",
    "\n",
    "$$\\Pi = 10x + 12y$$"
   ]
  },
  {
   "cell_type": "code",
   "execution_count": 4,
   "id": "9633ce2f",
   "metadata": {
    "slideshow": {
     "slide_type": "fragment"
    }
   },
   "outputs": [],
   "source": [
    "# and write down the objective function\n",
    "m.Maximize(10*x+12*y) # version for gekko \n",
    "def profit(x,y):\n",
    "    return 10*x+12*y # version for use to use later "
   ]
  },
  {
   "cell_type": "markdown",
   "id": "497b4ae7",
   "metadata": {
    "slideshow": {
     "slide_type": "subslide"
    }
   },
   "source": [
    "## Step 3: Constraints\n",
    "\n",
    "$$x+y\\leq 400$$\n",
    "$$x+2y \\leq 500$$\n",
    "\n",
    "You may simplify here if needed. Once you've specified everything your set up is complete."
   ]
  },
  {
   "cell_type": "code",
   "execution_count": 5,
   "id": "cfb0905b",
   "metadata": {
    "slideshow": {
     "slide_type": "fragment"
    }
   },
   "outputs": [
    {
     "data": {
      "text/plain": [
       "<gekko.gekko.EquationObj at 0x13da8d670>"
      ]
     },
     "execution_count": 5,
     "metadata": {},
     "output_type": "execute_result"
    }
   ],
   "source": [
    "m.Equation(x+y<400)\n",
    "m.Equation(x+2*y<500)"
   ]
  },
  {
   "cell_type": "markdown",
   "id": "f8cb7e05",
   "metadata": {
    "slideshow": {
     "slide_type": "subslide"
    }
   },
   "source": [
    "## Step 4: SOLVE"
   ]
  },
  {
   "cell_type": "code",
   "execution_count": 6,
   "id": "1b73ad51",
   "metadata": {
    "slideshow": {
     "slide_type": "fragment"
    }
   },
   "outputs": [
    {
     "name": "stdout",
     "output_type": "stream",
     "text": [
      "x:       300\n",
      "y:       100\n",
      "Profit:  4200.0\n"
     ]
    }
   ],
   "source": [
    "m.solve(disp=False) \n",
    "pi_0=profit(x.value[0],y.value[0])\n",
    "print(\"x:      \", int(x.value[0]))\n",
    "print(\"y:      \", int(y.value[0]))\n",
    "print(\"Profit: \",pi_0)"
   ]
  },
  {
   "cell_type": "markdown",
   "id": "36a518c0",
   "metadata": {
    "slideshow": {
     "slide_type": "slide"
    }
   },
   "source": [
    "### What the heck is a shadow price?\n",
    "\n",
    "For a given objective function and constraint, the _shadow price_ on the constraint is the __rate at which the value of the objective function changes as the constraint is relaxed.__[<sup>1</sup>](#fn1)\n",
    "\n",
    "<span id=\"fn1\"><sup>1: Shadow prices are often called Legrange multipliers. </sup><span>"
   ]
  },
  {
   "cell_type": "markdown",
   "id": "5f34c63a",
   "metadata": {
    "slideshow": {
     "slide_type": "slide"
    }
   },
   "source": [
    "### What the heck is a shadow price?\n",
    "\n",
    " We often are interested in calculating the change over a specific number of units, as this allows us to characterize the benefit of relaxing the constraint by a specific increment.\n",
    "\n",
    "You can think of the _shadow price_ as the opportunity cost of __not__ relaxing the constraint. \n",
    "\n",
    "Shadow prices are key when we consider the costs and benefits of relaxing constraints."
   ]
  },
  {
   "cell_type": "markdown",
   "id": "90c7768c",
   "metadata": {
    "slideshow": {
     "slide_type": "subslide"
    }
   },
   "source": [
    "### So lets relax the first constraint by 1 unit"
   ]
  },
  {
   "cell_type": "code",
   "execution_count": 7,
   "id": "a473c707",
   "metadata": {
    "slideshow": {
     "slide_type": "subslide"
    }
   },
   "outputs": [],
   "source": [
    "# same set up as before\n",
    "from gekko import GEKKO \n",
    "m=GEKKO(remote=False)\n",
    "# define the variables\n",
    "x=m.Var(name=\"x\",lb=0)\n",
    "x.value=1\n",
    "y=m.Var(name=\"y\",lb=0)\n",
    "y.value=1"
   ]
  },
  {
   "cell_type": "code",
   "execution_count": 8,
   "id": "ec4e171a",
   "metadata": {
    "slideshow": {
     "slide_type": "subslide"
    }
   },
   "outputs": [
    {
     "data": {
      "text/plain": [
       "<gekko.gekko.EquationObj at 0x13da8d790>"
      ]
     },
     "execution_count": 8,
     "metadata": {},
     "output_type": "execute_result"
    }
   ],
   "source": [
    "m.Maximize(10*x+12*y)\n",
    "\n",
    "m.Equation(x+y<401) # <-- added 1, no other changes\n",
    "\n",
    "m.Equation(x+2*y<500)"
   ]
  },
  {
   "cell_type": "code",
   "execution_count": 9,
   "id": "710e9e11",
   "metadata": {
    "slideshow": {
     "slide_type": "subslide"
    }
   },
   "outputs": [
    {
     "name": "stdout",
     "output_type": "stream",
     "text": [
      "x:       302.0\n",
      "y:       99.0\n",
      "Profit:  4208.0\n",
      "Benefit of relaxing the first constraint by one unit:  8\n"
     ]
    }
   ],
   "source": [
    "m.solve(disp=False) \n",
    "pi_1=profit(x.value[0],y.value[0])\n",
    "print(\"x:      \", x.value[0])\n",
    "print(\"y:      \", y.value[0])\n",
    "print(\"Profit: \",pi_1)\n",
    "print(\"Benefit of relaxing the first constraint by one unit: \",int(pi_1-pi_0))"
   ]
  },
  {
   "cell_type": "markdown",
   "id": "82194915",
   "metadata": {
    "slideshow": {
     "slide_type": "subslide"
    }
   },
   "source": [
    "### Then lets relax the second constraint by 1 unit"
   ]
  },
  {
   "cell_type": "code",
   "execution_count": 10,
   "id": "ed093293",
   "metadata": {
    "slideshow": {
     "slide_type": "subslide"
    }
   },
   "outputs": [],
   "source": [
    "# same set up as before\n",
    "from gekko import GEKKO \n",
    "m=GEKKO(remote=False)\n",
    "# define the variables\n",
    "x=m.Var(name=\"x\",lb=0)\n",
    "x.value=1\n",
    "y=m.Var(name=\"y\",lb=0)\n",
    "y.value=1"
   ]
  },
  {
   "cell_type": "code",
   "execution_count": 11,
   "id": "5f683721",
   "metadata": {
    "slideshow": {
     "slide_type": "subslide"
    }
   },
   "outputs": [
    {
     "data": {
      "text/plain": [
       "<gekko.gekko.EquationObj at 0x1066ce940>"
      ]
     },
     "execution_count": 11,
     "metadata": {},
     "output_type": "execute_result"
    }
   ],
   "source": [
    "m.Maximize(10*x+12*y)\n",
    "\n",
    "m.Equation(x+y<400) # back to the original value\n",
    "\n",
    "m.Equation(x+2*y<501) # <-- added 1, no other changes"
   ]
  },
  {
   "cell_type": "code",
   "execution_count": 12,
   "id": "7953d252",
   "metadata": {
    "slideshow": {
     "slide_type": "subslide"
    }
   },
   "outputs": [
    {
     "name": "stdout",
     "output_type": "stream",
     "text": [
      "x:       299.0\n",
      "y:       101.0\n",
      "Profit:  4202.0\n",
      "Benefit of relaxing the second constraint by one unit:  2\n"
     ]
    }
   ],
   "source": [
    "m.Maximize(10*x+12*y)\n",
    "\n",
    "m.Equation(x+y<400) # back to the original value\n",
    "\n",
    "m.Equation(x+2*y<501) # <-- added 1, no other changes\n",
    "\n",
    "m.solve(disp=False) \n",
    "pi_2=profit(x.value[0],y.value[0])\n",
    "print(\"x:      \", x.value[0])\n",
    "print(\"y:      \", y.value[0])\n",
    "print(\"Profit: \",pi_2)\n",
    "print(\"Benefit of relaxing the second constraint by one unit: \",int(pi_2-pi_0))"
   ]
  },
  {
   "cell_type": "markdown",
   "id": "98429ddb",
   "metadata": {
    "slideshow": {
     "slide_type": "slide"
    }
   },
   "source": [
    "\n",
    "## Component Searches and Product Cost\n",
    "\n",
    "Let's keep thinking about the scenario above. Now let's think in terms\n",
    "of how many units of the first product, $x$, to produce and sell.\n",
    "Clearly we require $0 \\leq x \\leq 400$. Within this range, it should\n",
    "also be clear you would produce as many units of the second product as\n",
    "possible. The constraints imply, for any such $x$, the corresponding choice of\n",
    "$y$ would be $y = g(x) = min\\{400 - x, 0.5(500 - x)\\}$. \n",
    "\n",
    "This implies profit as a function of $x$ given by\n",
    "$10x + 12g(x) = 10x + 12 \\times min\\{400 - x, 0.5(500 - x)\\}$."
   ]
  },
  {
   "cell_type": "markdown",
   "id": "30d4d148",
   "metadata": {
    "slideshow": {
     "slide_type": "slide"
    }
   },
   "source": [
    "## 4.1 Plot the profit function\n",
    "\n",
    "$10x + 12g(x) = 10x + 12 \\times min\\{400 - x, 0.5(500 - x)\\}$.\n",
    "\n",
    "Let's set this up as simply as possible"
   ]
  },
  {
   "cell_type": "code",
   "execution_count": 13,
   "id": "6cb83e1a",
   "metadata": {
    "slideshow": {
     "slide_type": "fragment"
    }
   },
   "outputs": [],
   "source": [
    "# anytime we want to plot np and pd will be a great place to start\n",
    "import numpy as np\n",
    "import pandas as pd"
   ]
  },
  {
   "cell_type": "code",
   "execution_count": 14,
   "id": "b47ebdc2",
   "metadata": {
    "slideshow": {
     "slide_type": "subslide"
    }
   },
   "outputs": [],
   "source": [
    "# set up the x range\n",
    "minx=0\n",
    "maxx=400\n",
    "x=np.linspace(minx,maxx,maxx)"
   ]
  },
  {
   "cell_type": "markdown",
   "id": "b650031d",
   "metadata": {
    "slideshow": {
     "slide_type": "subslide"
    }
   },
   "source": [
    "## Keep things simple  \n",
    "$$\\Pi=10x + 12g(x)=10x + 12 \\times min\\{400 - x, 0.5(500 - x)\\}$$\n",
    "\n",
    "We just have two options for $g(x)$, calculate both, then apply the condition."
   ]
  },
  {
   "cell_type": "code",
   "execution_count": 15,
   "id": "20901317",
   "metadata": {
    "slideshow": {
     "slide_type": "subslide"
    }
   },
   "outputs": [],
   "source": [
    "# calc both g(x) options\n",
    "g_0=400-x\n",
    "g_1=.5*(500-x)"
   ]
  },
  {
   "cell_type": "code",
   "execution_count": 16,
   "id": "7a75b037",
   "metadata": {
    "slideshow": {
     "slide_type": "fragment"
    }
   },
   "outputs": [],
   "source": [
    "# calc y using the np.where function\n",
    "y = np.where(g_0<=g_1,g_0,g_1)\n",
    "# and calc profit\n",
    "profit=10*x+12*y"
   ]
  },
  {
   "cell_type": "markdown",
   "id": "f72ff1cf",
   "metadata": {
    "slideshow": {
     "slide_type": "subslide"
    }
   },
   "source": [
    "### At this point we can toss this to pandas and plot"
   ]
  },
  {
   "cell_type": "code",
   "execution_count": 17,
   "id": "64293111",
   "metadata": {
    "slideshow": {
     "slide_type": "fragment"
    }
   },
   "outputs": [
    {
     "data": {
      "text/plain": [
       "<Axes: >"
      ]
     },
     "execution_count": 17,
     "metadata": {},
     "output_type": "execute_result"
    },
    {
     "data": {
      "image/png": "[encoded data removed]",
      "text/plain": [
       "<Figure size 640x480 with 1 Axes>"
      ]
     },
     "metadata": {},
     "output_type": "display_data"
    }
   ],
   "source": [
    "df=pd.DataFrame({\"profit\":profit})\n",
    "df.plot()"
   ]
  },
  {
   "cell_type": "markdown",
   "id": "49d0ddd7",
   "metadata": {
    "slideshow": {
     "slide_type": "fragment"
    }
   },
   "source": [
    "#### 4.2 The optimal point is at $x=300$ which implies $y=100$ in this framing\n"
   ]
  },
  {
   "cell_type": "markdown",
   "id": "a2072a4a",
   "metadata": {
    "slideshow": {
     "slide_type": "slide"
    }
   },
   "source": [
    "5.  Next, observe (but verify that) this function simplifies to\n",
    "    $10x+3,000-6x$ if $0 \\leq x \\leq 300$ and $10x+4,800-12x$ if\n",
    "    $300 \\leq x \\leq 400$. Concentrate on the first range. What is the\n",
    "    implied incremental or marginal cost of the first product in this\n",
    "    range? Carefully explain your answer, in light of the fact this\n",
    "    product was previously viewed as providing revenue of 40 per unit\n",
    "    less cost of 30 per unit.\n",
    "6.  Why does the cost of the product depend on the decision frame?"
   ]
  },
  {
   "cell_type": "markdown",
   "id": "16817c93",
   "metadata": {
    "slideshow": {
     "slide_type": "subslide"
    }
   },
   "source": [
    "## Why is the profit function $10x + 3,000 - 6x$?\n",
    "\n",
    "Step back to $\\Pi=10x+12y$\n",
    "\n",
    "Revenue from $x$ is 40.\n",
    "Cost of $x$ is 30. So the first term is clear. If we frame the decision as two independent choices, then this (30) is the marginal cost of $x$.\n",
    "\n",
    "__However,__ when we substitute $(.5(500-x))$ for $y$ we are framing $y$ as a consequence of $x$ not as an independent choice.\n",
    "\n",
    "$$\\Pi=10x+12y$$\n",
    "$$\\Pi=10x+12(.5(500-x))$$\n",
    "$$\\Pi=10x + 3,000 - 6x$$\n",
    "\n",
    "Framed this way with $y$ expressed as a function of $x$ our choice of $x$ incurs additional costs through its effect on $y$. $-6x$ is change in the revenue from $y$ due to a unit change in $x$.\n",
    "\n",
    "<!-- Framing one way or another varies what is treated explicitly versus implicitly here. For 0 ≤ x ≤ 300, x costs 30 per unit if we also treat y as an explicit choice; otherwise we must burden the cost of x with the effect producing x has on our choice of y. This is why, in the reduced frame, the proper way to think about the cost of x is 36 per unit, not 30 per unit. -->\n",
    "\n",
    "<!-- You are acquiring managerial sophistication when you recognize (1) cost is used to control for aspects of the payoff or outcome structure not explicitly modeled; and (2) therefore what you mean by cost depends on how you have framed your analyses. -->"
   ]
  },
  {
   "cell_type": "markdown",
   "id": "3b57a05f",
   "metadata": {
    "slideshow": {
     "slide_type": "subslide"
    }
   },
   "source": [
    "For 6. think about the term 'cost'. \n",
    "\n",
    "- Cost is the resources we sacrifice to produce $x$ \n",
    "- On one hand, 30 is the value of resources we consume to make a unit of $x$. We had \\\\$30 in our account that we gave up for the opportunity to make a unit of $x$.\n",
    "- On the otherhand we also give up the opportunity to make $y$, so we give up some future revenue.\n",
    "- Is this a cost? Not in terms of consuption, and marginal cost.\n",
    "- But it is something that we sacrifice. Put differently, not all sacrifices are captured by traditional accounting measures of 'cost', this is a reduction in _benefit_ in the form of reduced revenue."
   ]
  },
  {
   "cell_type": "markdown",
   "id": "f20f9614",
   "metadata": {
    "slideshow": {
     "slide_type": "subslide"
    }
   },
   "source": [
    "## Builder of garages and sheds\n",
    "\n",
    "A builder specializes in the construction of car garages and tool sheds. It has at most 80 hours available to frame the garages and tool sheds and at most 74\n",
    "hours to roof the garages and tool sheds. It takes 10 hours to frame a garage\n",
    "and 7 hours to roof it. It takes 4 hours to frame a tool shed and 5 hours to\n",
    "roof it. If the builder makes a profit of \\\\$570 per garage and \\\\$300 per tool\n",
    "shed, how many can he build to receive a maximum profit?\n",
    "\n",
    "### Do the following:\n",
    "1. Formulate the builder's decision as a linear program.  You do not need to solve the program.\n",
    "2. Sketch the feasible set.  Be sure to label the axes carefully.  On the graph, circle any point corresponding to values of the choice variables that you think are likely a to be optimal."
   ]
  },
  {
   "cell_type": "markdown",
   "id": "9b4c7bf7",
   "metadata": {
    "slideshow": {
     "slide_type": "subslide"
    }
   },
   "source": [
    "# Choice variables:"
   ]
  },
  {
   "cell_type": "code",
   "execution_count": 18,
   "id": "7adee3f2",
   "metadata": {
    "slideshow": {
     "slide_type": "fragment"
    }
   },
   "outputs": [],
   "source": [
    "from gekko import GEKKO \n",
    "m=GEKKO(remote=False)\n",
    "# define the variables\n",
    "x=m.Var(name=\"sheds\",lb=0)\n",
    "x.value=1\n",
    "y=m.Var(name=\"garages\",lb=0)\n",
    "y.value=1"
   ]
  },
  {
   "cell_type": "markdown",
   "id": "8fd8640d",
   "metadata": {
    "slideshow": {
     "slide_type": "subslide"
    }
   },
   "source": [
    "# Objective function:"
   ]
  },
  {
   "cell_type": "code",
   "execution_count": 19,
   "id": "dc383f27",
   "metadata": {
    "slideshow": {
     "slide_type": "fragment"
    }
   },
   "outputs": [],
   "source": [
    "\n",
    "m.Maximize(300*x+570*y)\n",
    "def profit(x,y):\n",
    "    return 300*x+570*y"
   ]
  },
  {
   "cell_type": "markdown",
   "id": "29a6f2df",
   "metadata": {
    "slideshow": {
     "slide_type": "subslide"
    }
   },
   "source": [
    "# Constraints:"
   ]
  },
  {
   "cell_type": "code",
   "execution_count": 20,
   "id": "f041936e",
   "metadata": {
    "slideshow": {
     "slide_type": "fragment"
    }
   },
   "outputs": [
    {
     "data": {
      "text/plain": [
       "<gekko.gekko.EquationObj at 0x13dab4c10>"
      ]
     },
     "execution_count": 20,
     "metadata": {},
     "output_type": "execute_result"
    }
   ],
   "source": [
    "m.Equation(4*x+10*y<80) # framing constraint\n",
    "m.Equation(5*x+7*y<74) # roofing constraint"
   ]
  },
  {
   "cell_type": "markdown",
   "id": "99ea8aee",
   "metadata": {
    "slideshow": {
     "slide_type": "subslide"
    }
   },
   "source": [
    "# Solve!!!\n",
    "Just for fun :)"
   ]
  },
  {
   "cell_type": "code",
   "execution_count": 21,
   "id": "f376b1ab",
   "metadata": {
    "slideshow": {
     "slide_type": "fragment"
    }
   },
   "outputs": [
    {
     "name": "stdout",
     "output_type": "stream",
     "text": [
      "x:       8\n",
      "y:       4\n",
      "Profit:  5149\n"
     ]
    }
   ],
   "source": [
    "m.solve(disp=False) \n",
    "pi=profit(x.value[0],y.value[0])\n",
    "print(\"x:      \", int(x.value[0]))\n",
    "print(\"y:      \", int(y.value[0]))\n",
    "print(\"Profit: \",int(pi))"
   ]
  },
  {
   "cell_type": "code",
   "execution_count": 22,
   "id": "5b849570",
   "metadata": {},
   "outputs": [
    {
     "data": {
      "text/plain": [
       "[8.1818181818]"
      ]
     },
     "execution_count": 22,
     "metadata": {},
     "output_type": "execute_result"
    }
   ],
   "source": [
    "x"
   ]
  },
  {
   "cell_type": "markdown",
   "id": "c3c5ca33",
   "metadata": {
    "slideshow": {
     "slide_type": "subslide"
    }
   },
   "source": [
    "# Plot\n",
    "\n",
    "We can set this up as $y=f(x)$ "
   ]
  },
  {
   "cell_type": "code",
   "execution_count": 23,
   "id": "5a0fad34",
   "metadata": {
    "slideshow": {
     "slide_type": "fragment"
    }
   },
   "outputs": [],
   "source": [
    "# set our x axis\n",
    "x=np.linspace(0,20,20)"
   ]
  },
  {
   "cell_type": "code",
   "execution_count": 24,
   "id": "79a046dc",
   "metadata": {
    "slideshow": {
     "slide_type": "subslide"
    }
   },
   "outputs": [],
   "source": [
    "# calculate the values of the constraints along x\n",
    "frame_const=(80-4*x)/10\n",
    "roof_const=(74-5*x)/7"
   ]
  },
  {
   "cell_type": "code",
   "execution_count": 25,
   "id": "4e349497",
   "metadata": {
    "slideshow": {
     "slide_type": "subslide"
    }
   },
   "outputs": [
    {
     "data": {
      "text/plain": [
       "<Axes: >"
      ]
     },
     "execution_count": 25,
     "metadata": {},
     "output_type": "execute_result"
    },
    {
     "data": {
      "image/png": "[encoded data removed]",
      "text/plain": [
       "<Figure size 640x480 with 1 Axes>"
      ]
     },
     "metadata": {},
     "output_type": "display_data"
    }
   ],
   "source": [
    "# toss these arrays to pandas for a quick plot\n",
    "pd.DataFrame({\"roof_const\":roof_const,\"frame_const\":frame_const}).plot()"
   ]
  },
  {
   "cell_type": "markdown",
   "id": "eb00703c",
   "metadata": {
    "slideshow": {
     "slide_type": "slide"
    }
   },
   "source": [
    "## Ava Catering\n",
    "\n",
    "### Setup:\n",
    "Ava runs a full-service catering business where she caters banquets and receptions. She prepares food ahead of time and she sets up tables on the day of the event. Food preparation for banquets is 12 hours and for receptions is 4, while setup hours for banquets is 9 hours and receptions is 6 hours. The maximum hours available for food preparation are 35 hours and for setup are 40 hours. If she makes \\\\$800 for each banquet and \\\\$525 for each reception, how many banquets and receptions can Ava cater to make a maximum profit?"
   ]
  },
  {
   "cell_type": "code",
   "execution_count": 26,
   "id": "fd01db02",
   "metadata": {
    "slideshow": {
     "slide_type": "subslide"
    }
   },
   "outputs": [],
   "source": [
    "m=GEKKO(remote=False)\n",
    "# 1 choices\n",
    "x=m.Var(name=\"banquets\",lb=0)\n",
    "x.value=1\n",
    "y=m.Var(name=\"receptions\",lb=0)\n",
    "y.value=1"
   ]
  },
  {
   "cell_type": "code",
   "execution_count": 27,
   "id": "2ebbcd88",
   "metadata": {
    "slideshow": {
     "slide_type": "subslide"
    }
   },
   "outputs": [],
   "source": [
    "# 2 objective\n",
    "m.Maximize(800*x+525*y)\n",
    "def profit(x,y):\n",
    "    return 800*x+525*y"
   ]
  },
  {
   "cell_type": "code",
   "execution_count": 28,
   "id": "0213385c",
   "metadata": {
    "slideshow": {
     "slide_type": "subslide"
    }
   },
   "outputs": [
    {
     "data": {
      "text/plain": [
       "<gekko.gekko.EquationObj at 0x17537ef40>"
      ]
     },
     "execution_count": 28,
     "metadata": {},
     "output_type": "execute_result"
    }
   ],
   "source": [
    "# 3 constraints\n",
    "m.Equation(12*x+4*y<35) # prep time constraint\n",
    "m.Equation(9*x+6*y<40) # roofing constraint"
   ]
  },
  {
   "cell_type": "code",
   "execution_count": 29,
   "id": "ac6be473",
   "metadata": {
    "slideshow": {
     "slide_type": "subslide"
    }
   },
   "outputs": [
    {
     "name": "stdout",
     "output_type": "stream",
     "text": [
      "x:       1\n",
      "y:       4\n",
      "Profit:  3517\n"
     ]
    }
   ],
   "source": [
    "# 4 solve\n",
    "m.solve(disp=False) \n",
    "pi_1=profit(x.value[0],y.value[0])\n",
    "print(\"x:      \", int(x.value[0]))\n",
    "print(\"y:      \", int(y.value[0]))\n",
    "print(\"Profit: \",int(pi_1))"
   ]
  },
  {
   "cell_type": "markdown",
   "id": "e4aedf69",
   "metadata": {
    "slideshow": {
     "slide_type": "subslide"
    }
   },
   "source": [
    "1. What risks do you think a real business should consider that are not described here?"
   ]
  },
  {
   "cell_type": "markdown",
   "id": "23ab9c69",
   "metadata": {
    "slideshow": {
     "slide_type": "subslide"
    }
   },
   "source": [
    "2. Describe how you would gather and analyze this information."
   ]
  },
  {
   "cell_type": "markdown",
   "id": "070ef299",
   "metadata": {
    "slideshow": {
     "slide_type": "subslide"
    }
   },
   "source": [
    "3. Based on the risks and the profit you expect, would you recommend opening a catering business to compete with Ava? Please describe your reasoning in detail."
   ]
  }
 ],
 "metadata": {
  "celltoolbar": "Slideshow",
  "kernelspec": {
   "display_name": "Python 3 (ipykernel)",
   "language": "python",
   "name": "python3"
  },
  "language_info": {
   "codemirror_mode": {
    "name": "ipython",
    "version": 3
   },
   "file_extension": ".py",
   "mimetype": "text/x-python",
   "name": "python",
   "nbconvert_exporter": "python",
   "pygments_lexer": "ipython3",
   "version": "3.9.7"
  }
 },
 "nbformat": 4,
 "nbformat_minor": 5
}
