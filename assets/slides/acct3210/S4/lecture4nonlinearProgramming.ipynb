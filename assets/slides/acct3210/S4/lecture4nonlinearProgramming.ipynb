{
 "cells": [
  {
   "cell_type": "code",
   "execution_count": 1,
   "id": "13bd640c",
   "metadata": {
    "slideshow": {
     "slide_type": "skip"
    }
   },
   "outputs": [],
   "source": [
    "import pandas as pd\n",
    "import numpy as np"
   ]
  },
  {
   "cell_type": "markdown",
   "id": "ed59dcc2",
   "metadata": {
    "slideshow": {
     "slide_type": "slide"
    }
   },
   "source": [
    "# Lecture 4: Non-linear Programing, Constrained Maximization"
   ]
  },
  {
   "cell_type": "markdown",
   "id": "b91b53ee",
   "metadata": {
    "slideshow": {
     "slide_type": "subslide"
    }
   },
   "source": [
    "### Items for reiteration:\n",
    "\n",
    "1. The lecture notes are posted on my website. I've added link to the location at the top of the canvas page.\n",
    "2. The lectures are not recorded. _New in 2025: I am recording supplemental versions for the add drop period, if these are useful (and time allows) I will continue to make them._\n",
    "2. Please post your questions about course content on the canvas discussions for each lecture (they go live after the lecture).\n",
    "3. __Thanks to those of you that have reached out with questions! I enjoy answering them, and it helps me a lot to see what is working and what is not.__\n",
    "4. The review lectures will address everyone's favorite question: \"Dr. Morris, please tell me exactly what will be on the exam.\"\n",
    "    - Note: The answer to the most popular questions seems to be: \"Focus on setup and interpretation, not calculation.\""
   ]
  },
  {
   "cell_type": "markdown",
   "id": "ba3f85a1",
   "metadata": {
    "slideshow": {
     "slide_type": "subslide"
    }
   },
   "source": [
    "## A note on incremental cost and marginal cost:\n",
    "\n",
    "- Marginal Cost: as it's used in economics (i.e. MR=MC under competition) is a mathmatical term: the derivative of the cost function w.r.t. quantity.\n",
    "- Incremental Cost is a practical term: the change in cost for a one unit change in output.\n",
    "\n",
    "The two are often interchangable, but we should know that they are different. They are the same when the cost curve is linear, they are intechangable whenever we decide that a linear approximation is suitable for our purposes.\n",
    "\n",
    "In this exercise, we will use the incremental cost as a simple way to get an idea of how the marginal cost is changing."
   ]
  },
  {
   "cell_type": "markdown",
   "id": "90e5187a",
   "metadata": {
    "slideshow": {
     "slide_type": "slide"
    }
   },
   "source": [
    "## Let's go through the homework:\n",
    "\n",
    "You manage a two-product firm. The production technology requires a mixture of\n",
    "capital and labor to produce each product. Capital is shared, while labor is\n",
    "specific to each of the two products. For the first product, capital ($K \\geq\n",
    "0$) and labor ($L_1 \\geq 0$) must satisfy the following, in order to produce\n",
    "$q_1$ units: $q_{1} \\leq \\sqrt{KL_{1}}$. Likewise, producing $q_2$ units of the\n",
    "second product requires capital ($K$) and labor (now $L_2 \\geq 0$) such that:\n",
    "$q_2 \\leq\\sqrt{KL_2}$. In addition, total capital is limited to a maximum of\n",
    "200 units. (So $K \\leq 200$.) Naturally, $K$, $L_1$, $L_2$ are all required to\n",
    "be non-negative. Capital costs 100 per unit, labor for the first product costs\n",
    "140 per unit and labor for the second product costs 175 per unit. The first\n",
    "product sells for 275 per unit, and the second sells for 300 per unit.\n"
   ]
  },
  {
   "cell_type": "markdown",
   "id": "704be216",
   "metadata": {
    "slideshow": {
     "slide_type": "subslide"
    }
   },
   "source": [
    "1. Initially suppose only the first product is present. Determine and interpret your optimal production plan.\n",
    "2. Next suppose only the second product is present. Determine and interpret your optimal production plan.\n",
    "3. Now assume both products are present. Determine and interpret your optimal production plan.\n",
    "4. Repeat the three parts above assuming the first product sells for 200 per unit."
   ]
  },
  {
   "cell_type": "markdown",
   "id": "c49c5706",
   "metadata": {
    "slideshow": {
     "slide_type": "subslide"
    }
   },
   "source": [
    "5. Fill in the following table:\n",
    "\n",
    "| $q_1$ | $q_2$ | MC of $q_1$ with $q_2$ fixed. | MC of $q_2$ with $q_1$ fixed. |\n",
    "|:-----:|:-----:|:-----------------------------:|:-----------------------------:|\n",
    "|   50  |   50  |                               |                               |\n",
    "|   50  |  100  |                               |                               |\n",
    "|   50  |  150  |                               |                               |\n",
    "|  100  |   50  |                               |                               |\n",
    "|  100  |  100  |                               |                               |\n",
    "|  100  |  150  |                               |                               |\n",
    "|  150  |  100  |                               |                               |\n",
    "|  150  |  150  |                               |                               |\n",
    "\n",
    "(_MC is the marginal cost, but for this exercise we can use one unit changes as a proxy for  the marginal cost._)\n"
   ]
  },
  {
   "cell_type": "markdown",
   "id": "75b43ae0",
   "metadata": {
    "slideshow": {
     "slide_type": "subslide"
    }
   },
   "source": [
    "<!-- ### Three quick points based on common questions:  -->\n",
    "<!-- 1. The cost of capital is 100 per unit, so if the constraint binds total cost of capital is 100 $\\times$ 200 = 20,000 -->\n",
    "### Q 1: Determine and interpret your optimal production plan.\n",
    "#### Start by thinking about what $q_{1} \\leq \\sqrt{KL_{1}}$ and $q_2 \\leq\\sqrt{KL_2}$ are?"
   ]
  },
  {
   "cell_type": "markdown",
   "id": "a879b891",
   "metadata": {
    "slideshow": {
     "slide_type": "fragment"
    }
   },
   "source": [
    "- A name for this sort of function is a \"__production function__\""
   ]
  },
  {
   "cell_type": "markdown",
   "id": "8802958d",
   "metadata": {
    "slideshow": {
     "slide_type": "fragment"
    }
   },
   "source": [
    "- The expression $q_{1} \\leq \\sqrt{KL_{1}}$ is the rate at which our production process changes inputs into outputs."
   ]
  },
  {
   "cell_type": "markdown",
   "id": "dc11a4b2",
   "metadata": {
    "slideshow": {
     "slide_type": "fragment"
    }
   },
   "source": [
    "- Notice that this even though there is a $\\leq$ sign, that this is not a constraint _per se_ because we get to choose $K$ and $L_1$, and it is only that choice that constrains the amount of $q_1$ that we produce.\n",
    "- Also notice that if we are trying to optimize we will never produce less than $q_1=\\sqrt{KL_{1}}$"
   ]
  },
  {
   "cell_type": "markdown",
   "id": "58458cb5",
   "metadata": {
    "slideshow": {
     "slide_type": "subslide"
    }
   },
   "source": [
    "Let's look at some plots to see the implications of this.\n",
    "__Note that I'll use python for the examples today, this is because it makes 3-d plotting easy, and I want you to think of these as list of steps.__"
   ]
  },
  {
   "cell_type": "code",
   "execution_count": 2,
   "id": "bc2647b5",
   "metadata": {
    "slideshow": {
     "slide_type": "fragment"
    }
   },
   "outputs": [],
   "source": [
    "# quick set up for our plot\n",
    "import matplotlib.pyplot as plt\n",
    "from mpl_toolkits.mplot3d import Axes3D\n",
    "import numpy as np\n",
    "\n",
    "# create the framework for our plot\n",
    "l1 = np.linspace(0, 300, 300)\n",
    "k = np.linspace(0, 200, 300)\n",
    "L1, K = np.meshgrid(l1, k)\n",
    "\n",
    "# CALCULATE THE PRODUCTION FUNCTION \n",
    "Q1 = np.sqrt(L1*K)"
   ]
  },
  {
   "cell_type": "code",
   "execution_count": 3,
   "id": "49f11661",
   "metadata": {
    "slideshow": {
     "slide_type": "skip"
    }
   },
   "outputs": [
    {
     "data": {
      "text/plain": [
       "array([[  0.        ,   0.        ,   0.        , ...,   0.        ,\n",
       "          0.        ,   0.        ],\n",
       "       [  0.        ,   0.81922734,   1.15856241, ...,  14.11830831,\n",
       "         14.14205653,  14.16576494],\n",
       "       [  0.        ,   1.15856241,   1.63845468, ...,  19.96630309,\n",
       "         19.99988814,  20.0334169 ],\n",
       "       ...,\n",
       "       [  0.        ,  14.11830831,  19.96630309, ..., 243.3105196 ,\n",
       "        243.71978906, 244.12837239],\n",
       "       [  0.        ,  14.14205653,  19.99988814, ..., 243.71978906,\n",
       "        244.12974694, 244.53901755],\n",
       "       [  0.        ,  14.16576494,  20.0334169 , ..., 244.12837239,\n",
       "        244.53901755, 244.94897428]])"
      ]
     },
     "execution_count": 3,
     "metadata": {},
     "output_type": "execute_result"
    }
   ],
   "source": [
    "# Lets look at the objects we created:\n",
    "l1[0:10] # first 10 elements of l1\n",
    "# k[0:10] \n",
    "# K\n",
    "# L1\n",
    "Q1"
   ]
  },
  {
   "cell_type": "code",
   "execution_count": 4,
   "id": "67a7a530",
   "metadata": {
    "slideshow": {
     "slide_type": "subslide"
    }
   },
   "outputs": [
    {
     "data": {
      "image/png": "[encoded data removed]",
      "text/plain": [
       "<Figure size 640x480 with 1 Axes>"
      ]
     },
     "metadata": {},
     "output_type": "display_data"
    }
   ],
   "source": [
    "# Create the figure and add a 3D axis\n",
    "fig = plt.figure()\n",
    "ax = fig.add_subplot(111, projection='3d')\n",
    "# Plot the data\n",
    "ax.plot_surface(L1, K, Q1)\n",
    "# Set axis labels and show the plot\n",
    "ax.set_xlabel('L1')\n",
    "ax.set_ylabel('K')\n",
    "ax.set_zlabel('Q1')\n",
    "plt.show()"
   ]
  },
  {
   "cell_type": "markdown",
   "id": "24df4d3b",
   "metadata": {
    "slideshow": {
     "slide_type": "subslide"
    }
   },
   "source": [
    "### What if we hold K fixed? What will the graph look like?\n",
    "\n",
    "In `Q1 = np.sqrt(L1*K)` we will plug in values for `K` and let `L1` vary."
   ]
  },
  {
   "cell_type": "code",
   "execution_count": 5,
   "id": "92492cbb",
   "metadata": {
    "slideshow": {
     "slide_type": "fragment"
    }
   },
   "outputs": [],
   "source": [
    "l1 = np.linspace(0, 300, 300)\n",
    "Q1_10 = np.sqrt(L1*10)    # k = 10\n",
    "Q1_100 = np.sqrt(L1*100)  # k = 100\n",
    "Q1_200 = np.sqrt(L1*200)  # k = 200"
   ]
  },
  {
   "cell_type": "code",
   "execution_count": 6,
   "id": "1d77001d",
   "metadata": {
    "slideshow": {
     "slide_type": "skip"
    }
   },
   "outputs": [
    {
     "data": {
      "text/plain": [
       "array([[ 0.        ,  3.16756134,  4.4796082 , ..., 54.58876359,\n",
       "        54.68058664, 54.77225575],\n",
       "       [ 0.        ,  3.16756134,  4.4796082 , ..., 54.58876359,\n",
       "        54.68058664, 54.77225575],\n",
       "       [ 0.        ,  3.16756134,  4.4796082 , ..., 54.58876359,\n",
       "        54.68058664, 54.77225575],\n",
       "       [ 0.        ,  3.16756134,  4.4796082 , ..., 54.58876359,\n",
       "        54.68058664, 54.77225575],\n",
       "       [ 0.        ,  3.16756134,  4.4796082 , ..., 54.58876359,\n",
       "        54.68058664, 54.77225575]])"
      ]
     },
     "execution_count": 6,
     "metadata": {},
     "output_type": "execute_result"
    }
   ],
   "source": [
    "# Lets look inside Q1 and Q1_10\n",
    "Q1[0:5]\n",
    "Q1_10[0:5]"
   ]
  },
  {
   "cell_type": "markdown",
   "id": "178c129d",
   "metadata": {
    "slideshow": {
     "slide_type": "subslide"
    }
   },
   "source": [
    "### What if we hold K fixed? What will the graph look like?"
   ]
  },
  {
   "cell_type": "code",
   "execution_count": 7,
   "id": "75bcd822",
   "metadata": {
    "slideshow": {
     "slide_type": "fragment"
    }
   },
   "outputs": [
    {
     "data": {
      "image/png": "[encoded data removed]",
      "text/plain": [
       "<Figure size 640x480 with 1 Axes>"
      ]
     },
     "metadata": {},
     "output_type": "display_data"
    }
   ],
   "source": [
    "fig = plt.figure()\n",
    "ax = fig.add_subplot(111, projection='3d')\n",
    "ax.plot_surface(L1, K, Q1_10)\n",
    "ax.plot_surface(L1, K, Q1_100)\n",
    "ax.plot_surface(L1, K, Q1_200)\n",
    "ax.set_xlabel('L1')\n",
    "ax.set_ylabel('K')\n",
    "ax.set_zlabel('Q1')\n",
    "plt.show()"
   ]
  },
  {
   "cell_type": "markdown",
   "id": "98996579",
   "metadata": {
    "slideshow": {
     "slide_type": "slide"
    }
   },
   "source": [
    "## Back to the question:\n",
    "\n",
    "### What is an optimal production plan?\n",
    "\n",
    "- The one that maximizes profits! \n",
    "- Subject to constraints. \n",
    "- So the optimal production plan is the ones that maximizes $R-C$ subject to the constraints in the problem."
   ]
  },
  {
   "cell_type": "markdown",
   "id": "ee42a539",
   "metadata": {
    "slideshow": {
     "slide_type": "subslide"
    }
   },
   "source": [
    "### Optimal production plan for $q_1$ alone:\n",
    "\n",
    "Maximize: $ \\Pi = R - C $\n",
    "\n",
    "Let's refer to the prices as \"P\", and the labor and capital costs as \"C\"\n",
    "\n",
    "\n",
    "$$ \\Pi(P,C) \\equiv P \\times q_1 - C_L \\times L_1 - C_K \\times K $$\n",
    "\n",
    "Plug in the P's and C's from the problem and then add the production function and capital constraints.\n",
    "\n",
    "$$ \\Pi(P,C) \\equiv 275 \\times q_1 - 140 \\times L_1 - 100 \\times K $$\n",
    "$$ q_1 \\leq \\sqrt{L_1 \\times K} $$\n",
    "$$ K \\leq \\bar{K} = 200 $$"
   ]
  },
  {
   "cell_type": "markdown",
   "id": "aefff3d1",
   "metadata": {
    "slideshow": {
     "slide_type": "fragment"
    }
   },
   "source": [
    "This makes it seem like we have more choices than we actually have. The constraint (production function) makes it so that we can only choose two of K, q1, and l1. So we can plug the production function in for labor or quantity (I choose labor to get rid of the sqrt)"
   ]
  },
  {
   "cell_type": "markdown",
   "id": "077707aa",
   "metadata": {
    "slideshow": {
     "slide_type": "fragment"
    }
   },
   "source": [
    "$$ \\Pi(P,C) \\equiv 275 \\times q_1 - 140 \\times \\frac{q_1^2}{K} - 100 \\times K $$\n",
    "$$ K \\leq \\bar{K} = 200 $$"
   ]
  },
  {
   "cell_type": "markdown",
   "id": "7bd7377c",
   "metadata": {
    "slideshow": {
     "slide_type": "subslide"
    }
   },
   "source": [
    "### So what do we do with this?\n",
    "$$ \\Pi(P,C) \\equiv 275 \\times q_1 - 140 \\times \\frac{q_1^2}{K} - 100 \\times K $$\n",
    "$$ K \\leq \\bar{K} = 200 $$\n",
    "\n",
    "How do we choose the optimal production plan?\n",
    "\n",
    "- Guess and check? \n",
    "- Set up and solve a Legrangian :) I am not going to ask you to do this... you can do it with Excel and Python!\n",
    "- Note that you can apply the steps we do here to any similar solver."
   ]
  },
  {
   "cell_type": "markdown",
   "id": "c7002562",
   "metadata": {
    "slideshow": {
     "slide_type": "fragment"
    }
   },
   "source": [
    "__iPRS: How did you solve this?__"
   ]
  },
  {
   "cell_type": "markdown",
   "id": "5c5e03ac",
   "metadata": {
    "slideshow": {
     "slide_type": "subslide"
    }
   },
   "source": [
    "## Since this is not a linear problem let's use [GEKKO](https://gekko.readthedocs.io/en/latest/)\n",
    "\n",
    "(don't worry... we will do this in Excel as well, and the exam will focus on setup and interpretation)"
   ]
  },
  {
   "cell_type": "code",
   "execution_count": 8,
   "id": "d9628725",
   "metadata": {
    "slideshow": {
     "slide_type": "fragment"
    }
   },
   "outputs": [],
   "source": [
    "# set up the solver\n",
    "from gekko import GEKKO # pip install gekko... I posted a video about this\n",
    "m = GEKKO(remote=False) # here we create a gekko object called 'm'"
   ]
  },
  {
   "cell_type": "markdown",
   "id": "a4a88210",
   "metadata": {
    "slideshow": {
     "slide_type": "subslide"
    }
   },
   "source": [
    "### Step 1: Specify the 'Choice Variables' and their constraints"
   ]
  },
  {
   "cell_type": "code",
   "execution_count": 9,
   "id": "bea5a397",
   "metadata": {
    "slideshow": {
     "slide_type": "fragment"
    }
   },
   "outputs": [],
   "source": [
    "# Initialize the decision variables\n",
    "q1 = m.Var(\n",
    "    name=\"q1\", \n",
    "    lb=0 # the lower bound\n",
    ") \n",
    "q1.value=1 # most solvers run faster when you give a starting point\n",
    "\n",
    "k =  m.Var(\n",
    "    name=\"k\", \n",
    "    lb=0, # lower bound\n",
    "    ub=200 # upper bound\n",
    ") \n",
    "k.value=200 # this is our first guess to speed up the solution"
   ]
  },
  {
   "cell_type": "markdown",
   "id": "6c05f5bf",
   "metadata": {
    "slideshow": {
     "slide_type": "slide"
    }
   },
   "source": [
    "### Step 2: Write down the objective function (what we want to maximize), any remaining constraints, and solve.\n",
    "$$ \\Pi(P,C) \\equiv 275 \\times q_1 - 140 \\times \\frac{q_1^2}{K} - 100 \\times K $$\n",
    "_What happened to $ K \\leq \\bar{K} = 200 $?_ (hint: it is a constraint on a _choice variable_ look for it on the previous slide!)"
   ]
  },
  {
   "cell_type": "code",
   "execution_count": 10,
   "id": "22bfd729",
   "metadata": {
    "slideshow": {
     "slide_type": "fragment"
    }
   },
   "outputs": [],
   "source": [
    "m.Maximize(\n",
    "    275*q1 - 140*((q1**2)/k) - 100*k\n",
    ")\n",
    "m.solve(disp=False) # silencing the output because it is diagnostic"
   ]
  },
  {
   "cell_type": "markdown",
   "id": "d58ea6b8",
   "metadata": {
    "slideshow": {
     "slide_type": "subslide"
    }
   },
   "source": [
    "The output from the model is just the choice variables: we need to calculate profit and labor:"
   ]
  },
  {
   "cell_type": "code",
   "execution_count": 11,
   "id": "0917d200",
   "metadata": {
    "slideshow": {
     "slide_type": "fragment"
    }
   },
   "outputs": [
    {
     "data": {
      "text/plain": [
       "([196.42857143], [200.0])"
      ]
     },
     "execution_count": 11,
     "metadata": {},
     "output_type": "execute_result"
    }
   ],
   "source": [
    "q1, k"
   ]
  },
  {
   "cell_type": "markdown",
   "id": "557d7697",
   "metadata": {
    "slideshow": {
     "slide_type": "subslide"
    }
   },
   "source": [
    "We need to calculate profit and labor:\n",
    "\n",
    "Plug $q_1 = 196.43$ and $K=200$ into $\\Pi(P,C) \\equiv 275 \\times q_1 - 140 \\times \\frac{q_1^2}{K} - 100 \\times K $\n",
    "\n",
    "Use the production function to calculate $l_1=q_1^2/K$"
   ]
  },
  {
   "cell_type": "code",
   "execution_count": 12,
   "id": "c3aaedf1",
   "metadata": {
    "slideshow": {
     "slide_type": "fragment"
    }
   },
   "outputs": [],
   "source": [
    "profit = (275*q1.value[0] - 140*((q1.value[0]**2)/k.value[0]) - 100*k.value[0])\n",
    "l1 = q1.value[0]**2/k.value[0]"
   ]
  },
  {
   "cell_type": "markdown",
   "id": "919f587b",
   "metadata": {
    "slideshow": {
     "slide_type": "subslide"
    }
   },
   "source": [
    "### This gives us the following solutions \n",
    "(note that I'm rounding here)"
   ]
  },
  {
   "cell_type": "code",
   "execution_count": 13,
   "id": "0659a009",
   "metadata": {
    "slideshow": {
     "slide_type": "fragment"
    }
   },
   "outputs": [
    {
     "name": "stdout",
     "output_type": "stream",
     "text": [
      "q1      196\n",
      "l1      192\n",
      "K       200\n",
      "profit  7008\n"
     ]
    }
   ],
   "source": [
    "print('q1     ', int(q1.value[0])) # q1 is a list q1[0] is the first element of the list.\n",
    "print('l1     ', int(l1))\n",
    "print('K      ', int(k.value[0]))\n",
    "print('profit ', int(profit))"
   ]
  },
  {
   "cell_type": "markdown",
   "id": "444df50d",
   "metadata": {
    "slideshow": {
     "slide_type": "slide"
    }
   },
   "source": [
    "### Optimal production plan for $q_2$ alone:\n",
    "Let's refer to the prices as \"P\", and the labor and capital costs as \"C\"\n",
    "$$ \\Pi(P,C) \\equiv  300 \\times q_2  - 175 \\times L_2 - 100 \\times K $$\n",
    "$$ q_2 \\leq \\sqrt{L_2 \\times K} $$\n",
    "$$ K \\leq \\bar{K} = 200 $$\n",
    "\n",
    "We make a similar substitution here:\n",
    "\n",
    "$$ \\Pi(P,C) \\equiv  300 \\times q_2  - 175 \\times \\frac{q_2^2}{K} - 100 \\times K $$\n",
    "$$ K \\leq \\bar{K} = 200 $$"
   ]
  },
  {
   "cell_type": "code",
   "execution_count": 15,
   "id": "a4444d0f",
   "metadata": {
    "slideshow": {
     "slide_type": "fragment"
    }
   },
   "outputs": [],
   "source": [
    "# same set up repeated to clean out 'm'\n",
    "m = GEKKO(remote=False)\n",
    "q2 = m.Var(name=\"q2\", lb=0)\n",
    "q2.value=1 \n",
    "k =  m.Var(name=\"k\", lb=0, ub=200)\n",
    "k.value=200 "
   ]
  },
  {
   "cell_type": "markdown",
   "id": "094b393a",
   "metadata": {
    "slideshow": {
     "slide_type": "subslide"
    }
   },
   "source": [
    "### Write down the objective function again and solve:\n",
    "$$ \\Pi(P,C) \\equiv + 300 \\times q_2  - 175 \\times \\frac{q_2^2}{K} - 100 \\times K $$"
   ]
  },
  {
   "cell_type": "code",
   "execution_count": 16,
   "id": "28d9e285",
   "metadata": {},
   "outputs": [],
   "source": [
    "m.Maximize(\n",
    "    300*q2 - 175*((q2**2)/k) - 100*k\n",
    ")\n",
    "m.solve(disp=False)\n",
    "profit = (300*q2.value[0] - 175*((q2.value[0]**2)/k.value[0]) - 100*k.value[0])\n",
    "l2 = q2.value[0]**2/k.value[0]"
   ]
  },
  {
   "cell_type": "markdown",
   "id": "5ab30500",
   "metadata": {
    "slideshow": {
     "slide_type": "subslide"
    }
   },
   "source": [
    "### This gives us the following solutions \n",
    "(note that I'm rounding here)"
   ]
  },
  {
   "cell_type": "code",
   "execution_count": 17,
   "id": "ef263dcd",
   "metadata": {
    "slideshow": {
     "slide_type": "fragment"
    }
   },
   "outputs": [
    {
     "name": "stdout",
     "output_type": "stream",
     "text": [
      "q2      171\n",
      "l2      146\n",
      "K       200\n",
      "profit  5714\n"
     ]
    }
   ],
   "source": [
    "print('q2     ', int(q2.value[0]))\n",
    "print('l2     ',int(l2))\n",
    "print('K      ', int(k.value[0]))\n",
    "print('profit ', int(profit))"
   ]
  },
  {
   "cell_type": "markdown",
   "id": "dc8d22d1",
   "metadata": {
    "slideshow": {
     "slide_type": "slide"
    }
   },
   "source": [
    "### Optimal production plan for both:\n",
    "Let's refer to the prices as \"P\", and the labor and capital costs as \"C\"\n",
    "$$ \\Pi(P,C) \\equiv 275 \\times q_1 + 300 \\times q_2 - 140 \\times L_1 - 175 \\times L_2 - 100 \\times K $$\n",
    "$$ q_1 \\leq \\sqrt{L_1 \\times K} $$\n",
    "$$ q_2 \\leq \\sqrt{L_2 \\times K} $$\n",
    "$$ K \\leq \\bar{K} = 200 $$\n",
    "\n",
    "Again both constraints allow us to eliminate $L$:\n",
    "$$ \\Pi(P,C) \\equiv 275 \\times q_1 + 300 \\times q_2 - 140 \\times \\frac{q_1^2}{K} - 175 \\times \\frac{q_2^2}{K} - 100 \\times K $$\n",
    "$$ K \\leq \\bar{K} = 200 $$"
   ]
  },
  {
   "cell_type": "code",
   "execution_count": 19,
   "id": "5296a946",
   "metadata": {
    "slideshow": {
     "slide_type": "subslide"
    }
   },
   "outputs": [],
   "source": [
    "# reset gekko\n",
    "m = GEKKO(remote=False)\n",
    "# Initialize the decision variables with guesses for the optimizer\n",
    "q1 = m.Var(name=\"q1\", lb=0)\n",
    "q1.value=1\n",
    "q2 = m.Var(name=\"q2\", lb=0)\n",
    "q2.value=1\n",
    "k =  m.Var(name=\"k\", lb=0, ub=200) \n",
    "k.value=200"
   ]
  },
  {
   "cell_type": "code",
   "execution_count": 20,
   "id": "e2357028",
   "metadata": {
    "slideshow": {
     "slide_type": "subslide"
    }
   },
   "outputs": [],
   "source": [
    "# write the objective function  and solve\n",
    "m.Maximize(\n",
    "    275*q1 - 140*((q1**2)/k)\n",
    "    + 300*q2 - 175*((q2**2)/k)\n",
    "    - 100*k\n",
    ")\n",
    "m.solve(disp=False)"
   ]
  },
  {
   "cell_type": "code",
   "execution_count": 21,
   "id": "b50d06af",
   "metadata": {
    "slideshow": {
     "slide_type": "subslide"
    }
   },
   "outputs": [],
   "source": [
    "# quick calcs to clean things up\n",
    "profit = (\n",
    "    275*q1.value[0] - 140*((q1.value[0]**2)/k.value[0]) \n",
    "    + 300*q2.value[0] - 175*((q2.value[0]**2)/k.value[0])  \n",
    "    - 100*k.value[0]\n",
    ")\n",
    "l1 = q1.value[0]**2/k.value[0]\n",
    "l2 = q2.value[0]**2/k.value[0]\n"
   ]
  },
  {
   "cell_type": "markdown",
   "id": "48d78c70",
   "metadata": {
    "slideshow": {
     "slide_type": "subslide"
    }
   },
   "source": [
    "### This gives us the following solutions \n",
    "(note that I'm rounding here)"
   ]
  },
  {
   "cell_type": "code",
   "execution_count": 22,
   "id": "086f7695",
   "metadata": {
    "slideshow": {
     "slide_type": "fragment"
    }
   },
   "outputs": [
    {
     "name": "stdout",
     "output_type": "stream",
     "text": [
      "q1      196\n",
      "l1      192\n",
      "q2      171\n",
      "l2      146\n",
      "K       200\n",
      "profit  32723\n"
     ]
    }
   ],
   "source": [
    "print('q1     ', int(q1.value[0]))\n",
    "print('l1     ',int(l1))\n",
    "print('q2     ', int(q2.value[0]))\n",
    "print('l2     ',int(l2))\n",
    "print('K      ', int(k.value[0]))\n",
    "print('profit ', int(profit))"
   ]
  },
  {
   "cell_type": "markdown",
   "id": "86b132bc",
   "metadata": {
    "slideshow": {
     "slide_type": "slide"
    }
   },
   "source": [
    "### We always pick k=200. What does this mean?"
   ]
  },
  {
   "cell_type": "markdown",
   "id": "3babc477",
   "metadata": {
    "slideshow": {
     "slide_type": "fragment"
    }
   },
   "source": [
    "- This means that the capital constraint is preventing us from making the next unit of output.\n",
    "- When a constraint does this we often call it a 'binding constraint'."
   ]
  },
  {
   "cell_type": "markdown",
   "id": "436fd39c",
   "metadata": {
    "slideshow": {
     "slide_type": "subslide"
    }
   },
   "source": [
    "### The q1,L1 and q2,L2 pairs that we pick are the same when we consider the products separately and together. What does this mean?"
   ]
  },
  {
   "cell_type": "markdown",
   "id": "2558f4c0",
   "metadata": {
    "slideshow": {
     "slide_type": "fragment"
    }
   },
   "source": [
    "- It means that the profit function is __separable__ when the capital constraint is binding.\n"
   ]
  },
  {
   "cell_type": "markdown",
   "id": "33216f55",
   "metadata": {
    "slideshow": {
     "slide_type": "slide"
    }
   },
   "source": [
    "### Repeat all three steps with $P_1=200$"
   ]
  },
  {
   "cell_type": "code",
   "execution_count": 23,
   "id": "68d51d7f",
   "metadata": {
    "slideshow": {
     "slide_type": "fragment"
    }
   },
   "outputs": [],
   "source": [
    "m = GEKKO(remote=False)\n",
    "q1 = m.Var(name=\"q1\", lb=0)\n",
    "q1.value=1\n",
    "q2 = m.Var(name=\"q2\", lb=0)\n",
    "q2.value=1\n",
    "k =  m.Var(name=\"k\", lb=0, ub=200)\n",
    "k.value=200 \n",
    "m.Maximize(\n",
    "    200*q1 - 140*((q1**2)/k) - 100*k\n",
    ")\n",
    "m.solve(disp=False) # silencing the out put because it is diagnostic\n",
    "profit = (\n",
    "    200*q1.value[0] \n",
    "    - 140*((q1.value[0]**2)/k.value[0]) \n",
    "    - 100*k.value[0]\n",
    ")\n",
    "l1 = q1.value[0]**2/k.value[0]"
   ]
  },
  {
   "cell_type": "markdown",
   "id": "b109b6c3",
   "metadata": {
    "slideshow": {
     "slide_type": "slide"
    }
   },
   "source": [
    "###  $Q_1$ when $P_1=200$"
   ]
  },
  {
   "cell_type": "code",
   "execution_count": 24,
   "id": "f6b0b920",
   "metadata": {},
   "outputs": [
    {
     "name": "stdout",
     "output_type": "stream",
     "text": [
      "q1      0\n",
      "l1      0\n",
      "K       0\n",
      "profit  0\n"
     ]
    }
   ],
   "source": [
    "print('q1     ', int(q1.value[0]))\n",
    "print('l1     ', int(l1))\n",
    "print('K      ', int(k.value[0]))\n",
    "print('profit ', int(profit))"
   ]
  },
  {
   "cell_type": "markdown",
   "id": "405479e4",
   "metadata": {
    "slideshow": {
     "slide_type": "subslide"
    }
   },
   "source": [
    "### The optimal amount of Q1 to produce is 0.\n",
    "\n",
    "What does this mean?"
   ]
  },
  {
   "cell_type": "markdown",
   "id": "eba3f6c6",
   "metadata": {
    "slideshow": {
     "slide_type": "fragment"
    }
   },
   "source": [
    "What does this mean?\n",
    "This means that a firm that only produces Q1 should not produce it at this price, given this cost structure.\n",
    "What does this mean for a firm that produces Q2? \n",
    "What should they do? enter the market for Q1 or not?"
   ]
  },
  {
   "cell_type": "markdown",
   "id": "e1e40249",
   "metadata": {
    "slideshow": {
     "slide_type": "subslide"
    }
   },
   "source": [
    "### Lets look at the profit functions for the two single product firms with k=200"
   ]
  },
  {
   "cell_type": "code",
   "execution_count": 25,
   "id": "ff721b43",
   "metadata": {},
   "outputs": [],
   "source": [
    "# set up\n",
    "def Pi1(q1):\n",
    "    return 200*q1 - 140*((q1**2)/200) \n",
    "def Pi2(q2):\n",
    "    return 300*q2 - 175*((q2**2)/200) \n",
    "q1=np.linspace(0,300,300)\n",
    "q2=np.linspace(0,300,300)\n",
    "\n",
    "Pq1=Pi1(q1)- 100*200\n",
    "Pq2=Pi2(q2)- 100*200"
   ]
  },
  {
   "cell_type": "code",
   "execution_count": 26,
   "id": "57a6cdd0",
   "metadata": {
    "slideshow": {
     "slide_type": "subslide"
    }
   },
   "outputs": [
    {
     "data": {
      "image/png": "[encoded data removed]",
      "text/plain": [
       "<Figure size 640x480 with 1 Axes>"
      ]
     },
     "metadata": {},
     "output_type": "display_data"
    }
   ],
   "source": [
    "# plot so we can see what is going on\n",
    "plt.plot(q1,Pq1,label='Profit (q1)')\n",
    "plt.plot(q1,Pq2,label='Profit (q2)')\n",
    "plt.xlabel('Quantity')\n",
    "plt.legend()\n",
    "plt.grid()\n",
    "plt.axhline(0, color='grey')\n",
    "plt.title('Profit with k=200 and P1=200')\n",
    "plt.show()"
   ]
  },
  {
   "cell_type": "markdown",
   "id": "4c237451",
   "metadata": {
    "slideshow": {
     "slide_type": "slide"
    }
   },
   "source": [
    "###  $Q_1$ and $Q_2$ when $P_1=200$ \n",
    "Now we are back to the multiproduct firm"
   ]
  },
  {
   "cell_type": "code",
   "execution_count": 27,
   "id": "e785cfed",
   "metadata": {
    "slideshow": {
     "slide_type": "subslide"
    }
   },
   "outputs": [],
   "source": [
    "# Let's look at the two together\n",
    "# reset gekko\n",
    "m = GEKKO(remote=False)\n",
    "# Initialize the decision variables\n",
    "q1 = m.Var(name=\"q1\", lb=0)\n",
    "q1.value=1\n",
    "q2 = m.Var(name=\"q2\", lb=0)\n",
    "q2.value=1\n",
    "k =  m.Var(name=\"k\", lb=0, ub=200) # this is the constraint\n",
    "k.value=200 # this is our first guess to speed up the solution\n",
    "m.Maximize(\n",
    "    200*q1 - 140*((q1**2)/k)\n",
    "  + 300*q2 - 175*((q2**2)/k)\n",
    "  - 100*k\n",
    ")\n",
    "m.solve(disp=False)\n",
    "profit = (\n",
    "    200*q1.value[0] - 140*((q1.value[0]**2)/k.value[0]) \n",
    "  + 300*q2.value[0] - 175*((q2.value[0]**2)/k.value[0])  \n",
    "  - 100*k.value[0]\n",
    ")\n",
    "l1 = q1.value[0]**2/k.value[0]\n",
    "l2 = q2.value[0]**2/k.value[0]"
   ]
  },
  {
   "cell_type": "code",
   "execution_count": 28,
   "id": "add334ba",
   "metadata": {
    "slideshow": {
     "slide_type": "subslide"
    }
   },
   "outputs": [
    {
     "name": "stdout",
     "output_type": "stream",
     "text": [
      "q1      142\n",
      "l1      102\n",
      "q2      171\n",
      "l2      146\n",
      "K       200\n",
      "profit  20000\n"
     ]
    }
   ],
   "source": [
    "print('q1     ', int(q1.value[0]))\n",
    "print('l1     ', int(l1))\n",
    "print('q2     ', int(q2.value[0]))\n",
    "print('l2     ', int(l2))\n",
    "print('K      ', int(k.value[0]))\n",
    "print('profit ', int(profit))"
   ]
  },
  {
   "cell_type": "markdown",
   "id": "b5c42327",
   "metadata": {
    "slideshow": {
     "slide_type": "subslide"
    }
   },
   "source": [
    "### Lets plot this and see what it's telling us."
   ]
  },
  {
   "cell_type": "code",
   "execution_count": null,
   "id": "b312bf7b",
   "metadata": {
    "slideshow": {
     "slide_type": "-"
    }
   },
   "outputs": [],
   "source": [
    "# Create data for the plot\n",
    "def bigPi(q1,q2,k=200):\n",
    "    return 200*q1 - 140*((q1**2)/k)+ 300*q2 - 175*((q2**2)/k) - 100*k\n",
    "q1=np.linspace(0,300,300)\n",
    "q2=np.linspace(0,300,300)\n",
    "Q1, Q2 = np.meshgrid(q1, q2)\n",
    "Pi12 = bigPi(Q1,Q2)"
   ]
  },
  {
   "cell_type": "code",
   "execution_count": null,
   "id": "a4cd98fa",
   "metadata": {
    "slideshow": {
     "slide_type": "subslide"
    }
   },
   "outputs": [],
   "source": [
    "# Create the figure and add a 3D axis\n",
    "fig = plt.figure()\n",
    "ax = fig.add_subplot(111, projection='3d')\n",
    "# Plot the data\n",
    "ax.plot_surface(Q1, Q2, Pi12)\n",
    "# Set axis labels and show the plot\n",
    "ax.set_xlabel('Q1')\n",
    "ax.set_ylabel('Q2')\n",
    "ax.set_zlabel('Profit')\n",
    "plt.show()"
   ]
  },
  {
   "cell_type": "markdown",
   "id": "c4fe41a3",
   "metadata": {
    "slideshow": {
     "slide_type": "fragment"
    }
   },
   "source": [
    "__Notice that alot of this profit graph is below zero!__"
   ]
  },
  {
   "cell_type": "markdown",
   "id": "9f4e917b",
   "metadata": {
    "slideshow": {
     "slide_type": "subslide"
    }
   },
   "source": [
    "### Let's zoom to the zero lower bound"
   ]
  },
  {
   "cell_type": "code",
   "execution_count": null,
   "id": "de77127d",
   "metadata": {},
   "outputs": [],
   "source": [
    "Profit =  np.where(Pi12>0,Pi12,np.nan)\n",
    "fig = plt.figure()\n",
    "ax = fig.add_subplot(111, projection='3d')\n",
    "ax.plot_surface(Q1, Q2, Profit)\n",
    "ax.set_xlabel('Q1')\n",
    "ax.set_ylabel('Q2')\n",
    "ax.set_zlabel('Profit')\n",
    "plt.show()"
   ]
  },
  {
   "cell_type": "markdown",
   "id": "2be76ebf",
   "metadata": {
    "slideshow": {
     "slide_type": "fragment"
    }
   },
   "source": [
    "- These are the profitable production plans, and the one at the top is the optimal plan."
   ]
  },
  {
   "cell_type": "markdown",
   "id": "a3dd49b7",
   "metadata": {
    "slideshow": {
     "slide_type": "slide"
    }
   },
   "source": [
    " ### What interesting insights or questions jump out from these facts?"
   ]
  },
  {
   "cell_type": "markdown",
   "id": "8bfd647f",
   "metadata": {
    "slideshow": {
     "slide_type": "fragment"
    }
   },
   "source": [
    "- Now there is some synergy!\n",
    "- The functions are no longer separable\n",
    " \n",
    "## Why is this? What is going on?"
   ]
  },
  {
   "cell_type": "markdown",
   "id": "05237be7",
   "metadata": {
    "slideshow": {
     "slide_type": "fragment"
    }
   },
   "source": [
    "- This is what it means to share capital. \n",
    "\n",
    "## What are scenarios where this would play out in the real world? "
   ]
  },
  {
   "cell_type": "markdown",
   "id": "28c1d957",
   "metadata": {
    "slideshow": {
     "slide_type": "fragment"
    }
   },
   "source": [
    "- Adding a second product that does not compete with the first but that can be made using the same machines?\n",
    "- A manufacturing firm takes on additional work with idle capacity. \n",
    "- A retail firm adding a product line.\n",
    " "
   ]
  },
  {
   "cell_type": "markdown",
   "id": "457a895e",
   "metadata": {
    "slideshow": {
     "slide_type": "slide"
    }
   },
   "source": [
    "## Now let's fill in the marginal cost table\n",
    "\n",
    "#### For each of these the first step is to see how much K we need given the production choices.\n",
    "_BTW, we are going to use a one unit increment here, but something less is fine i.e. true marginal cost._\n",
    "\n",
    "| $q_1$ | $q_2$ | MC of $q_1$ with $q_2$ fixed. | MC of $q_2$ with $q_1$ fixed. |\n",
    "|:-----:|:-----:|:-----------------------------:|:-----------------------------:|\n",
    "|   50  |   50  |                               |                               |\n",
    "|   50  |  100  |                               |                               |\n",
    "|   50  |  150  |                               |                               |\n",
    "|  100  |   50  |                               |                               |\n",
    "|  100  |  100  |                               |                               |\n",
    "|  100  |  150  |                               |                               |\n",
    "|  150  |  100  |                               |                               |\n",
    "|  150  |  150  |                               |                               |\n",
    "\n",
    "We are going to take the q as given and then calculate the optimal K for each and then increment."
   ]
  },
  {
   "cell_type": "markdown",
   "id": "82a48301",
   "metadata": {
    "slideshow": {
     "slide_type": "subslide"
    }
   },
   "source": [
    "## First, put the data into a dictionary"
   ]
  },
  {
   "cell_type": "code",
   "execution_count": 29,
   "id": "63b9654b",
   "metadata": {
    "slideshow": {
     "slide_type": "fragment"
    }
   },
   "outputs": [],
   "source": [
    "import pandas as pd\n",
    "dd = {\n",
    "    'q1': [50, 50, 50,100,100,100,150,150],\n",
    "    'q2': [50,100,150, 50,100,150,100,150]\n",
    "}"
   ]
  },
  {
   "cell_type": "markdown",
   "id": "b610b044",
   "metadata": {
    "slideshow": {
     "slide_type": "subslide"
    }
   },
   "source": [
    "### Second, write down the functions"
   ]
  },
  {
   "cell_type": "code",
   "execution_count": 30,
   "id": "9f3e1b6d",
   "metadata": {
    "slideshow": {
     "slide_type": "fragment"
    }
   },
   "outputs": [],
   "source": [
    "def findK(q1,q2):\n",
    "    m = GEKKO(remote=False)\n",
    "    # Initialize the decision variablesc\n",
    "    k =  m.Var(name=\"k\", lb=0, ub=200) # this is the constraint\n",
    "    k.value=200 # this is our first guess to speed up the solution\n",
    "    m.Maximize(\n",
    "        275*q1 - 140*((q1**2)/k)\n",
    "        + 300*q2 - 175*((q2**2)/k)\n",
    "        - 100*k\n",
    "    ) \n",
    "    m.solve(disp=False)\n",
    "    return k.value[0]"
   ]
  },
  {
   "cell_type": "code",
   "execution_count": 31,
   "id": "614ca689",
   "metadata": {
    "slideshow": {
     "slide_type": "subslide"
    }
   },
   "outputs": [],
   "source": [
    "def labor(q,K):\n",
    "    return (q**2)/K"
   ]
  },
  {
   "cell_type": "code",
   "execution_count": 32,
   "id": "9d3ee449",
   "metadata": {
    "slideshow": {
     "slide_type": "subslide"
    }
   },
   "outputs": [],
   "source": [
    "def cost(L1,L2,K):\n",
    "    return 140*L1 + 175*L2 + 100*K"
   ]
  },
  {
   "cell_type": "code",
   "execution_count": 35,
   "id": "d711e72c",
   "metadata": {
    "slideshow": {
     "slide_type": "fragment"
    }
   },
   "outputs": [
    {
     "data": {
      "text/plain": [
       "88.741196671"
      ]
     },
     "execution_count": 35,
     "metadata": {},
     "output_type": "execute_result"
    }
   ],
   "source": [
    "findK(50,50)"
   ]
  },
  {
   "cell_type": "markdown",
   "id": "3add7ad0",
   "metadata": {
    "slideshow": {
     "slide_type": "subslide"
    }
   },
   "source": [
    "### Fill in the baseline table for each set of points"
   ]
  },
  {
   "cell_type": "code",
   "execution_count": 36,
   "id": "ec9edeb3",
   "metadata": {
    "slideshow": {
     "slide_type": "fragment"
    }
   },
   "outputs": [
    {
     "data": {
      "text/html": [
       "<div>\n",
       "<style scoped>\n",
       "    .dataframe tbody tr th:only-of-type {\n",
       "        vertical-align: middle;\n",
       "    }\n",
       "\n",
       "    .dataframe tbody tr th {\n",
       "        vertical-align: top;\n",
       "    }\n",
       "\n",
       "    .dataframe thead th {\n",
       "        text-align: right;\n",
       "    }\n",
       "</style>\n",
       "<table border=\"1\" class=\"dataframe\">\n",
       "  <thead>\n",
       "    <tr style=\"text-align: right;\">\n",
       "      <th></th>\n",
       "      <th>q1</th>\n",
       "      <th>q2</th>\n",
       "      <th>K</th>\n",
       "      <th>L1</th>\n",
       "      <th>L2</th>\n",
       "      <th>Cost</th>\n",
       "    </tr>\n",
       "  </thead>\n",
       "  <tbody>\n",
       "    <tr>\n",
       "      <th>0</th>\n",
       "      <td>50</td>\n",
       "      <td>50</td>\n",
       "      <td>88.741197</td>\n",
       "      <td>28.171809</td>\n",
       "      <td>28.171809</td>\n",
       "      <td>17748.239349</td>\n",
       "    </tr>\n",
       "    <tr>\n",
       "      <th>1</th>\n",
       "      <td>50</td>\n",
       "      <td>100</td>\n",
       "      <td>144.913768</td>\n",
       "      <td>17.251639</td>\n",
       "      <td>69.006556</td>\n",
       "      <td>28982.753492</td>\n",
       "    </tr>\n",
       "    <tr>\n",
       "      <th>2</th>\n",
       "      <td>50</td>\n",
       "      <td>150</td>\n",
       "      <td>200.000000</td>\n",
       "      <td>12.500000</td>\n",
       "      <td>112.500000</td>\n",
       "      <td>41437.500000</td>\n",
       "    </tr>\n",
       "    <tr>\n",
       "      <th>3</th>\n",
       "      <td>100</td>\n",
       "      <td>50</td>\n",
       "      <td>135.554417</td>\n",
       "      <td>73.771111</td>\n",
       "      <td>18.442778</td>\n",
       "      <td>27110.883423</td>\n",
       "    </tr>\n",
       "    <tr>\n",
       "      <th>4</th>\n",
       "      <td>100</td>\n",
       "      <td>100</td>\n",
       "      <td>177.482391</td>\n",
       "      <td>56.343618</td>\n",
       "      <td>56.343618</td>\n",
       "      <td>35496.478699</td>\n",
       "    </tr>\n",
       "    <tr>\n",
       "      <th>5</th>\n",
       "      <td>100</td>\n",
       "      <td>150</td>\n",
       "      <td>200.000000</td>\n",
       "      <td>50.000000</td>\n",
       "      <td>112.500000</td>\n",
       "      <td>46687.500000</td>\n",
       "    </tr>\n",
       "    <tr>\n",
       "      <th>6</th>\n",
       "      <td>150</td>\n",
       "      <td>100</td>\n",
       "      <td>200.000000</td>\n",
       "      <td>112.500000</td>\n",
       "      <td>50.000000</td>\n",
       "      <td>44500.000000</td>\n",
       "    </tr>\n",
       "    <tr>\n",
       "      <th>7</th>\n",
       "      <td>150</td>\n",
       "      <td>150</td>\n",
       "      <td>200.000000</td>\n",
       "      <td>112.500000</td>\n",
       "      <td>112.500000</td>\n",
       "      <td>55437.500000</td>\n",
       "    </tr>\n",
       "  </tbody>\n",
       "</table>\n",
       "</div>"
      ],
      "text/plain": [
       "    q1   q2           K          L1          L2          Cost\n",
       "0   50   50   88.741197   28.171809   28.171809  17748.239349\n",
       "1   50  100  144.913768   17.251639   69.006556  28982.753492\n",
       "2   50  150  200.000000   12.500000  112.500000  41437.500000\n",
       "3  100   50  135.554417   73.771111   18.442778  27110.883423\n",
       "4  100  100  177.482391   56.343618   56.343618  35496.478699\n",
       "5  100  150  200.000000   50.000000  112.500000  46687.500000\n",
       "6  150  100  200.000000  112.500000   50.000000  44500.000000\n",
       "7  150  150  200.000000  112.500000  112.500000  55437.500000"
      ]
     },
     "execution_count": 36,
     "metadata": {},
     "output_type": "execute_result"
    }
   ],
   "source": [
    "df = pd.DataFrame(dd)\n",
    "df['K']=np.vectorize(findK)(df['q1'],df['q2'])\n",
    "df['L1'] = np.vectorize(labor)(df['q1'],df['K'])\n",
    "df['L2'] = np.vectorize(labor)(df['q2'],df['K'])\n",
    "df['Cost'] = np.vectorize(cost)(df['L1'],df['L2'],df['K'])\n",
    "df"
   ]
  },
  {
   "cell_type": "markdown",
   "id": "a5c3dc03",
   "metadata": {
    "slideshow": {
     "slide_type": "subslide"
    }
   },
   "source": [
    "### Now increment q1 by 1"
   ]
  },
  {
   "cell_type": "code",
   "execution_count": 37,
   "id": "389f2a7c",
   "metadata": {
    "slideshow": {
     "slide_type": "fragment"
    }
   },
   "outputs": [
    {
     "data": {
      "text/html": [
       "<div>\n",
       "<style scoped>\n",
       "    .dataframe tbody tr th:only-of-type {\n",
       "        vertical-align: middle;\n",
       "    }\n",
       "\n",
       "    .dataframe tbody tr th {\n",
       "        vertical-align: top;\n",
       "    }\n",
       "\n",
       "    .dataframe thead th {\n",
       "        text-align: right;\n",
       "    }\n",
       "</style>\n",
       "<table border=\"1\" class=\"dataframe\">\n",
       "  <thead>\n",
       "    <tr style=\"text-align: right;\">\n",
       "      <th></th>\n",
       "      <th>q1</th>\n",
       "      <th>q2</th>\n",
       "      <th>K</th>\n",
       "      <th>L1</th>\n",
       "      <th>L2</th>\n",
       "      <th>Cost</th>\n",
       "    </tr>\n",
       "  </thead>\n",
       "  <tbody>\n",
       "    <tr>\n",
       "      <th>0</th>\n",
       "      <td>51</td>\n",
       "      <td>50</td>\n",
       "      <td>89.534351</td>\n",
       "      <td>29.050303</td>\n",
       "      <td>27.922244</td>\n",
       "      <td>17906.870190</td>\n",
       "    </tr>\n",
       "    <tr>\n",
       "      <th>1</th>\n",
       "      <td>51</td>\n",
       "      <td>100</td>\n",
       "      <td>145.400825</td>\n",
       "      <td>17.888482</td>\n",
       "      <td>68.775401</td>\n",
       "      <td>29080.165061</td>\n",
       "    </tr>\n",
       "    <tr>\n",
       "      <th>2</th>\n",
       "      <td>51</td>\n",
       "      <td>150</td>\n",
       "      <td>200.000000</td>\n",
       "      <td>13.005000</td>\n",
       "      <td>112.500000</td>\n",
       "      <td>41508.200000</td>\n",
       "    </tr>\n",
       "    <tr>\n",
       "      <th>3</th>\n",
       "      <td>101</td>\n",
       "      <td>50</td>\n",
       "      <td>136.588433</td>\n",
       "      <td>74.684216</td>\n",
       "      <td>18.303160</td>\n",
       "      <td>27317.686578</td>\n",
       "    </tr>\n",
       "    <tr>\n",
       "      <th>4</th>\n",
       "      <td>101</td>\n",
       "      <td>100</td>\n",
       "      <td>178.273384</td>\n",
       "      <td>57.221105</td>\n",
       "      <td>56.093623</td>\n",
       "      <td>35654.677113</td>\n",
       "    </tr>\n",
       "    <tr>\n",
       "      <th>5</th>\n",
       "      <td>101</td>\n",
       "      <td>150</td>\n",
       "      <td>200.000000</td>\n",
       "      <td>51.005000</td>\n",
       "      <td>112.500000</td>\n",
       "      <td>46828.200000</td>\n",
       "    </tr>\n",
       "    <tr>\n",
       "      <th>6</th>\n",
       "      <td>151</td>\n",
       "      <td>100</td>\n",
       "      <td>200.000000</td>\n",
       "      <td>114.005000</td>\n",
       "      <td>50.000000</td>\n",
       "      <td>44710.700000</td>\n",
       "    </tr>\n",
       "    <tr>\n",
       "      <th>7</th>\n",
       "      <td>151</td>\n",
       "      <td>150</td>\n",
       "      <td>200.000000</td>\n",
       "      <td>114.005000</td>\n",
       "      <td>112.500000</td>\n",
       "      <td>55648.200000</td>\n",
       "    </tr>\n",
       "  </tbody>\n",
       "</table>\n",
       "</div>"
      ],
      "text/plain": [
       "    q1   q2           K          L1          L2          Cost\n",
       "0   51   50   89.534351   29.050303   27.922244  17906.870190\n",
       "1   51  100  145.400825   17.888482   68.775401  29080.165061\n",
       "2   51  150  200.000000   13.005000  112.500000  41508.200000\n",
       "3  101   50  136.588433   74.684216   18.303160  27317.686578\n",
       "4  101  100  178.273384   57.221105   56.093623  35654.677113\n",
       "5  101  150  200.000000   51.005000  112.500000  46828.200000\n",
       "6  151  100  200.000000  114.005000   50.000000  44710.700000\n",
       "7  151  150  200.000000  114.005000  112.500000  55648.200000"
      ]
     },
     "execution_count": 37,
     "metadata": {},
     "output_type": "execute_result"
    }
   ],
   "source": [
    "df_i_q1 = pd.DataFrame(dd)\n",
    "df_i_q1['q1']=df_i_q1['q1']+1\n",
    "df_i_q1['K']=np.vectorize(findK)(df_i_q1['q1'],df_i_q1['q2'])\n",
    "df_i_q1['L1'] = np.vectorize(labor)(df_i_q1['q1'],df_i_q1['K'])\n",
    "df_i_q1['L2'] = np.vectorize(labor)(df_i_q1['q2'],df_i_q1['K'])\n",
    "df_i_q1['Cost'] = np.vectorize(cost)(df_i_q1['L1'],df_i_q1['L2'],df_i_q1['K'])\n",
    "df_i_q1"
   ]
  },
  {
   "cell_type": "markdown",
   "id": "92c0f868",
   "metadata": {
    "slideshow": {
     "slide_type": "subslide"
    }
   },
   "source": [
    "### Now increment q2 by 1"
   ]
  },
  {
   "cell_type": "code",
   "execution_count": 38,
   "id": "086a2bf8",
   "metadata": {
    "slideshow": {
     "slide_type": "fragment"
    }
   },
   "outputs": [
    {
     "data": {
      "text/html": [
       "<div>\n",
       "<style scoped>\n",
       "    .dataframe tbody tr th:only-of-type {\n",
       "        vertical-align: middle;\n",
       "    }\n",
       "\n",
       "    .dataframe tbody tr th {\n",
       "        vertical-align: top;\n",
       "    }\n",
       "\n",
       "    .dataframe thead th {\n",
       "        text-align: right;\n",
       "    }\n",
       "</style>\n",
       "<table border=\"1\" class=\"dataframe\">\n",
       "  <thead>\n",
       "    <tr style=\"text-align: right;\">\n",
       "      <th></th>\n",
       "      <th>q1</th>\n",
       "      <th>q2</th>\n",
       "      <th>K</th>\n",
       "      <th>L1</th>\n",
       "      <th>L2</th>\n",
       "      <th>Cost</th>\n",
       "    </tr>\n",
       "  </thead>\n",
       "  <tbody>\n",
       "    <tr>\n",
       "      <th>0</th>\n",
       "      <td>50</td>\n",
       "      <td>51</td>\n",
       "      <td>89.731544</td>\n",
       "      <td>27.860882</td>\n",
       "      <td>28.986462</td>\n",
       "      <td>17946.308813</td>\n",
       "    </tr>\n",
       "    <tr>\n",
       "      <th>1</th>\n",
       "      <td>50</td>\n",
       "      <td>101</td>\n",
       "      <td>146.122380</td>\n",
       "      <td>17.108947</td>\n",
       "      <td>69.811346</td>\n",
       "      <td>29224.476043</td>\n",
       "    </tr>\n",
       "    <tr>\n",
       "      <th>2</th>\n",
       "      <td>50</td>\n",
       "      <td>151</td>\n",
       "      <td>200.000000</td>\n",
       "      <td>12.500000</td>\n",
       "      <td>114.005000</td>\n",
       "      <td>41700.875000</td>\n",
       "    </tr>\n",
       "    <tr>\n",
       "      <th>3</th>\n",
       "      <td>100</td>\n",
       "      <td>51</td>\n",
       "      <td>136.204809</td>\n",
       "      <td>73.418847</td>\n",
       "      <td>19.096242</td>\n",
       "      <td>27240.961804</td>\n",
       "    </tr>\n",
       "    <tr>\n",
       "      <th>4</th>\n",
       "      <td>100</td>\n",
       "      <td>101</td>\n",
       "      <td>178.470584</td>\n",
       "      <td>56.031643</td>\n",
       "      <td>57.157879</td>\n",
       "      <td>35694.117162</td>\n",
       "    </tr>\n",
       "    <tr>\n",
       "      <th>5</th>\n",
       "      <td>100</td>\n",
       "      <td>151</td>\n",
       "      <td>200.000000</td>\n",
       "      <td>50.000000</td>\n",
       "      <td>114.005000</td>\n",
       "      <td>46950.875000</td>\n",
       "    </tr>\n",
       "    <tr>\n",
       "      <th>6</th>\n",
       "      <td>150</td>\n",
       "      <td>101</td>\n",
       "      <td>200.000000</td>\n",
       "      <td>112.500000</td>\n",
       "      <td>51.005000</td>\n",
       "      <td>44675.875000</td>\n",
       "    </tr>\n",
       "    <tr>\n",
       "      <th>7</th>\n",
       "      <td>150</td>\n",
       "      <td>151</td>\n",
       "      <td>200.000000</td>\n",
       "      <td>112.500000</td>\n",
       "      <td>114.005000</td>\n",
       "      <td>55700.875000</td>\n",
       "    </tr>\n",
       "  </tbody>\n",
       "</table>\n",
       "</div>"
      ],
      "text/plain": [
       "    q1   q2           K          L1          L2          Cost\n",
       "0   50   51   89.731544   27.860882   28.986462  17946.308813\n",
       "1   50  101  146.122380   17.108947   69.811346  29224.476043\n",
       "2   50  151  200.000000   12.500000  114.005000  41700.875000\n",
       "3  100   51  136.204809   73.418847   19.096242  27240.961804\n",
       "4  100  101  178.470584   56.031643   57.157879  35694.117162\n",
       "5  100  151  200.000000   50.000000  114.005000  46950.875000\n",
       "6  150  101  200.000000  112.500000   51.005000  44675.875000\n",
       "7  150  151  200.000000  112.500000  114.005000  55700.875000"
      ]
     },
     "execution_count": 38,
     "metadata": {},
     "output_type": "execute_result"
    }
   ],
   "source": [
    "df_i_q2 = pd.DataFrame(dd)\n",
    "df_i_q2['q2']=df_i_q2['q2']+1\n",
    "df_i_q2['K']=np.vectorize(findK)(df_i_q2['q1'],df_i_q2['q2'])\n",
    "df_i_q2['L1'] = np.vectorize(labor)(df_i_q2['q1'],df_i_q2['K'])\n",
    "df_i_q2['L2'] = np.vectorize(labor)(df_i_q2['q2'],df_i_q2['K'])\n",
    "df_i_q2['Cost'] = np.vectorize(cost)(df_i_q2['L1'],df_i_q2['L2'],df_i_q2['K'])\n",
    "df_i_q2"
   ]
  },
  {
   "cell_type": "markdown",
   "id": "80fc7769",
   "metadata": {
    "slideshow": {
     "slide_type": "subslide"
    }
   },
   "source": [
    "# Marginal cost of q1 at each point"
   ]
  },
  {
   "cell_type": "code",
   "execution_count": 39,
   "id": "60a44697",
   "metadata": {},
   "outputs": [
    {
     "data": {
      "text/html": [
       "<div>\n",
       "<style scoped>\n",
       "    .dataframe tbody tr th:only-of-type {\n",
       "        vertical-align: middle;\n",
       "    }\n",
       "\n",
       "    .dataframe tbody tr th {\n",
       "        vertical-align: top;\n",
       "    }\n",
       "\n",
       "    .dataframe thead th {\n",
       "        text-align: right;\n",
       "    }\n",
       "</style>\n",
       "<table border=\"1\" class=\"dataframe\">\n",
       "  <thead>\n",
       "    <tr style=\"text-align: right;\">\n",
       "      <th></th>\n",
       "      <th>q1</th>\n",
       "      <th>q2</th>\n",
       "      <th>K</th>\n",
       "      <th>L1</th>\n",
       "      <th>L2</th>\n",
       "      <th>Cost</th>\n",
       "      <th>mc_q1</th>\n",
       "    </tr>\n",
       "  </thead>\n",
       "  <tbody>\n",
       "    <tr>\n",
       "      <th>0</th>\n",
       "      <td>51</td>\n",
       "      <td>50</td>\n",
       "      <td>89.534351</td>\n",
       "      <td>29.050303</td>\n",
       "      <td>27.922244</td>\n",
       "      <td>17906.870190</td>\n",
       "      <td>158.630841</td>\n",
       "    </tr>\n",
       "    <tr>\n",
       "      <th>1</th>\n",
       "      <td>51</td>\n",
       "      <td>100</td>\n",
       "      <td>145.400825</td>\n",
       "      <td>17.888482</td>\n",
       "      <td>68.775401</td>\n",
       "      <td>29080.165061</td>\n",
       "      <td>97.411569</td>\n",
       "    </tr>\n",
       "    <tr>\n",
       "      <th>2</th>\n",
       "      <td>51</td>\n",
       "      <td>150</td>\n",
       "      <td>200.000000</td>\n",
       "      <td>13.005000</td>\n",
       "      <td>112.500000</td>\n",
       "      <td>41508.200000</td>\n",
       "      <td>70.700000</td>\n",
       "    </tr>\n",
       "    <tr>\n",
       "      <th>3</th>\n",
       "      <td>101</td>\n",
       "      <td>50</td>\n",
       "      <td>136.588433</td>\n",
       "      <td>74.684216</td>\n",
       "      <td>18.303160</td>\n",
       "      <td>27317.686578</td>\n",
       "      <td>206.803155</td>\n",
       "    </tr>\n",
       "    <tr>\n",
       "      <th>4</th>\n",
       "      <td>101</td>\n",
       "      <td>100</td>\n",
       "      <td>178.273384</td>\n",
       "      <td>57.221105</td>\n",
       "      <td>56.093623</td>\n",
       "      <td>35654.677113</td>\n",
       "      <td>158.198414</td>\n",
       "    </tr>\n",
       "    <tr>\n",
       "      <th>5</th>\n",
       "      <td>101</td>\n",
       "      <td>150</td>\n",
       "      <td>200.000000</td>\n",
       "      <td>51.005000</td>\n",
       "      <td>112.500000</td>\n",
       "      <td>46828.200000</td>\n",
       "      <td>140.700000</td>\n",
       "    </tr>\n",
       "    <tr>\n",
       "      <th>6</th>\n",
       "      <td>151</td>\n",
       "      <td>100</td>\n",
       "      <td>200.000000</td>\n",
       "      <td>114.005000</td>\n",
       "      <td>50.000000</td>\n",
       "      <td>44710.700000</td>\n",
       "      <td>210.700000</td>\n",
       "    </tr>\n",
       "    <tr>\n",
       "      <th>7</th>\n",
       "      <td>151</td>\n",
       "      <td>150</td>\n",
       "      <td>200.000000</td>\n",
       "      <td>114.005000</td>\n",
       "      <td>112.500000</td>\n",
       "      <td>55648.200000</td>\n",
       "      <td>210.700000</td>\n",
       "    </tr>\n",
       "  </tbody>\n",
       "</table>\n",
       "</div>"
      ],
      "text/plain": [
       "    q1   q2           K          L1          L2          Cost       mc_q1\n",
       "0   51   50   89.534351   29.050303   27.922244  17906.870190  158.630841\n",
       "1   51  100  145.400825   17.888482   68.775401  29080.165061   97.411569\n",
       "2   51  150  200.000000   13.005000  112.500000  41508.200000   70.700000\n",
       "3  101   50  136.588433   74.684216   18.303160  27317.686578  206.803155\n",
       "4  101  100  178.273384   57.221105   56.093623  35654.677113  158.198414\n",
       "5  101  150  200.000000   51.005000  112.500000  46828.200000  140.700000\n",
       "6  151  100  200.000000  114.005000   50.000000  44710.700000  210.700000\n",
       "7  151  150  200.000000  114.005000  112.500000  55648.200000  210.700000"
      ]
     },
     "execution_count": 39,
     "metadata": {},
     "output_type": "execute_result"
    }
   ],
   "source": [
    "df_i_q1['mc_q1'] = df_i_q1['Cost']-df['Cost']\n",
    "df_i_q1"
   ]
  },
  {
   "cell_type": "markdown",
   "id": "e37af6f1",
   "metadata": {
    "slideshow": {
     "slide_type": "subslide"
    }
   },
   "source": [
    "# Marginal cost of q2 at each point"
   ]
  },
  {
   "cell_type": "code",
   "execution_count": 40,
   "id": "04d6a866",
   "metadata": {},
   "outputs": [
    {
     "data": {
      "text/html": [
       "<div>\n",
       "<style scoped>\n",
       "    .dataframe tbody tr th:only-of-type {\n",
       "        vertical-align: middle;\n",
       "    }\n",
       "\n",
       "    .dataframe tbody tr th {\n",
       "        vertical-align: top;\n",
       "    }\n",
       "\n",
       "    .dataframe thead th {\n",
       "        text-align: right;\n",
       "    }\n",
       "</style>\n",
       "<table border=\"1\" class=\"dataframe\">\n",
       "  <thead>\n",
       "    <tr style=\"text-align: right;\">\n",
       "      <th></th>\n",
       "      <th>q1</th>\n",
       "      <th>q2</th>\n",
       "      <th>K</th>\n",
       "      <th>L1</th>\n",
       "      <th>L2</th>\n",
       "      <th>Cost</th>\n",
       "      <th>mc_q2</th>\n",
       "    </tr>\n",
       "  </thead>\n",
       "  <tbody>\n",
       "    <tr>\n",
       "      <th>0</th>\n",
       "      <td>50</td>\n",
       "      <td>51</td>\n",
       "      <td>89.731544</td>\n",
       "      <td>27.860882</td>\n",
       "      <td>28.986462</td>\n",
       "      <td>17946.308813</td>\n",
       "      <td>198.069463</td>\n",
       "    </tr>\n",
       "    <tr>\n",
       "      <th>1</th>\n",
       "      <td>50</td>\n",
       "      <td>101</td>\n",
       "      <td>146.122380</td>\n",
       "      <td>17.108947</td>\n",
       "      <td>69.811346</td>\n",
       "      <td>29224.476043</td>\n",
       "      <td>241.722551</td>\n",
       "    </tr>\n",
       "    <tr>\n",
       "      <th>2</th>\n",
       "      <td>50</td>\n",
       "      <td>151</td>\n",
       "      <td>200.000000</td>\n",
       "      <td>12.500000</td>\n",
       "      <td>114.005000</td>\n",
       "      <td>41700.875000</td>\n",
       "      <td>263.375000</td>\n",
       "    </tr>\n",
       "    <tr>\n",
       "      <th>3</th>\n",
       "      <td>100</td>\n",
       "      <td>51</td>\n",
       "      <td>136.204809</td>\n",
       "      <td>73.418847</td>\n",
       "      <td>19.096242</td>\n",
       "      <td>27240.961804</td>\n",
       "      <td>130.078380</td>\n",
       "    </tr>\n",
       "    <tr>\n",
       "      <th>4</th>\n",
       "      <td>100</td>\n",
       "      <td>101</td>\n",
       "      <td>178.470584</td>\n",
       "      <td>56.031643</td>\n",
       "      <td>57.157879</td>\n",
       "      <td>35694.117162</td>\n",
       "      <td>197.638464</td>\n",
       "    </tr>\n",
       "    <tr>\n",
       "      <th>5</th>\n",
       "      <td>100</td>\n",
       "      <td>151</td>\n",
       "      <td>200.000000</td>\n",
       "      <td>50.000000</td>\n",
       "      <td>114.005000</td>\n",
       "      <td>46950.875000</td>\n",
       "      <td>263.375000</td>\n",
       "    </tr>\n",
       "    <tr>\n",
       "      <th>6</th>\n",
       "      <td>150</td>\n",
       "      <td>101</td>\n",
       "      <td>200.000000</td>\n",
       "      <td>112.500000</td>\n",
       "      <td>51.005000</td>\n",
       "      <td>44675.875000</td>\n",
       "      <td>175.875000</td>\n",
       "    </tr>\n",
       "    <tr>\n",
       "      <th>7</th>\n",
       "      <td>150</td>\n",
       "      <td>151</td>\n",
       "      <td>200.000000</td>\n",
       "      <td>112.500000</td>\n",
       "      <td>114.005000</td>\n",
       "      <td>55700.875000</td>\n",
       "      <td>263.375000</td>\n",
       "    </tr>\n",
       "  </tbody>\n",
       "</table>\n",
       "</div>"
      ],
      "text/plain": [
       "    q1   q2           K          L1          L2          Cost       mc_q2\n",
       "0   50   51   89.731544   27.860882   28.986462  17946.308813  198.069463\n",
       "1   50  101  146.122380   17.108947   69.811346  29224.476043  241.722551\n",
       "2   50  151  200.000000   12.500000  114.005000  41700.875000  263.375000\n",
       "3  100   51  136.204809   73.418847   19.096242  27240.961804  130.078380\n",
       "4  100  101  178.470584   56.031643   57.157879  35694.117162  197.638464\n",
       "5  100  151  200.000000   50.000000  114.005000  46950.875000  263.375000\n",
       "6  150  101  200.000000  112.500000   51.005000  44675.875000  175.875000\n",
       "7  150  151  200.000000  112.500000  114.005000  55700.875000  263.375000"
      ]
     },
     "execution_count": 40,
     "metadata": {},
     "output_type": "execute_result"
    }
   ],
   "source": [
    "df_i_q2['mc_q2'] = df_i_q2['Cost']-df['Cost']\n",
    "df_i_q2"
   ]
  },
  {
   "cell_type": "markdown",
   "id": "169ca241",
   "metadata": {
    "slideshow": {
     "slide_type": "fragment"
    }
   },
   "source": [
    "__BUT WAIT! Dr. Morris this last one is really hard in Excel! :(__\n",
    "\n",
    "... part of what I'm trying to do is show you Excel's limits :]\n",
    "\n",
    "... I won't ask you to do that part on the exam!"
   ]
  }
 ],
 "metadata": {
  "celltoolbar": "Slideshow",
  "kernelspec": {
   "display_name": "Python 3 (ipykernel)",
   "language": "python",
   "name": "python3"
  },
  "language_info": {
   "codemirror_mode": {
    "name": "ipython",
    "version": 3
   },
   "file_extension": ".py",
   "mimetype": "text/x-python",
   "name": "python",
   "nbconvert_exporter": "python",
   "pygments_lexer": "ipython3",
   "version": "3.9.7"
  }
 },
 "nbformat": 4,
 "nbformat_minor": 5
}
