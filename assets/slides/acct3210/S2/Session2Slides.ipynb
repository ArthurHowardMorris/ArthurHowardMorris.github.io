{
 "cells": [
  {
   "cell_type": "markdown",
   "id": "229414db",
   "metadata": {
    "slideshow": {
     "slide_type": "slide"
    }
   },
   "source": [
    "# Lecture 2: The Nature of Costs\n",
    "## ACCT 3210\n",
    "### Dr. Morris"
   ]
  },
  {
   "cell_type": "markdown",
   "id": "e6bc392c",
   "metadata": {
    "slideshow": {
     "slide_type": "fragment"
    }
   },
   "source": [
    "We are interested in how costs respond to business decisions? Why?\n",
    "- Costs are resources. Business decisions that have costs require resources so we need to make sure we have the resources when required.\n",
    "- Cost, Volume, Profit analysis. Which we will talk about in the following lectures, is based on the relationship between a key decision---the volume decision (how much to produce)---and costs. \n",
    "- We have to know where the resources are and where they need to them to be in order to understand the resource bargins that need to be negotiated. "
   ]
  },
  {
   "cell_type": "markdown",
   "id": "475e6512",
   "metadata": {
    "slideshow": {
     "slide_type": "subslide"
    }
   },
   "source": [
    "## Why do we care about costs?\n",
    "Profit = Revenue - Total Cost \n",
    "\n",
    "Total Cost = Fixed Cost + $\\sum$ (Cost Per Unit $\\times$ \\# Units) [<sup>1</sup>](#fn1) \n",
    "\n",
    "Revenue = $\\sum$ (Price Per Unit $\\times$ \\# Units) [<sup>1</sup>](#fn1) \n",
    "\n",
    "<span id=\"fn1\"><sup>1: Summed across all products.</sup><span> "
   ]
  },
  {
   "cell_type": "markdown",
   "id": "c1b3bafb",
   "metadata": {
    "slideshow": {
     "slide_type": "subslide"
    }
   },
   "source": [
    "- Apple chooses how many devices to produce based projections of how costs and revenues will respond to this decision.[<sup>2</sup>](#fn2) \n",
    "\n",
    "- Today we will focus on modelling the cost portion of this equation.\n",
    "\n",
    "<span id=\"fn2\"><sup>2: All my examples are Apple. Sorry.</sup><span>\n"
   ]
  },
  {
   "cell_type": "markdown",
   "id": "43af9d01",
   "metadata": {
    "slideshow": {
     "slide_type": "slide"
    }
   },
   "source": [
    "# Cost Functions\n",
    "\n",
    "Models of the firm that we use to predict how cost will respond to various actions, which we express as variables in the model."
   ]
  },
  {
   "cell_type": "markdown",
   "id": "84c81c30",
   "metadata": {
    "slideshow": {
     "slide_type": "slide"
    }
   },
   "source": [
    "## A simple example where everything is linear:\n",
    "<center><img src=\"F2-6.png\"  width=\"1500\" height=\"1500\">"
   ]
  },
  {
   "cell_type": "code",
   "execution_count": null,
   "id": "9edbfda2",
   "metadata": {
    "slideshow": {
     "slide_type": "skip"
    }
   },
   "outputs": [],
   "source": [
    "# L.ask()"
   ]
  },
  {
   "cell_type": "markdown",
   "id": "c5b6da4d",
   "metadata": {
    "slideshow": {
     "slide_type": "slide"
    }
   },
   "source": [
    "# Let's look at some cost terms in the context of a single-product firm."
   ]
  },
  {
   "cell_type": "markdown",
   "id": "5ec6790d",
   "metadata": {
    "slideshow": {
     "slide_type": "subslide"
    }
   },
   "source": [
    "- __Fixed cost (FC):__ Cost at zero output. Also used to refer to costs that do not vary with output (or some other driver).\n",
    "- __Variable cost (VC):__ Cost that vary with output (or some other driver)."
   ]
  },
  {
   "cell_type": "markdown",
   "id": "380e88fe",
   "metadata": {
    "slideshow": {
     "slide_type": "subslide"
    }
   },
   "source": [
    "- __Marginal cost (MC):__ The cost per unit at the margin (i.e. the point of interest). This is the rate of change of cost at the margin.\n",
    "- __Incremental cost (IC):__ The cost of producing the next unit. Often MC and IC have the same value, but they are slightly different things!\n",
    "- __Average cost (ATC):__ Total Cost of producing the output over the number of units of output. This is a simple average for single product firms. It is not simple at all for multi-product firms.\n",
    "\n",
    "[__iPRS__ here.](https://iprs.ust.hk/)"
   ]
  },
  {
   "cell_type": "markdown",
   "id": "f6eb18d0",
   "metadata": {
    "slideshow": {
     "slide_type": "subslide"
    }
   },
   "source": [
    "- __Cost object:__ An activity or item for which we want to measure cost.\n",
    "- __Cost driver:__ Any factor or activity whose change leads to a change in costs."
   ]
  },
  {
   "cell_type": "markdown",
   "id": "00ff476d",
   "metadata": {
    "slideshow": {
     "slide_type": "slide"
    }
   },
   "source": [
    "## A simple example where everything is linear:\n",
    "<center><img src=\"F2-6.png\"  width=\"1500\" height=\"1500\">"
   ]
  },
  {
   "cell_type": "markdown",
   "id": "e1bda11e",
   "metadata": {
    "slideshow": {
     "slide_type": "fragment"
    }
   },
   "source": [
    "### Can you see anything unrealistic in this graph?"
   ]
  },
  {
   "cell_type": "markdown",
   "id": "4042988d",
   "metadata": {
    "slideshow": {
     "slide_type": "slide"
    }
   },
   "source": [
    "## Most firms' costs are non-linear\n",
    "<center><img src=\"F2-1.png\"  width=\"1500\" height=\"1500\">"
   ]
  },
  {
   "cell_type": "markdown",
   "id": "f881cf02",
   "metadata": {
    "slideshow": {
     "slide_type": "fragment"
    }
   },
   "source": [
    "1. What is the economic significance of the area to the left of the line from X to A?\n",
    "2. What is the economic significance of the area between X->A and Y->B?\n",
    "3. What is the economic significance of the area to the right of Y->B?"
   ]
  },
  {
   "cell_type": "code",
   "execution_count": null,
   "id": "f121db3e",
   "metadata": {
    "slideshow": {
     "slide_type": "skip"
    }
   },
   "outputs": [],
   "source": [
    "# L.ask()"
   ]
  },
  {
   "cell_type": "markdown",
   "id": "7db7b50e",
   "metadata": {
    "slideshow": {
     "slide_type": "subslide"
    }
   },
   "source": [
    "<center><img src=\"F2-2.png\"  width=\"2500\" height=\"2500\">"
   ]
  },
  {
   "cell_type": "markdown",
   "id": "142e9497",
   "metadata": {
    "slideshow": {
     "slide_type": "fragment"
    }
   },
   "source": [
    "1. If marginal cost is the slope of the tangent line and incremental cost is the cost of one unit, then when are they the same on this graph?\n",
    "2. When are they different?"
   ]
  },
  {
   "cell_type": "code",
   "execution_count": null,
   "id": "29c111c8",
   "metadata": {
    "slideshow": {
     "slide_type": "skip"
    }
   },
   "outputs": [],
   "source": [
    "# L.ask()"
   ]
  },
  {
   "cell_type": "markdown",
   "id": "24b76a74",
   "metadata": {
    "slideshow": {
     "slide_type": "subslide"
    }
   },
   "source": [
    "## At any scale there is a range within which production is efficient\n",
    "<center><img src=\"F2-3.png\"  width=\"2500\" height=\"2500\">\n",
    "    \n",
    "Producing outside of this range is less efficient, unless we change the scale of the firm."
   ]
  },
  {
   "cell_type": "markdown",
   "id": "d5159228",
   "metadata": {
    "slideshow": {
     "slide_type": "subslide"
    }
   },
   "source": [
    "<center><img src=\"F2-4.png\"  width=\"2500\" height=\"2500\">\n",
    "    \n",
    "- Most firms have a mix of these attributes.\n",
    "- Steps occur when the scale of the firm changes (e.g. we add a new factory)."
   ]
  },
  {
   "cell_type": "markdown",
   "id": "9140026f",
   "metadata": {
    "slideshow": {
     "slide_type": "slide"
    }
   },
   "source": [
    "# Let's talk about the homework assignment!\n",
    "- [Download the Excel File here](https://arthurhowardmorris.github.io/resources/semesters/s2025/acct3210.html)\n",
    "- __Please note that Python, Excel, or any other set of tools can be used on the homework!__"
   ]
  },
  {
   "cell_type": "markdown",
   "id": "7e9f3ee9",
   "metadata": {
    "slideshow": {
     "slide_type": "slide"
    }
   },
   "source": [
    "## Cost in a Multiproduct Firm:\n",
    "\n",
    "Consider three firms that produce two products with quantities denoted $q_1$ and $q_2$. The three distinct cost functions are:\n",
    "- $C_1(q_1, q_2) = 10q_1 + 5q_2$\n",
    "- $C_2(q_1, q_2) = 6q_1 + q_1^2 + 8q_2 + q_2^2$\n",
    "- $C_3(q_1, q_2) = 7q_1 + 9q_2 + q_1q_2$"
   ]
  },
  {
   "cell_type": "markdown",
   "id": "f8885be8",
   "metadata": {
    "slideshow": {
     "slide_type": "fragment"
    }
   },
   "source": [
    "1. Fill in the following table for each of the cost functions. (Incremental cost refers to the incremental cost of one additional unit of output.)\n",
    "\n",
    "\n",
    "| Output     | Total Cost | Average Cost | Marginal Cost | Incremental Cost |\n",
    "|------------|------------|--------------|---------------|------------------|\n",
    "| $q_1, q_2$ |            | $q_1, q_2$   | $q_1, q_2$    | $q_1, q_2$       |\n",
    "| 100, 50    |            |              |               |                  |\n",
    "| 60, 50     |            |              |               |                  |\n",
    "| 40, 50     |            |              |               |                  |\n",
    "| 30, 10     |            |              |               |                  |\n",
    "| 30, 50     |            |              |               |                  |\n",
    "| 30, 70     |            |              |               |                  |\n",
    "\n"
   ]
  },
  {
   "cell_type": "markdown",
   "id": "9909d1d6",
   "metadata": {
    "slideshow": {
     "slide_type": "slide"
    }
   },
   "source": [
    "# Total cost:\n",
    "\n",
    "- Plug the output data into each cost function!"
   ]
  },
  {
   "cell_type": "markdown",
   "id": "18ea1947",
   "metadata": {
    "slideshow": {
     "slide_type": "fragment"
    }
   },
   "source": [
    "Let's fill this out using Python (__don't panic__), Excel (also __don't panic__).\n",
    "\n",
    "We'll start with Excel"
   ]
  },
  {
   "cell_type": "markdown",
   "id": "7f012bde",
   "metadata": {
    "slideshow": {
     "slide_type": "subslide"
    }
   },
   "source": [
    "## Reference items:\n",
    "- __Marginal cost (MC):__ The cost per unit at the margin (i.e. the point of interest). This is the rate of change of cost at the margin.\n",
    "- __Incremental cost (IC):__ The cost of producing the next unit. Often MC and IC have the same value, but they are slightly different things!\n",
    "- __Average cost (ATC):__ Total Cost of producing the output over the number of units of output. This is a simple average for single product firms. It is not simple at all for multi-product firms.\n",
    "- $C_1(q_1, q_2) = 10q_1 + 5q_2$\n",
    "- $C_2(q_1, q_2) = 6q_1 + q_1^2 + 8q_2 + q_2^2$\n",
    "- $C_3(q_1, q_2) = 7q_1 + 9q_2 + q_1q_2$"
   ]
  },
  {
   "cell_type": "markdown",
   "id": "960e433e",
   "metadata": {
    "slideshow": {
     "slide_type": "slide"
    }
   },
   "source": [
    "## Now Python\n",
    "\n",
    "[You can follow along in colab.](https://colab.google)\n",
    "\n",
    "First we need to load some data science libraries:"
   ]
  },
  {
   "cell_type": "code",
   "execution_count": 1,
   "id": "514d5e9a",
   "metadata": {
    "slideshow": {
     "slide_type": "fragment"
    }
   },
   "outputs": [],
   "source": [
    "# import pandas so we can put everything into a nice friendly data frame\n",
    "import pandas as pd \n",
    "import numpy as np"
   ]
  },
  {
   "cell_type": "code",
   "execution_count": 2,
   "id": "a2f70c1f",
   "metadata": {
    "slideshow": {
     "slide_type": "fragment"
    }
   },
   "outputs": [
    {
     "data": {
      "text/plain": [
       "{'q1': [100, 60, 40, 30, 30, 30], 'q2': [50, 50, 50, 10, 50, 70]}"
      ]
     },
     "execution_count": 2,
     "metadata": {},
     "output_type": "execute_result"
    }
   ],
   "source": [
    "# lets put what we know into a dict (python dicts are POWERFUL use them when in doubt)\n",
    "outputs = {\n",
    "    \"q1\" : [100, 60, 40, 30, 30, 30],\n",
    "    \"q2\" : [50, 50, 50, 10, 50, 70],\n",
    "}\n",
    "outputs"
   ]
  },
  {
   "cell_type": "markdown",
   "id": "46f38c19",
   "metadata": {
    "slideshow": {
     "slide_type": "subslide"
    }
   },
   "source": [
    "# Table for Firm 1"
   ]
  },
  {
   "cell_type": "code",
   "execution_count": 3,
   "id": "906de215",
   "metadata": {
    "slideshow": {
     "slide_type": "fragment"
    }
   },
   "outputs": [
    {
     "data": {
      "text/html": [
       "<div>\n",
       "<style scoped>\n",
       "    .dataframe tbody tr th:only-of-type {\n",
       "        vertical-align: middle;\n",
       "    }\n",
       "\n",
       "    .dataframe tbody tr th {\n",
       "        vertical-align: top;\n",
       "    }\n",
       "\n",
       "    .dataframe thead th {\n",
       "        text-align: right;\n",
       "    }\n",
       "</style>\n",
       "<table border=\"1\" class=\"dataframe\">\n",
       "  <thead>\n",
       "    <tr style=\"text-align: right;\">\n",
       "      <th></th>\n",
       "      <th>q1</th>\n",
       "      <th>q2</th>\n",
       "    </tr>\n",
       "  </thead>\n",
       "  <tbody>\n",
       "    <tr>\n",
       "      <th>0</th>\n",
       "      <td>100</td>\n",
       "      <td>50</td>\n",
       "    </tr>\n",
       "    <tr>\n",
       "      <th>1</th>\n",
       "      <td>60</td>\n",
       "      <td>50</td>\n",
       "    </tr>\n",
       "    <tr>\n",
       "      <th>2</th>\n",
       "      <td>40</td>\n",
       "      <td>50</td>\n",
       "    </tr>\n",
       "    <tr>\n",
       "      <th>3</th>\n",
       "      <td>30</td>\n",
       "      <td>10</td>\n",
       "    </tr>\n",
       "    <tr>\n",
       "      <th>4</th>\n",
       "      <td>30</td>\n",
       "      <td>50</td>\n",
       "    </tr>\n",
       "    <tr>\n",
       "      <th>5</th>\n",
       "      <td>30</td>\n",
       "      <td>70</td>\n",
       "    </tr>\n",
       "  </tbody>\n",
       "</table>\n",
       "</div>"
      ],
      "text/plain": [
       "    q1  q2\n",
       "0  100  50\n",
       "1   60  50\n",
       "2   40  50\n",
       "3   30  10\n",
       "4   30  50\n",
       "5   30  70"
      ]
     },
     "execution_count": 3,
     "metadata": {},
     "output_type": "execute_result"
    }
   ],
   "source": [
    "# use pandas to make that into a dataframe\n",
    "cost_frame_1 = pd.DataFrame(outputs) \n",
    "cost_frame_2 = pd.DataFrame(outputs) \n",
    "cost_frame_3 = pd.DataFrame(outputs) \n",
    "cost_frame_1"
   ]
  },
  {
   "cell_type": "markdown",
   "id": "4844a21e",
   "metadata": {
    "slideshow": {
     "slide_type": "slide"
    }
   },
   "source": [
    "### Next write down our cost functions as... well... functions"
   ]
  },
  {
   "cell_type": "code",
   "execution_count": 31,
   "id": "4bacb693",
   "metadata": {
    "slideshow": {
     "slide_type": "fragment"
    }
   },
   "outputs": [],
   "source": [
    "# write down our cost functions\n",
    "## total cost\n",
    "def cost_1(q1,q2):\n",
    "    return 10 * q1 + 5 * q2 \n",
    "def cost_2(q1,q2):\n",
    "    return 6 * q1 + q1**2 + 8 * q2 + q2**2 # note that we have to use ** inplace of ^ here\n",
    "def cost_3(q1,q2):\n",
    "    return 7 * q1 + 9 * q2 + q1 * q2    "
   ]
  },
  {
   "cell_type": "markdown",
   "id": "8203e49d",
   "metadata": {
    "slideshow": {
     "slide_type": "fragment"
    }
   },
   "source": [
    "Notice how close this is to how you might type this on your phone!"
   ]
  },
  {
   "cell_type": "markdown",
   "id": "9dc7ed90",
   "metadata": {
    "slideshow": {
     "slide_type": "slide"
    }
   },
   "source": [
    "### Then we can use those functions to calculcate average cost\n",
    "\n",
    "- We can just pass q1,q2 as arguements to the cost functions"
   ]
  },
  {
   "cell_type": "code",
   "execution_count": 5,
   "id": "024e1e62",
   "metadata": {},
   "outputs": [
    {
     "data": {
      "text/plain": [
       "1250"
      ]
     },
     "execution_count": 5,
     "metadata": {},
     "output_type": "execute_result"
    }
   ],
   "source": [
    "cost_1(100,50)"
   ]
  },
  {
   "cell_type": "code",
   "execution_count": 6,
   "id": "b1a39101",
   "metadata": {},
   "outputs": [
    {
     "data": {
      "text/plain": [
       "13500"
      ]
     },
     "execution_count": 6,
     "metadata": {},
     "output_type": "execute_result"
    }
   ],
   "source": [
    "cost_2(100,50)"
   ]
  },
  {
   "cell_type": "code",
   "execution_count": 7,
   "id": "bc7a3caa",
   "metadata": {},
   "outputs": [
    {
     "data": {
      "text/plain": [
       "6150"
      ]
     },
     "execution_count": 7,
     "metadata": {},
     "output_type": "execute_result"
    }
   ],
   "source": [
    "cost_3(100,50)"
   ]
  },
  {
   "cell_type": "markdown",
   "id": "03938aab",
   "metadata": {
    "slideshow": {
     "slide_type": "fragment"
    }
   },
   "source": [
    "Now we need to do this to all the data in the data frames"
   ]
  },
  {
   "cell_type": "markdown",
   "id": "bfca89b4",
   "metadata": {
    "slideshow": {
     "slide_type": "subslide"
    }
   },
   "source": [
    "## slow simple way:"
   ]
  },
  {
   "cell_type": "code",
   "execution_count": 36,
   "id": "b9683ece",
   "metadata": {
    "slideshow": {
     "slide_type": "fragment"
    }
   },
   "outputs": [
    {
     "name": "stdout",
     "output_type": "stream",
     "text": [
      "[1250, 850, 650, 350, 550, 650]\n"
     ]
    },
    {
     "data": {
      "text/plain": [
       "{'q1': [100, 60, 40, 30, 30, 30], 'q2': [50, 50, 50, 10, 50, 70]}"
      ]
     },
     "execution_count": 36,
     "metadata": {},
     "output_type": "execute_result"
    }
   ],
   "source": [
    "TotalCost1 = []\n",
    "for q1,q2 in zip(outputs['q1'],outputs['q2']):\n",
    "    TotalCost1.append(cost_1(q1,q2))\n",
    "print(TotalCost1)\n",
    "outputs"
   ]
  },
  {
   "cell_type": "code",
   "execution_count": 38,
   "id": "13bec753",
   "metadata": {},
   "outputs": [
    {
     "data": {
      "text/plain": [
       "1250"
      ]
     },
     "execution_count": 38,
     "metadata": {},
     "output_type": "execute_result"
    }
   ],
   "source": [
    "cost_1(100,50)"
   ]
  },
  {
   "cell_type": "markdown",
   "id": "e0c665b1",
   "metadata": {
    "slideshow": {
     "slide_type": "subslide"
    }
   },
   "source": [
    "## less simple but faster way"
   ]
  },
  {
   "cell_type": "code",
   "execution_count": 9,
   "id": "5c86b566",
   "metadata": {
    "slideshow": {
     "slide_type": "fragment"
    }
   },
   "outputs": [
    {
     "name": "stdout",
     "output_type": "stream",
     "text": [
      "[1250, 850, 650, 350, 550, 650]\n"
     ]
    }
   ],
   "source": [
    "TotalCost1 = [cost_1(q1,q2) for q1,q2 in zip(outputs['q1'],outputs['q2'])]\n",
    "print(TotalCost1)"
   ]
  },
  {
   "cell_type": "markdown",
   "id": "ae2aaac5",
   "metadata": {
    "slideshow": {
     "slide_type": "subslide"
    }
   },
   "source": [
    "## super fast way that scales to large datasets"
   ]
  },
  {
   "cell_type": "code",
   "execution_count": 10,
   "id": "8fd98b37",
   "metadata": {
    "slideshow": {
     "slide_type": "fragment"
    }
   },
   "outputs": [
    {
     "data": {
      "text/html": [
       "<div>\n",
       "<style scoped>\n",
       "    .dataframe tbody tr th:only-of-type {\n",
       "        vertical-align: middle;\n",
       "    }\n",
       "\n",
       "    .dataframe tbody tr th {\n",
       "        vertical-align: top;\n",
       "    }\n",
       "\n",
       "    .dataframe thead th {\n",
       "        text-align: right;\n",
       "    }\n",
       "</style>\n",
       "<table border=\"1\" class=\"dataframe\">\n",
       "  <thead>\n",
       "    <tr style=\"text-align: right;\">\n",
       "      <th></th>\n",
       "      <th>q1</th>\n",
       "      <th>q2</th>\n",
       "      <th>Total Cost</th>\n",
       "    </tr>\n",
       "  </thead>\n",
       "  <tbody>\n",
       "    <tr>\n",
       "      <th>0</th>\n",
       "      <td>100</td>\n",
       "      <td>50</td>\n",
       "      <td>1250</td>\n",
       "    </tr>\n",
       "    <tr>\n",
       "      <th>1</th>\n",
       "      <td>60</td>\n",
       "      <td>50</td>\n",
       "      <td>850</td>\n",
       "    </tr>\n",
       "    <tr>\n",
       "      <th>2</th>\n",
       "      <td>40</td>\n",
       "      <td>50</td>\n",
       "      <td>650</td>\n",
       "    </tr>\n",
       "    <tr>\n",
       "      <th>3</th>\n",
       "      <td>30</td>\n",
       "      <td>10</td>\n",
       "      <td>350</td>\n",
       "    </tr>\n",
       "    <tr>\n",
       "      <th>4</th>\n",
       "      <td>30</td>\n",
       "      <td>50</td>\n",
       "      <td>550</td>\n",
       "    </tr>\n",
       "    <tr>\n",
       "      <th>5</th>\n",
       "      <td>30</td>\n",
       "      <td>70</td>\n",
       "      <td>650</td>\n",
       "    </tr>\n",
       "  </tbody>\n",
       "</table>\n",
       "</div>"
      ],
      "text/plain": [
       "    q1  q2  Total Cost\n",
       "0  100  50        1250\n",
       "1   60  50         850\n",
       "2   40  50         650\n",
       "3   30  10         350\n",
       "4   30  50         550\n",
       "5   30  70         650"
      ]
     },
     "execution_count": 10,
     "metadata": {},
     "output_type": "execute_result"
    }
   ],
   "source": [
    "cost_frame_1[\"Total Cost\"] = np.vectorize(cost_1)(cost_frame_1['q1'],cost_frame_1['q2'])\n",
    "cost_frame_1"
   ]
  },
  {
   "cell_type": "code",
   "execution_count": 11,
   "id": "9d44f8eb",
   "metadata": {
    "slideshow": {
     "slide_type": "fragment"
    }
   },
   "outputs": [
    {
     "data": {
      "text/html": [
       "<div>\n",
       "<style scoped>\n",
       "    .dataframe tbody tr th:only-of-type {\n",
       "        vertical-align: middle;\n",
       "    }\n",
       "\n",
       "    .dataframe tbody tr th {\n",
       "        vertical-align: top;\n",
       "    }\n",
       "\n",
       "    .dataframe thead th {\n",
       "        text-align: right;\n",
       "    }\n",
       "</style>\n",
       "<table border=\"1\" class=\"dataframe\">\n",
       "  <thead>\n",
       "    <tr style=\"text-align: right;\">\n",
       "      <th></th>\n",
       "      <th>q1</th>\n",
       "      <th>q2</th>\n",
       "      <th>Total Cost</th>\n",
       "    </tr>\n",
       "  </thead>\n",
       "  <tbody>\n",
       "    <tr>\n",
       "      <th>0</th>\n",
       "      <td>100</td>\n",
       "      <td>50</td>\n",
       "      <td>13500</td>\n",
       "    </tr>\n",
       "    <tr>\n",
       "      <th>1</th>\n",
       "      <td>60</td>\n",
       "      <td>50</td>\n",
       "      <td>6860</td>\n",
       "    </tr>\n",
       "    <tr>\n",
       "      <th>2</th>\n",
       "      <td>40</td>\n",
       "      <td>50</td>\n",
       "      <td>4740</td>\n",
       "    </tr>\n",
       "    <tr>\n",
       "      <th>3</th>\n",
       "      <td>30</td>\n",
       "      <td>10</td>\n",
       "      <td>1260</td>\n",
       "    </tr>\n",
       "    <tr>\n",
       "      <th>4</th>\n",
       "      <td>30</td>\n",
       "      <td>50</td>\n",
       "      <td>3980</td>\n",
       "    </tr>\n",
       "    <tr>\n",
       "      <th>5</th>\n",
       "      <td>30</td>\n",
       "      <td>70</td>\n",
       "      <td>6540</td>\n",
       "    </tr>\n",
       "  </tbody>\n",
       "</table>\n",
       "</div>"
      ],
      "text/plain": [
       "    q1  q2  Total Cost\n",
       "0  100  50       13500\n",
       "1   60  50        6860\n",
       "2   40  50        4740\n",
       "3   30  10        1260\n",
       "4   30  50        3980\n",
       "5   30  70        6540"
      ]
     },
     "execution_count": 11,
     "metadata": {},
     "output_type": "execute_result"
    }
   ],
   "source": [
    "# we can do this for the other to firms:\n",
    "cost_frame_2[\"Total Cost\"] = np.vectorize(cost_2)(cost_frame_2['q1'],cost_frame_2['q2'])\n",
    "cost_frame_3[\"Total Cost\"] = np.vectorize(cost_3)(cost_frame_3['q1'],cost_frame_3['q2'])\n",
    "cost_frame_2"
   ]
  },
  {
   "cell_type": "markdown",
   "id": "fa08d554",
   "metadata": {
    "slideshow": {
     "slide_type": "slide"
    }
   },
   "source": [
    "# Average cost\n",
    "\n",
    "The average cost of a each product is the total cost for producing __that product alone__ devided by the number of units produced."
   ]
  },
  {
   "cell_type": "markdown",
   "id": "8f4c755a",
   "metadata": {
    "slideshow": {
     "slide_type": "fragment"
    }
   },
   "source": [
    "For firm 1 & 2 this is straightforward, each firm has an AC for each product where we plug in zero for the other product:"
   ]
  },
  {
   "cell_type": "markdown",
   "id": "54d9b51f",
   "metadata": {
    "slideshow": {
     "slide_type": "fragment"
    }
   },
   "source": [
    "- $AC_1(q_1) = (10q_1 + 0)/q_1$\n",
    "- $AC_1(q_2) = (0 + 5q_2)/q_2$"
   ]
  },
  {
   "cell_type": "markdown",
   "id": "ef6907b5",
   "metadata": {
    "slideshow": {
     "slide_type": "fragment"
    }
   },
   "source": [
    "- $AC_2(q_1) = (6q_1 + q_1^2 + 0 + 0)/q_1$\n",
    "- $AC_2(q_2) = (0 + 0 + 8q_2 + q_2^2)/q_2$"
   ]
  },
  {
   "cell_type": "markdown",
   "id": "8499d3d7",
   "metadata": {
    "slideshow": {
     "slide_type": "slide"
    }
   },
   "source": [
    "## What about firm 3?\n",
    "\n",
    "$$C_3(q_1, q_2) = 7q_1 + 9q_2 + q_1q_2$$"
   ]
  },
  {
   "cell_type": "markdown",
   "id": "c5571688",
   "metadata": {
    "slideshow": {
     "slide_type": "fragment"
    }
   },
   "source": [
    "## What does $q_1\\times q_2$  mean?\n",
    "\n",
    "- when two products are multiplied like this we often refer to it as an \"interaction\"\n",
    "- Plugging in zero no longer separates the costs."
   ]
  },
  {
   "cell_type": "code",
   "execution_count": 12,
   "id": "b90c6dda",
   "metadata": {
    "slideshow": {
     "slide_type": "skip"
    }
   },
   "outputs": [],
   "source": [
    "# L.ask()"
   ]
  },
  {
   "cell_type": "markdown",
   "id": "bf21139c",
   "metadata": {
    "slideshow": {
     "slide_type": "fragment"
    }
   },
   "source": [
    "- Calculating the average cost for each product requires us to separate the costs of the products.\n",
    "- When there are interactions between products their costs are __inseparable__!!\n",
    "- So \"average cost\" is no longer a meaningful number! "
   ]
  },
  {
   "cell_type": "markdown",
   "id": "ae3b6389",
   "metadata": {
    "slideshow": {
     "slide_type": "fragment"
    }
   },
   "source": [
    "One way to think of this is that average cost requires us to pretend that the firm only produces one product. When we can separate costs then this pretend firm tells us something about the real firm. When we cannot separate costs, this pretend firm __does not tell us anything about the real firm__!! "
   ]
  },
  {
   "cell_type": "markdown",
   "id": "7b7e2a3d",
   "metadata": {
    "slideshow": {
     "slide_type": "slide"
    }
   },
   "source": [
    "## One way to do this in python is to write a function "
   ]
  },
  {
   "cell_type": "code",
   "execution_count": 42,
   "id": "bad23fb7",
   "metadata": {
    "slideshow": {
     "slide_type": "fragment"
    }
   },
   "outputs": [],
   "source": [
    "# avg cost by product\n",
    "def avg_cost(cost_function,q1=0,q2=0):\n",
    "    \"\"\"\n",
    "    cost_function: the cost function you are averaging\n",
    "    pass either q1 or q2 but not both to tell which product to use\n",
    "    \"\"\"\n",
    "    if q1!=0 & q2!=0:\n",
    "        print(\"only pass one nonzero argument\")\n",
    "        return None\n",
    "    else:\n",
    "        return cost_function(q1,q2) / (q1+q2)\n"
   ]
  },
  {
   "cell_type": "markdown",
   "id": "e9731f7e",
   "metadata": {
    "slideshow": {
     "slide_type": "subslide"
    }
   },
   "source": [
    "## Firm 1"
   ]
  },
  {
   "cell_type": "code",
   "execution_count": 44,
   "id": "63f7a9b1",
   "metadata": {},
   "outputs": [
    {
     "data": {
      "text/html": [
       "<div>\n",
       "<style scoped>\n",
       "    .dataframe tbody tr th:only-of-type {\n",
       "        vertical-align: middle;\n",
       "    }\n",
       "\n",
       "    .dataframe tbody tr th {\n",
       "        vertical-align: top;\n",
       "    }\n",
       "\n",
       "    .dataframe thead th {\n",
       "        text-align: right;\n",
       "    }\n",
       "</style>\n",
       "<table border=\"1\" class=\"dataframe\">\n",
       "  <thead>\n",
       "    <tr style=\"text-align: right;\">\n",
       "      <th></th>\n",
       "      <th>q1</th>\n",
       "      <th>q2</th>\n",
       "      <th>Total Cost</th>\n",
       "      <th>Average Cost q1</th>\n",
       "      <th>Average Cost q2</th>\n",
       "      <th>Marginal Cost q1</th>\n",
       "      <th>Marginal Cost q2</th>\n",
       "      <th>Incremental Cost q1</th>\n",
       "      <th>Incremental Cost q2</th>\n",
       "    </tr>\n",
       "  </thead>\n",
       "  <tbody>\n",
       "    <tr>\n",
       "      <th>0</th>\n",
       "      <td>100</td>\n",
       "      <td>50</td>\n",
       "      <td>1250</td>\n",
       "      <td>10.0</td>\n",
       "      <td>5.0</td>\n",
       "      <td>10</td>\n",
       "      <td>5</td>\n",
       "      <td>10</td>\n",
       "      <td>5</td>\n",
       "    </tr>\n",
       "    <tr>\n",
       "      <th>1</th>\n",
       "      <td>60</td>\n",
       "      <td>50</td>\n",
       "      <td>850</td>\n",
       "      <td>10.0</td>\n",
       "      <td>5.0</td>\n",
       "      <td>10</td>\n",
       "      <td>5</td>\n",
       "      <td>10</td>\n",
       "      <td>5</td>\n",
       "    </tr>\n",
       "    <tr>\n",
       "      <th>2</th>\n",
       "      <td>40</td>\n",
       "      <td>50</td>\n",
       "      <td>650</td>\n",
       "      <td>10.0</td>\n",
       "      <td>5.0</td>\n",
       "      <td>10</td>\n",
       "      <td>5</td>\n",
       "      <td>10</td>\n",
       "      <td>5</td>\n",
       "    </tr>\n",
       "    <tr>\n",
       "      <th>3</th>\n",
       "      <td>30</td>\n",
       "      <td>10</td>\n",
       "      <td>350</td>\n",
       "      <td>10.0</td>\n",
       "      <td>5.0</td>\n",
       "      <td>10</td>\n",
       "      <td>5</td>\n",
       "      <td>10</td>\n",
       "      <td>5</td>\n",
       "    </tr>\n",
       "    <tr>\n",
       "      <th>4</th>\n",
       "      <td>30</td>\n",
       "      <td>50</td>\n",
       "      <td>550</td>\n",
       "      <td>10.0</td>\n",
       "      <td>5.0</td>\n",
       "      <td>10</td>\n",
       "      <td>5</td>\n",
       "      <td>10</td>\n",
       "      <td>5</td>\n",
       "    </tr>\n",
       "    <tr>\n",
       "      <th>5</th>\n",
       "      <td>30</td>\n",
       "      <td>70</td>\n",
       "      <td>650</td>\n",
       "      <td>10.0</td>\n",
       "      <td>5.0</td>\n",
       "      <td>10</td>\n",
       "      <td>5</td>\n",
       "      <td>10</td>\n",
       "      <td>5</td>\n",
       "    </tr>\n",
       "  </tbody>\n",
       "</table>\n",
       "</div>"
      ],
      "text/plain": [
       "    q1  q2  Total Cost  Average Cost q1  Average Cost q2  Marginal Cost q1  \\\n",
       "0  100  50        1250             10.0              5.0                10   \n",
       "1   60  50         850             10.0              5.0                10   \n",
       "2   40  50         650             10.0              5.0                10   \n",
       "3   30  10         350             10.0              5.0                10   \n",
       "4   30  50         550             10.0              5.0                10   \n",
       "5   30  70         650             10.0              5.0                10   \n",
       "\n",
       "   Marginal Cost q2  Incremental Cost q1  Incremental Cost q2  \n",
       "0                 5                   10                    5  \n",
       "1                 5                   10                    5  \n",
       "2                 5                   10                    5  \n",
       "3                 5                   10                    5  \n",
       "4                 5                   10                    5  \n",
       "5                 5                   10                    5  "
      ]
     },
     "execution_count": 44,
     "metadata": {},
     "output_type": "execute_result"
    }
   ],
   "source": [
    "# average cost the fast way\n",
    "cost_frame_1[\"Average Cost q1\"] = np.vectorize(avg_cost)(cost_1,q1=cost_frame_1['q1'])\n",
    "cost_frame_1[\"Average Cost q2\"] = np.vectorize(avg_cost)(cost_1,q2=cost_frame_1['q2'])\n",
    "cost_frame_1"
   ]
  },
  {
   "cell_type": "markdown",
   "id": "5f3f236f",
   "metadata": {
    "slideshow": {
     "slide_type": "subslide"
    }
   },
   "source": [
    "## Firm 2"
   ]
  },
  {
   "cell_type": "code",
   "execution_count": 45,
   "id": "6e1faaeb",
   "metadata": {},
   "outputs": [
    {
     "data": {
      "text/html": [
       "<div>\n",
       "<style scoped>\n",
       "    .dataframe tbody tr th:only-of-type {\n",
       "        vertical-align: middle;\n",
       "    }\n",
       "\n",
       "    .dataframe tbody tr th {\n",
       "        vertical-align: top;\n",
       "    }\n",
       "\n",
       "    .dataframe thead th {\n",
       "        text-align: right;\n",
       "    }\n",
       "</style>\n",
       "<table border=\"1\" class=\"dataframe\">\n",
       "  <thead>\n",
       "    <tr style=\"text-align: right;\">\n",
       "      <th></th>\n",
       "      <th>q1</th>\n",
       "      <th>q2</th>\n",
       "      <th>Total Cost</th>\n",
       "      <th>Average Cost q1</th>\n",
       "      <th>Average Cost q2</th>\n",
       "      <th>Marginal Cost q1</th>\n",
       "      <th>Marginal Cost q2</th>\n",
       "      <th>Incremental Cost q1</th>\n",
       "      <th>Incremental Cost q2</th>\n",
       "    </tr>\n",
       "  </thead>\n",
       "  <tbody>\n",
       "    <tr>\n",
       "      <th>0</th>\n",
       "      <td>100</td>\n",
       "      <td>50</td>\n",
       "      <td>13500</td>\n",
       "      <td>106.0</td>\n",
       "      <td>58.0</td>\n",
       "      <td>206</td>\n",
       "      <td>108</td>\n",
       "      <td>207</td>\n",
       "      <td>109</td>\n",
       "    </tr>\n",
       "    <tr>\n",
       "      <th>1</th>\n",
       "      <td>60</td>\n",
       "      <td>50</td>\n",
       "      <td>6860</td>\n",
       "      <td>66.0</td>\n",
       "      <td>58.0</td>\n",
       "      <td>126</td>\n",
       "      <td>108</td>\n",
       "      <td>127</td>\n",
       "      <td>109</td>\n",
       "    </tr>\n",
       "    <tr>\n",
       "      <th>2</th>\n",
       "      <td>40</td>\n",
       "      <td>50</td>\n",
       "      <td>4740</td>\n",
       "      <td>46.0</td>\n",
       "      <td>58.0</td>\n",
       "      <td>86</td>\n",
       "      <td>108</td>\n",
       "      <td>87</td>\n",
       "      <td>109</td>\n",
       "    </tr>\n",
       "    <tr>\n",
       "      <th>3</th>\n",
       "      <td>30</td>\n",
       "      <td>10</td>\n",
       "      <td>1260</td>\n",
       "      <td>36.0</td>\n",
       "      <td>18.0</td>\n",
       "      <td>66</td>\n",
       "      <td>28</td>\n",
       "      <td>67</td>\n",
       "      <td>29</td>\n",
       "    </tr>\n",
       "    <tr>\n",
       "      <th>4</th>\n",
       "      <td>30</td>\n",
       "      <td>50</td>\n",
       "      <td>3980</td>\n",
       "      <td>36.0</td>\n",
       "      <td>58.0</td>\n",
       "      <td>66</td>\n",
       "      <td>108</td>\n",
       "      <td>67</td>\n",
       "      <td>109</td>\n",
       "    </tr>\n",
       "    <tr>\n",
       "      <th>5</th>\n",
       "      <td>30</td>\n",
       "      <td>70</td>\n",
       "      <td>6540</td>\n",
       "      <td>36.0</td>\n",
       "      <td>78.0</td>\n",
       "      <td>66</td>\n",
       "      <td>148</td>\n",
       "      <td>67</td>\n",
       "      <td>149</td>\n",
       "    </tr>\n",
       "  </tbody>\n",
       "</table>\n",
       "</div>"
      ],
      "text/plain": [
       "    q1  q2  Total Cost  Average Cost q1  Average Cost q2  Marginal Cost q1  \\\n",
       "0  100  50       13500            106.0             58.0               206   \n",
       "1   60  50        6860             66.0             58.0               126   \n",
       "2   40  50        4740             46.0             58.0                86   \n",
       "3   30  10        1260             36.0             18.0                66   \n",
       "4   30  50        3980             36.0             58.0                66   \n",
       "5   30  70        6540             36.0             78.0                66   \n",
       "\n",
       "   Marginal Cost q2  Incremental Cost q1  Incremental Cost q2  \n",
       "0               108                  207                  109  \n",
       "1               108                  127                  109  \n",
       "2               108                   87                  109  \n",
       "3                28                   67                   29  \n",
       "4               108                   67                  109  \n",
       "5               148                   67                  149  "
      ]
     },
     "execution_count": 45,
     "metadata": {},
     "output_type": "execute_result"
    }
   ],
   "source": [
    "# average cost the fast way\n",
    "cost_frame_2[\"Average Cost q1\"] = np.vectorize(avg_cost)(cost_2,q1=cost_frame_2['q1'])\n",
    "cost_frame_2[\"Average Cost q2\"] = np.vectorize(avg_cost)(cost_2,q2=cost_frame_2['q2'])\n",
    "cost_frame_2"
   ]
  },
  {
   "cell_type": "markdown",
   "id": "2fbf6617",
   "metadata": {
    "slideshow": {
     "slide_type": "slide"
    }
   },
   "source": [
    "# Marginal Cost\n",
    "\n",
    "The marginal cost is the derivative of the cost function wrt. the product."
   ]
  },
  {
   "cell_type": "markdown",
   "id": "2b55ec12",
   "metadata": {
    "slideshow": {
     "slide_type": "fragment"
    }
   },
   "source": [
    "$$C_1(q_1, q_2) = 10q_1 + 5q_2$$\n",
    "$$MC_1(q_1) = 10$$\n",
    "$$MC_1(q_2) = 5$$"
   ]
  },
  {
   "cell_type": "markdown",
   "id": "313e7d21",
   "metadata": {
    "slideshow": {
     "slide_type": "fragment"
    }
   },
   "source": [
    "$$C_2(q_1, q_2) = 6q_1 + q_1^2 + 8q_2 + q_2^2$$\n",
    "$$MC_2(q_1) = 6 + 2q_1$$\n",
    "$$MC_2(q_2) = 8 + 2q_2$$"
   ]
  },
  {
   "cell_type": "markdown",
   "id": "5c4f732f",
   "metadata": {
    "slideshow": {
     "slide_type": "fragment"
    }
   },
   "source": [
    "$$C_3(q_1, q_2) = 7q_1 + 9q_2 + q_1q_2$$\n",
    "$$MC_3(q_1) = 7 + q_2$$\n",
    "$$MC_3(q_2) = 9 + q_1$$\n",
    "\n",
    "- This might help with the intuition for the average cost in this case!"
   ]
  },
  {
   "cell_type": "markdown",
   "id": "3db116f8",
   "metadata": {
    "slideshow": {
     "slide_type": "slide"
    }
   },
   "source": [
    "## Hate Calculus?\n",
    "\n",
    "_let's make python do the work_"
   ]
  },
  {
   "cell_type": "code",
   "execution_count": 46,
   "id": "bfcad0fe",
   "metadata": {
    "slideshow": {
     "slide_type": "fragment"
    }
   },
   "outputs": [
    {
     "data": {
      "text/latex": [
       "$\\displaystyle q_{1}$"
      ],
      "text/plain": [
       "q1"
      ]
     },
     "execution_count": 46,
     "metadata": {},
     "output_type": "execute_result"
    }
   ],
   "source": [
    "# we'll use symbolic python\n",
    "import sympy as sp\n",
    "# we need to tell it which symbols to use\n",
    "q1,q2 = sp.symbols('q1 q2')\n",
    "q1"
   ]
  },
  {
   "cell_type": "code",
   "execution_count": 47,
   "id": "c8d7a431",
   "metadata": {
    "slideshow": {
     "slide_type": "fragment"
    }
   },
   "outputs": [
    {
     "name": "stdout",
     "output_type": "stream",
     "text": [
      "10 5\n"
     ]
    }
   ],
   "source": [
    "# sympy can take the derivative for us\n",
    "c1 = \"10 * q1 + 5 * q2\"\n",
    "s_mcost_1_q1 = sp.diff(c1 , q1)\n",
    "s_mcost_1_q2 = sp.diff(c1 , q2)\n",
    "print(s_mcost_1_q1,s_mcost_1_q2)"
   ]
  },
  {
   "cell_type": "code",
   "execution_count": 48,
   "id": "33b4eb6d",
   "metadata": {
    "slideshow": {
     "slide_type": "fragment"
    }
   },
   "outputs": [
    {
     "data": {
      "text/plain": [
       "(10, 5)"
      ]
     },
     "execution_count": 48,
     "metadata": {},
     "output_type": "execute_result"
    }
   ],
   "source": [
    "# and we can convert that to a function\n",
    "mcost_1_q1 = sp.lambdify(q1,s_mcost_1_q1)\n",
    "mcost_1_q2 = sp.lambdify(q2,s_mcost_1_q2)\n",
    "mcost_1_q1(100),mcost_1_q2(100)"
   ]
  },
  {
   "cell_type": "markdown",
   "id": "12566dd0",
   "metadata": {
    "slideshow": {
     "slide_type": "subslide"
    }
   },
   "source": [
    "# Firm 1"
   ]
  },
  {
   "cell_type": "code",
   "execution_count": 49,
   "id": "21af087d",
   "metadata": {},
   "outputs": [
    {
     "data": {
      "text/html": [
       "<div>\n",
       "<style scoped>\n",
       "    .dataframe tbody tr th:only-of-type {\n",
       "        vertical-align: middle;\n",
       "    }\n",
       "\n",
       "    .dataframe tbody tr th {\n",
       "        vertical-align: top;\n",
       "    }\n",
       "\n",
       "    .dataframe thead th {\n",
       "        text-align: right;\n",
       "    }\n",
       "</style>\n",
       "<table border=\"1\" class=\"dataframe\">\n",
       "  <thead>\n",
       "    <tr style=\"text-align: right;\">\n",
       "      <th></th>\n",
       "      <th>q1</th>\n",
       "      <th>q2</th>\n",
       "      <th>Total Cost</th>\n",
       "      <th>Average Cost q1</th>\n",
       "      <th>Average Cost q2</th>\n",
       "      <th>Marginal Cost q1</th>\n",
       "      <th>Marginal Cost q2</th>\n",
       "      <th>Incremental Cost q1</th>\n",
       "      <th>Incremental Cost q2</th>\n",
       "    </tr>\n",
       "  </thead>\n",
       "  <tbody>\n",
       "    <tr>\n",
       "      <th>0</th>\n",
       "      <td>100</td>\n",
       "      <td>50</td>\n",
       "      <td>1250</td>\n",
       "      <td>10.0</td>\n",
       "      <td>5.0</td>\n",
       "      <td>10</td>\n",
       "      <td>5</td>\n",
       "      <td>10</td>\n",
       "      <td>5</td>\n",
       "    </tr>\n",
       "    <tr>\n",
       "      <th>1</th>\n",
       "      <td>60</td>\n",
       "      <td>50</td>\n",
       "      <td>850</td>\n",
       "      <td>10.0</td>\n",
       "      <td>5.0</td>\n",
       "      <td>10</td>\n",
       "      <td>5</td>\n",
       "      <td>10</td>\n",
       "      <td>5</td>\n",
       "    </tr>\n",
       "    <tr>\n",
       "      <th>2</th>\n",
       "      <td>40</td>\n",
       "      <td>50</td>\n",
       "      <td>650</td>\n",
       "      <td>10.0</td>\n",
       "      <td>5.0</td>\n",
       "      <td>10</td>\n",
       "      <td>5</td>\n",
       "      <td>10</td>\n",
       "      <td>5</td>\n",
       "    </tr>\n",
       "    <tr>\n",
       "      <th>3</th>\n",
       "      <td>30</td>\n",
       "      <td>10</td>\n",
       "      <td>350</td>\n",
       "      <td>10.0</td>\n",
       "      <td>5.0</td>\n",
       "      <td>10</td>\n",
       "      <td>5</td>\n",
       "      <td>10</td>\n",
       "      <td>5</td>\n",
       "    </tr>\n",
       "    <tr>\n",
       "      <th>4</th>\n",
       "      <td>30</td>\n",
       "      <td>50</td>\n",
       "      <td>550</td>\n",
       "      <td>10.0</td>\n",
       "      <td>5.0</td>\n",
       "      <td>10</td>\n",
       "      <td>5</td>\n",
       "      <td>10</td>\n",
       "      <td>5</td>\n",
       "    </tr>\n",
       "    <tr>\n",
       "      <th>5</th>\n",
       "      <td>30</td>\n",
       "      <td>70</td>\n",
       "      <td>650</td>\n",
       "      <td>10.0</td>\n",
       "      <td>5.0</td>\n",
       "      <td>10</td>\n",
       "      <td>5</td>\n",
       "      <td>10</td>\n",
       "      <td>5</td>\n",
       "    </tr>\n",
       "  </tbody>\n",
       "</table>\n",
       "</div>"
      ],
      "text/plain": [
       "    q1  q2  Total Cost  Average Cost q1  Average Cost q2  Marginal Cost q1  \\\n",
       "0  100  50        1250             10.0              5.0                10   \n",
       "1   60  50         850             10.0              5.0                10   \n",
       "2   40  50         650             10.0              5.0                10   \n",
       "3   30  10         350             10.0              5.0                10   \n",
       "4   30  50         550             10.0              5.0                10   \n",
       "5   30  70         650             10.0              5.0                10   \n",
       "\n",
       "   Marginal Cost q2  Incremental Cost q1  Incremental Cost q2  \n",
       "0                 5                   10                    5  \n",
       "1                 5                   10                    5  \n",
       "2                 5                   10                    5  \n",
       "3                 5                   10                    5  \n",
       "4                 5                   10                    5  \n",
       "5                 5                   10                    5  "
      ]
     },
     "execution_count": 49,
     "metadata": {},
     "output_type": "execute_result"
    }
   ],
   "source": [
    "# marginal cost \n",
    "cost_frame_1[\"Marginal Cost q1\"] = np.vectorize(mcost_1_q1)(cost_frame_1['q1'])\n",
    "cost_frame_1[\"Marginal Cost q2\"] = np.vectorize(mcost_1_q2)(cost_frame_1['q2'])\n",
    "cost_frame_1"
   ]
  },
  {
   "cell_type": "markdown",
   "id": "42030e81",
   "metadata": {
    "slideshow": {
     "slide_type": "subslide"
    }
   },
   "source": [
    "# Firm 2"
   ]
  },
  {
   "cell_type": "code",
   "execution_count": 50,
   "id": "23d8071d",
   "metadata": {},
   "outputs": [
    {
     "name": "stdout",
     "output_type": "stream",
     "text": [
      "2*q1 + 6 2*q2 + 8\n"
     ]
    },
    {
     "data": {
      "text/plain": [
       "(206, 108)"
      ]
     },
     "execution_count": 50,
     "metadata": {},
     "output_type": "execute_result"
    }
   ],
   "source": [
    "q1,q2 = sp.symbols('q1 q2')\n",
    "# sympy can take the derivative for us\n",
    "c2 = \"6 * q1 + q1**2 + 8 * q2 + q2**2\"\n",
    "s_mcost_2_q1 = sp.diff(c2 , q1)\n",
    "s_mcost_2_q2 = sp.diff(c2 , q2)\n",
    "print(s_mcost_2_q1,s_mcost_2_q2)\n",
    "# and we can convert that to a function\n",
    "mcost_2_q1 = sp.lambdify(q1,s_mcost_2_q1)\n",
    "mcost_2_q2 = sp.lambdify(q2,s_mcost_2_q2)\n",
    "mcost_2_q1(100),mcost_2_q2(50)"
   ]
  },
  {
   "cell_type": "code",
   "execution_count": 21,
   "id": "93a0bb64",
   "metadata": {},
   "outputs": [
    {
     "data": {
      "text/html": [
       "<div>\n",
       "<style scoped>\n",
       "    .dataframe tbody tr th:only-of-type {\n",
       "        vertical-align: middle;\n",
       "    }\n",
       "\n",
       "    .dataframe tbody tr th {\n",
       "        vertical-align: top;\n",
       "    }\n",
       "\n",
       "    .dataframe thead th {\n",
       "        text-align: right;\n",
       "    }\n",
       "</style>\n",
       "<table border=\"1\" class=\"dataframe\">\n",
       "  <thead>\n",
       "    <tr style=\"text-align: right;\">\n",
       "      <th></th>\n",
       "      <th>q1</th>\n",
       "      <th>q2</th>\n",
       "      <th>Total Cost</th>\n",
       "      <th>Average Cost q1</th>\n",
       "      <th>Average Cost q2</th>\n",
       "      <th>Marginal Cost q1</th>\n",
       "      <th>Marginal Cost q2</th>\n",
       "    </tr>\n",
       "  </thead>\n",
       "  <tbody>\n",
       "    <tr>\n",
       "      <th>0</th>\n",
       "      <td>100</td>\n",
       "      <td>50</td>\n",
       "      <td>13500</td>\n",
       "      <td>106.0</td>\n",
       "      <td>58.0</td>\n",
       "      <td>206</td>\n",
       "      <td>108</td>\n",
       "    </tr>\n",
       "    <tr>\n",
       "      <th>1</th>\n",
       "      <td>60</td>\n",
       "      <td>50</td>\n",
       "      <td>6860</td>\n",
       "      <td>66.0</td>\n",
       "      <td>58.0</td>\n",
       "      <td>126</td>\n",
       "      <td>108</td>\n",
       "    </tr>\n",
       "    <tr>\n",
       "      <th>2</th>\n",
       "      <td>40</td>\n",
       "      <td>50</td>\n",
       "      <td>4740</td>\n",
       "      <td>46.0</td>\n",
       "      <td>58.0</td>\n",
       "      <td>86</td>\n",
       "      <td>108</td>\n",
       "    </tr>\n",
       "    <tr>\n",
       "      <th>3</th>\n",
       "      <td>30</td>\n",
       "      <td>10</td>\n",
       "      <td>1260</td>\n",
       "      <td>36.0</td>\n",
       "      <td>18.0</td>\n",
       "      <td>66</td>\n",
       "      <td>28</td>\n",
       "    </tr>\n",
       "    <tr>\n",
       "      <th>4</th>\n",
       "      <td>30</td>\n",
       "      <td>50</td>\n",
       "      <td>3980</td>\n",
       "      <td>36.0</td>\n",
       "      <td>58.0</td>\n",
       "      <td>66</td>\n",
       "      <td>108</td>\n",
       "    </tr>\n",
       "    <tr>\n",
       "      <th>5</th>\n",
       "      <td>30</td>\n",
       "      <td>70</td>\n",
       "      <td>6540</td>\n",
       "      <td>36.0</td>\n",
       "      <td>78.0</td>\n",
       "      <td>66</td>\n",
       "      <td>148</td>\n",
       "    </tr>\n",
       "  </tbody>\n",
       "</table>\n",
       "</div>"
      ],
      "text/plain": [
       "    q1  q2  Total Cost  Average Cost q1  Average Cost q2  Marginal Cost q1  \\\n",
       "0  100  50       13500            106.0             58.0               206   \n",
       "1   60  50        6860             66.0             58.0               126   \n",
       "2   40  50        4740             46.0             58.0                86   \n",
       "3   30  10        1260             36.0             18.0                66   \n",
       "4   30  50        3980             36.0             58.0                66   \n",
       "5   30  70        6540             36.0             78.0                66   \n",
       "\n",
       "   Marginal Cost q2  \n",
       "0               108  \n",
       "1               108  \n",
       "2               108  \n",
       "3                28  \n",
       "4               108  \n",
       "5               148  "
      ]
     },
     "execution_count": 21,
     "metadata": {},
     "output_type": "execute_result"
    }
   ],
   "source": [
    "# marginal cost \n",
    "cost_frame_2[\"Marginal Cost q1\"] = np.vectorize(mcost_2_q1)(cost_frame_2['q1'])\n",
    "cost_frame_2[\"Marginal Cost q2\"] = np.vectorize(mcost_2_q2)(cost_frame_2['q2'])\n",
    "cost_frame_2"
   ]
  },
  {
   "cell_type": "markdown",
   "id": "1e16540d",
   "metadata": {
    "slideshow": {
     "slide_type": "subslide"
    }
   },
   "source": [
    "# Firm 3"
   ]
  },
  {
   "cell_type": "code",
   "execution_count": 22,
   "id": "bfaf0fc7",
   "metadata": {},
   "outputs": [
    {
     "name": "stdout",
     "output_type": "stream",
     "text": [
      "q2 + 7 q1 + 9\n"
     ]
    },
    {
     "data": {
      "text/plain": [
       "(57, 109)"
      ]
     },
     "execution_count": 22,
     "metadata": {},
     "output_type": "execute_result"
    }
   ],
   "source": [
    "q1,q2 = sp.symbols('q1 q2')\n",
    "# sympy can take the derivative for us\n",
    "c3 = \"7*q1 + 9*q2 + q1*q2\"\n",
    "s_mcost_3_q1 = sp.diff(c3 , q1)\n",
    "s_mcost_3_q2 = sp.diff(c3 , q2)\n",
    "print(s_mcost_3_q1,s_mcost_3_q2)\n",
    "# and we can convert that to a function\n",
    "# note tht we flip the inputs to match the function\n",
    "mcost_3_q1 = sp.lambdify(q2,s_mcost_3_q1)\n",
    "mcost_3_q2 = sp.lambdify(q1,s_mcost_3_q2)\n",
    "mcost_3_q1(50),mcost_3_q2(100)"
   ]
  },
  {
   "cell_type": "code",
   "execution_count": 23,
   "id": "f4f53bd9",
   "metadata": {},
   "outputs": [
    {
     "data": {
      "text/html": [
       "<div>\n",
       "<style scoped>\n",
       "    .dataframe tbody tr th:only-of-type {\n",
       "        vertical-align: middle;\n",
       "    }\n",
       "\n",
       "    .dataframe tbody tr th {\n",
       "        vertical-align: top;\n",
       "    }\n",
       "\n",
       "    .dataframe thead th {\n",
       "        text-align: right;\n",
       "    }\n",
       "</style>\n",
       "<table border=\"1\" class=\"dataframe\">\n",
       "  <thead>\n",
       "    <tr style=\"text-align: right;\">\n",
       "      <th></th>\n",
       "      <th>q1</th>\n",
       "      <th>q2</th>\n",
       "      <th>Total Cost</th>\n",
       "      <th>Marginal Cost q1</th>\n",
       "      <th>Marginal Cost q2</th>\n",
       "    </tr>\n",
       "  </thead>\n",
       "  <tbody>\n",
       "    <tr>\n",
       "      <th>0</th>\n",
       "      <td>100</td>\n",
       "      <td>50</td>\n",
       "      <td>6150</td>\n",
       "      <td>57</td>\n",
       "      <td>109</td>\n",
       "    </tr>\n",
       "    <tr>\n",
       "      <th>1</th>\n",
       "      <td>60</td>\n",
       "      <td>50</td>\n",
       "      <td>3870</td>\n",
       "      <td>57</td>\n",
       "      <td>69</td>\n",
       "    </tr>\n",
       "    <tr>\n",
       "      <th>2</th>\n",
       "      <td>40</td>\n",
       "      <td>50</td>\n",
       "      <td>2730</td>\n",
       "      <td>57</td>\n",
       "      <td>49</td>\n",
       "    </tr>\n",
       "    <tr>\n",
       "      <th>3</th>\n",
       "      <td>30</td>\n",
       "      <td>10</td>\n",
       "      <td>600</td>\n",
       "      <td>17</td>\n",
       "      <td>39</td>\n",
       "    </tr>\n",
       "    <tr>\n",
       "      <th>4</th>\n",
       "      <td>30</td>\n",
       "      <td>50</td>\n",
       "      <td>2160</td>\n",
       "      <td>57</td>\n",
       "      <td>39</td>\n",
       "    </tr>\n",
       "    <tr>\n",
       "      <th>5</th>\n",
       "      <td>30</td>\n",
       "      <td>70</td>\n",
       "      <td>2940</td>\n",
       "      <td>77</td>\n",
       "      <td>39</td>\n",
       "    </tr>\n",
       "  </tbody>\n",
       "</table>\n",
       "</div>"
      ],
      "text/plain": [
       "    q1  q2  Total Cost  Marginal Cost q1  Marginal Cost q2\n",
       "0  100  50        6150                57               109\n",
       "1   60  50        3870                57                69\n",
       "2   40  50        2730                57                49\n",
       "3   30  10         600                17                39\n",
       "4   30  50        2160                57                39\n",
       "5   30  70        2940                77                39"
      ]
     },
     "execution_count": 23,
     "metadata": {},
     "output_type": "execute_result"
    }
   ],
   "source": [
    "# marginal cost \n",
    "cost_frame_3[\"Marginal Cost q1\"] = np.vectorize(mcost_3_q1)(cost_frame_3['q2'])\n",
    "cost_frame_3[\"Marginal Cost q2\"] = np.vectorize(mcost_3_q2)(cost_frame_3['q1'])\n",
    "cost_frame_3"
   ]
  },
  {
   "cell_type": "markdown",
   "id": "99d8de2d",
   "metadata": {
    "slideshow": {
     "slide_type": "slide"
    }
   },
   "source": [
    "# Incremental Cost\n",
    "\n",
    "$$IC(q_1) = C(q_1+1, q_2) - C(q_1,q_2)$$\n",
    "$$IC(q_2) = C(q_1, q_2+1) - C(q_1,q_2)$$\n",
    "\n",
    "Which I find a little easier to write than to say :)"
   ]
  },
  {
   "cell_type": "markdown",
   "id": "bc3d58e7",
   "metadata": {
    "slideshow": {
     "slide_type": "subslide"
    }
   },
   "source": [
    "## In python we'll just write a little function for this"
   ]
  },
  {
   "cell_type": "code",
   "execution_count": 53,
   "id": "5ef44fcf",
   "metadata": {
    "slideshow": {
     "slide_type": "fragment"
    }
   },
   "outputs": [],
   "source": [
    "# incremental cost if the cost of making the next unit by product\n",
    "def inc_cost(cost_function,q1=q1,q2=q2,increment=str):\n",
    "    '''\n",
    "    cost_function: total cost function that you'd like to increment (over q1,q2)\n",
    "    q1: the quantity you'd like to pass to the cost func as q1, defaults q1\n",
    "    q2: same, default q2\n",
    "    increment: the quantity you'd like to increment\n",
    "    '''\n",
    "    C_0 = cost_function(q1,q2)\n",
    "    if increment == \"q1\":\n",
    "        q1=q1+1\n",
    "    elif increment == \"q2\":\n",
    "        q2=q2+1\n",
    "    else:\n",
    "        print(\"increment must be one of q1,q2\")\n",
    "        return None\n",
    "    C_1 = cost_function(q1,q2)\n",
    "    return C_1 - C_0\n"
   ]
  },
  {
   "cell_type": "markdown",
   "id": "83d2af19",
   "metadata": {
    "slideshow": {
     "slide_type": "subslide"
    }
   },
   "source": [
    "# Firm 1"
   ]
  },
  {
   "cell_type": "code",
   "execution_count": 25,
   "id": "2964458a",
   "metadata": {},
   "outputs": [
    {
     "data": {
      "text/html": [
       "<div>\n",
       "<style scoped>\n",
       "    .dataframe tbody tr th:only-of-type {\n",
       "        vertical-align: middle;\n",
       "    }\n",
       "\n",
       "    .dataframe tbody tr th {\n",
       "        vertical-align: top;\n",
       "    }\n",
       "\n",
       "    .dataframe thead th {\n",
       "        text-align: right;\n",
       "    }\n",
       "</style>\n",
       "<table border=\"1\" class=\"dataframe\">\n",
       "  <thead>\n",
       "    <tr style=\"text-align: right;\">\n",
       "      <th></th>\n",
       "      <th>q1</th>\n",
       "      <th>q2</th>\n",
       "      <th>Total Cost</th>\n",
       "      <th>Average Cost q1</th>\n",
       "      <th>Average Cost q2</th>\n",
       "      <th>Marginal Cost q1</th>\n",
       "      <th>Marginal Cost q2</th>\n",
       "      <th>Incremental Cost q1</th>\n",
       "      <th>Incremental Cost q2</th>\n",
       "    </tr>\n",
       "  </thead>\n",
       "  <tbody>\n",
       "    <tr>\n",
       "      <th>0</th>\n",
       "      <td>100</td>\n",
       "      <td>50</td>\n",
       "      <td>1250</td>\n",
       "      <td>10.0</td>\n",
       "      <td>5.0</td>\n",
       "      <td>10</td>\n",
       "      <td>5</td>\n",
       "      <td>10</td>\n",
       "      <td>5</td>\n",
       "    </tr>\n",
       "    <tr>\n",
       "      <th>1</th>\n",
       "      <td>60</td>\n",
       "      <td>50</td>\n",
       "      <td>850</td>\n",
       "      <td>10.0</td>\n",
       "      <td>5.0</td>\n",
       "      <td>10</td>\n",
       "      <td>5</td>\n",
       "      <td>10</td>\n",
       "      <td>5</td>\n",
       "    </tr>\n",
       "    <tr>\n",
       "      <th>2</th>\n",
       "      <td>40</td>\n",
       "      <td>50</td>\n",
       "      <td>650</td>\n",
       "      <td>10.0</td>\n",
       "      <td>5.0</td>\n",
       "      <td>10</td>\n",
       "      <td>5</td>\n",
       "      <td>10</td>\n",
       "      <td>5</td>\n",
       "    </tr>\n",
       "    <tr>\n",
       "      <th>3</th>\n",
       "      <td>30</td>\n",
       "      <td>10</td>\n",
       "      <td>350</td>\n",
       "      <td>10.0</td>\n",
       "      <td>5.0</td>\n",
       "      <td>10</td>\n",
       "      <td>5</td>\n",
       "      <td>10</td>\n",
       "      <td>5</td>\n",
       "    </tr>\n",
       "    <tr>\n",
       "      <th>4</th>\n",
       "      <td>30</td>\n",
       "      <td>50</td>\n",
       "      <td>550</td>\n",
       "      <td>10.0</td>\n",
       "      <td>5.0</td>\n",
       "      <td>10</td>\n",
       "      <td>5</td>\n",
       "      <td>10</td>\n",
       "      <td>5</td>\n",
       "    </tr>\n",
       "    <tr>\n",
       "      <th>5</th>\n",
       "      <td>30</td>\n",
       "      <td>70</td>\n",
       "      <td>650</td>\n",
       "      <td>10.0</td>\n",
       "      <td>5.0</td>\n",
       "      <td>10</td>\n",
       "      <td>5</td>\n",
       "      <td>10</td>\n",
       "      <td>5</td>\n",
       "    </tr>\n",
       "  </tbody>\n",
       "</table>\n",
       "</div>"
      ],
      "text/plain": [
       "    q1  q2  Total Cost  Average Cost q1  Average Cost q2  Marginal Cost q1  \\\n",
       "0  100  50        1250             10.0              5.0                10   \n",
       "1   60  50         850             10.0              5.0                10   \n",
       "2   40  50         650             10.0              5.0                10   \n",
       "3   30  10         350             10.0              5.0                10   \n",
       "4   30  50         550             10.0              5.0                10   \n",
       "5   30  70         650             10.0              5.0                10   \n",
       "\n",
       "   Marginal Cost q2  Incremental Cost q1  Incremental Cost q2  \n",
       "0                 5                   10                    5  \n",
       "1                 5                   10                    5  \n",
       "2                 5                   10                    5  \n",
       "3                 5                   10                    5  \n",
       "4                 5                   10                    5  \n",
       "5                 5                   10                    5  "
      ]
     },
     "execution_count": 25,
     "metadata": {},
     "output_type": "execute_result"
    }
   ],
   "source": [
    "# Incremental cost\n",
    "cost_frame_1[\"Incremental Cost q1\"] = np.vectorize(inc_cost)(\n",
    "                                    cost_1,\n",
    "                                    cost_frame_1['q1'],\n",
    "                                    cost_frame_1['q2'],\n",
    "                                    increment=\"q1\"\n",
    "                                    )\n",
    "cost_frame_1[\"Incremental Cost q2\"] = np.vectorize(inc_cost)(\n",
    "                                    cost_1,\n",
    "                                    cost_frame_1['q1'],\n",
    "                                    cost_frame_1['q2'],\n",
    "                                    increment=\"q2\"\n",
    "                                    )\n",
    "cost_frame_1"
   ]
  },
  {
   "cell_type": "markdown",
   "id": "63df9722",
   "metadata": {
    "slideshow": {
     "slide_type": "subslide"
    }
   },
   "source": [
    "# Firm 2"
   ]
  },
  {
   "cell_type": "code",
   "execution_count": 26,
   "id": "b37cc2c6",
   "metadata": {},
   "outputs": [
    {
     "data": {
      "text/html": [
       "<div>\n",
       "<style scoped>\n",
       "    .dataframe tbody tr th:only-of-type {\n",
       "        vertical-align: middle;\n",
       "    }\n",
       "\n",
       "    .dataframe tbody tr th {\n",
       "        vertical-align: top;\n",
       "    }\n",
       "\n",
       "    .dataframe thead th {\n",
       "        text-align: right;\n",
       "    }\n",
       "</style>\n",
       "<table border=\"1\" class=\"dataframe\">\n",
       "  <thead>\n",
       "    <tr style=\"text-align: right;\">\n",
       "      <th></th>\n",
       "      <th>q1</th>\n",
       "      <th>q2</th>\n",
       "      <th>Total Cost</th>\n",
       "      <th>Average Cost q1</th>\n",
       "      <th>Average Cost q2</th>\n",
       "      <th>Marginal Cost q1</th>\n",
       "      <th>Marginal Cost q2</th>\n",
       "      <th>Incremental Cost q1</th>\n",
       "      <th>Incremental Cost q2</th>\n",
       "    </tr>\n",
       "  </thead>\n",
       "  <tbody>\n",
       "    <tr>\n",
       "      <th>0</th>\n",
       "      <td>100</td>\n",
       "      <td>50</td>\n",
       "      <td>13500</td>\n",
       "      <td>106.0</td>\n",
       "      <td>58.0</td>\n",
       "      <td>206</td>\n",
       "      <td>108</td>\n",
       "      <td>207</td>\n",
       "      <td>109</td>\n",
       "    </tr>\n",
       "    <tr>\n",
       "      <th>1</th>\n",
       "      <td>60</td>\n",
       "      <td>50</td>\n",
       "      <td>6860</td>\n",
       "      <td>66.0</td>\n",
       "      <td>58.0</td>\n",
       "      <td>126</td>\n",
       "      <td>108</td>\n",
       "      <td>127</td>\n",
       "      <td>109</td>\n",
       "    </tr>\n",
       "    <tr>\n",
       "      <th>2</th>\n",
       "      <td>40</td>\n",
       "      <td>50</td>\n",
       "      <td>4740</td>\n",
       "      <td>46.0</td>\n",
       "      <td>58.0</td>\n",
       "      <td>86</td>\n",
       "      <td>108</td>\n",
       "      <td>87</td>\n",
       "      <td>109</td>\n",
       "    </tr>\n",
       "    <tr>\n",
       "      <th>3</th>\n",
       "      <td>30</td>\n",
       "      <td>10</td>\n",
       "      <td>1260</td>\n",
       "      <td>36.0</td>\n",
       "      <td>18.0</td>\n",
       "      <td>66</td>\n",
       "      <td>28</td>\n",
       "      <td>67</td>\n",
       "      <td>29</td>\n",
       "    </tr>\n",
       "    <tr>\n",
       "      <th>4</th>\n",
       "      <td>30</td>\n",
       "      <td>50</td>\n",
       "      <td>3980</td>\n",
       "      <td>36.0</td>\n",
       "      <td>58.0</td>\n",
       "      <td>66</td>\n",
       "      <td>108</td>\n",
       "      <td>67</td>\n",
       "      <td>109</td>\n",
       "    </tr>\n",
       "    <tr>\n",
       "      <th>5</th>\n",
       "      <td>30</td>\n",
       "      <td>70</td>\n",
       "      <td>6540</td>\n",
       "      <td>36.0</td>\n",
       "      <td>78.0</td>\n",
       "      <td>66</td>\n",
       "      <td>148</td>\n",
       "      <td>67</td>\n",
       "      <td>149</td>\n",
       "    </tr>\n",
       "  </tbody>\n",
       "</table>\n",
       "</div>"
      ],
      "text/plain": [
       "    q1  q2  Total Cost  Average Cost q1  Average Cost q2  Marginal Cost q1  \\\n",
       "0  100  50       13500            106.0             58.0               206   \n",
       "1   60  50        6860             66.0             58.0               126   \n",
       "2   40  50        4740             46.0             58.0                86   \n",
       "3   30  10        1260             36.0             18.0                66   \n",
       "4   30  50        3980             36.0             58.0                66   \n",
       "5   30  70        6540             36.0             78.0                66   \n",
       "\n",
       "   Marginal Cost q2  Incremental Cost q1  Incremental Cost q2  \n",
       "0               108                  207                  109  \n",
       "1               108                  127                  109  \n",
       "2               108                   87                  109  \n",
       "3                28                   67                   29  \n",
       "4               108                   67                  109  \n",
       "5               148                   67                  149  "
      ]
     },
     "execution_count": 26,
     "metadata": {},
     "output_type": "execute_result"
    }
   ],
   "source": [
    "# Incremental cost\n",
    "cost_frame_2[\"Incremental Cost q1\"] = np.vectorize(inc_cost)(\n",
    "                                    cost_2,\n",
    "                                    cost_frame_2['q1'],\n",
    "                                    cost_frame_2['q2'],\n",
    "                                    increment=\"q1\"\n",
    "                                    )\n",
    "cost_frame_2[\"Incremental Cost q2\"] = np.vectorize(inc_cost)(\n",
    "                                    cost_2,\n",
    "                                    cost_frame_2['q1'],\n",
    "                                    cost_frame_2['q2'],\n",
    "                                    increment=\"q2\"\n",
    "                                    )\n",
    "cost_frame_2"
   ]
  },
  {
   "cell_type": "markdown",
   "id": "352177e6",
   "metadata": {
    "slideshow": {
     "slide_type": "subslide"
    }
   },
   "source": [
    "# Firm 3"
   ]
  },
  {
   "cell_type": "code",
   "execution_count": 27,
   "id": "935b55af",
   "metadata": {},
   "outputs": [
    {
     "data": {
      "text/html": [
       "<div>\n",
       "<style scoped>\n",
       "    .dataframe tbody tr th:only-of-type {\n",
       "        vertical-align: middle;\n",
       "    }\n",
       "\n",
       "    .dataframe tbody tr th {\n",
       "        vertical-align: top;\n",
       "    }\n",
       "\n",
       "    .dataframe thead th {\n",
       "        text-align: right;\n",
       "    }\n",
       "</style>\n",
       "<table border=\"1\" class=\"dataframe\">\n",
       "  <thead>\n",
       "    <tr style=\"text-align: right;\">\n",
       "      <th></th>\n",
       "      <th>q1</th>\n",
       "      <th>q2</th>\n",
       "      <th>Total Cost</th>\n",
       "      <th>Marginal Cost q1</th>\n",
       "      <th>Marginal Cost q2</th>\n",
       "      <th>Incremental Cost q1</th>\n",
       "      <th>Incremental Cost q2</th>\n",
       "    </tr>\n",
       "  </thead>\n",
       "  <tbody>\n",
       "    <tr>\n",
       "      <th>0</th>\n",
       "      <td>100</td>\n",
       "      <td>50</td>\n",
       "      <td>6150</td>\n",
       "      <td>57</td>\n",
       "      <td>109</td>\n",
       "      <td>57</td>\n",
       "      <td>109</td>\n",
       "    </tr>\n",
       "    <tr>\n",
       "      <th>1</th>\n",
       "      <td>60</td>\n",
       "      <td>50</td>\n",
       "      <td>3870</td>\n",
       "      <td>57</td>\n",
       "      <td>69</td>\n",
       "      <td>57</td>\n",
       "      <td>69</td>\n",
       "    </tr>\n",
       "    <tr>\n",
       "      <th>2</th>\n",
       "      <td>40</td>\n",
       "      <td>50</td>\n",
       "      <td>2730</td>\n",
       "      <td>57</td>\n",
       "      <td>49</td>\n",
       "      <td>57</td>\n",
       "      <td>49</td>\n",
       "    </tr>\n",
       "    <tr>\n",
       "      <th>3</th>\n",
       "      <td>30</td>\n",
       "      <td>10</td>\n",
       "      <td>600</td>\n",
       "      <td>17</td>\n",
       "      <td>39</td>\n",
       "      <td>17</td>\n",
       "      <td>39</td>\n",
       "    </tr>\n",
       "    <tr>\n",
       "      <th>4</th>\n",
       "      <td>30</td>\n",
       "      <td>50</td>\n",
       "      <td>2160</td>\n",
       "      <td>57</td>\n",
       "      <td>39</td>\n",
       "      <td>57</td>\n",
       "      <td>39</td>\n",
       "    </tr>\n",
       "    <tr>\n",
       "      <th>5</th>\n",
       "      <td>30</td>\n",
       "      <td>70</td>\n",
       "      <td>2940</td>\n",
       "      <td>77</td>\n",
       "      <td>39</td>\n",
       "      <td>77</td>\n",
       "      <td>39</td>\n",
       "    </tr>\n",
       "  </tbody>\n",
       "</table>\n",
       "</div>"
      ],
      "text/plain": [
       "    q1  q2  Total Cost  Marginal Cost q1  Marginal Cost q2  \\\n",
       "0  100  50        6150                57               109   \n",
       "1   60  50        3870                57                69   \n",
       "2   40  50        2730                57                49   \n",
       "3   30  10         600                17                39   \n",
       "4   30  50        2160                57                39   \n",
       "5   30  70        2940                77                39   \n",
       "\n",
       "   Incremental Cost q1  Incremental Cost q2  \n",
       "0                   57                  109  \n",
       "1                   57                   69  \n",
       "2                   57                   49  \n",
       "3                   17                   39  \n",
       "4                   57                   39  \n",
       "5                   77                   39  "
      ]
     },
     "execution_count": 27,
     "metadata": {},
     "output_type": "execute_result"
    }
   ],
   "source": [
    "# Incremental cost\n",
    "cost_frame_3[\"Incremental Cost q1\"] = np.vectorize(inc_cost)(\n",
    "                                    cost_3,\n",
    "                                    cost_frame_3['q1'],\n",
    "                                    cost_frame_3['q2'],\n",
    "                                    increment=\"q1\"\n",
    "                                    )\n",
    "cost_frame_3[\"Incremental Cost q2\"] = np.vectorize(inc_cost)(\n",
    "                                    cost_3,\n",
    "                                    cost_frame_3['q1'],\n",
    "                                    cost_frame_3['q2'],\n",
    "                                    increment=\"q2\"\n",
    "                                    )\n",
    "cost_frame_3"
   ]
  },
  {
   "cell_type": "markdown",
   "id": "c1275388",
   "metadata": {
    "slideshow": {
     "slide_type": "slide"
    }
   },
   "source": [
    "## Let's make a 3d graph in Python!!!"
   ]
  },
  {
   "cell_type": "code",
   "execution_count": 55,
   "id": "05389cf0",
   "metadata": {
    "slideshow": {
     "slide_type": "fragment"
    }
   },
   "outputs": [
    {
     "data": {
      "text/latex": [
       "$\\displaystyle q_{1}$"
      ],
      "text/plain": [
       "q1"
      ]
     },
     "execution_count": 55,
     "metadata": {},
     "output_type": "execute_result"
    }
   ],
   "source": [
    "import matplotlib.pyplot as plt\n",
    "from mpl_toolkits.mplot3d import Axes3D\n",
    "import numpy as np # we already have np \n",
    "q1"
   ]
  },
  {
   "cell_type": "code",
   "execution_count": 61,
   "id": "3a1dfd0a",
   "metadata": {
    "slideshow": {
     "slide_type": "fragment"
    }
   },
   "outputs": [],
   "source": [
    "# Create data for the plot\n",
    "q1 = np.linspace(0, 1_000, 1_000)\n",
    "q2 = np.linspace(0, 1_000, 1_000)\n",
    "Q1, Q2 = np.meshgrid(q1, q2)\n",
    "# calc costs\n",
    "C1 = 10 * Q1 + 5 * Q2 \n",
    "C2 = 6 * Q1 + Q1**2 + 8 * Q2 + Q2**2\n",
    "C3 = 7 * Q1 + 9 * Q2 + Q1 * Q2    "
   ]
  },
  {
   "cell_type": "code",
   "execution_count": 69,
   "id": "c07a7972",
   "metadata": {
    "slideshow": {
     "slide_type": "subslide"
    }
   },
   "outputs": [
    {
     "data": {
      "image/png": "[encoded data removed]",
      "text/plain": [
       "<Figure size 640x480 with 1 Axes>"
      ]
     },
     "metadata": {},
     "output_type": "display_data"
    }
   ],
   "source": [
    "# Create the figure and add a 3D axis\n",
    "fig = plt.figure()\n",
    "ax = fig.add_subplot(111, projection='3d')\n",
    "\n",
    "# Plot the data\n",
    "# ax.plot_surface(Q1, Q2, C1)\n",
    "# ax.plot_surface(Q1, Q2, C2)\n",
    "ax.plot_surface(Q1, Q2, C3)\n",
    "\n",
    "# Set axis labels and show the plot\n",
    "ax.set_xlabel('Q1')\n",
    "ax.set_ylabel('Q2')\n",
    "ax.set_zlabel('Cost')\n",
    "plt.show()\n"
   ]
  },
  {
   "cell_type": "markdown",
   "id": "69809fd9",
   "metadata": {
    "slideshow": {
     "slide_type": "slide"
    }
   },
   "source": [
    "<center><img src=\"F2-5.png\"  width=\"2500\" height=\"2500\">"
   ]
  }
 ],
 "metadata": {
  "celltoolbar": "Slideshow",
  "kernelspec": {
   "display_name": "acct3210",
   "language": "python",
   "name": "acct3210"
  },
  "language_info": {
   "codemirror_mode": {
    "name": "ipython",
    "version": 3
   },
   "file_extension": ".py",
   "mimetype": "text/x-python",
   "name": "python",
   "nbconvert_exporter": "python",
   "pygments_lexer": "ipython3",
   "version": "3.9.21"
  }
 },
 "nbformat": 4,
 "nbformat_minor": 5
}
