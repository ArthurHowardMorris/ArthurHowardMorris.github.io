{
 "cells": [
  {
   "cell_type": "code",
   "execution_count": null,
   "id": "5e548a17",
   "metadata": {},
   "outputs": [],
   "source": []
  },
  {
   "cell_type": "raw",
   "id": "8d753318",
   "metadata": {},
   "source": [
    "t=t===t=t====ttttt=t===tt=============tt"
   ]
  }
 ],
 "metadata": {
  "kernelspec": {
   "display_name": "Python [conda env:acct3210] *",
   "language": "python",
   "name": "conda-env-acct3210-py"
  },
  "language_info": {
   "codemirror_mode": {
    "name": "ipython",
    "version": 3
   },
   "file_extension": ".py",
   "mimetype": "text/x-python",
   "name": "python",
   "nbconvert_exporter": "python",
   "pygments_lexer": "ipython3",
   "version": "3.10.4"
  }
 },
 "nbformat": 4,
 "nbformat_minor": 5
}
