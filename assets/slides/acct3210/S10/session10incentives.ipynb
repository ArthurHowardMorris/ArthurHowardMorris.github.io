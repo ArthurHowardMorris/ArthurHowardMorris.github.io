{
 "cells": [
  {
   "cell_type": "markdown",
   "id": "8d753318",
   "metadata": {
    "slideshow": {
     "slide_type": "slide"
    }
   },
   "source": [
    "### The mid-term will cover:\n",
    "\n",
    "- P1-P7, C2 (focus on set up and interpretation )\n",
    "- The concepts from the key concepts slide in Lecture 9\n",
    "- The definition and intuition of a Tax Shield \n",
    "\n"
   ]
  },
  {
   "cell_type": "markdown",
   "id": "77ce5e84",
   "metadata": {
    "slideshow": {
     "slide_type": "slide"
    }
   },
   "source": [
    "### Key tax concepts:\n",
    "\n",
    "1. Assets, investments, and projects all have different pre-tax returns ($r$).\n",
    "2. Tax rates $t$ vary across individuals, jurisdictions, organizations, and assets.\n",
    "3. pre-tax returns $r$ correspond to post tax returns $r(1-t)$ \n",
    "4. When preferential tax treatment increases demand for a tax favored asset it's price increases. This price change is an _implicit_ tax.\n",
    "5. When tax payers use organizational forms like pensions and insurance policies to avoid taxes it is called _organizational form arbitrage_.\n",
    "6. When high-tax tax payers issue taxable debt to finance the purchase of tax free debt (e.g. municipal bonds in the US) issued by low-tax tax payers (e.g. US non-profit universities) it is called _clientele arbitrage_.\n",
    "7. The depreciation tax shield is the present value of the reduction in tax payments afforded by the depreciation deduction.\n",
    "8. The value of the tax shield $TS$ is a function of the investment $x$, the cash flow it generates $k$, the risk-free rate of return $r$, the tax rate $t$, and the depreciation rate $d$.\n",
    "$$TS=f(x,k,t,d,r)$$\n",
    "9.  $TS$ is increasing in both  $d$ and $t$. "
   ]
  },
  {
   "cell_type": "markdown",
   "id": "5e548a17",
   "metadata": {
    "slideshow": {
     "slide_type": "slide"
    }
   },
   "source": [
    "# Incentives and managerial compensation\n",
    "\n",
    "- This lecture and the next are the beginning of the topics that we will move on to after the mid-term exam. This material will not be on the mid-term, but will be on the final exam."
   ]
  },
  {
   "cell_type": "markdown",
   "id": "03588bce",
   "metadata": {
    "slideshow": {
     "slide_type": "subslide"
    }
   },
   "source": [
    "## The separation of ownership and control\n",
    "\n",
    "Consider an entrepreneur who starts a small restaurant.\n",
    "\n",
    "First, she works alone, cooking the food and serving customers. Then she hires a few employees to work with her, and they move into a larger space. The business grows and eventually the entrepreneur decides to open more locations and hire a manager to run the individual restaurants day-to-day operations for her while she focuses on running the business.   "
   ]
  },
  {
   "cell_type": "markdown",
   "id": "3449f379",
   "metadata": {
    "slideshow": {
     "slide_type": "subslide"
    }
   },
   "source": [
    "#### Now the business has the following structure:\n",
    "\n",
    "```\n",
    "└── Terri (Owner of Terri's Amazing Restaurant)\n",
    "    ├── Jackson (Manages Location 1)\n",
    "    └── Jason (Manages Location 2)\n",
    "```\n",
    "\n",
    "Jackson and Jason now control the restaurants that Terri owns. She has hired them to run the restaurants while she focuses on other things. \n",
    "\n",
    "#### How does she want them to make choices?"
   ]
  },
  {
   "cell_type": "markdown",
   "id": "7d3ceeb7",
   "metadata": {
    "slideshow": {
     "slide_type": "subslide"
    }
   },
   "source": [
    "Let's say that each manager has responsibility for:\n",
    "\n",
    "1. Planning the menu, which should balance cost, difficulty, predicability, and innovation.\n",
    "2. Buying the food, which should balance cost, quality, and reliability.\n",
    "3. Hiring the staff, which should also balance cost, quality, and reliability.\n",
    "\n",
    "```\n",
    "└── Terri (Owner of Terri's Amazing Restaurant)\n",
    "    ├── Jackson (Manages Location 1)\n",
    "    │   ├── Food\n",
    "    │   ├── Menu\n",
    "    │   └── Staff\n",
    "    └── Jason (Manages Location 2)\n",
    "        ├── Food\n",
    "        ├── Menu\n",
    "        └── Staff\n",
    "```"
   ]
  },
  {
   "cell_type": "markdown",
   "id": "3d5288d7",
   "metadata": {
    "slideshow": {
     "slide_type": "fragment"
    }
   },
   "source": [
    "#### How might Jason's and Jackson's priorities differ from Terri's?"
   ]
  },
  {
   "cell_type": "markdown",
   "id": "a515edc3",
   "metadata": {
    "slideshow": {
     "slide_type": "subslide"
    }
   },
   "source": [
    "#### What if Jason is interested in moving from Terri's restaurant, located in Sai Kung, to Lung King Heen. A restaurant in central with three Michelin stars."
   ]
  },
  {
   "cell_type": "markdown",
   "id": "57e9577c",
   "metadata": {
    "slideshow": {
     "slide_type": "subslide"
    }
   },
   "source": [
    "#### What if Jackson is nearing retirement age?"
   ]
  },
  {
   "cell_type": "markdown",
   "id": "52c49eec",
   "metadata": {
    "slideshow": {
     "slide_type": "slide"
    }
   },
   "source": [
    "### Separating ownership and control leads to conflicts of interest\n",
    "\n",
    "- These situations may lead Jason and Jackson to make different choices than Terri would, had she retained control of the restaurants. \n",
    "- When owners and managers have different interests, priorities, or incentives we refer to these as _conflicts of interest_.\n",
    "- These are natural, and as long as we know about them we can account for them."
   ]
  },
  {
   "cell_type": "markdown",
   "id": "59d1a60b",
   "metadata": {
    "slideshow": {
     "slide_type": "subslide"
    }
   },
   "source": [
    "## More general terms: Principals and Agents\n",
    "\n",
    "- Conflicts of interest can occur at any level of an organization so we need slightly broader language to refer to what is going on here. \n",
    "- We refer to _people who are hired to act on behalf of others_ as __agents__ and _those on whose behalf they act_ as __principals__. \n",
    "- We refer to the _conflicts of interest_ that arise in these cases as \"__principal-agent problems__\"\n",
    "\n",
    "To illustrate lets consider the case that arises when the restaurants begin to operate separate services for lunch and dinner."
   ]
  },
  {
   "cell_type": "markdown",
   "id": "28b2f8ca",
   "metadata": {
    "slideshow": {
     "slide_type": "subslide"
    }
   },
   "source": [
    "\n",
    "```\n",
    "└── Terri (Owner of Terri's Amazing Restaurant)\n",
    "    ├── Jackson (Manages Location 1)\n",
    "    │   ├── Annalee (Dinner)\n",
    "    │   │   ├── Food\n",
    "    │   │   ├── Menu\n",
    "    │   │   └── Staff\n",
    "    │   └── Caleb (Lunch)\n",
    "    │       ├── Food\n",
    "    │       ├── Menu\n",
    "    │       └── Staff\n",
    "    └── Jason (Manages Location 2)\n",
    "        ├── Robin (Dinner)\n",
    "        │   ├── Food\n",
    "        │   ├── Menu\n",
    "        │   └── Staff\n",
    "        └── Seth (Lunch)\n",
    "            ├── Food\n",
    "            ├── Menu\n",
    "            └── Staff\n",
    "```"
   ]
  },
  {
   "cell_type": "markdown",
   "id": "3ccdca0a",
   "metadata": {
    "slideshow": {
     "slide_type": "slide"
    }
   },
   "source": [
    "### Principal-Agent problems in large companies"
   ]
  },
  {
   "cell_type": "markdown",
   "id": "c4ff226f",
   "metadata": {
    "slideshow": {
     "slide_type": "fragment"
    }
   },
   "source": [
    "```bash\n",
    "└── Shareholders\n",
    "    └── CEO\n",
    "        ├── African Division Manager\n",
    "        │   ├── Distribution Manager\n",
    "        │   ├── Plant Manager\n",
    "        │   └── Sales Manager\n",
    "        ├── Asia-Pacific Division Manager\n",
    "        │   ├── Distribution Manager\n",
    "        │   ├── Plant Manager\n",
    "        │   └── Sales Manager\n",
    "        ├── European Division Manager\n",
    "        │   ├── Distribution Manager\n",
    "        │   ├── Plant Manager\n",
    "        │   └── Sales Manager\n",
    "        ├── North American Division Manager\n",
    "        │   ├── Distribution Manager\n",
    "        │   ├── Plant Manager\n",
    "        │   └── Sales Manager\n",
    "        └── South American Division Manager\n",
    "            ├── Distribution Manager\n",
    "            ├── Plant Manager\n",
    "            └── Sales Manager  \n",
    "```"
   ]
  },
  {
   "cell_type": "markdown",
   "id": "f770f34f",
   "metadata": {
    "slideshow": {
     "slide_type": "subslide"
    }
   },
   "source": [
    "### Principal-Agent problems in large companies\n",
    "\n",
    "Each link involves a principal and an agent, with the former delegating\n",
    "substantial authority for making decisions to the latter. At every level conflicts of interest arise. "
   ]
  },
  {
   "cell_type": "markdown",
   "id": "13b066d8",
   "metadata": {
    "slideshow": {
     "slide_type": "slide"
    }
   },
   "source": [
    "### Effort and costs\n",
    "\n",
    "#### Owners generally want effort and to avoid unnecessary expenses.\n",
    "\n",
    "- Why? "
   ]
  },
  {
   "cell_type": "markdown",
   "id": "4b877ec6",
   "metadata": {
    "slideshow": {
     "slide_type": "fragment"
    }
   },
   "source": [
    "$$\\Pi=R-C$$"
   ]
  },
  {
   "cell_type": "markdown",
   "id": "41d2e1ed",
   "metadata": {
    "slideshow": {
     "slide_type": "fragment"
    }
   },
   "source": [
    "Because they get to keep the profits.\n",
    "\n"
   ]
  },
  {
   "cell_type": "markdown",
   "id": "95a8e43c",
   "metadata": {
    "slideshow": {
     "slide_type": "subslide"
    }
   },
   "source": [
    "### How might the manager's interests differ?\n"
   ]
  },
  {
   "cell_type": "markdown",
   "id": "6b468dee",
   "metadata": {
    "slideshow": {
     "slide_type": "subslide"
    }
   },
   "source": [
    "#### If the manager doesn't get any of the profits:\n",
    "- Might pursue less productive, but more interesting work.\n",
    "- Might focus on external visibility in hope of getting a better job elsewhere.\n",
    "- Might use company resources for buying expensive office furniture, club memberships, and luxury travel.\n",
    "\n",
    "#### What are some things that we can do to address this?"
   ]
  },
  {
   "cell_type": "markdown",
   "id": "85220525",
   "metadata": {
    "slideshow": {
     "slide_type": "subslide"
    }
   },
   "source": [
    "#### An incentive scheme is a payment or promotion plan to address a principal-agent problem.\n",
    "\n",
    "- What are potential incentive schemes?\n",
    "- Can be explicit or implicit.\n",
    "- Can be internal to the firm or external."
   ]
  },
  {
   "cell_type": "markdown",
   "id": "24ad0ad4",
   "metadata": {
    "slideshow": {
     "slide_type": "subslide"
    }
   },
   "source": [
    "#### 1. Owners can make the CEO’s compensation a function of company profit\n",
    "#### 2. Owners can make the CEO an owner by granting shares of the company. \n",
    "\n",
    "The CEO can then choose an incentive scheme for every divisional\n",
    "manager, based on company profits or performance evaluation of the division\n",
    "(which may in turn be based on output, costs, divisional profits, ROI, etc.)."
   ]
  },
  {
   "cell_type": "markdown",
   "id": "f9a0b3ba",
   "metadata": {
    "slideshow": {
     "slide_type": "slide"
    }
   },
   "source": [
    "### Evaluation and incentives: Basic principles \n",
    "\n",
    "Consider the manager of a factory. An owner’s return on investment in the\n",
    "factory depends on many factors. For example, the market price of raw materials\n",
    "and finished goods, and the number of equipment breakdowns will affect the\n",
    "factory’s profit and the owner’s return. These factors will cause the\n",
    "performance of the firm to be uncertain. The owner’s return will also depend to\n",
    "some extent on how hard-working and/or talented the manager is. If the manager\n",
    "works hard (i.e., if he can keep the machinery in good condition, react quickly\n",
    "to breakdowns, treat workers well and maintain discipline, etc.), his effort\n",
    "will be productive in the sense that it will increase the overall _probability_\n",
    "of good performance. Outstanding effort on the manager’s part, however, will\n",
    "not necessarily result in good performance, because factors beyond the\n",
    "manager’s control (such as external price fluctuations or deficient raw\n",
    "material supply) may make bad performance inevitable.\n",
    "\n",
    "#### In this situation, how should the manager be paid by the owner?"
   ]
  },
  {
   "cell_type": "markdown",
   "id": "77293d31",
   "metadata": {
    "slideshow": {
     "slide_type": "slide"
    }
   },
   "source": [
    "### The controlability principal\n",
    "\n",
    "- One principle, to which many firms have traditionally adhered, is that the manager should be responsible only for those dimensions of performance that he can _control_.\n",
    "- Since the firm's good performance cannot be completely guaranteed by the manager, he should not be held responsible for, nor should his pay depend upon, factors he cannot control. \n",
    "- We refer to this as the _controllability principle_.\n"
   ]
  },
  {
   "cell_type": "markdown",
   "id": "60a38f65",
   "metadata": {
    "slideshow": {
     "slide_type": "slide"
    }
   },
   "source": [
    "### Cases where we try to get Huckelberry Finn to work\n",
    "\n",
    "> Well, then, says I what's the use you learning to do right when it's\n",
    "> troublesome to do right and ain't no trouble to do wrong, and the wages is\n",
    "> just the same? I was stuck. I couldn't answer that. So I reckoned I wouldn't\n",
    "> bother no more about it, but after this always do whichever come handiest at\n",
    "> the time.\n",
    "\n",
    "> The Adventures of Huckleberry Finn\n",
    "> Mark Twain, 1884\n"
   ]
  },
  {
   "cell_type": "markdown",
   "id": "b2dbb0d6",
   "metadata": {
    "slideshow": {
     "slide_type": "slide"
    }
   },
   "source": [
    "### The baseline: Effort aversion\n",
    "\n",
    "Beyond a certain point, Huck does not like to work. If every week Huck put in\n",
    "just forty hours, did not work too hard during any one of those hours, and took\n",
    "a reasonable paycheck home every Friday, Huck would be a happy guy. Sadly, Huck\n",
    "must do some things he finds unpleasant and hard in order to maintain his\n",
    "standard of living. Huck will not do these things unless he thinks the rewards\n",
    "outweigh his distaste for those activities.\n",
    "\n",
    "This shouldn't be confused with being \"lazy\", effort aversion also comes, in the limit, from the basic diversity of human needs. \n"
   ]
  },
  {
   "cell_type": "markdown",
   "id": "1c6f56ac",
   "metadata": {
    "slideshow": {
     "slide_type": "slide"
    }
   },
   "source": [
    "## Scenario 1: Risk-Aversion\n",
    "\n",
    "Huck makes widgets in Miss Watson’s factory. The number of widgets produced\n",
    "depends partly on Huck’s effort and partly on random events. Huck can work\n",
    "hard, experience bad luck and widget output will be low. Or, Huck could shirk\n",
    "his duties, but with good luck, widget output is high. Ideally, Huck always\n",
    "works diligently. On average, if Huck is diligent, widget output is\n",
    "satisfactory.\n"
   ]
  },
  {
   "cell_type": "markdown",
   "id": "be5155f1",
   "metadata": {
    "slideshow": {
     "slide_type": "subslide"
    }
   },
   "source": [
    "### Case 1A:\n",
    "\n",
    "#### Assume:\n",
    "- Miss Watson observes exactly how hard Huck works. \n",
    "\n",
    "#### __Question:__ How should Miss Watson compensate Huck?\n",
    "\n",
    "#### Consider:\n",
    "- a salary;\n",
    "- a bonus based on the effort Huck exerts;\n",
    "- a bonus based on the number of widgets produced."
   ]
  },
  {
   "cell_type": "markdown",
   "id": "d781a3f7",
   "metadata": {
    "slideshow": {
     "slide_type": "subslide"
    }
   },
   "source": [
    "### Case 1B: \n",
    "\n",
    "#### Assume:\n",
    "1. Miss Watson does not know exactly what Huck does.\n",
    "2. She can make inferences about Huck’s effort from widget output.\n",
    "3. Huck is risk-neutral. (This means that he only cares about the expected value of his wages)\n",
    "\n",
    "\n",
    "#### __Question:__ How should Miss Watson compensate Huck?\n",
    "\n",
    "#### Consider:\n",
    "- a salary;\n",
    "- a bonus based on the number of widgets produced. \n"
   ]
  },
  {
   "cell_type": "markdown",
   "id": "fd1597be",
   "metadata": {
    "slideshow": {
     "slide_type": "subslide"
    }
   },
   "source": [
    "## Some follow-up questions:\n",
    "- What does it mean if the bonus per widget is equal to the selling price of\n",
    "widgets and the salary is negative? \n",
    "\n",
    "- Can you give a realistic example that corresponds closely to Case 1B and the\n",
    "“salary” is negative?"
   ]
  },
  {
   "cell_type": "markdown",
   "id": "83247c3c",
   "metadata": {
    "slideshow": {
     "slide_type": "subslide"
    }
   },
   "source": [
    "### A definition of risk aversion:\n",
    "\n",
    "Informal interpretation of risk aversion: __Holding the expected amount of pay constant, Huck dislikes pay plans that have higher variances.__ \n",
    "\n",
    "#### Huck prefers sure things to risky bets\n",
    "\n",
    "But, Huck may prefer a high variance/high mean pay plan to a low variance/low mean pay plan, depending on just how risk averse he is."
   ]
  },
  {
   "cell_type": "markdown",
   "id": "f169b020",
   "metadata": {
    "slideshow": {
     "slide_type": "subslide"
    }
   },
   "source": [
    "### Case 1C:\n",
    "\n",
    "#### Assume:\n",
    "1. Huck is risk averse.\n",
    "2. Miss Watson does not know exactly what Huck does.\n",
    "\n",
    "\n",
    "#### __Question:__ How should Miss Watson Compensate Huck?\n",
    "\n",
    "#### Consider:\n",
    "\n",
    "- a salary;\n",
    "- a bonus based on the number of widgets produced.\n",
    "\n",
    "\n"
   ]
  },
  {
   "cell_type": "markdown",
   "id": "0d64c854",
   "metadata": {
    "slideshow": {
     "slide_type": "subslide"
    }
   },
   "source": [
    "### Additional considerations\n",
    "\n",
    "- Consider how output and associated risks are shared between Miss Watson and Huck in each of these examples. \n",
    "- Do pay plans exist that make Miss Watson and Huck both better off than others? \n",
    "- What is the source of such improvements in Miss Watson’s and Huck’s welfare?\n"
   ]
  },
  {
   "cell_type": "markdown",
   "id": "a3883c2f",
   "metadata": {
    "slideshow": {
     "slide_type": "subslide"
    }
   },
   "source": [
    "## Scenario 2: Controllability/Informativeness\n",
    "\n",
    "#### Assume:\n",
    "\n",
    "1. Huck is risk-averse.\n",
    "2. Miss Watson does not know exactly what Huck does.\n",
    "3. In addition to the number of widgets produced, Miss Watson has some other\n",
    "   data that is informative of Huck’s effort. One interpretation of this other\n",
    "   information could be that it is an accounting report.\n",
    "\n",
    "#### __Question:__ How should Miss Watson compensate Huck?\n",
    "\n",
    "#### Consider:\n",
    "- a salary;\n",
    "- a bonus based on the number of widgets produced;\n",
    "- a bonus based on the accounting information;\n",
    "- a bonus based on the price of Milk Tea in Tai Po.\n"
   ]
  },
  {
   "cell_type": "markdown",
   "id": "93cd1337",
   "metadata": {
    "slideshow": {
     "slide_type": "subslide"
    }
   },
   "source": [
    "### A new use for accounting information!\n",
    "\n",
    "-  What is the internal value of this accounting information?\n",
    "-  In and of itself, the accounting report has no value to either Miss Watson or\n",
    "Huck. It cannot be sold for cash as widgets are.\n",
    "- If the accounting information improves the contract between Huck and Miss Watson, then it has value. \n",
    "- Would Miss Watson pay some money to acquire such a report?\n",
    "- Would Huck?\n",
    "\n"
   ]
  },
  {
   "cell_type": "markdown",
   "id": "51419a30",
   "metadata": {
    "slideshow": {
     "slide_type": "slide"
    }
   },
   "source": [
    "## What do we learn from this silly example?\n",
    "\n",
    "##### __General result:__ Whenever signals are informative of Huck’s actions, the joint surplus available to Huck and Miss Watson can be increased by modifying the contract to incorporate these components."
   ]
  },
  {
   "cell_type": "markdown",
   "id": "1f785ef2",
   "metadata": {
    "slideshow": {
     "slide_type": "subslide"
    }
   },
   "source": [
    "##### __Observation 1:__ If the firm’s performance does not depend at all on the manager’s action, he should be paid a fixed salary."
   ]
  },
  {
   "cell_type": "markdown",
   "id": "a7bcf96d",
   "metadata": {
    "slideshow": {
     "slide_type": "subslide"
    }
   },
   "source": [
    "##### __Observation 2:__ If the firm’s performance depends upon the manager’s actions, and if these actions can be monitored perfectly by the principal, the incentive problem can be solved perfectly.\n"
   ]
  },
  {
   "cell_type": "markdown",
   "id": "bcd4b41e",
   "metadata": {
    "slideshow": {
     "slide_type": "subslide"
    }
   },
   "source": [
    "##### __Observation 3:__ If the firm’s performance depends upon manager’s action, and this action is not directly observable by the principal, then the manager must be held responsible for observable measures of performance. \n",
    "\n",
    "- This is because the performance variable permits the principal to partly infer the manager’s action. \n",
    "- Making compensation depend on performance influences the manager’s action in a mutually desirable way."
   ]
  },
  {
   "cell_type": "markdown",
   "id": "81906776",
   "metadata": {
    "slideshow": {
     "slide_type": "subslide"
    }
   },
   "source": [
    "##### __Observation 4 :__ If the firm’s performance depends upon the manager’s action, and this action is not directly observable by the principal, the manager may end up with a low rather than a high bonus, even if he chooses the action that the principal wants. \n",
    "\n",
    "- That is, he may be held responsible for factors outside his control.\n",
    "- Thus, the _controllability principle_ need not be valid in all situations. \n",
    "- To see another illustration of this, consider whether the manager ought to be evaluated on the basis of the performance of other firms in a similar situation."
   ]
  },
  {
   "cell_type": "markdown",
   "id": "6daa9135",
   "metadata": {
    "slideshow": {
     "slide_type": "subslide"
    }
   },
   "source": [
    "##### __Observation 5 :__ Relative performance evaluation \n",
    "\n",
    "— Consider several firms operating in the same industry. \n",
    "- In such cases, we often find a significant correlation between the performances of the different firms that is due to the commonality of the non-controllable factors (like market fluctuations in input and output prices). \n",
    "- At times, the correlation with a given competitor might be particularly high; e.g., the other firm might purchase its raw material from the same source. \n",
    "- In this case, the principal will often find it advantageous to base the salary of the manager not only on the performance of her own firm, but also on the performance of the other firms (which is completely beyond the manager’s control).\n",
    "\n"
   ]
  },
  {
   "cell_type": "markdown",
   "id": "f78143bd",
   "metadata": {
    "slideshow": {
     "slide_type": "subslide"
    }
   },
   "source": [
    "#### Note on risk and control:\n",
    "\n",
    "- Incentive schemes for managers base pay on the performance of the firm (or division or plant) to which they are assigned. \n",
    "- Since performance depends on a large number of variables beyond managers’ control, these managers may end up bearing a lot of risk.\n",
    "\n",
    "- In other situations—where the firm’s performance is totally independent of their actions, or where their actions can be directly observed by the principal—there is no need to impose so much responsibility on managers.  \n",
    "- Because the principal can usually absorb risk more easily than managers, it is more efficient to offer managers a fixed salary (and fire the manager if he deviates from the course of action expected by the principal).\n",
    "\n"
   ]
  },
  {
   "cell_type": "markdown",
   "id": "d6691234",
   "metadata": {
    "slideshow": {
     "slide_type": "slide"
    }
   },
   "source": [
    "### Concluding caveat\n",
    "\n",
    "- Basing pay on the firm’s performance is sensible only if this performance is influenced by the manager’s actions, and these actions are not directly observed by the principal. \n",
    "- Then the manager must be induced indirectly to choose desirable actions: \n",
    "- this is achieved by basing the manager’s pay on whatever variables permit some inference about the manager’s actions. \n",
    "- While this may impose risk on the managers, some risk/responsibility is necessary to provide managers with appropriate incentives to work hard. \n",
    "- In these situations, the manager may be evaluated on the basis of variables beyond his control."
   ]
  },
  {
   "cell_type": "markdown",
   "id": "0c1e74b2",
   "metadata": {
    "slideshow": {
     "slide_type": "subslide"
    }
   },
   "source": [
    "#### __Question:__ How were you evaluated in your last employment?\n",
    "- $Actual_{t}$ to $Actual_{t−1}$\n",
    "- $Actual_{t}$ to $Budget_{t}$\n",
    "- $Actual_{t}$ to $Standard_{t}$\n",
    "\n",
    "Keep this in mind when we get to budgets and standards later in the semester."
   ]
  },
  {
   "cell_type": "markdown",
   "id": "127c4b21",
   "metadata": {
    "slideshow": {
     "slide_type": "slide"
    }
   },
   "source": [
    "# Responsibility Accounting \n",
    "\n",
    "- To implement incentive schemes, organizational performance must be decomposed into components that reflect, as nearly as possible, individual contributions.\n",
    "- Responsibility accounting is a system of accounting that recognizes various responsibility centers throughout the organization.\n",
    "- Such an accounting system reflects the plans and actions of each of these centers by allocating particular revenues and costs to those having the pertinent responsibilities (also called profitability accounting and activity accounting). "
   ]
  },
  {
   "cell_type": "markdown",
   "id": "0795ac3d",
   "metadata": {
    "slideshow": {
     "slide_type": "slide"
    }
   },
   "source": [
    "#### The most common types of responsibility centers are:\n",
    "\n",
    "- Cost center:\n",
    "- Profit center:\n",
    "- Revenue center:\n",
    "- Investment center:"
   ]
  },
  {
   "cell_type": "markdown",
   "id": "8ff781ca",
   "metadata": {
    "slideshow": {
     "slide_type": "slide"
    },
    "vscode": {
     "languageId": "plaintext"
    }
   },
   "source": [
    "#### The most common types of responsibility centers are:\n",
    "\n",
    "- Cost center:\n",
    "- Profit center:\n",
    "- Revenue center:\n",
    "- Investment center:"
   ]
  },
  {
   "cell_type": "markdown",
   "id": "26ae13e4",
   "metadata": {
    "slideshow": {
     "slide_type": "slide"
    }
   },
   "source": [
    "#### Desirable features of responsibility accounting\n",
    "- strong link between performance and compensation\n",
    "- clear distinction between controllable versus non-controllable budget items\n",
    "- timeliness"
   ]
  }
 ],
 "metadata": {
  "celltoolbar": "Slideshow",
  "kernelspec": {
   "display_name": "Python [conda env:acct3210] *",
   "language": "python",
   "name": "conda-env-acct3210-py"
  },
  "language_info": {
   "codemirror_mode": {
    "name": "ipython",
    "version": 3
   },
   "file_extension": ".py",
   "mimetype": "text/x-python",
   "name": "python",
   "nbconvert_exporter": "python",
   "pygments_lexer": "ipython3",
   "version": "3.10.4"
  }
 },
 "nbformat": 4,
 "nbformat_minor": 5
}
