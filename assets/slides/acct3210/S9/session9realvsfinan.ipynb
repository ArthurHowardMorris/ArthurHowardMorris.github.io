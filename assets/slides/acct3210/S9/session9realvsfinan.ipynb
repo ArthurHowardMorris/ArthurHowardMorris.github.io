{
 "cells": [
  {
   "cell_type": "markdown",
   "id": "e6781728",
   "metadata": {
    "slideshow": {
     "slide_type": "slide"
    }
   },
   "source": [
    "## Tax Shields and Net-of-tax returns on real and financial assets"
   ]
  },
  {
   "cell_type": "markdown",
   "id": "6e06ccae",
   "metadata": {
    "slideshow": {
     "slide_type": "slide"
    }
   },
   "source": [
    "### Key concepts from last time\n",
    "\n",
    "1. Assets, investments, and projects all have different pre-tax returns ($r$).\n",
    "2. Tax rates ($t$) vary across individuals, jurisdictions, organizations, and assets."
   ]
  },
  {
   "cell_type": "markdown",
   "id": "f1bce121",
   "metadata": {
    "slideshow": {
     "slide_type": "subslide"
    }
   },
   "source": [
    "## Examples of 2.\n",
    "- HK individual income tax ranges from 2% to 17%\n",
    "- HK corporate tax is 16.5% \n",
    "- US individual income tax ranges from 10% to 35%\n",
    "  - Mortgage interest is not taxed.\n",
    "- US corporate tax rate was 35% until 2017, now 21%\n",
    "    - Investments (depreciation) are tax deductible \n",
    "    - Interest payments are tax deductible\n",
    "    \n",
    "_Note: non-Hong Kong tax laws are important for Hong Kong accountants, because these laws are often __the reason__ why your clients/employers are doing business in Hong Kong._"
   ]
  },
  {
   "cell_type": "markdown",
   "id": "4007a48a",
   "metadata": {
    "slideshow": {
     "slide_type": "subslide"
    }
   },
   "source": [
    "### Key concepts from last time\n",
    "\n",
    "1. Assets, investments, and projects all have different pre-tax returns ($r$).\n",
    "2. Tax rates ($t$) vary across individuals, jurisdictions, organizations, and assets.\n",
    "3. pre-tax returns of $r$ correspond to post-tax returns of $r(1-t)$ \n",
    "   - for simple assets like savings accounts, money market funds and mutual funds."
   ]
  },
  {
   "cell_type": "markdown",
   "id": "eac09950",
   "metadata": {
    "slideshow": {
     "slide_type": "subslide"
    }
   },
   "source": [
    "## Notice some thing similar for more complex assets\n",
    "\n",
    "|      |      Instrument     |  <div style=\"width:400px\">Annualized Return</div>              |\n",
    "|------|-------------------------------|-------------------------------|\n",
    "| I.   |  Money Market Fund  |  $r(1-t)$                      |\n",
    "| II.  |         SPDA        |  $[(1+r)^{n}(1-t)+t]^{1/n} -1$ |\n",
    "| III. |     Mutual Fund     |  $r(1 - g)$                    |\n",
    "| IV.  | Foreign Corporation |$[(1+r)^{n}(1-g)+g]^{1/n} -1$ |\n",
    "| V.   |   Insurance Policy  |$r$                           |\n",
    "| VI.  |       Pension       |$r$                           |\n",
    "\n",
    "1. Note: SPDAs and \"Foreign\" Corporations differ because taxes are paid on the income when you end the position.\n",
    "2. Note: That these are 'annualized' rates meaning the rate of return for each year."
   ]
  },
  {
   "cell_type": "markdown",
   "id": "1bcc191c",
   "metadata": {
    "slideshow": {
     "slide_type": "subslide"
    }
   },
   "source": [
    "### Key concepts from last time\n",
    "\n",
    "1. Assets, investments, and projects all have different pre-tax returns ($r$).\n",
    "2. Tax rates $t$ vary across individuals, jurisdictions, organizations, and assets.\n",
    "3. pre-tax returns $r$ correspond to post tax returns $r(1-t)$ \n",
    "4. When preferential tax treatment increases demand for a tax favored asset it's price increases. This price change is an _implicit_ tax.\n",
    "5. When tax payers use organizational forms like pensions and insurance policies to avoid taxes it is called _organizational form arbitrage_.\n",
    "6. When high-tax tax payers issue taxable debt to finance the purchase of tax free debt (e.g. municipal bonds in the US) issued by low-tax tax payers (e.g. US non-profit universities) it is called _clientele arbitrage_."
   ]
  },
  {
   "cell_type": "markdown",
   "id": "46f7c173",
   "metadata": {
    "slideshow": {
     "slide_type": "slide"
    }
   },
   "source": [
    "## Let's look at the case\n",
    "\n",
    "1. We are using an SPDA to illustrate a context in which a normal investor could implement a strategy like this.\n",
    "2. No need to memorize the SPDA formula.\n",
    "3. When comparing two options, always think about the revenue and costs that are __unique__ to each scenario.\n",
    "\n",
    "([Excel Example](https://arthurhowardmorris.github.io/resources/semesters/s2024/ACCTG3210.html#lecture-8-taxation-of-returns))"
   ]
  },
  {
   "cell_type": "markdown",
   "id": "04b00de8",
   "metadata": {
    "slideshow": {
     "slide_type": "slide"
    }
   },
   "source": [
    "[iPRS](https://iprs.ust.hk/ars/session/index/2560)"
   ]
  },
  {
   "cell_type": "markdown",
   "id": "f7e155be",
   "metadata": {
    "slideshow": {
     "slide_type": "slide"
    }
   },
   "source": [
    "## Now back to net-of-tax returns\n",
    "\n",
    "Suppose there is a __riskless financial__ asset that costs one dollar at the\n",
    "beginning of the period and pays $1 + r$ dollars at the end of every period.\n",
    "The difference, $r$, is taxed at rate $t$.\n",
    "\n",
    "Thus, it is possible to borrow and lend at the after-tax rate of $r(1 - t)$ per\n",
    "period. \n",
    "\n",
    "There is also a __real asset__ costing $x > 0$. The asset produces a\n",
    "riskless pretax cash flow of $k$ in perpetuity at the end of each period. \n"
   ]
  },
  {
   "cell_type": "markdown",
   "id": "72c85128",
   "metadata": {
    "slideshow": {
     "slide_type": "subslide"
    }
   },
   "source": [
    "## Tax Treatment of Depreciation:\n",
    "\n",
    "For tax purposes, the original cost of the asset may be depreciated straight\n",
    "line at rate $0 \\leq d \\leq 1$. Taxable income for any period is the pre-tax cash flow\n",
    "less the depreciation.\n",
    "\n",
    "- [Hong Kong Tax Treatment of depreciation is slightly more complicated than this, with a lump depreciation in year 0 and various linear rates thereafter.](https://taxsummaries.pwc.com/hong-kong-sar/corporate/deductions)"
   ]
  },
  {
   "cell_type": "markdown",
   "id": "ba5acd2e",
   "metadata": {
    "slideshow": {
     "slide_type": "subslide"
    }
   },
   "source": [
    "\n",
    "__But wait!?!? Didn't you just tell us not to consider depreciation?__\n",
    "\n",
    "- _Why are we including depreciation?_\n",
    "- _Notice where we include depreciation in the next equation!_\n",
    "\n",
    "Tax is paid at rate $t$, so that at the end of the first\n",
    "period, the net-of-tax cash flow is\n",
    "\n",
    "$$k-t(k-dx)$$\n",
    "\n",
    "Depreciation is impacting cash flow through it's impact on __the taxes you pay__!"
   ]
  },
  {
   "cell_type": "markdown",
   "id": "39e2dd99",
   "metadata": {
    "slideshow": {
     "slide_type": "subslide"
    }
   },
   "source": [
    "## Tax Treatment of Depreciation:\n",
    "\n",
    "We can rewrite the net-of-tax cash flow equation above as follows:\n",
    "\n",
    "$$k(1-t) + dtx$$\n",
    "\n",
    "Now lets write down the cash flows from this project, and discount them."
   ]
  },
  {
   "cell_type": "markdown",
   "id": "be7490dd",
   "metadata": {
    "slideshow": {
     "slide_type": "subslide"
    }
   },
   "source": [
    "## What are the cash flows?\n",
    "\n",
    "The cash outflow $x$ to acquire the asset is not tax deductible, so the first cash flow is just:\n",
    "\n",
    "$$-x$$"
   ]
  },
  {
   "cell_type": "markdown",
   "id": "62ea879e",
   "metadata": {
    "slideshow": {
     "slide_type": "subslide"
    }
   },
   "source": [
    "## What are the cash flows?\n",
    "\n",
    "The second set of cash flows are the net-of-tax cash flows over the depreciable life of the asset discounted back to time zero at the after-tax rate of return\n",
    "\n",
    "$$ \\sum^{1/d}_{n=1}\\frac{k(1-t)+dtx}{[1+r(1-t)]^{n}}$$\n",
    "\n",
    "\n",
    "- $1/d$ is the number of periods you depreciate. e.g. if $d=.25$ then $1/d=4$ years\n",
    "- the numerators are discounting cash flows relative with $r$ adjusted for $t$ you might recognize the formula from the previous lecture's handout!"
   ]
  },
  {
   "cell_type": "markdown",
   "id": "c258ba8d",
   "metadata": {
    "slideshow": {
     "slide_type": "subslide"
    }
   },
   "source": [
    "## What are the cash flows?\n",
    "\n",
    "The final set of cash flows we need to consider are then net-of-tax cash flows from the asset after the asset is fully depreciated. \n",
    "\n",
    "$$\\sum^{\\infty}_{n=1+1/d}\\frac{k(1-t)}{[1+r(1-t)]^{n}}$$\n",
    "\n",
    "- $1/d$ is the number of periods you depreciate. e.g. if $d=.25$ then $1/d=4$ years\n",
    "- the numerators are discounting cash flows relative with $r$ adjusted for $t$ you might recognize the formula from the previous lecture's handout!"
   ]
  },
  {
   "cell_type": "markdown",
   "id": "715e250f",
   "metadata": {
    "slideshow": {
     "slide_type": "slide"
    }
   },
   "source": [
    "__So the total net-of-tax present value of these cash flows at the end of the first period is:__\n",
    "$$-x + \\sum^{1/d}_{n=1}\\frac{k(1-t)+dtx}{[1+r(1-t)]^{n}}+\\sum^{\\infty}_{n=1+1/d}\\frac{k(1-t)}{[1+r(1-t)]^{n}}$$\n",
    "\n",
    "- $1/d$ is the number of periods you depreciate. e.g. if $d=.25$ then $1/d=4$ years\n",
    "- the numerators are discounting cash flows relative with $r$ adjusted for $t$ you might recognize the formula from the previous lecture's handout!"
   ]
  },
  {
   "cell_type": "markdown",
   "id": "c5bea353",
   "metadata": {
    "slideshow": {
     "slide_type": "subslide"
    }
   },
   "source": [
    "#### This quantity can be rewritten as follows: \n",
    "\n",
    "$$-x+\\frac{k}{r}+\\frac{dtx}{r(1-t)}\\Big(1-[1+r(1-t)]^{-1/d}\\Big)$$\n",
    "\n",
    "This is using the annuity and perpetuity formulas."
   ]
  },
  {
   "cell_type": "markdown",
   "id": "7fb7b937",
   "metadata": {
    "slideshow": {
     "slide_type": "subslide"
    }
   },
   "source": [
    "#### Each of these terms has an important meaning: \n",
    "\n",
    "$$-x+\\frac{k}{r}+\\frac{dtx}{r(1-t)}\\Big(1-[1+r(1-t)]^{-1/d}\\Big)$$\n",
    "\n",
    "The __first term__ is the cost of the asset again."
   ]
  },
  {
   "cell_type": "markdown",
   "id": "b13c9471",
   "metadata": {
    "slideshow": {
     "slide_type": "subslide"
    }
   },
   "source": [
    "#### Each of these terms has an important meaning:\n",
    "\n",
    "$$-x+\\frac{k}{r}+\\frac{dtx}{r(1-t)}\\Big(1-[1+r(1-t)]^{-1/d}\\Big)$$\n",
    "\n",
    "The __second term__ is the present value of the perpetual pre-tax cash flow from\n",
    "the asset, $k$, capitalized at the pre-tax rate, $r$. Note that this is the\n",
    "same as the after tax cash flow, $k(1-t)$, capitalized at the after tax\n",
    "discount rate, $r(1-t)$."
   ]
  },
  {
   "cell_type": "markdown",
   "id": "d60e6ee6",
   "metadata": {
    "slideshow": {
     "slide_type": "subslide"
    }
   },
   "source": [
    "#### Each of these terms has an important meaning:\n",
    "\n",
    "$$-x+\\frac{k}{r}+\\frac{dtx}{r(1-t)}\\Big(1-[1+r(1-t)]^{-1/d}\\Big)$$\n",
    "\n",
    "- The __final term__ is the present value of the reduction in tax payments afforded by the depreciation deduction (often called the __tax shield__).\n",
    "- Notice that this term has the same form as the present value of an annuity of $dtx$ for $1/d$ periods discounted at rate $r(1-t)$.\n",
    "- __This is the only term where tax factors $d$ and $t$ play a role.__\n"
   ]
  },
  {
   "cell_type": "markdown",
   "id": "c62a76ca",
   "metadata": {
    "slideshow": {
     "slide_type": "subslide"
    }
   },
   "source": [
    "- If either the depreciation rate or the tax rate is zero, then the before tax and net-of-tax present values are the same.\n",
    "- If $d$ and $t$ are both positive then the value of the tax shield provided by depreciation is also positive. The value of the shield increases with both $d$ and $t$."
   ]
  },
  {
   "cell_type": "markdown",
   "id": "f9c37447",
   "metadata": {
    "slideshow": {
     "slide_type": "subslide"
    }
   },
   "source": [
    "- If either the depreciation rate or the tax rate is zero, then the before tax and net-of-tax present values are the same.\n",
    "- If $d$ and $t$ are both positive then the value of the tax shield provided by depreciation is also positive. The value of the shield increases with both $d$ and $t$.\n",
    "- When tax depreciation is immediate, i.e., $d=1$, then the tax shield is \n",
    "\n",
    "$$\\frac{dtx}{r(1-t)}\\Big(1-[1+r(1-t)]^{-1/d}\\Big)=x\\frac{t}{1+r(1-t)}$$"
   ]
  },
  {
   "cell_type": "markdown",
   "id": "5ed67112",
   "metadata": {
    "slideshow": {
     "slide_type": "subslide"
    }
   },
   "source": [
    "- If either the depreciation rate or the tax rate is zero, then the before tax and net-of-tax present values are the same.\n",
    "- If $d$ and $t$ are both positive then the value of the tax shield provided by depreciation is also positive. The value of the shield increases with both $d$ and $t$.\n",
    "- When tax depreciation is immediate, i.e., $d=1$, then the tax shield is \n",
    "\n",
    "$$\\frac{dtx}{r(1-t)}\\Big(1-[1+r(1-t)]^{-1/d}\\Big)=x\\frac{t}{1+r(1-t)}$$\n",
    "\n",
    "- This value can be substantial. Consider an investment that may be deducted fully from taxes in the year it is made, such as advertising. For $t=30\\%$ and $r=10\\%$, the tax shield is 28\\% of the cost of the asset!"
   ]
  },
  {
   "cell_type": "markdown",
   "id": "3973b97c",
   "metadata": {
    "slideshow": {
     "slide_type": "slide"
    }
   },
   "source": [
    "## Let's do some plotting to get a sense of this relationship\n",
    "\n",
    "$$\\frac{dtx}{r(1-t)}\\Big(1-[1+r(1-t)]^{-1/d}\\Big)=x\\frac{t}{1+r(1-t)}$$\n",
    "\n",
    "First let's plot the value of the tax shield as a function of the depreciation rate.\n",
    "Assume that $r=10\\%$, and $t=30\\%$"
   ]
  },
  {
   "cell_type": "code",
   "execution_count": 1,
   "id": "d32768e1",
   "metadata": {
    "slideshow": {
     "slide_type": "subslide"
    }
   },
   "outputs": [],
   "source": [
    "import matplotlib.pyplot as plt\n",
    "import numpy as np\n",
    "\n",
    "def tax_shield(d,t,r,x=1):\n",
    "    first_term = (d*x*t)/(r*(1-t))\n",
    "    second_term = 1-(1+r*(1-t))**(-1/d)\n",
    "    return first_term*second_term"
   ]
  },
  {
   "cell_type": "markdown",
   "id": "32ab6b8e",
   "metadata": {
    "slideshow": {
     "slide_type": "subslide"
    }
   },
   "source": [
    "First let's plot the value of the tax shield as a function of the depreciation rate.\n",
    "Assume that $r=10\\%$, and $t=30\\%$"
   ]
  },
  {
   "cell_type": "code",
   "execution_count": 5,
   "id": "51dcbeba",
   "metadata": {},
   "outputs": [
    {
     "data": {
      "image/png": "[encoded data removed]",
      "text/plain": [
       "<Figure size 640x480 with 1 Axes>"
      ]
     },
     "metadata": {},
     "output_type": "display_data"
    }
   ],
   "source": [
    "D = np.linspace(0.01,1,100)\n",
    "plt.plot(D,tax_shield(D,t=0.3,r=0.1))\n",
    "plt.xlabel('Depreciation rate')\n",
    "plt.ylabel('Tax shield')\n",
    "plt.show()"
   ]
  },
  {
   "cell_type": "markdown",
   "id": "472a2eb9",
   "metadata": {
    "slideshow": {
     "slide_type": "subslide"
    }
   },
   "source": [
    "First let's plot the value of the tax shield as a function of the depreciation rate.\n",
    "Now let's plot the value of the tax shield as a function of the tax rate.\n",
    "Assume that $r=10\\%$, and $d=30\\%$"
   ]
  },
  {
   "cell_type": "code",
   "execution_count": 3,
   "id": "fad951b2",
   "metadata": {
    "slideshow": {
     "slide_type": "skip"
    }
   },
   "outputs": [],
   "source": [
    "import warnings\n",
    "warnings.filterwarnings('ignore')"
   ]
  },
  {
   "cell_type": "code",
   "execution_count": 4,
   "id": "0d9bde87",
   "metadata": {},
   "outputs": [
    {
     "data": {
      "image/png": "[encoded data removed]",
      "text/plain": [
       "<Figure size 640x480 with 1 Axes>"
      ]
     },
     "metadata": {},
     "output_type": "display_data"
    }
   ],
   "source": [
    "T = np.linspace(0.01,1,100)\n",
    "plt.plot(T,tax_shield(d=0.3,t=T,r=0.1))\n",
    "plt.xlabel('Tax rate')\n",
    "plt.ylabel('Tax shield')\n",
    "plt.show()"
   ]
  },
  {
   "cell_type": "markdown",
   "id": "73999c83",
   "metadata": {
    "slideshow": {
     "slide_type": "subslide"
    }
   },
   "source": [
    "#### One surprising conclusion that might be drawn from this analysis is that the net-of-tax present value of an investment is increasing in t.\n",
    "\n",
    "#### That is, the higher the tax rate, the more attractive is the investment!"
   ]
  },
  {
   "cell_type": "markdown",
   "id": "6711ba1c",
   "metadata": {
    "slideshow": {
     "slide_type": "subslide"
    }
   },
   "source": [
    "## This might be the point!\n",
    "- The depreciation tax shield makes investment more attractive.\n",
    "- Investment encourages economic growth."
   ]
  },
  {
   "cell_type": "markdown",
   "id": "686468ba",
   "metadata": {
    "slideshow": {
     "slide_type": "slide"
    }
   },
   "source": [
    "## Questions:\n",
    "\n",
    "1. The statement above is a striking one. What must be held constant (and probably is not in real life) for it to be true?\n",
    "2. What condition defines equilibrium prices and returns on financial assets relative to real assets?\n",
    "3. What opportunities would you be able to exploit if you observed that prices and returns were not in equilibrium?\n",
    "4. What effect would your actions tend to have on prices and returns?\n",
    "5. Tricky question. What happens of the value of the depreciation tax shield as the tax rate, t approaches 100%? What is the intuition behind this result?\n"
   ]
  },
  {
   "cell_type": "markdown",
   "id": "1fc26e28-c232-4e66-bbe7-120a59930ab6",
   "metadata": {
    "slideshow": {
     "slide_type": "slide"
    }
   },
   "source": [
    "## Questions:\n",
    "\n",
    "1. The statement above is a striking one. What must be held constant (and probably is not in real life) for it to be true?\n",
    "    - The demand for real assets! (implicit tax)\n",
    "    - Government spending may crowd out other types of investment.\n",
    "    - Also returns to scale.\n",
    "2. What condition defines equilibrium prices and returns on financial assets relative to real assets?\n",
    "    - No risk-free return from converting one to the other (no arbitrage) \n",
    "4. What opportunities would you be able to exploit if you observed that prices and returns were not in equilibrium?\n",
    "    - Arbitrage! \n",
    "6. What effect would your actions tend to have on prices and returns?\n",
    "    - Push them back to equilibrium.\n",
    "8. Tricky question. What happens to the value of the value of the depreciation tax shield as the tax rate, t approaches 100%? What is the intuition behind this result?\n",
    "   - 100% of the value of the asset is as a tax shield.\n"
   ]
  },
  {
   "cell_type": "code",
   "execution_count": 6,
   "id": "4995e6db-0c08-41f7-9fb2-596d3af36207",
   "metadata": {},
   "outputs": [
    {
     "data": {
      "text/plain": [
       "1.0000001100223055"
      ]
     },
     "execution_count": 6,
     "metadata": {},
     "output_type": "execute_result"
    }
   ],
   "source": [
    "tax_shield(d=0.3,t=.999999999,r=0.1)"
   ]
  },
  {
   "cell_type": "code",
   "execution_count": null,
   "id": "fc451eee-c212-402a-9d37-332d0112831a",
   "metadata": {},
   "outputs": [],
   "source": [
    "# TODO: add a slide for the value of a tax shield in hong kong"
   ]
  }
 ],
 "metadata": {
  "celltoolbar": "Slideshow",
  "kernelspec": {
   "display_name": "Python 3 (ipykernel)",
   "language": "python",
   "name": "python3"
  },
  "language_info": {
   "codemirror_mode": {
    "name": "ipython",
    "version": 3
   },
   "file_extension": ".py",
   "mimetype": "text/x-python",
   "name": "python",
   "nbconvert_exporter": "python",
   "pygments_lexer": "ipython3",
   "version": "3.11.7"
  }
 },
 "nbformat": 4,
 "nbformat_minor": 5
}
