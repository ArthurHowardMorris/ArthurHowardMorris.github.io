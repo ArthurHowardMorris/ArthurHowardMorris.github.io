{
 "cells": [
  {
   "cell_type": "code",
   "execution_count": null,
   "id": "2cfc2707-cc5c-482c-92cc-8ee613aea0e3",
   "metadata": {},
   "outputs": [],
   "source": []
  }
 ],
 "metadata": {
  "kernelspec": {
   "display_name": "Python [conda env:3point11] *",
   "language": "python",
   "name": "conda-env-3point11-py"
  },
  "language_info": {
   "codemirror_mode": {
    "name": "ipython",
    "version": 3
   },
   "file_extension": ".py",
   "mimetype": "text/x-python",
   "name": "python",
   "nbconvert_exporter": "python",
   "pygments_lexer": "ipython3",
   "version": "3.11.7"
  }
 },
 "nbformat": 4,
 "nbformat_minor": 5
}
