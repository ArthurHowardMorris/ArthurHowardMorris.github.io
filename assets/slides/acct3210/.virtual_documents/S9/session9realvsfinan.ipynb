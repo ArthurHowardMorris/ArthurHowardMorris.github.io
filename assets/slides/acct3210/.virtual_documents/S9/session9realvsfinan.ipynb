







































































import matplotlib.pyplot as plt
import numpy as np

def tax_shield(d,t,r,x=1):
    first_term = (d*x*t)/(r*(1-t))
    second_term = 1-(1+r*(1-t))**(-1/d)
    return first_term*second_term





D = np.linspace(0.01,1,100)
plt.plot(D,tax_shield(D,t=0.3,r=0.1))
plt.xlabel('Depreciation rate')
plt.ylabel('Tax shield')
plt.show()





import warnings
warnings.filterwarnings('ignore')


T = np.linspace(0.01,1,100)
plt.plot(T,tax_shield(d=0.3,t=T,r=0.1))
plt.xlabel('Tax rate')
plt.ylabel('Tax shield')
plt.show()














tax_shield(d=0.3,t=.999999999,r=0.1)


# TODO: add a slide for the value of a tax shield in hong kong
