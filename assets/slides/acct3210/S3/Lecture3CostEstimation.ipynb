{
 "cells": [
  {
   "cell_type": "markdown",
   "id": "1ee895f5",
   "metadata": {
    "slideshow": {
     "slide_type": "slide"
    }
   },
   "source": [
    "# Lecture 3: Cost Estimation"
   ]
  },
  {
   "cell_type": "markdown",
   "id": "72498890",
   "metadata": {
    "slideshow": {
     "slide_type": "slide"
    }
   },
   "source": [
    "## Workflow:\n",
    "\n",
    "In this course, and in your careers, you will be faced with questions and with data. Your data workflow is how you apply the data to those questions. \n",
    "\n",
    "- Please keep in mind that there is no perfect approach here, we have a set of tools that we use to find answers and make reccomendations.\n",
    "- Every approach has strengths and limitations, so the best approach will change with each question and with the data that you face. \n",
    "- A good workflow will generate answers, and more questions.\n",
    "- A good workflow will help you express what you know, how well you know it, and what you do not know.\n",
    "\n",
    "We are going to review three workflows. A \"Data Scientist\", a \"Statistician\", and a \"Managerial Accountant\"."
   ]
  },
  {
   "cell_type": "markdown",
   "id": "a0997b44",
   "metadata": {
    "slideshow": {
     "slide_type": "subslide"
    }
   },
   "source": [
    "## A \"Data Science\" Workflow"
   ]
  },
  {
   "cell_type": "markdown",
   "id": "3245dcff",
   "metadata": {
    "slideshow": {
     "slide_type": "subslide"
    }
   },
   "source": [
    "### [O.S.E.M.I.](https://datascienceatthecommandline.com/2e/chapter-1-introduction.html#data-science-is-osemn) \n",
    "\n",
    "- __Obtain__ data: includes determining what data measures the things that you are interested in understanding. This can be from internal or external sources.\n",
    "- __Scrub__ data: look at the data and figure out how to make it usefull. In the simple case of our assignments this is as straightforward a simply moving the data from Canvas into Excel or Python.\n",
    "- __Explore__ data: includes informal plotting, viewing (like actually looking at the data), and etc. the goal at this point is to understand the arrangement and features of the data. This step can raise questions that we might want to answer quickly by discussing with others. This is things like \"why are the data for Feb missing?\" or \"what units do we measure fuel consumption in?\"\n",
    "- __Model__ data: here we are trying to formalize patterns, estimating relationships between variables and thinking about the conditions under which these relationships hold and do not hold.\n",
    "- __Interpret__ data: this is the reporting, communication, and decision making step! Here we decide which information to base our decisions on, or how we are going to present our recommendations."
   ]
  },
  {
   "cell_type": "markdown",
   "id": "3aa09422",
   "metadata": {
    "slideshow": {
     "slide_type": "subslide"
    }
   },
   "source": [
    "## How this workflow actually 'flows':\n",
    "\n",
    "<center><img src=\"dscl_0101.png\"  width=\"1500\" height=\"1500\">"
   ]
  },
  {
   "cell_type": "markdown",
   "id": "e796a0e4",
   "metadata": {
    "slideshow": {
     "slide_type": "subslide"
    }
   },
   "source": [
    "## [A \"Statistician's\" workflow:](https://statmodeling.stat.columbia.edu/2023/02/11/statistical-analysis-1-plotting-the-data-2-constructing-and-fitting-models-3-plotting-data-along-with-fitted-models-4-further-modeling-and-data-collection/)\n",
    "\n",
    "- __First step: Plotting the data__ start with scatter plots and time-series plots. This will help you see if things are wrong, as well as helpimg you develop your intuition about which variable are related, and which variables are changing over time.\n",
    "\n",
    "1. Do you see the patterns you expect? Do you see any unexpected patterns?\n",
    "2. How much variation is there in the data? i.e. are there factors that are not on the graph that drive the relationship?\n",
    "\n",
    "- __Second Step: Statistical Modeling__ fit a model to the data. \n",
    "\n",
    "- __Third Step: Use the graph to understand the model__ Are there problems that we missed before? Can we make meaningful inferences? Can we use this model as a planning tool?\n",
    "\n",
    "- __Fourth Step: Improve the model and gather more data__\n",
    "\n"
   ]
  },
  {
   "cell_type": "markdown",
   "id": "9d8c740f",
   "metadata": {
    "slideshow": {
     "slide_type": "subslide"
    }
   },
   "source": [
    "# A management accountant's workflow\n",
    "\n",
    "- __Stage 0:__ Choose the dependent variable. \n",
    "- __Stage 1:__ Identify potential drivers (allocation bases). \n",
    "- __Stage 2:__ Identify the underlying cost behavior for all budgetary expense line items. \n",
    "- __Stage 3:__ Plot and analyze the data.\n",
    "- __Stage 4:__ Estimate the cost function.\n",
    "- __Stage 5:__ Test the cost function against the data.\n",
    "- __Stage 6:__ Find the most simple functional model."
   ]
  },
  {
   "cell_type": "markdown",
   "id": "015cd7cb",
   "metadata": {
    "slideshow": {
     "slide_type": "subslide"
    }
   },
   "source": [
    "## __Stage 0:__ Choose the dependent variable. \n",
    "\n",
    "This is the cost object. You may need more than one, and you need at least one per cost center\n",
    "\n",
    "__Cost center:__ a part of the company where costs are tracked independently. From the perspective of the cost system a cost center is a \"firm-within-the-firm\". \n",
    "\n",
    "### Cost Centers\n",
    "\n",
    "Consider a merger between the packaging and transportation divisions of the company. The easiest way to begin costing in the combined firm is to treat them as separate! This is the basic idea behind a cost center. As synergies arise, resources will be shared and we may begin to combine parts of the two companies."
   ]
  },
  {
   "cell_type": "markdown",
   "id": "21e4460e",
   "metadata": {
    "slideshow": {
     "slide_type": "subslide"
    }
   },
   "source": [
    "## __Stage 0:__ Choose the dependent variable. \n",
    "\n",
    " #### Six Reasons to Group Equipment or Operations in One Cost Center\n",
    "\n",
    " - Proximity\n",
    " - Immateriality\n",
    " - Same responsible manager\n",
    " - Similar cost structure\n",
    " - Similar function\n",
    "\n",
    "These reasons become more salient as synergies within the firm increase."
   ]
  },
  {
   "cell_type": "markdown",
   "id": "0b60047d",
   "metadata": {
    "slideshow": {
     "slide_type": "subslide"
    }
   },
   "source": [
    "## __Stage 1:__ Identify potential drivers (allocation bases). \n",
    "\n",
    "These are the independent variables. \n",
    "\n",
    "- This requires a detailed knowledge of the production process. \n",
    "- The experts on the details of the cost system are most often low-level employees.\n",
    "- Many of you are interested in consulting work, keep in mind that you will never be the expert in the details of the cost system! __Don't forget to talk to the people who actually touch the production process__\n",
    "- Drivers should be plausible and measurable."
   ]
  },
  {
   "cell_type": "markdown",
   "id": "9ce81622",
   "metadata": {
    "slideshow": {
     "slide_type": "subslide"
    }
   },
   "source": [
    "## __Stage 2:__ Identify the underlying cost behavior for all budgetary expense line items.\n",
    "\n",
    "In stage 2 we focused on what drives cost. Here we are gathering information about the direction, magnitude, and variability of these relationships.\n",
    "\n",
    "- The sources of this information are supply contracts, market prices, product designs, and past usage data.\n",
    "\n",
    "If some are mixtures of fixed and variable costs, separate them where possible.\n",
    "\n",
    "- Think about whether costs are fixed locally or globally (i.e. are they fixed within some relevant range, or when production goes to zero).\n"
   ]
  },
  {
   "cell_type": "markdown",
   "id": "78edf3d6",
   "metadata": {
    "slideshow": {
     "slide_type": "subslide"
    }
   },
   "source": [
    "## __Stage 3:__ Plot and analyze the data.\n",
    "\n",
    "The first steps are management accounting. But here this is pure data science and statistics, but that doesn't mean its overly complicated. This step lets us make sure that our costing system is functioning the way that we think it should.\n",
    "\n",
    "This is as simple as dumping all the data you have into a spreadsheet, or data frame and starting to plot things. This is what we did in the assignment!"
   ]
  },
  {
   "cell_type": "code",
   "execution_count": null,
   "id": "bd9f5517",
   "metadata": {
    "slideshow": {
     "slide_type": "subslide"
    }
   },
   "outputs": [],
   "source": [
    "# quick plotting examples here"
   ]
  },
  {
   "cell_type": "markdown",
   "id": "2105a860",
   "metadata": {
    "slideshow": {
     "slide_type": "subslide"
    }
   },
   "source": [
    "## __Stage 4:__ Estimate the cost function.\n",
    "\n",
    "- Evaluate economic plausibility and goodness of fit. A good practice is to add the models you fit to the plots of data (this gives you a visual version of things like $R^2$).\n",
    "- The purpose of a cost function is to allocate costs to cost objects. "
   ]
  },
  {
   "cell_type": "markdown",
   "id": "f46c946d",
   "metadata": {
    "slideshow": {
     "slide_type": "subslide"
    }
   },
   "source": [
    "## __Stage 4:__ Estimate the cost function.\n",
    "\n",
    "__This allows us to raise several questions:__\n",
    "\n",
    "- Are difficult-to-manufacture products cheap to produce? ('Yes' may signal a problem.)\n",
    "- Are there sensible reasons for differences in margins across products? (No may signal a problem.)\n",
    "- Do competitors sell your high margin products? (No may signal a problem.)\n",
    "- Is the outcome of bidding predictable? (No may signal a problem.)\n",
    "- How do customers react to price increases? (Inability to predict reaction may signal a problem.)\n",
    "\n",
    "Explore the impact on rates of differing allocation bases or cost behavior assumptions if these are in dispute. This often requires generating standard costs to explore the impact on product prices. This process leads to the next step."
   ]
  },
  {
   "cell_type": "code",
   "execution_count": null,
   "id": "2851510e",
   "metadata": {
    "slideshow": {
     "slide_type": "subslide"
    }
   },
   "outputs": [],
   "source": [
    "# quick plotting examples here"
   ]
  },
  {
   "cell_type": "markdown",
   "id": "8f937f8d",
   "metadata": {
    "slideshow": {
     "slide_type": "subslide"
    }
   },
   "source": [
    "## __Stage 5:__ Test cost functions at a variety of different levels of aggregation.\n",
    "\n",
    "The parameters of the cost function will be used to generate budgets (they are called \"__standard costs__\"\n",
    "\n",
    "Before settling on a final cost system test the standard costs that arise from merging cost centers (e.g., departments, plants, etc.). This often results in a much simplified design. When establishing or reviewing a cost system highest level of disaggregation may be used to test the accuracy of these aggregate designs.\n"
   ]
  },
  {
   "cell_type": "markdown",
   "id": "cb9b54b4",
   "metadata": {
    "slideshow": {
     "slide_type": "subslide"
    }
   },
   "source": [
    "## __Stage 6:__ Identify the smallest number of cost centers that produce adequate standard costs for the firm’s requirements.\n",
    "\n",
    "Stages 4 & 5 developed various alternative approaches for the firm. Here we weigh the costs and benefits of the systems. Remember, complexity maybe fun to develop and explore, but not as fun to maintain and use!"
   ]
  },
  {
   "cell_type": "markdown",
   "id": "0a4d0943",
   "metadata": {
    "slideshow": {
     "slide_type": "slide"
    }
   },
   "source": [
    "# Discussion of the problem set"
   ]
  },
  {
   "cell_type": "markdown",
   "id": "76d37140",
   "metadata": {
    "slideshow": {
     "slide_type": "slide"
    }
   },
   "source": [
    "### Problem: Data Collection Issues I\n",
    "Trevor Kennedy, the cost analyst at United Packaging's can manufacturing plant,\n",
    "is seeking to develop a cost function(s) that relates engineering support\n",
    "(E.5.) costs to machine hours. These costs have two components: (1) labor\n",
    "(which is paid monthly) and (2) materials and parts (which are purchased from\n",
    "an outside vendor every three months). He collects the following monthly data\n",
    "from the accounting records kept at the factory:\n",
    "\n",
    "| Month     | Labor | Materials | Machine Hours |\n",
    "|-----------|:-----:|:---------:|:-------------:|\n",
    "| March     | \\$347 |   \\$847   |       30      |\n",
    "| April     |  521  |     0     |       63      |\n",
    "| May       |  398  |     0     |       49      |\n",
    "| June      |  355  |    961    |       38      |\n",
    "| July      |  473  |     0     |       57      |\n",
    "| August    |  617  |     0     |       73      |\n",
    "| September |  245  |    821    |       19      |\n",
    "| October   |  487  |     0     |       53      |\n",
    "| November  |  431  |     0     |       42      |"
   ]
  },
  {
   "cell_type": "markdown",
   "id": "661bbbd8",
   "metadata": {
    "slideshow": {
     "slide_type": "subslide"
    }
   },
   "source": [
    "1. Create three plots:\n",
    "\n",
    "|       | Dependent Variable | Cost Driver   |\n",
    "|-------|--------------------|---------------|\n",
    "|       | (y-axis)           | (x-axis)      |\n",
    "| (i)   | Labor costs        | Machine Hours |\n",
    "| (ii)  | Materials costs    | Machine Hours |\n",
    "| (iii) | Total costs        | Machine Hours |\n",
    "\n",
    "You can think of these plots as plotting cost as a function of machine hours.\n",
    "So the data are telling us something about three cost functions."
   ]
  },
  {
   "cell_type": "code",
   "execution_count": 6,
   "id": "7dcc5773",
   "metadata": {
    "slideshow": {
     "slide_type": "subslide"
    }
   },
   "outputs": [
    {
     "data": {
      "text/plain": [
       "Index(['Month', 'Labor', 'Materials', 'Machine Hours', 'Total Cost'], dtype='object')"
      ]
     },
     "execution_count": 6,
     "metadata": {},
     "output_type": "execute_result"
    }
   ],
   "source": [
    "import pandas as pd\n",
    "from plotnine import *\n",
    "p2df=pd.read_csv(\"data2p.csv\")\n",
    "p2df['Total Cost'] = p2df['Labor'] + p2df['Materials']\n",
    "p2df.columns"
   ]
  },
  {
   "cell_type": "code",
   "execution_count": 12,
   "id": "75d27b0f",
   "metadata": {
    "slideshow": {
     "slide_type": "subslide"
    }
   },
   "outputs": [
    {
     "data": {
      "image/png": "[encoded data removed]",
      "text/plain": [
       "<Figure size 640x480 with 1 Axes>"
      ]
     },
     "metadata": {
      "image/png": {
       "height": 480,
       "width": 640
      }
     },
     "output_type": "display_data"
    },
    {
     "data": {
      "text/plain": [
       "<Figure Size: (640 x 480)>"
      ]
     },
     "execution_count": 12,
     "metadata": {},
     "output_type": "execute_result"
    }
   ],
   "source": [
    "(ggplot(\n",
    "    p2df, # this is the dataset\n",
    "    aes(x='Machine Hours', y='Labor')) + # aes allows us to specify the vars\n",
    "    geom_point(colour=\"red\") # + stat_smooth(method='ols')\n",
    ")"
   ]
  },
  {
   "cell_type": "code",
   "execution_count": 13,
   "id": "3b3a0ea6",
   "metadata": {
    "slideshow": {
     "slide_type": "subslide"
    }
   },
   "outputs": [
    {
     "data": {
      "image/png": "[encoded data removed]",
      "text/plain": [
       "<Figure size 640x480 with 1 Axes>"
      ]
     },
     "metadata": {
      "image/png": {
       "height": 480,
       "width": 640
      }
     },
     "output_type": "display_data"
    },
    {
     "data": {
      "text/plain": [
       "<Figure Size: (640 x 480)>"
      ]
     },
     "execution_count": 13,
     "metadata": {},
     "output_type": "execute_result"
    }
   ],
   "source": [
    "(ggplot(\n",
    "    p2df, aes(x='Machine Hours', y='Materials')) +\n",
    "    geom_point(colour=\"red\") # + stat_smooth(method='ols')\n",
    ")"
   ]
  },
  {
   "cell_type": "code",
   "execution_count": 14,
   "id": "91037a1a",
   "metadata": {
    "slideshow": {
     "slide_type": "subslide"
    }
   },
   "outputs": [
    {
     "data": {
      "image/png": "[encoded data removed]",
      "text/plain": [
       "<Figure size 640x480 with 1 Axes>"
      ]
     },
     "metadata": {
      "image/png": {
       "height": 480,
       "width": 640
      }
     },
     "output_type": "display_data"
    },
    {
     "data": {
      "text/plain": [
       "<Figure Size: (640 x 480)>"
      ]
     },
     "execution_count": 14,
     "metadata": {},
     "output_type": "execute_result"
    }
   ],
   "source": [
    "(ggplot(\n",
    "    p2df, aes(x='Machine Hours', y='Total Cost')) +\n",
    "    geom_point(colour=\"red\") # + stat_smooth(method='ols')\n",
    ")"
   ]
  },
  {
   "cell_type": "markdown",
   "id": "91ada3f9",
   "metadata": {
    "slideshow": {
     "slide_type": "subslide"
    }
   },
   "source": [
    "2. Compute estimates of each of the three cost functions in requirement 1, using linear regression."
   ]
  },
  {
   "cell_type": "code",
   "execution_count": 18,
   "id": "c3bf4c18",
   "metadata": {
    "slideshow": {
     "slide_type": "subslide"
    }
   },
   "outputs": [
    {
     "data": {
      "text/plain": [
       "(-0.030450162401429302,\n",
       " 69.11304512183276,\n",
       " -0.6583768837496257,\n",
       " 0.05384941097850732,\n",
       " 0.013157738835535001)"
      ]
     },
     "execution_count": 18,
     "metadata": {},
     "output_type": "execute_result"
    }
   ],
   "source": [
    "# plotting example in excel here\n",
    "from scipy import stats\n",
    "beta, alpha, r_2, p_value, std_err = stats.linregress(p2df['Total Cost'],p2df['Machine Hours'])\n",
    "beta, alpha, r_2, p_value, std_err\n"
   ]
  },
  {
   "cell_type": "markdown",
   "id": "201b2e01",
   "metadata": {
    "slideshow": {
     "slide_type": "subslide"
    }
   },
   "source": [
    "3. What are two factors that could explain the pattern of monthly costs for materials? For each factor you cite explain its implications for examining cost-behavior patterns."
   ]
  },
  {
   "cell_type": "markdown",
   "id": "0e6652a9",
   "metadata": {
    "slideshow": {
     "slide_type": "fragment"
    }
   },
   "source": [
    "First, and most importantly, the materials data has a problem! Whoever reported the data indicated '0' when they should have reported nothing.\n",
    "\n",
    "It is worth thinking about what resources we sacrifice when and how this relates to the cost system that we are building here. For example, we know that we sacrifice cash every three months in exchange for materials, but we don't know what we do with those materials. Do we consume them immediately? If we consume them immediately then when do they generate revenue? Depending on how this plays out we would want to gather more information to develop more informative data. \n",
    "\n",
    "One potential solution would be to use a different driver for materials. For example, number of cans _used_ seems like an natural alternative.\n",
    "\n",
    "_Please keep in mind that this is an open ended question and I have only provided one potential answer._"
   ]
  },
  {
   "cell_type": "markdown",
   "id": "306578de",
   "metadata": {
    "slideshow": {
     "slide_type": "subslide"
    }
   },
   "source": [
    "### Problem: Data Collection Issues II\n",
    "Robin Green, financial analyst at Central Railroad, is examining the behavior\n",
    "of monthly transportation costs for budgeting purposes. Transportation costs at\n",
    "Central Railroad are the sum of two types of costs: (a) operating costs (labor,\n",
    "fuel, and so on), and (b) maintenance costs (overhaul of engines and track, and\n",
    "so on). Green collects monthly data on (a), (b), and track miles hauled for\n",
    "that month. Track miles hauled are the miles docked by the engine that pulls\n",
    "the rail carriages. Monthly observations for the most recent year are:\n",
    "\n",
    "| Month     | Operating Costs | Maintenance Costs |  Miles |\n",
    "|-----------|:---------------:|:-----------------:|:------:|\n",
    "| January   |      \\$471      |       \\$437       |  3,420 |\n",
    "| February  |       504       |        338        |  5,310 |\n",
    "| March     |       609       |        343        |  5,410 |\n",
    "| April     |       690       |        347        |  8,440 |\n",
    "| May       |       742       |        294        |  9,320 |\n",
    "| June      |       774       |        211        |  8,910 |\n",
    "| July      |       784       |        176        |  8,870 |\n",
    "| August    |       986       |        210        | 10,980 |\n",
    "| September |       895       |        282        |  4,980 |\n",
    "| October   |       651       |        394        |  5,220 |\n",
    "| November  |       481       |        381        |  4,480 |\n",
    "| December  |       386       |        514        |  2,980 |\n",
    "\n",
    "Central Railroad earns its greatest revenues carrying agricultural commodities\n",
    "such as wheat and barley."
   ]
  },
  {
   "cell_type": "markdown",
   "id": "c3ea1e6b",
   "metadata": {
    "slideshow": {
     "slide_type": "subslide"
    }
   },
   "source": [
    "## Do the following:\n",
    "1. Present plots of the monthly data underlying each of the following cost\n",
    "   functions:\n",
    "\n",
    "(i) Operating costs = a + b (Track miles hauled)  \n",
    "(ii) Maintenance costs = a + b (Track miles hauled)  \n",
    "(iii) Total transportation costs = a + b (Track miles hauled)\n",
    "\n",
    "Comment on the patterns in the three plots.\n",
    "\n",
    "2. Compute estimates of the three cost functions in requirement 1, using linear regressions. Comment on\n",
    "   the estimated cost functions, and add the cost functions to the plots you created in 1."
   ]
  },
  {
   "cell_type": "code",
   "execution_count": null,
   "id": "94c27507",
   "metadata": {
    "slideshow": {
     "slide_type": "subslide"
    }
   },
   "outputs": [],
   "source": [
    "# plotting examples"
   ]
  },
  {
   "cell_type": "markdown",
   "id": "a22b1589",
   "metadata": {
    "slideshow": {
     "slide_type": "subslide"
    }
   },
   "source": [
    "## Comment on the estimated cost functions:\n",
    "\n",
    "1. Miles seems to yield a reasonable model of operating costs. Most of the data is close to the line and the distribution seems stable over the observations that we have. The September observation is interesting, we should find out what caused this. Do we this this was a one-time event? Or is there potential that this is an underlying pattern?\n",
    "\n",
    "2. Maintenance costs are decreasing as mile increase. This suggest that there is something missing from our model. Questions that you could consider: \n",
    "- What is happening to maintenance __prices__ over this time (both within and across years)? \n",
    "- Is there a mechanical relationship between miles and maintenance? Do increased miles in one month cause maintenance in the next month? Does high maintenance reduce miles?\n",
    "- What are the actual maintenance schedules? What are they based on? Do those schedules suggest other cost drivers?"
   ]
  },
  {
   "cell_type": "markdown",
   "id": "dcdbf121",
   "metadata": {
    "slideshow": {
     "slide_type": "subslide"
    }
   },
   "source": [
    "## 3. What assumptions does the regression method make?\n",
    "- The number of assumptions varies widely depending on how the discussion is structured.\n",
    "1. Linearity - i.e. the model fits the data.\n",
    "2. Errors are normal and independent from each other (sometimes called the independence and exogeneity conditions).\n",
    "3. The magnitude of the errors is not correlated with the variables themselves.\n",
    "\n",
    "A final note:\n",
    "\n",
    "- Variables must only be in the model once, this creates a problem when two measures are highly correlated, or two variables measure the same thing slightly differently.  \n",
    "\n",
    "- You don't have to discuss them all, and they don't all apply. Think about which problem are most likely to be active in our setting and how the workflows we discussed can help us address these issues."
   ]
  },
  {
   "cell_type": "markdown",
   "id": "0d9e01c4",
   "metadata": {
    "slideshow": {
     "slide_type": "subslide"
    }
   },
   "source": [
    "## 4. Outline three limitations of the regression method.\n",
    "- In addition to the restrictive assumptions above, we may need lots of data to get good estimates.\n",
    "- Yields precise estimates, which may be wrong if misapplied."
   ]
  },
  {
   "cell_type": "markdown",
   "id": "e30885f9",
   "metadata": {},
   "source": [
    "## 5. What are other options?\n",
    "- Other statistical methods relax the assumptions above. \n",
    "- Non-linear models, time-series models, multivariate models.\n",
    "- We should always rely on concrete information about the production process."
   ]
  },
  {
   "cell_type": "code",
   "execution_count": null,
   "id": "e1cea6a6",
   "metadata": {
    "slideshow": {
     "slide_type": "subslide"
    }
   },
   "outputs": [],
   "source": [
    "# plotting examples"
   ]
  },
  {
   "cell_type": "markdown",
   "id": "a0219822",
   "metadata": {
    "slideshow": {
     "slide_type": "subslide"
    }
   },
   "source": []
  },
  {
   "cell_type": "markdown",
   "id": "78518ba2",
   "metadata": {
    "slideshow": {
     "slide_type": "subslide"
    }
   },
   "source": []
  },
  {
   "cell_type": "markdown",
   "id": "2bf7b863",
   "metadata": {
    "slideshow": {
     "slide_type": "subslide"
    }
   },
   "source": []
  }
 ],
 "metadata": {
  "celltoolbar": "Slideshow",
  "kernelspec": {
   "display_name": "Python 3 (ipykernel)",
   "language": "python",
   "name": "python3"
  },
  "language_info": {
   "codemirror_mode": {
    "name": "ipython",
    "version": 3
   },
   "file_extension": ".py",
   "mimetype": "text/x-python",
   "name": "python",
   "nbconvert_exporter": "python",
   "pygments_lexer": "ipython3",
   "version": "3.11.5"
  }
 },
 "nbformat": 4,
 "nbformat_minor": 5
}
